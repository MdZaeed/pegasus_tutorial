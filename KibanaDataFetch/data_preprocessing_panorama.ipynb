{
 "cells": [
  {
   "cell_type": "code",
   "execution_count": 116,
   "metadata": {},
   "outputs": [
    {
     "name": "stdout",
     "output_type": "stream",
     "text": [
      "Populating the interactive namespace from numpy and matplotlib\n"
     ]
    },
    {
     "name": "stderr",
     "output_type": "stream",
     "text": [
      "/home/mohammad/.local/lib/python3.8/site-packages/IPython/core/magics/pylab.py:159: UserWarning:\n",
      "\n",
      "pylab import has clobbered these variables: ['copy', 'f']\n",
      "`%matplotlib` prevents importing * from pylab and numpy\n",
      "\n"
     ]
    }
   ],
   "source": [
    "%matplotlib inline\n",
    "%pylab inline\n"
   ]
  },
  {
   "cell_type": "code",
   "execution_count": 117,
   "metadata": {},
   "outputs": [],
   "source": [
    "pylab.rcParams['figure.figsize'] = (8, 6)\n",
    "matplotlib.rcParams.update({'font.size':16})"
   ]
  },
  {
   "cell_type": "code",
   "execution_count": 118,
   "metadata": {},
   "outputs": [],
   "source": [
    "import sys\n",
    "import os\n",
    "from collections import defaultdict\n",
    "import numpy as np\n",
    "import pandas as pd\n",
    "import json\n",
    "from plotly.subplots import make_subplots\n",
    "import math"
   ]
  },
  {
   "cell_type": "code",
   "execution_count": 119,
   "metadata": {},
   "outputs": [],
   "source": [
    "def generate_dash_data_format(df, feature_list, target, regions, outfilename, region_column=\"app\"):\n",
    "    feature_list_and_target = feature_list[:]\n",
    "    feature_list_and_target.append(target)\n",
    "    \n",
    "    with open(outfilename, 'w') as txtfile:   \n",
    "        s = ','\n",
    "        s += ','.join([str(item) for item in regions])\n",
    "        s += '\\n'\n",
    "        txtfile.write(s)\n",
    "\n",
    "        for feat in feature_list_and_target:\n",
    "            if feat == region_column:\n",
    "                continue\n",
    "            row=feat# + \",\\\"\"\n",
    "            for reg in regions:\n",
    "                row += \",\\\"\"\n",
    "                ## GEt all rows that have the same kernel/region name\n",
    "                df_tmp = df[(df[region_column] == reg )] # DEBUG for empty values              \n",
    "                vals = []\n",
    "                \n",
    "                ## Now, make their values into a list\n",
    "                [vals.append(v) for v in df_tmp[feat].values]\n",
    "                s = ','.join([str(v) for v in vals])\n",
    "                row += s + \"\\\"\"\n",
    "            row += '\\n'\n",
    "            txtfile.write(row)    "
   ]
  },
  {
   "cell_type": "code",
   "execution_count": 120,
   "metadata": {},
   "outputs": [],
   "source": [
    "def func(var1, var2):\n",
    "    return (var1 / var2) ##This function can create an arbitrary combination of the two variables passed."
   ]
  },
  {
   "cell_type": "code",
   "execution_count": 121,
   "metadata": {},
   "outputs": [],
   "source": [
    "################### AMD Q2: AAC data on MI-50\n",
    "import os.path\n",
    "from os import path\n",
    "\n",
    "def read_input_manual4(dirname, model, optimizer, filelist):\n",
    "    input_prefix = [dirname+'/'] \n",
    "    \n",
    "    workloads = dict()\n",
    "    \n",
    "    for arch in range(len(input_prefix)):\n",
    "        print('ARCH: ', arch, input_prefix[arch])\n",
    "        input_file_list = []\n",
    "        for ind in range(len(filelist)):\n",
    "            filename = input_prefix[arch] + filelist[ind]\n",
    "            print('IND: ', ind, filename)\n",
    "            if path.exists(filename):\n",
    "                input_file_list.append(filename)\n",
    "                filename=\"\"\n",
    "            else:\n",
    "                print(filename, \"didn't exist\")\n",
    "        workloads[arch] = input_file_list\n",
    "    ##TODO: Change this\n",
    "    output_prefix = ['/home/Mohammad/pegasus_tutorial/spider-output/dash_format_'+model+'_'+optimizer]#,\n",
    "#                     '/Users/tanzima/Research/Stash/dashing-analysis-framework/data/gilgamesh/dash_format_aac_basic_lstm',\n",
    "#                     '/Users/tanzima/Research/Stash/dashing-analysis-framework/data/gilgamesh/dash_format_aac_rnn']\n",
    "\n",
    "    return workloads, output_prefix # target_list and filter_list\n",
    "    "
   ]
  },
  {
   "cell_type": "code",
   "execution_count": 122,
   "metadata": {},
   "outputs": [
    {
     "name": "stdout",
     "output_type": "stream",
     "text": [
      "ARCH:  0 /home/mohammad/pegasus_tutorial/KibanaDataFetch/kickstart/\n",
      "IND:  0 /home/mohammad/pegasus_tutorial/KibanaDataFetch/kickstart/7dc85a61-0e02-4d18-add5-600052ace052\n",
      "{0: ['/home/mohammad/pegasus_tutorial/KibanaDataFetch/kickstart/7dc85a61-0e02-4d18-add5-600052ace052']}\n"
     ]
    }
   ],
   "source": [
    "model_name = 'kickstart'\n",
    "opt = '1000genome'\n",
    "filelist=[\n",
    "    # 'kickSampleNamd.xlsx'\n",
    "    '0d3a50e8-d8f9-4ad1-a3d0-cceba3c9e6e1'\n",
    "    # '7dc85a61-0e02-4d18-add5-600052ace052'\n",
    "]\n",
    "dirname = '/home/mohammad/pegasus_tutorial/KibanaDataFetch/kickstart'\n",
    "# workloads, output_prefix = read_input_manual4('/Users/tanzima/Research/AMD/DATA/mi-50/DATA-aac-july21/gd/prof/', 'basic_lstm', \"gd\", filelist)\n",
    "workloads, output_prefix = read_input_manual4(dirname, model_name, opt, filelist)\n",
    "\n",
    "\n",
    "########## Adam optimizer\n",
    "# filelist = ['s25-b2-l1024.csv', 's25-b2-l1536.csv', 's25-b32-l2048.csv', 's25-b32-l2560.csv',  's25-b32-l4096.csv', 's25-b64-l2048.csv']#, 'rnn/out-rnn-rnn-s30-b32-l128.csv']\n",
    "# workloads, output_prefix = read_input_manual4('/Users/tanzima/Research/AMD/DATA/mi-50/DATA-aac-july21/adam/prof/', 'basic_lstm', \"adam\", filelist)\n",
    "# workloads, output_prefix = read_input_pennant_mi100()\n",
    "print(workloads)\n",
    "#print(pd.read_csv(workloads[0][0]))"
   ]
  },
  {
   "cell_type": "code",
   "execution_count": 123,
   "metadata": {},
   "outputs": [],
   "source": [
    "def region_list_parser(region_list):\n",
    "    for i, kernelName in enumerate(region_list):\n",
    "        templateIdx = kernelName.find(\"<\")\n",
    "        if templateIdx == -1:\n",
    "            continue\n",
    "        namespaceIdx = kernelName.rfind(\"::\", 0, templateIdx)\n",
    "        assert(namespaceIdx != -1) # Shouldn't ever happen.\n",
    "        region_list[i] = kernelName[namespaceIdx+2:templateIdx]\n",
    "    print(region_list)\n",
    "    return region_list"
   ]
  },
  {
   "cell_type": "code",
   "execution_count": 124,
   "metadata": {},
   "outputs": [],
   "source": [
    "def changeRange(ts):\n",
    "    b = ts - min(ts)\n",
    "    # a= numpy.modf(b)\n",
    "    # return a[1].astype(int)\n",
    "    return b"
   ]
  },
  {
   "cell_type": "code",
   "execution_count": 125,
   "metadata": {},
   "outputs": [],
   "source": [
    "def normalize(feature_name):\n",
    "    max_value = feature_name.max()\n",
    "    min_value = feature_name.min()\n",
    "    result = (feature_name - min_value) / (max_value - min_value)\n",
    "    return result"
   ]
  },
  {
   "cell_type": "code",
   "execution_count": 126,
   "metadata": {},
   "outputs": [],
   "source": [
    "def normalize(feature_name):\n",
    "    max_value = feature_name.max()\n",
    "    min_value = feature_name.min()\n",
    "    result = (feature_name - min_value) / (max_value - min_value)\n",
    "    return result"
   ]
  },
  {
   "cell_type": "code",
   "execution_count": 127,
   "metadata": {},
   "outputs": [],
   "source": [
    "def find_common_features_and_regions(df_dict_param, filter_list, region_column=\"app\"):\n",
    "    # df_dist: list of workloads within a model\n",
    "    # filter_list: columns (metrics/counters) we don't want\n",
    "\n",
    "    features_dict = defaultdict(int)\n",
    "    common_region_dict = defaultdict(int)\n",
    "    regions_list_with_dup = [] # \"region\" = kernel\n",
    "    feature_list = [] # \"feature\" = column (metric/counter)\n",
    "    \n",
    "    #For each file\n",
    "    for key, df_instance in df_dict_param.items():\n",
    "        #read in the file\n",
    "        df_original2 = df_instance.copy()\n",
    "        ## REMOVE all columns that contain only 0s\n",
    "        df_original2 = df_original2.loc[:, (df_original2 != 0).any(axis=0)]\n",
    "        for v in df_original2.columns:\n",
    "            features_dict[v] += 1\n",
    "            \n",
    "        for v in df_original2[region_column]:\n",
    "            common_region_dict[v] += 1\n",
    "            #regions_list_with_dup.append(v)\n",
    "            \n",
    "    ## Finding the unique names of regions since regions_list_with_dup may have duplicate region names.\n",
    "    ##Here, region == kernel\n",
    "#     region_list = list(set(regions_list_with_dup))\n",
    "\n",
    "    ## FINDING COMMON FEATURES\n",
    "    common_feature_list = []\n",
    "    for k, v in features_dict.items():\n",
    "        if k in filter_list:\n",
    "            continue\n",
    "        if v == len(df_dict_param):\n",
    "            common_feature_list.append(k)\n",
    "\n",
    "            \n",
    "    ## FINDING COMMON Regions\n",
    "    common_region_list = []\n",
    "    for k, v in common_region_dict.items():\n",
    "        if v == len(df_dict_param):\n",
    "            common_region_list.append(k)\n",
    "\n",
    "        \n",
    "    return common_feature_list, common_region_list\n"
   ]
  },
  {
   "cell_type": "code",
   "execution_count": 131,
   "metadata": {},
   "outputs": [
    {
     "name": "stdout",
     "output_type": "stream",
     "text": [
      "----------\n",
      "    index      bwrite                           dag_job_id     stime  \\\n",
      "0     792  6293667840        individuals_wrapper_ID0000007 54.380000   \n",
      "1     761  6175039488        individuals_wrapper_ID0000018 54.100000   \n",
      "2     740  5146472448        individuals_wrapper_ID0000006 52.260000   \n",
      "3     823  6009077760        individuals_wrapper_ID0000004 53.880000   \n",
      "4     657  5979095040        individuals_wrapper_ID0000015 54.590000   \n",
      "5     697  4861628416        individuals_wrapper_ID0000017 53.090000   \n",
      "6     825  5556899840        individuals_wrapper_ID0000005 56.730000   \n",
      "7     878  6643507200        individuals_wrapper_ID0000003 53.310000   \n",
      "8     892  6066970624        individuals_wrapper_ID0000014 54.830000   \n",
      "9     866  5478920192        individuals_wrapper_ID0000016 54.660000   \n",
      "10    834  5916069888        individuals_wrapper_ID0000020 52.360000   \n",
      "11    835  6191075328        individuals_wrapper_ID0000010 54.140000   \n",
      "12    896  6434033664        individuals_wrapper_ID0000008 77.780000   \n",
      "13    876  6400724992        individuals_wrapper_ID0000019 75.980000   \n",
      "14    829  6003175424        individuals_wrapper_ID0000009 77.250000   \n",
      "15    869  5291085824        individuals_wrapper_ID0000021 76.300000   \n",
      "16    989  1660059648        individuals_wrapper_ID0000013 39.180000   \n",
      "17    986  1622900736        individuals_wrapper_ID0000001 39.370000   \n",
      "18   1024  1697951744        individuals_wrapper_ID0000002 48.030000   \n",
      "19   1010   139677696  individuals_merge_wrapper_ID0000011  2.860000   \n",
      "20   1007  1764212736        individuals_wrapper_ID0000022 50.600000   \n",
      "21   1000    58707968   mutation_overlap_wrapper_ID0000035  0.540000   \n",
      "22   1027   103124992  individuals_merge_wrapper_ID0000023  2.420000   \n",
      "23   1079    40480768   mutation_overlap_wrapper_ID0000049  0.660000   \n",
      "24   1108    68866048          frequency_wrapper_ID0000038  1.640000   \n",
      "25   1043    68288512          frequency_wrapper_ID0000034  1.570000   \n",
      "26   1134    68239360          frequency_wrapper_ID0000030  1.660000   \n",
      "27   1044    68251648          frequency_wrapper_ID0000028  1.540000   \n",
      "28   1080    68866048          frequency_wrapper_ID0000032  1.660000   \n",
      "29   1045    68247552          frequency_wrapper_ID0000026  2.390000   \n",
      "30   1081    68145152          frequency_wrapper_ID0000036  2.200000   \n",
      "31   1144    49930240          frequency_wrapper_ID0000048  1.460000   \n",
      "32   1145    49922048          frequency_wrapper_ID0000050  2.050000   \n",
      "33   1146    50102272          frequency_wrapper_ID0000052  1.600000   \n",
      "34   1156    50667520          frequency_wrapper_ID0000042  1.600000   \n",
      "35   1161    50040832          frequency_wrapper_ID0000044  2.280000   \n",
      "36   1147    49938432          frequency_wrapper_ID0000040  1.720000   \n",
      "37   1149    50089984          frequency_wrapper_ID0000046  1.690000   \n",
      "\n",
      "                   event  procs   iowait    syscr  threads    syscw  ...  \\\n",
      "0   kickstart.inv.online      9 0.780000  1042891       10  5234560  ...   \n",
      "1   kickstart.inv.online     10 0.830000  1042396       11  5235495  ...   \n",
      "2   kickstart.inv.online      9 0.810000   952965       10  5230097  ...   \n",
      "3   kickstart.inv.online      6 0.800000  1022077        7  5234035  ...   \n",
      "4   kickstart.inv.online      8 0.820000  1008339        9  5223727  ...   \n",
      "5   kickstart.inv.online      6 0.790000   978511        7  5187271  ...   \n",
      "6   kickstart.inv.online      8 0.840000  1051723        9  5250941  ...   \n",
      "7   kickstart.inv.online      8 0.930000  1000603        9  5220562  ...   \n",
      "8   kickstart.inv.online      5 0.950000   942382        6  5232931  ...   \n",
      "9   kickstart.inv.online      9 0.830000   990164       10  5243112  ...   \n",
      "10  kickstart.inv.online     10 0.910000   995239       11  5195308  ...   \n",
      "11  kickstart.inv.online      8 0.900000  1052657        9  5226290  ...   \n",
      "12  kickstart.inv.online      5 1.060000  1012998        6  5238381  ...   \n",
      "13  kickstart.inv.online      8 0.790000  1048430        9  5257821  ...   \n",
      "14  kickstart.inv.online      6 0.770000   992292        7  5199469  ...   \n",
      "15  kickstart.inv.online      6 0.790000   982815        7  5221095  ...   \n",
      "16  kickstart.inv.online      8 0.230000   918048        9  3905142  ...   \n",
      "17  kickstart.inv.online      6 0.220000   831606        7  3868023  ...   \n",
      "18  kickstart.inv.online      6 0.280000   945333        7  5186318  ...   \n",
      "19  kickstart.inv.online      5 0.000000   166139        6    46002  ...   \n",
      "20  kickstart.inv.online      8 0.290000  1077332        9  5241975  ...   \n",
      "21  kickstart.inv.online      2 0.000000    14168        3     6748  ...   \n",
      "22  kickstart.inv.online      4 0.000000   151303        5    40339  ...   \n",
      "23  kickstart.inv.online      2 0.000000    12958        3     6333  ...   \n",
      "24  kickstart.inv.online      2 0.000000   453229        3    11527  ...   \n",
      "25  kickstart.inv.online      2 0.000000   431161        3    11386  ...   \n",
      "26  kickstart.inv.online      2 0.000000   431239        3    11374  ...   \n",
      "27  kickstart.inv.online      2 0.000000   430887        3    11377  ...   \n",
      "28  kickstart.inv.online      2 0.000000   453023        3    11527  ...   \n",
      "29  kickstart.inv.online      2 0.000000   434756        3    11376  ...   \n",
      "30  kickstart.inv.online      2 0.000000   435207        3    11351  ...   \n",
      "31  kickstart.inv.online      2 0.000000   424515        3    10931  ...   \n",
      "32  kickstart.inv.online      2 0.000000   431842        3    10933  ...   \n",
      "33  kickstart.inv.online      2 0.010000   431430        3    10977  ...   \n",
      "34  kickstart.inv.online      2 0.000000   452056        3    11115  ...   \n",
      "35  kickstart.inv.online      2 0.000000   430012        3    10962  ...   \n",
      "36  kickstart.inv.online      2 0.010000   430054        3    10937  ...   \n",
      "37  kickstart.inv.online      2 0.000000   430973        3    10974  ...   \n",
      "\n",
      "                         @timestamp      utime       wchar     tsTrans  \\\n",
      "0  2018-06-27 22:13:14.857000+00:00 388.660000  2228533750  509.999985   \n",
      "1  2018-06-27 22:13:17.055000+00:00 387.430000  2215245104  512.186527   \n",
      "2  2018-06-27 22:14:10.663000+00:00 387.760000  2121666195  565.779840   \n",
      "3  2018-06-27 22:14:11.131000+00:00 387.370000  2184130078  566.741503   \n",
      "4  2018-06-27 22:14:15.185000+00:00 386.300000  2185664799  570.790221   \n",
      "5  2018-06-27 22:14:17.983000+00:00 378.130000  2127705823  573.136696   \n",
      "6  2018-06-27 22:14:29.959000+00:00 384.730000  2251653701  585.561161   \n",
      "7  2018-06-27 22:14:33.192000+00:00 386.740000  2165360455  588.714144   \n",
      "8  2018-06-27 22:14:39.634000+00:00 385.230000  2090853027  595.173933   \n",
      "9  2018-06-27 22:14:42.133000+00:00 396.960000  2161253598  597.748546   \n",
      "10 2018-06-27 22:14:45.760000+00:00 377.800000  2140431609  601.297160   \n",
      "11 2018-06-27 22:14:47.018000+00:00 385.510000  2207794673  602.558332   \n",
      "12 2018-06-27 22:14:55.041000+00:00 403.890000  2221700792  609.289752   \n",
      "13 2018-06-27 22:15:02.380000+00:00 406.590000  2228560918  616.639959   \n",
      "14 2018-06-27 22:15:13.887000+00:00 391.850000  2132563578  628.145500   \n",
      "15 2018-06-27 22:15:22.811000+00:00 396.750000  2120928676  637.071147   \n",
      "16 2018-06-27 22:19:38.642000+00:00 288.300000  1664623586  893.788511   \n",
      "17 2018-06-27 22:20:44.223000+00:00 297.670000  1544357839  959.813150   \n",
      "18 2018-06-27 22:21:23.155000+00:00 378.810000  2129184364  998.304788   \n",
      "19 2018-06-27 22:22:00.175000+00:00   2.860000   120434372 1035.320426   \n",
      "20 2018-06-27 22:22:40.136000+00:00 397.170000  2251546460 1075.750232   \n",
      "21 2018-06-27 22:22:51.912000+00:00  19.380000    53348328 1087.055157   \n",
      "22 2018-06-27 22:23:14.745000+00:00   3.050000    58713305 1109.896992   \n",
      "23 2018-06-27 22:24:16.562000+00:00  19.310000    34568461 1171.711186   \n",
      "24 2018-06-27 22:24:22.051000+00:00  98.300000    50306460 1177.553842   \n",
      "25 2018-06-27 22:24:22.119000+00:00  98.280000    49809597 1177.721049   \n",
      "26 2018-06-27 22:24:22.409000+00:00  98.300000    49768285 1178.009040   \n",
      "27 2018-06-27 22:24:22.539000+00:00  98.420000    49778376 1178.125032   \n",
      "28 2018-06-27 22:24:23.124000+00:00  98.380000    50306435 1178.261389   \n",
      "29 2018-06-27 22:24:23.163000+00:00  97.290000    49702621 1177.400409   \n",
      "30 2018-06-27 22:24:23.192000+00:00  97.700000    49689348 1177.436308   \n",
      "31 2018-06-27 22:25:32.236000+00:00  88.550000    30900767 1247.390344   \n",
      "32 2018-06-27 22:25:35.562000+00:00  97.710000    30898528 1249.820312   \n",
      "33 2018-06-27 22:25:35.597000+00:00  98.330000    31050928 1251.135693   \n",
      "34 2018-06-27 22:25:35.790000+00:00  98.110000    31536792 1251.402971   \n",
      "35 2018-06-27 22:25:35.829000+00:00  97.360000    30998601 1250.082347   \n",
      "36 2018-06-27 22:25:35.944000+00:00  97.820000    30837864 1251.483671   \n",
      "37 2018-06-27 22:25:41.243000+00:00  97.880000    31040337 1256.779708   \n",
      "\n",
      "    iowaitT      vmT  bwriteT   breadT      vmPerSec  vmPerProc  \n",
      "0  0.735849 0.261706 0.947178 0.000000  41870.222222   0.018717  \n",
      "1  0.783019 0.280831 0.929266 0.000000  39102.800000   0.012260  \n",
      "2  0.764151 0.284727 0.773964 0.000000  43768.888889   0.023148  \n",
      "3  0.754717 0.182252 0.904208 0.000000  52976.000000   0.044631  \n",
      "4  0.773585 0.232272 0.899681 0.000000  44373.000000   0.024557  \n",
      "5  0.745283 0.188088 0.730956 0.000000  53698.000000   0.046315  \n",
      "6  0.792453 0.240910 0.835934 0.000000  45174.500000   0.026427  \n",
      "7  0.877358 0.251025 1.000000 0.000000  46113.000000   0.028617  \n",
      "8  0.896226 0.123249 0.912949 0.000000  54812.000000   0.048915  \n",
      "9  0.783019 0.189468 0.824160 0.000000  35912.444444   0.004816  \n",
      "10 0.858491 0.210043 0.890165 0.000000  33848.400000   0.000000  \n",
      "11 0.849057 0.221791 0.931688 0.000000  43400.500000   0.022288  \n",
      "12 1.000000 0.147262 0.968372 0.000000  58376.800000   0.057233  \n",
      "13 0.745283 0.217404 0.963343 0.000000  42993.500000   0.021338  \n",
      "14 0.726415 0.176023 0.903317 0.000000  52205.333333   0.042833  \n",
      "15 0.745283 0.142471 0.795799 0.000000  48054.666667   0.033148  \n",
      "16 0.216981 0.251543 0.247553 0.000000  46161.000000   0.028729  \n",
      "17 0.207547 0.158762 0.241943 0.000000  50070.000000   0.037850  \n",
      "18 0.264151 0.148459 0.253275 0.000000  48795.333333   0.034876  \n",
      "19 0.000000 0.137061 0.017992 0.000000  56862.400000   0.053699  \n",
      "20 0.273585 0.235559 0.263279 0.000000  44678.000000   0.025269  \n",
      "21 0.000000 1.000000 0.005766 0.000000 462422.000000   1.000000  \n",
      "22 0.000000 0.094839 0.012473 0.000000  63243.000000   0.068587  \n",
      "23 0.000000 0.999396 0.003014 0.000000 462198.000000   0.999477  \n",
      "24 0.000000 0.503651 0.007300 0.000000 278210.000000   0.570174  \n",
      "25 0.000000 0.503274 0.007213 0.000000 278070.000000   0.569848  \n",
      "26 0.000000 0.503662 0.007206 0.000000 278214.000000   0.570184  \n",
      "27 0.000000 0.503651 0.007207 0.000000 278210.000000   0.570174  \n",
      "28 0.000000 0.503651 0.007300 0.000000 278210.000000   0.570174  \n",
      "29 0.000000 0.503171 0.007207 0.000000 278032.000000   0.569759  \n",
      "30 0.000000 0.505424 0.007191 0.000000 278868.000000   0.571710  \n",
      "31 0.000000 0.504416 0.004441 0.000000 278494.000000   0.570837  \n",
      "32 0.000000 0.504837 0.004440 0.000000 278650.000000   0.571201  \n",
      "33 0.009434 0.504443 0.004467 0.000000 278504.000000   0.570860  \n",
      "34 0.000000 0.504438 0.004552 0.000000 278502.000000   0.570856  \n",
      "35 0.000000 0.504492 0.004458 0.000000 278522.000000   0.570902  \n",
      "36 0.009434 0.504260 0.004442 0.000000 278436.000000   0.570702  \n",
      "37 0.000000 0.504422 0.004465 0.000000 278496.000000   0.570842  \n",
      "\n",
      "[38 rows x 24 columns]\n",
      "1\n",
      "{0:     index      bwrite                           dag_job_id     stime   iowait  \\\n",
      "0     792  6293667840        individuals_wrapper_ID0000007 54.380000 0.780000   \n",
      "1     761  6175039488        individuals_wrapper_ID0000018 54.100000 0.830000   \n",
      "2     740  5146472448        individuals_wrapper_ID0000006 52.260000 0.810000   \n",
      "3     823  6009077760        individuals_wrapper_ID0000004 53.880000 0.800000   \n",
      "4     657  5979095040        individuals_wrapper_ID0000015 54.590000 0.820000   \n",
      "5     697  4861628416        individuals_wrapper_ID0000017 53.090000 0.790000   \n",
      "6     825  5556899840        individuals_wrapper_ID0000005 56.730000 0.840000   \n",
      "7     878  6643507200        individuals_wrapper_ID0000003 53.310000 0.930000   \n",
      "8     892  6066970624        individuals_wrapper_ID0000014 54.830000 0.950000   \n",
      "9     866  5478920192        individuals_wrapper_ID0000016 54.660000 0.830000   \n",
      "10    834  5916069888        individuals_wrapper_ID0000020 52.360000 0.910000   \n",
      "11    835  6191075328        individuals_wrapper_ID0000010 54.140000 0.900000   \n",
      "12    896  6434033664        individuals_wrapper_ID0000008 77.780000 1.060000   \n",
      "13    876  6400724992        individuals_wrapper_ID0000019 75.980000 0.790000   \n",
      "14    829  6003175424        individuals_wrapper_ID0000009 77.250000 0.770000   \n",
      "15    869  5291085824        individuals_wrapper_ID0000021 76.300000 0.790000   \n",
      "16    989  1660059648        individuals_wrapper_ID0000013 39.180000 0.230000   \n",
      "17    986  1622900736        individuals_wrapper_ID0000001 39.370000 0.220000   \n",
      "18   1024  1697951744        individuals_wrapper_ID0000002 48.030000 0.280000   \n",
      "19   1010   139677696  individuals_merge_wrapper_ID0000011  2.860000 0.000000   \n",
      "20   1007  1764212736        individuals_wrapper_ID0000022 50.600000 0.290000   \n",
      "21   1000    58707968   mutation_overlap_wrapper_ID0000035  0.540000 0.000000   \n",
      "22   1027   103124992  individuals_merge_wrapper_ID0000023  2.420000 0.000000   \n",
      "23   1079    40480768   mutation_overlap_wrapper_ID0000049  0.660000 0.000000   \n",
      "24   1108    68866048          frequency_wrapper_ID0000038  1.640000 0.000000   \n",
      "25   1043    68288512          frequency_wrapper_ID0000034  1.570000 0.000000   \n",
      "26   1134    68239360          frequency_wrapper_ID0000030  1.660000 0.000000   \n",
      "27   1044    68251648          frequency_wrapper_ID0000028  1.540000 0.000000   \n",
      "28   1080    68866048          frequency_wrapper_ID0000032  1.660000 0.000000   \n",
      "29   1045    68247552          frequency_wrapper_ID0000026  2.390000 0.000000   \n",
      "30   1081    68145152          frequency_wrapper_ID0000036  2.200000 0.000000   \n",
      "31   1144    49930240          frequency_wrapper_ID0000048  1.460000 0.000000   \n",
      "32   1145    49922048          frequency_wrapper_ID0000050  2.050000 0.000000   \n",
      "33   1146    50102272          frequency_wrapper_ID0000052  1.600000 0.010000   \n",
      "34   1156    50667520          frequency_wrapper_ID0000042  1.600000 0.000000   \n",
      "35   1161    50040832          frequency_wrapper_ID0000044  2.280000 0.000000   \n",
      "36   1147    49938432          frequency_wrapper_ID0000040  1.720000 0.010000   \n",
      "37   1149    50089984          frequency_wrapper_ID0000046  1.690000 0.000000   \n",
      "\n",
      "      syscr    syscw       rchar      vm    pid                ts      utime  \\\n",
      "0   1042891  5234560  2827344253  376832  16388 1530137593.574094 388.660000   \n",
      "1   1042396  5235495  2802109873  391028  16488 1530137595.760636 387.430000   \n",
      "2    952965  5230097  2595173515  393920  16697 1530137649.353949 387.760000   \n",
      "3   1022077  5234035  2743708514  317856   4175 1530137650.315612 387.370000   \n",
      "4   1008339  5223727  2713033850  354984   4275 1530137654.364330 386.300000   \n",
      "5    978511  5187271  2638010228  322188  16798 1530137656.710805 378.130000   \n",
      "6   1051723  5250941  2841057901  361396   4390 1530137669.135270 384.730000   \n",
      "7   1000603  5220562  2692236317  368904   8537 1530137672.288253 386.740000   \n",
      "8    942382  5232931  2528564883  274060   8747 1530137678.748042 385.230000   \n",
      "9    990164  5243112  2670700104  323212   4500 1530137681.322655 396.960000   \n",
      "10   995239  5195308  2691321555  338484   8844 1530137684.871269 377.800000   \n",
      "11  1052657  5226290  2844509609  347204   8653 1530137686.132441 385.510000   \n",
      "12  1012998  5238381  2777831811  291884  27369 1530137692.863861 403.890000   \n",
      "13  1048430  5257821  2829309559  343948  27469 1530137700.214068 406.590000   \n",
      "14   992292  5199469  2684589499  313232  27605 1530137711.719609 391.850000   \n",
      "15   982815  5221095  2660040909  288328  27731 1530137720.645256 396.750000   \n",
      "16   918048  3905142  2183398175  369288  26815 1530137977.362620 288.300000   \n",
      "17   831606  3868023  1975718629  300420  19613 1530138043.387259 297.670000   \n",
      "18   945333  5186318  2566052269  292772  31152 1530138081.878897 378.810000   \n",
      "19   166139    46002   127120444  284312    844 1530138118.894535   2.860000   \n",
      "20  1077332  5241975  2910413106  357424  25437 1530138159.324341 397.170000   \n",
      "21    14168     6748    69284952  924844  26471 1530138170.629266  19.380000   \n",
      "22   151303    40339    81525035  252972  26890 1530138193.471101   3.050000   \n",
      "23    12958     6333    46815875  924396  20349 1530138255.285295  19.310000   \n",
      "24   453229    11527  1858412125  556420   9616 1530138261.127951  98.300000   \n",
      "25   431161    11386  1768481954  556140  21325 1530138261.295158  98.280000   \n",
      "26   431239    11374  1768415195  556428  21334 1530138261.583149  98.300000   \n",
      "27   430887    11377  1766948649  556420  21341 1530138261.699141  98.420000   \n",
      "28   453023    11527  1857833171  556420  26755 1530138261.835498  98.380000   \n",
      "29   434756    11376  1784011418  556064  28703 1530138260.974518  97.290000   \n",
      "30   435207    11351  1779319715  557736  28714 1530138261.010417  97.700000   \n",
      "31   424515    10931  1740103217  556988  20467 1530138330.964453  88.550000   \n",
      "32   431842    10933  1755412943  557300  29042 1530138333.394421  97.710000   \n",
      "33   431430    10977  1767257337  557008  10016 1530138334.709802  98.330000   \n",
      "34   452056    11115  1851550655  557004  21578 1530138334.977080  98.110000   \n",
      "35   430012    10962  1760825560  557044  29051 1530138333.656456  97.360000   \n",
      "36   430054    10937  1764428364  556872  10036 1530138335.057780  97.820000   \n",
      "37   430973    10974  1765660971  556992  10141 1530138340.353817  97.880000   \n",
      "\n",
      "         wchar  iowaitT      vmT  bwriteT   breadT      vmPerSec  vmPerProc  \n",
      "0   2228533750 0.735849 0.261706 0.947178 0.000000  41870.222222   0.018717  \n",
      "1   2215245104 0.783019 0.280831 0.929266 0.000000  39102.800000   0.012260  \n",
      "2   2121666195 0.764151 0.284727 0.773964 0.000000  43768.888889   0.023148  \n",
      "3   2184130078 0.754717 0.182252 0.904208 0.000000  52976.000000   0.044631  \n",
      "4   2185664799 0.773585 0.232272 0.899681 0.000000  44373.000000   0.024557  \n",
      "5   2127705823 0.745283 0.188088 0.730956 0.000000  53698.000000   0.046315  \n",
      "6   2251653701 0.792453 0.240910 0.835934 0.000000  45174.500000   0.026427  \n",
      "7   2165360455 0.877358 0.251025 1.000000 0.000000  46113.000000   0.028617  \n",
      "8   2090853027 0.896226 0.123249 0.912949 0.000000  54812.000000   0.048915  \n",
      "9   2161253598 0.783019 0.189468 0.824160 0.000000  35912.444444   0.004816  \n",
      "10  2140431609 0.858491 0.210043 0.890165 0.000000  33848.400000   0.000000  \n",
      "11  2207794673 0.849057 0.221791 0.931688 0.000000  43400.500000   0.022288  \n",
      "12  2221700792 1.000000 0.147262 0.968372 0.000000  58376.800000   0.057233  \n",
      "13  2228560918 0.745283 0.217404 0.963343 0.000000  42993.500000   0.021338  \n",
      "14  2132563578 0.726415 0.176023 0.903317 0.000000  52205.333333   0.042833  \n",
      "15  2120928676 0.745283 0.142471 0.795799 0.000000  48054.666667   0.033148  \n",
      "16  1664623586 0.216981 0.251543 0.247553 0.000000  46161.000000   0.028729  \n",
      "17  1544357839 0.207547 0.158762 0.241943 0.000000  50070.000000   0.037850  \n",
      "18  2129184364 0.264151 0.148459 0.253275 0.000000  48795.333333   0.034876  \n",
      "19   120434372 0.000000 0.137061 0.017992 0.000000  56862.400000   0.053699  \n",
      "20  2251546460 0.273585 0.235559 0.263279 0.000000  44678.000000   0.025269  \n",
      "21    53348328 0.000000 1.000000 0.005766 0.000000 462422.000000   1.000000  \n",
      "22    58713305 0.000000 0.094839 0.012473 0.000000  63243.000000   0.068587  \n",
      "23    34568461 0.000000 0.999396 0.003014 0.000000 462198.000000   0.999477  \n",
      "24    50306460 0.000000 0.503651 0.007300 0.000000 278210.000000   0.570174  \n",
      "25    49809597 0.000000 0.503274 0.007213 0.000000 278070.000000   0.569848  \n",
      "26    49768285 0.000000 0.503662 0.007206 0.000000 278214.000000   0.570184  \n",
      "27    49778376 0.000000 0.503651 0.007207 0.000000 278210.000000   0.570174  \n",
      "28    50306435 0.000000 0.503651 0.007300 0.000000 278210.000000   0.570174  \n",
      "29    49702621 0.000000 0.503171 0.007207 0.000000 278032.000000   0.569759  \n",
      "30    49689348 0.000000 0.505424 0.007191 0.000000 278868.000000   0.571710  \n",
      "31    30900767 0.000000 0.504416 0.004441 0.000000 278494.000000   0.570837  \n",
      "32    30898528 0.000000 0.504837 0.004440 0.000000 278650.000000   0.571201  \n",
      "33    31050928 0.009434 0.504443 0.004467 0.000000 278504.000000   0.570860  \n",
      "34    31536792 0.000000 0.504438 0.004552 0.000000 278502.000000   0.570856  \n",
      "35    30998601 0.000000 0.504492 0.004458 0.000000 278522.000000   0.570902  \n",
      "36    30837864 0.009434 0.504260 0.004442 0.000000 278436.000000   0.570702  \n",
      "37    31040337 0.000000 0.504422 0.004465 0.000000 278496.000000   0.570842  }\n"
     ]
    }
   ],
   "source": [
    "## Reading and saving input\n",
    "pd.set_option('float_format', '{:f}'.format)\n",
    "df_dict_input = {}\n",
    "total_file_count = 0\n",
    "filter_list = ['@version', 'wf_label','rss', 'site', 'type', 'condor_job_id','exe', 'hostname', 'task_id', 'xformation', 'wf_uuid']\n",
    "for ind in range(len(workloads)):\n",
    "    file_name_list = workloads[ind]\n",
    "    for fname in file_name_list:\n",
    "        if not path.exists(fname):\n",
    "            print(fname, ' does not exist....')\n",
    "            continue\n",
    "        else:\n",
    "            with open(fname) as f:\n",
    "                temp_data = f.read()\n",
    "            f.close()\n",
    "            lst = json.loads(temp_data)\n",
    "            df_original2 = pd.DataFrame(lst)\n",
    "\n",
    "            df_original2['@timestamp'] = pd.to_datetime(df_original2['@timestamp'], format=\"%Y-%m-%dT%H:%M:%S.%f\")#.sort_values()\n",
    "            newdf = df_original2.sort_values(['@timestamp'], ascending = (True))\n",
    "            # print('----------', newdf.columns)\n",
    "            print('----------')\n",
    "             \n",
    "            newdf['tsTrans'] = changeRange(df_original2['ts'])\n",
    "            newdf['iowaitT'] = normalize(newdf['iowait'])\n",
    "            newdf['vmT'] = normalize(newdf['vm'])\n",
    "            newdf['bwriteT'] = normalize(newdf['bwrite'])\n",
    "            newdf['breadT'] = normalize(newdf['bread'])\n",
    "\n",
    "            newdf['vmPerSec'] = newdf['vm'] / newdf['procs']\n",
    "            newdf['vmPerProc'] = normalize(newdf['vmPerSec'])\n",
    "\n",
    "            newdf = newdf.drop(filter_list, axis=1)\n",
    "            newdf = newdf.loc[:, (newdf != 0).any(axis=0)]\n",
    "            \n",
    "            # newdf.replace([np.inf, -np.inf], np.nan, inplace=True)\n",
    "            newdf = newdf.fillna(0)\n",
    "\n",
    "            newdf = newdf.groupby('pid').tail(1).reset_index()\n",
    "            print(newdf)\n",
    "            \n",
    "            newdf = newdf.drop(['procs', '@timestamp', 'event', 'threads', 'tsTrans'], axis=1)\n",
    "            # print(newdf.columns)\n",
    "\n",
    "            df_dict_input[total_file_count] = newdf\n",
    "            total_file_count += 1\n",
    "print(total_file_count)\n",
    "print(df_dict_input)"
   ]
  },
  {
   "cell_type": "code",
   "execution_count": 132,
   "metadata": {},
   "outputs": [],
   "source": [
    "import copy\n",
    "# import plotly.express as px\n",
    "tmpdf = copy.deepcopy(df_dict_input[0])\n",
    "# # tmpdf['bwritePerT'] = tmpdf['bwrite'] / tmpdf['bwriteT']\n",
    "# # tmpdf['breadPerT'] = tmpdf['bread'] / tmpdf['breadT']\n",
    "\n",
    "\n",
    "# # tmpdf = tmpdf.drop(['pid', 'utime', 'syscw','event', 'stime', 'utimeT', 'stimeT', 'iowait', 'iowaitT', 'bwrite', 'bwriteT'], axis=1)\n",
    "\n",
    "\n",
    "# fig = px.scatter_matrix(tmpdf)\n",
    "# fig.show()"
   ]
  },
  {
   "cell_type": "markdown",
   "metadata": {},
   "source": [
    "### Decompose workflow based on the characteristics of individual jobs. Each job "
   ]
  },
  {
   "cell_type": "code",
   "execution_count": 136,
   "metadata": {},
   "outputs": [
    {
     "data": {
      "application/vnd.plotly.v1+json": {
       "config": {
        "plotlyServerURL": "https://plot.ly"
       },
       "data": [
        {
         "fill": "toself",
         "name": "16388",
         "opacity": 0.2,
         "r": [
          0,
          0.9471780355622128,
          0.018717490349900737,
          0.7358490566037735,
          0.26170601453922304
         ],
         "subplot": "polar",
         "theta": [
          "breadT",
          "bwriteT",
          "vmPerProc",
          "iowaitT",
          "vmT"
         ],
         "type": "scatterpolar"
        },
        {
         "fill": "toself",
         "name": "16488",
         "opacity": 0.4,
         "r": [
          0,
          0.9292664358192414,
          0.01226020454829696,
          0.7830188679245282,
          0.28083118226839904
         ],
         "subplot": "polar2",
         "theta": [
          "breadT",
          "bwriteT",
          "vmPerProc",
          "iowaitT",
          "vmT"
         ],
         "type": "scatterpolar"
        },
        {
         "fill": "toself",
         "name": "16697",
         "opacity": 0.6,
         "r": [
          0,
          0.7739639232352943,
          0.02314769012577744,
          0.7641509433962265,
          0.28472734915151937
         ],
         "subplot": "polar3",
         "theta": [
          "breadT",
          "bwriteT",
          "vmPerProc",
          "iowaitT",
          "vmT"
         ],
         "type": "scatterpolar"
        },
        {
         "fill": "toself",
         "name": "4175",
         "opacity": 0.8,
         "r": [
          0,
          0.9042080075896399,
          0.04463084053707461,
          0.7547169811320755,
          0.18225223234734625
         ],
         "subplot": "polar4",
         "theta": [
          "breadT",
          "bwriteT",
          "vmPerProc",
          "iowaitT",
          "vmT"
         ],
         "type": "scatterpolar"
        },
        {
         "fill": "toself",
         "name": "4275",
         "opacity": 1,
         "r": [
          0,
          0.8996809407393344,
          0.02455727557647041,
          0.7735849056603773,
          0.23227190179288343
         ],
         "subplot": "polar5",
         "theta": [
          "breadT",
          "bwriteT",
          "vmPerProc",
          "iowaitT",
          "vmT"
         ],
         "type": "scatterpolar"
        },
        {
         "fill": "toself",
         "name": "16798",
         "opacity": 0.2,
         "r": [
          0,
          0.73095555125388,
          0.04631549866814008,
          0.7452830188679245,
          0.1880883993382444
         ],
         "subplot": "polar6",
         "theta": [
          "breadT",
          "bwriteT",
          "vmPerProc",
          "iowaitT",
          "vmT"
         ],
         "type": "scatterpolar"
        },
        {
         "fill": "toself",
         "name": "4390",
         "opacity": 0.4,
         "r": [
          0,
          0.8359340260405296,
          0.026427432767673974,
          0.7924528301886792,
          0.24091029116168283
         ],
         "subplot": "polar7",
         "theta": [
          "breadT",
          "bwriteT",
          "vmPerProc",
          "iowaitT",
          "vmT"
         ],
         "type": "scatterpolar"
        },
        {
         "fill": "toself",
         "name": "8537",
         "opacity": 0.6,
         "r": [
          0,
          1,
          0.02861725500590797,
          0.8773584905660378,
          0.25102523616806866
         ],
         "subplot": "polar8",
         "theta": [
          "breadT",
          "bwriteT",
          "vmPerProc",
          "iowaitT",
          "vmT"
         ],
         "type": "scatterpolar"
        },
        {
         "fill": "toself",
         "name": "8747",
         "opacity": 0.8,
         "r": [
          0,
          0.9129492047019651,
          0.048914818831584585,
          0.8962264150943395,
          0.12324928462496025
         ],
         "subplot": "polar9",
         "theta": [
          "breadT",
          "bwriteT",
          "vmPerProc",
          "iowaitT",
          "vmT"
         ],
         "type": "scatterpolar"
        },
        {
         "fill": "toself",
         "name": "4500",
         "opacity": 1,
         "r": [
          0,
          0.824159941519202,
          0.004816079302235238,
          0.7830188679245282,
          0.18946795497044194
         ],
         "subplot": "polar10",
         "theta": [
          "breadT",
          "bwriteT",
          "vmPerProc",
          "iowaitT",
          "vmT"
         ],
         "type": "scatterpolar"
        },
        {
         "fill": "toself",
         "name": "8844",
         "opacity": 0.2,
         "r": [
          0,
          0.8901648235773599,
          0,
          0.8584905660377359,
          0.210042733891263
         ],
         "subplot": "polar11",
         "theta": [
          "breadT",
          "bwriteT",
          "vmPerProc",
          "iowaitT",
          "vmT"
         ],
         "type": "scatterpolar"
        },
        {
         "fill": "toself",
         "name": "8653",
         "opacity": 0.4,
         "r": [
          0,
          0.9316876744420483,
          0.022288120406856602,
          0.8490566037735849,
          0.22179051232169514
         ],
         "subplot": "polar12",
         "theta": [
          "breadT",
          "bwriteT",
          "vmPerProc",
          "iowaitT",
          "vmT"
         ],
         "type": "scatterpolar"
        },
        {
         "fill": "toself",
         "name": "27369",
         "opacity": 0.6,
         "r": [
          0,
          0.9683717587716558,
          0.05723264335460701,
          1,
          0.1472621748478986
         ],
         "subplot": "polar13",
         "theta": [
          "breadT",
          "bwriteT",
          "vmPerProc",
          "iowaitT",
          "vmT"
         ],
         "type": "scatterpolar"
        },
        {
         "fill": "toself",
         "name": "27469",
         "opacity": 0.8,
         "r": [
          0,
          0.9633425090958792,
          0.02133845855181,
          0.7452830188679245,
          0.21740395652244202
         ],
         "subplot": "polar14",
         "theta": [
          "breadT",
          "bwriteT",
          "vmPerProc",
          "iowaitT",
          "vmT"
         ],
         "type": "scatterpolar"
        },
        {
         "fill": "toself",
         "name": "27605",
         "opacity": 1,
         "r": [
          0,
          0.9033168186099555,
          0.042832627425798825,
          0.7264150943396226,
          0.17602267644570424
         ],
         "subplot": "polar15",
         "theta": [
          "breadT",
          "bwriteT",
          "vmPerProc",
          "iowaitT",
          "vmT"
         ],
         "type": "scatterpolar"
        },
        {
         "fill": "toself",
         "name": "27731",
         "opacity": 0.2,
         "r": [
          0,
          0.7957989809151973,
          0.033147787606765004,
          0.7452830188679245,
          0.14247145235952513
         ],
         "subplot": "polar16",
         "theta": [
          "breadT",
          "bwriteT",
          "vmPerProc",
          "iowaitT",
          "vmT"
         ],
         "type": "scatterpolar"
        },
        {
         "fill": "toself",
         "name": "26815",
         "opacity": 0.4,
         "r": [
          0,
          0.24755325024227848,
          0.028729254438444176,
          0.2169811320754717,
          0.25154256953014276
         ],
         "subplot": "polar17",
         "theta": [
          "breadT",
          "bwriteT",
          "vmPerProc",
          "iowaitT",
          "vmT"
         ],
         "type": "scatterpolar"
        },
        {
         "fill": "toself",
         "name": "19613",
         "opacity": 0.6,
         "r": [
          0,
          0.24194265591632594,
          0.03785020822561166,
          0.20754716981132074,
          0.15876206437567025
         ],
         "subplot": "polar18",
         "theta": [
          "breadT",
          "bwriteT",
          "vmPerProc",
          "iowaitT",
          "vmT"
         ],
         "type": "scatterpolar"
        },
        {
         "fill": "toself",
         "name": "31152",
         "opacity": 0.8,
         "r": [
          0,
          0.25327454743246663,
          0.03487600107270568,
          0.2641509433962264,
          0.1484585082476949
         ],
         "subplot": "polar19",
         "theta": [
          "breadT",
          "bwriteT",
          "vmPerProc",
          "iowaitT",
          "vmT"
         ],
         "type": "scatterpolar"
        },
        {
         "fill": "toself",
         "name": "844",
         "opacity": 1,
         "r": [
          0,
          0.01799199847118726,
          0.053699061258089625,
          0,
          0.13706100761450044
         ],
         "subplot": "polar20",
         "theta": [
          "breadT",
          "bwriteT",
          "vmPerProc",
          "iowaitT",
          "vmT"
         ],
         "type": "scatterpolar"
        },
        {
         "fill": "toself",
         "name": "25437",
         "opacity": 0.2,
         "r": [
          0,
          0.2632792414812909,
          0.02526893863737757,
          0.27358490566037735,
          0.23555912419772912
         ],
         "subplot": "polar21",
         "theta": [
          "breadT",
          "bwriteT",
          "vmPerProc",
          "iowaitT",
          "vmT"
         ],
         "type": "scatterpolar"
        },
        {
         "fill": "toself",
         "name": "26471",
         "opacity": 0.4,
         "r": [
          0,
          0.005766444168340094,
          1,
          0,
          1
         ],
         "subplot": "polar22",
         "theta": [
          "breadT",
          "bwriteT",
          "vmPerProc",
          "iowaitT",
          "vmT"
         ],
         "type": "scatterpolar"
        },
        {
         "fill": "toself",
         "name": "26890",
         "opacity": 0.6,
         "r": [
          0,
          0.012472935005049658,
          0.06858705249226738,
          0,
          0.09483906082439227
         ],
         "subplot": "polar23",
         "theta": [
          "breadT",
          "bwriteT",
          "vmPerProc",
          "iowaitT",
          "vmT"
         ],
         "type": "scatterpolar"
        },
        {
         "fill": "toself",
         "name": "20349",
         "opacity": 0.8,
         "r": [
          0,
          0.003014333856337368,
          0.9994773359814977,
          0,
          0.9993964444109136
         ],
         "subplot": "polar24",
         "theta": [
          "breadT",
          "bwriteT",
          "vmPerProc",
          "iowaitT",
          "vmT"
         ],
         "type": "scatterpolar"
        },
        {
         "fill": "toself",
         "name": "9616",
         "opacity": 1,
         "r": [
          0,
          0.007300204521995546,
          0.5701741777841659,
          0,
          0.5036509724250541
         ],
         "subplot": "polar25",
         "theta": [
          "breadT",
          "bwriteT",
          "vmPerProc",
          "iowaitT",
          "vmT"
         ],
         "type": "scatterpolar"
        },
        {
         "fill": "toself",
         "name": "21325",
         "opacity": 0.2,
         "r": [
          0,
          0.007213002824469167,
          0.569847512772602,
          0,
          0.503273750181875
         ],
         "subplot": "polar26",
         "theta": [
          "breadT",
          "bwriteT",
          "vmPerProc",
          "iowaitT",
          "vmT"
         ],
         "type": "scatterpolar"
        },
        {
         "fill": "toself",
         "name": "21334",
         "opacity": 0.4,
         "r": [
          0,
          0.007205581403403093,
          0.5701835110702106,
          0,
          0.5036617502034305
         ],
         "subplot": "polar27",
         "theta": [
          "breadT",
          "bwriteT",
          "vmPerProc",
          "iowaitT",
          "vmT"
         ],
         "type": "scatterpolar"
        },
        {
         "fill": "toself",
         "name": "21341",
         "opacity": 0.6,
         "r": [
          0,
          0.007207436758669612,
          0.5701741777841659,
          0,
          0.5036509724250541
         ],
         "subplot": "polar28",
         "theta": [
          "breadT",
          "bwriteT",
          "vmPerProc",
          "iowaitT",
          "vmT"
         ],
         "type": "scatterpolar"
        },
        {
         "fill": "toself",
         "name": "26755",
         "opacity": 0.8,
         "r": [
          0,
          0.007300204521995546,
          0.5701741777841659,
          0,
          0.5036509724250541
         ],
         "subplot": "polar29",
         "theta": [
          "breadT",
          "bwriteT",
          "vmPerProc",
          "iowaitT",
          "vmT"
         ],
         "type": "scatterpolar"
        },
        {
         "fill": "toself",
         "name": "28703",
         "opacity": 1,
         "r": [
          0,
          0.0072068183069141055,
          0.5697588465551775,
          0,
          0.5031713612872979
         ],
         "subplot": "polar30",
         "theta": [
          "breadT",
          "bwriteT",
          "vmPerProc",
          "iowaitT",
          "vmT"
         ],
         "type": "scatterpolar"
        },
        {
         "fill": "toself",
         "name": "28714",
         "opacity": 0.2,
         "r": [
          0,
          0.0071913570130264495,
          0.5717095033385164,
          0,
          0.5054239169679954
         ],
         "subplot": "polar31",
         "theta": [
          "breadT",
          "bwriteT",
          "vmPerProc",
          "iowaitT",
          "vmT"
         ],
         "type": "scatterpolar"
        },
        {
         "fill": "toself",
         "name": "20467",
         "opacity": 0.4,
         "r": [
          0,
          0.004441102056290242,
          0.5708368410933385,
          0,
          0.5044161946897886
         ],
         "subplot": "polar32",
         "theta": [
          "breadT",
          "bwriteT",
          "vmPerProc",
          "iowaitT",
          "vmT"
         ],
         "type": "scatterpolar"
        },
        {
         "fill": "toself",
         "name": "29042",
         "opacity": 0.6,
         "r": [
          0,
          0.00443986515277923,
          0.5712008392490812,
          0,
          0.5048365280464738
         ],
         "subplot": "polar33",
         "theta": [
          "breadT",
          "bwriteT",
          "vmPerProc",
          "iowaitT",
          "vmT"
         ],
         "type": "scatterpolar"
        },
        {
         "fill": "toself",
         "name": "10016",
         "opacity": 0.8,
         "r": [
          0,
          0.004467077030021503,
          0.5708601743084503,
          0.009433962264150943,
          0.5044431391357299
         ],
         "subplot": "polar34",
         "theta": [
          "breadT",
          "bwriteT",
          "vmPerProc",
          "iowaitT",
          "vmT"
         ],
         "type": "scatterpolar"
        },
        {
         "fill": "toself",
         "name": "21578",
         "opacity": 1,
         "r": [
          0,
          0.004552423372281364,
          0.5708555076654279,
          0,
          0.5044377502465417
         ],
         "subplot": "polar35",
         "theta": [
          "breadT",
          "bwriteT",
          "vmPerProc",
          "iowaitT",
          "vmT"
         ],
         "type": "scatterpolar"
        },
        {
         "fill": "toself",
         "name": "29051",
         "opacity": 0.2,
         "r": [
          0,
          0.00445780025368891,
          0.5709021740956512,
          0,
          0.5044916391384244
         ],
         "subplot": "polar36",
         "theta": [
          "breadT",
          "bwriteT",
          "vmPerProc",
          "iowaitT",
          "vmT"
         ],
         "type": "scatterpolar"
        },
        {
         "fill": "toself",
         "name": "10036",
         "opacity": 0.4,
         "r": [
          0,
          0.004442338959801255,
          0.5707015084456906,
          0.009433962264150943,
          0.5042599169033287
         ],
         "subplot": "polar37",
         "theta": [
          "breadT",
          "bwriteT",
          "vmPerProc",
          "iowaitT",
          "vmT"
         ],
         "type": "scatterpolar"
        },
        {
         "fill": "toself",
         "name": "10141",
         "opacity": 0.6,
         "r": [
          0,
          0.004465221674754985,
          0.5708415077363609,
          0,
          0.5044215835789768
         ],
         "subplot": "polar38",
         "theta": [
          "breadT",
          "bwriteT",
          "vmPerProc",
          "iowaitT",
          "vmT"
         ],
         "type": "scatterpolar"
        }
       ],
       "layout": {
        "annotations": [
         {
          "font": {
           "size": 16
          },
          "showarrow": false,
          "text": "individuals_wrapper_ID0000007",
          "x": 0.10625,
          "xanchor": "center",
          "xref": "paper",
          "y": 1,
          "yanchor": "bottom",
          "yref": "paper"
         },
         {
          "font": {
           "size": 16
          },
          "showarrow": false,
          "text": "individuals_wrapper_ID0000018",
          "x": 0.36875,
          "xanchor": "center",
          "xref": "paper",
          "y": 1,
          "yanchor": "bottom",
          "yref": "paper"
         },
         {
          "font": {
           "size": 16
          },
          "showarrow": false,
          "text": "individuals_wrapper_ID0000006",
          "x": 0.6312500000000001,
          "xanchor": "center",
          "xref": "paper",
          "y": 1,
          "yanchor": "bottom",
          "yref": "paper"
         },
         {
          "font": {
           "size": 16
          },
          "showarrow": false,
          "text": "individuals_wrapper_ID0000004",
          "x": 0.89375,
          "xanchor": "center",
          "xref": "paper",
          "y": 1,
          "yanchor": "bottom",
          "yref": "paper"
         },
         {
          "font": {
           "size": 16
          },
          "showarrow": false,
          "text": "individuals_wrapper_ID0000015",
          "x": 0.10625,
          "xanchor": "center",
          "xref": "paper",
          "y": 0.8950000000000001,
          "yanchor": "bottom",
          "yref": "paper"
         },
         {
          "font": {
           "size": 16
          },
          "showarrow": false,
          "text": "individuals_wrapper_ID0000017",
          "x": 0.36875,
          "xanchor": "center",
          "xref": "paper",
          "y": 0.8950000000000001,
          "yanchor": "bottom",
          "yref": "paper"
         },
         {
          "font": {
           "size": 16
          },
          "showarrow": false,
          "text": "individuals_wrapper_ID0000005",
          "x": 0.6312500000000001,
          "xanchor": "center",
          "xref": "paper",
          "y": 0.8950000000000001,
          "yanchor": "bottom",
          "yref": "paper"
         },
         {
          "font": {
           "size": 16
          },
          "showarrow": false,
          "text": "individuals_wrapper_ID0000003",
          "x": 0.89375,
          "xanchor": "center",
          "xref": "paper",
          "y": 0.8950000000000001,
          "yanchor": "bottom",
          "yref": "paper"
         },
         {
          "font": {
           "size": 16
          },
          "showarrow": false,
          "text": "individuals_wrapper_ID0000014",
          "x": 0.10625,
          "xanchor": "center",
          "xref": "paper",
          "y": 0.7900000000000001,
          "yanchor": "bottom",
          "yref": "paper"
         },
         {
          "font": {
           "size": 16
          },
          "showarrow": false,
          "text": "individuals_wrapper_ID0000016",
          "x": 0.36875,
          "xanchor": "center",
          "xref": "paper",
          "y": 0.7900000000000001,
          "yanchor": "bottom",
          "yref": "paper"
         },
         {
          "font": {
           "size": 16
          },
          "showarrow": false,
          "text": "individuals_wrapper_ID0000020",
          "x": 0.6312500000000001,
          "xanchor": "center",
          "xref": "paper",
          "y": 0.7900000000000001,
          "yanchor": "bottom",
          "yref": "paper"
         },
         {
          "font": {
           "size": 16
          },
          "showarrow": false,
          "text": "individuals_wrapper_ID0000010",
          "x": 0.89375,
          "xanchor": "center",
          "xref": "paper",
          "y": 0.7900000000000001,
          "yanchor": "bottom",
          "yref": "paper"
         },
         {
          "font": {
           "size": 16
          },
          "showarrow": false,
          "text": "individuals_wrapper_ID0000008",
          "x": 0.10625,
          "xanchor": "center",
          "xref": "paper",
          "y": 0.6850000000000002,
          "yanchor": "bottom",
          "yref": "paper"
         },
         {
          "font": {
           "size": 16
          },
          "showarrow": false,
          "text": "individuals_wrapper_ID0000019",
          "x": 0.36875,
          "xanchor": "center",
          "xref": "paper",
          "y": 0.6850000000000002,
          "yanchor": "bottom",
          "yref": "paper"
         },
         {
          "font": {
           "size": 16
          },
          "showarrow": false,
          "text": "individuals_wrapper_ID0000009",
          "x": 0.6312500000000001,
          "xanchor": "center",
          "xref": "paper",
          "y": 0.6850000000000002,
          "yanchor": "bottom",
          "yref": "paper"
         },
         {
          "font": {
           "size": 16
          },
          "showarrow": false,
          "text": "individuals_wrapper_ID0000021",
          "x": 0.89375,
          "xanchor": "center",
          "xref": "paper",
          "y": 0.6850000000000002,
          "yanchor": "bottom",
          "yref": "paper"
         },
         {
          "font": {
           "size": 16
          },
          "showarrow": false,
          "text": "individuals_wrapper_ID0000013",
          "x": 0.10625,
          "xanchor": "center",
          "xref": "paper",
          "y": 0.5800000000000001,
          "yanchor": "bottom",
          "yref": "paper"
         },
         {
          "font": {
           "size": 16
          },
          "showarrow": false,
          "text": "individuals_wrapper_ID0000001",
          "x": 0.36875,
          "xanchor": "center",
          "xref": "paper",
          "y": 0.5800000000000001,
          "yanchor": "bottom",
          "yref": "paper"
         },
         {
          "font": {
           "size": 16
          },
          "showarrow": false,
          "text": "individuals_wrapper_ID0000002",
          "x": 0.6312500000000001,
          "xanchor": "center",
          "xref": "paper",
          "y": 0.5800000000000001,
          "yanchor": "bottom",
          "yref": "paper"
         },
         {
          "font": {
           "size": 16
          },
          "showarrow": false,
          "text": "individuals_merge_wrapper_ID0000011",
          "x": 0.89375,
          "xanchor": "center",
          "xref": "paper",
          "y": 0.5800000000000001,
          "yanchor": "bottom",
          "yref": "paper"
         },
         {
          "font": {
           "size": 16
          },
          "showarrow": false,
          "text": "individuals_wrapper_ID0000022",
          "x": 0.10625,
          "xanchor": "center",
          "xref": "paper",
          "y": 0.47500000000000003,
          "yanchor": "bottom",
          "yref": "paper"
         },
         {
          "font": {
           "size": 16
          },
          "showarrow": false,
          "text": "mutation_overlap_wrapper_ID0000035",
          "x": 0.36875,
          "xanchor": "center",
          "xref": "paper",
          "y": 0.47500000000000003,
          "yanchor": "bottom",
          "yref": "paper"
         },
         {
          "font": {
           "size": 16
          },
          "showarrow": false,
          "text": "individuals_merge_wrapper_ID0000023",
          "x": 0.6312500000000001,
          "xanchor": "center",
          "xref": "paper",
          "y": 0.47500000000000003,
          "yanchor": "bottom",
          "yref": "paper"
         },
         {
          "font": {
           "size": 16
          },
          "showarrow": false,
          "text": "mutation_overlap_wrapper_ID0000049",
          "x": 0.89375,
          "xanchor": "center",
          "xref": "paper",
          "y": 0.47500000000000003,
          "yanchor": "bottom",
          "yref": "paper"
         },
         {
          "font": {
           "size": 16
          },
          "showarrow": false,
          "text": "frequency_wrapper_ID0000038",
          "x": 0.10625,
          "xanchor": "center",
          "xref": "paper",
          "y": 0.37000000000000005,
          "yanchor": "bottom",
          "yref": "paper"
         },
         {
          "font": {
           "size": 16
          },
          "showarrow": false,
          "text": "frequency_wrapper_ID0000034",
          "x": 0.36875,
          "xanchor": "center",
          "xref": "paper",
          "y": 0.37000000000000005,
          "yanchor": "bottom",
          "yref": "paper"
         },
         {
          "font": {
           "size": 16
          },
          "showarrow": false,
          "text": "frequency_wrapper_ID0000030",
          "x": 0.6312500000000001,
          "xanchor": "center",
          "xref": "paper",
          "y": 0.37000000000000005,
          "yanchor": "bottom",
          "yref": "paper"
         },
         {
          "font": {
           "size": 16
          },
          "showarrow": false,
          "text": "frequency_wrapper_ID0000028",
          "x": 0.89375,
          "xanchor": "center",
          "xref": "paper",
          "y": 0.37000000000000005,
          "yanchor": "bottom",
          "yref": "paper"
         },
         {
          "font": {
           "size": 16
          },
          "showarrow": false,
          "text": "frequency_wrapper_ID0000032",
          "x": 0.10625,
          "xanchor": "center",
          "xref": "paper",
          "y": 0.265,
          "yanchor": "bottom",
          "yref": "paper"
         },
         {
          "font": {
           "size": 16
          },
          "showarrow": false,
          "text": "frequency_wrapper_ID0000026",
          "x": 0.36875,
          "xanchor": "center",
          "xref": "paper",
          "y": 0.265,
          "yanchor": "bottom",
          "yref": "paper"
         },
         {
          "font": {
           "size": 16
          },
          "showarrow": false,
          "text": "frequency_wrapper_ID0000036",
          "x": 0.6312500000000001,
          "xanchor": "center",
          "xref": "paper",
          "y": 0.265,
          "yanchor": "bottom",
          "yref": "paper"
         },
         {
          "font": {
           "size": 16
          },
          "showarrow": false,
          "text": "frequency_wrapper_ID0000048",
          "x": 0.89375,
          "xanchor": "center",
          "xref": "paper",
          "y": 0.265,
          "yanchor": "bottom",
          "yref": "paper"
         },
         {
          "font": {
           "size": 16
          },
          "showarrow": false,
          "text": "frequency_wrapper_ID0000050",
          "x": 0.10625,
          "xanchor": "center",
          "xref": "paper",
          "y": 0.16000000000000003,
          "yanchor": "bottom",
          "yref": "paper"
         },
         {
          "font": {
           "size": 16
          },
          "showarrow": false,
          "text": "frequency_wrapper_ID0000052",
          "x": 0.36875,
          "xanchor": "center",
          "xref": "paper",
          "y": 0.16000000000000003,
          "yanchor": "bottom",
          "yref": "paper"
         },
         {
          "font": {
           "size": 16
          },
          "showarrow": false,
          "text": "frequency_wrapper_ID0000042",
          "x": 0.6312500000000001,
          "xanchor": "center",
          "xref": "paper",
          "y": 0.16000000000000003,
          "yanchor": "bottom",
          "yref": "paper"
         },
         {
          "font": {
           "size": 16
          },
          "showarrow": false,
          "text": "frequency_wrapper_ID0000044",
          "x": 0.89375,
          "xanchor": "center",
          "xref": "paper",
          "y": 0.16000000000000003,
          "yanchor": "bottom",
          "yref": "paper"
         },
         {
          "font": {
           "size": 16
          },
          "showarrow": false,
          "text": "frequency_wrapper_ID0000040",
          "x": 0.10625,
          "xanchor": "center",
          "xref": "paper",
          "y": 0.05500000000000001,
          "yanchor": "bottom",
          "yref": "paper"
         },
         {
          "font": {
           "size": 16
          },
          "showarrow": false,
          "text": "frequency_wrapper_ID0000046",
          "x": 0.36875,
          "xanchor": "center",
          "xref": "paper",
          "y": 0.05500000000000001,
          "yanchor": "bottom",
          "yref": "paper"
         }
        ],
        "height": 3000,
        "polar": {
         "domain": {
          "x": [
           0,
           0.2125
          ],
          "y": [
           0.9450000000000001,
           1
          ]
         },
         "radialaxis": {
          "range": [
           0,
           1
          ],
          "visible": true
         }
        },
        "polar10": {
         "domain": {
          "x": [
           0.2625,
           0.475
          ],
          "y": [
           0.7350000000000001,
           0.7900000000000001
          ]
         }
        },
        "polar11": {
         "domain": {
          "x": [
           0.525,
           0.7375
          ],
          "y": [
           0.7350000000000001,
           0.7900000000000001
          ]
         }
        },
        "polar12": {
         "domain": {
          "x": [
           0.7875,
           1
          ],
          "y": [
           0.7350000000000001,
           0.7900000000000001
          ]
         }
        },
        "polar13": {
         "domain": {
          "x": [
           0,
           0.2125
          ],
          "y": [
           0.6300000000000001,
           0.6850000000000002
          ]
         }
        },
        "polar14": {
         "domain": {
          "x": [
           0.2625,
           0.475
          ],
          "y": [
           0.6300000000000001,
           0.6850000000000002
          ]
         }
        },
        "polar15": {
         "domain": {
          "x": [
           0.525,
           0.7375
          ],
          "y": [
           0.6300000000000001,
           0.6850000000000002
          ]
         }
        },
        "polar16": {
         "domain": {
          "x": [
           0.7875,
           1
          ],
          "y": [
           0.6300000000000001,
           0.6850000000000002
          ]
         }
        },
        "polar17": {
         "domain": {
          "x": [
           0,
           0.2125
          ],
          "y": [
           0.525,
           0.5800000000000001
          ]
         }
        },
        "polar18": {
         "domain": {
          "x": [
           0.2625,
           0.475
          ],
          "y": [
           0.525,
           0.5800000000000001
          ]
         }
        },
        "polar19": {
         "domain": {
          "x": [
           0.525,
           0.7375
          ],
          "y": [
           0.525,
           0.5800000000000001
          ]
         }
        },
        "polar2": {
         "domain": {
          "x": [
           0.2625,
           0.475
          ],
          "y": [
           0.9450000000000001,
           1
          ]
         }
        },
        "polar20": {
         "domain": {
          "x": [
           0.7875,
           1
          ],
          "y": [
           0.525,
           0.5800000000000001
          ]
         }
        },
        "polar21": {
         "domain": {
          "x": [
           0,
           0.2125
          ],
          "y": [
           0.42000000000000004,
           0.47500000000000003
          ]
         }
        },
        "polar22": {
         "domain": {
          "x": [
           0.2625,
           0.475
          ],
          "y": [
           0.42000000000000004,
           0.47500000000000003
          ]
         }
        },
        "polar23": {
         "domain": {
          "x": [
           0.525,
           0.7375
          ],
          "y": [
           0.42000000000000004,
           0.47500000000000003
          ]
         }
        },
        "polar24": {
         "domain": {
          "x": [
           0.7875,
           1
          ],
          "y": [
           0.42000000000000004,
           0.47500000000000003
          ]
         }
        },
        "polar25": {
         "domain": {
          "x": [
           0,
           0.2125
          ],
          "y": [
           0.31500000000000006,
           0.37000000000000005
          ]
         }
        },
        "polar26": {
         "domain": {
          "x": [
           0.2625,
           0.475
          ],
          "y": [
           0.31500000000000006,
           0.37000000000000005
          ]
         }
        },
        "polar27": {
         "domain": {
          "x": [
           0.525,
           0.7375
          ],
          "y": [
           0.31500000000000006,
           0.37000000000000005
          ]
         }
        },
        "polar28": {
         "domain": {
          "x": [
           0.7875,
           1
          ],
          "y": [
           0.31500000000000006,
           0.37000000000000005
          ]
         }
        },
        "polar29": {
         "domain": {
          "x": [
           0,
           0.2125
          ],
          "y": [
           0.21000000000000002,
           0.265
          ]
         }
        },
        "polar3": {
         "domain": {
          "x": [
           0.525,
           0.7375
          ],
          "y": [
           0.9450000000000001,
           1
          ]
         }
        },
        "polar30": {
         "domain": {
          "x": [
           0.2625,
           0.475
          ],
          "y": [
           0.21000000000000002,
           0.265
          ]
         }
        },
        "polar31": {
         "domain": {
          "x": [
           0.525,
           0.7375
          ],
          "y": [
           0.21000000000000002,
           0.265
          ]
         }
        },
        "polar32": {
         "domain": {
          "x": [
           0.7875,
           1
          ],
          "y": [
           0.21000000000000002,
           0.265
          ]
         }
        },
        "polar33": {
         "domain": {
          "x": [
           0,
           0.2125
          ],
          "y": [
           0.10500000000000001,
           0.16000000000000003
          ]
         }
        },
        "polar34": {
         "domain": {
          "x": [
           0.2625,
           0.475
          ],
          "y": [
           0.10500000000000001,
           0.16000000000000003
          ]
         }
        },
        "polar35": {
         "domain": {
          "x": [
           0.525,
           0.7375
          ],
          "y": [
           0.10500000000000001,
           0.16000000000000003
          ]
         }
        },
        "polar36": {
         "domain": {
          "x": [
           0.7875,
           1
          ],
          "y": [
           0.10500000000000001,
           0.16000000000000003
          ]
         }
        },
        "polar37": {
         "domain": {
          "x": [
           0,
           0.2125
          ],
          "y": [
           0,
           0.05500000000000001
          ]
         }
        },
        "polar38": {
         "domain": {
          "x": [
           0.2625,
           0.475
          ],
          "y": [
           0,
           0.05500000000000001
          ]
         }
        },
        "polar39": {
         "domain": {
          "x": [
           0.525,
           0.7375
          ],
          "y": [
           0,
           0.05500000000000001
          ]
         }
        },
        "polar4": {
         "domain": {
          "x": [
           0.7875,
           1
          ],
          "y": [
           0.9450000000000001,
           1
          ]
         }
        },
        "polar40": {
         "domain": {
          "x": [
           0.7875,
           1
          ],
          "y": [
           0,
           0.05500000000000001
          ]
         }
        },
        "polar5": {
         "domain": {
          "x": [
           0,
           0.2125
          ],
          "y": [
           0.8400000000000001,
           0.8950000000000001
          ]
         }
        },
        "polar6": {
         "domain": {
          "x": [
           0.2625,
           0.475
          ],
          "y": [
           0.8400000000000001,
           0.8950000000000001
          ]
         }
        },
        "polar7": {
         "domain": {
          "x": [
           0.525,
           0.7375
          ],
          "y": [
           0.8400000000000001,
           0.8950000000000001
          ]
         }
        },
        "polar8": {
         "domain": {
          "x": [
           0.7875,
           1
          ],
          "y": [
           0.8400000000000001,
           0.8950000000000001
          ]
         }
        },
        "polar9": {
         "domain": {
          "x": [
           0,
           0.2125
          ],
          "y": [
           0.7350000000000001,
           0.7900000000000001
          ]
         }
        },
        "showlegend": true,
        "template": {
         "data": {
          "bar": [
           {
            "error_x": {
             "color": "#2a3f5f"
            },
            "error_y": {
             "color": "#2a3f5f"
            },
            "marker": {
             "line": {
              "color": "#E5ECF6",
              "width": 0.5
             },
             "pattern": {
              "fillmode": "overlay",
              "size": 10,
              "solidity": 0.2
             }
            },
            "type": "bar"
           }
          ],
          "barpolar": [
           {
            "marker": {
             "line": {
              "color": "#E5ECF6",
              "width": 0.5
             },
             "pattern": {
              "fillmode": "overlay",
              "size": 10,
              "solidity": 0.2
             }
            },
            "type": "barpolar"
           }
          ],
          "carpet": [
           {
            "aaxis": {
             "endlinecolor": "#2a3f5f",
             "gridcolor": "white",
             "linecolor": "white",
             "minorgridcolor": "white",
             "startlinecolor": "#2a3f5f"
            },
            "baxis": {
             "endlinecolor": "#2a3f5f",
             "gridcolor": "white",
             "linecolor": "white",
             "minorgridcolor": "white",
             "startlinecolor": "#2a3f5f"
            },
            "type": "carpet"
           }
          ],
          "choropleth": [
           {
            "colorbar": {
             "outlinewidth": 0,
             "ticks": ""
            },
            "type": "choropleth"
           }
          ],
          "contour": [
           {
            "colorbar": {
             "outlinewidth": 0,
             "ticks": ""
            },
            "colorscale": [
             [
              0,
              "#0d0887"
             ],
             [
              0.1111111111111111,
              "#46039f"
             ],
             [
              0.2222222222222222,
              "#7201a8"
             ],
             [
              0.3333333333333333,
              "#9c179e"
             ],
             [
              0.4444444444444444,
              "#bd3786"
             ],
             [
              0.5555555555555556,
              "#d8576b"
             ],
             [
              0.6666666666666666,
              "#ed7953"
             ],
             [
              0.7777777777777778,
              "#fb9f3a"
             ],
             [
              0.8888888888888888,
              "#fdca26"
             ],
             [
              1,
              "#f0f921"
             ]
            ],
            "type": "contour"
           }
          ],
          "contourcarpet": [
           {
            "colorbar": {
             "outlinewidth": 0,
             "ticks": ""
            },
            "type": "contourcarpet"
           }
          ],
          "heatmap": [
           {
            "colorbar": {
             "outlinewidth": 0,
             "ticks": ""
            },
            "colorscale": [
             [
              0,
              "#0d0887"
             ],
             [
              0.1111111111111111,
              "#46039f"
             ],
             [
              0.2222222222222222,
              "#7201a8"
             ],
             [
              0.3333333333333333,
              "#9c179e"
             ],
             [
              0.4444444444444444,
              "#bd3786"
             ],
             [
              0.5555555555555556,
              "#d8576b"
             ],
             [
              0.6666666666666666,
              "#ed7953"
             ],
             [
              0.7777777777777778,
              "#fb9f3a"
             ],
             [
              0.8888888888888888,
              "#fdca26"
             ],
             [
              1,
              "#f0f921"
             ]
            ],
            "type": "heatmap"
           }
          ],
          "heatmapgl": [
           {
            "colorbar": {
             "outlinewidth": 0,
             "ticks": ""
            },
            "colorscale": [
             [
              0,
              "#0d0887"
             ],
             [
              0.1111111111111111,
              "#46039f"
             ],
             [
              0.2222222222222222,
              "#7201a8"
             ],
             [
              0.3333333333333333,
              "#9c179e"
             ],
             [
              0.4444444444444444,
              "#bd3786"
             ],
             [
              0.5555555555555556,
              "#d8576b"
             ],
             [
              0.6666666666666666,
              "#ed7953"
             ],
             [
              0.7777777777777778,
              "#fb9f3a"
             ],
             [
              0.8888888888888888,
              "#fdca26"
             ],
             [
              1,
              "#f0f921"
             ]
            ],
            "type": "heatmapgl"
           }
          ],
          "histogram": [
           {
            "marker": {
             "pattern": {
              "fillmode": "overlay",
              "size": 10,
              "solidity": 0.2
             }
            },
            "type": "histogram"
           }
          ],
          "histogram2d": [
           {
            "colorbar": {
             "outlinewidth": 0,
             "ticks": ""
            },
            "colorscale": [
             [
              0,
              "#0d0887"
             ],
             [
              0.1111111111111111,
              "#46039f"
             ],
             [
              0.2222222222222222,
              "#7201a8"
             ],
             [
              0.3333333333333333,
              "#9c179e"
             ],
             [
              0.4444444444444444,
              "#bd3786"
             ],
             [
              0.5555555555555556,
              "#d8576b"
             ],
             [
              0.6666666666666666,
              "#ed7953"
             ],
             [
              0.7777777777777778,
              "#fb9f3a"
             ],
             [
              0.8888888888888888,
              "#fdca26"
             ],
             [
              1,
              "#f0f921"
             ]
            ],
            "type": "histogram2d"
           }
          ],
          "histogram2dcontour": [
           {
            "colorbar": {
             "outlinewidth": 0,
             "ticks": ""
            },
            "colorscale": [
             [
              0,
              "#0d0887"
             ],
             [
              0.1111111111111111,
              "#46039f"
             ],
             [
              0.2222222222222222,
              "#7201a8"
             ],
             [
              0.3333333333333333,
              "#9c179e"
             ],
             [
              0.4444444444444444,
              "#bd3786"
             ],
             [
              0.5555555555555556,
              "#d8576b"
             ],
             [
              0.6666666666666666,
              "#ed7953"
             ],
             [
              0.7777777777777778,
              "#fb9f3a"
             ],
             [
              0.8888888888888888,
              "#fdca26"
             ],
             [
              1,
              "#f0f921"
             ]
            ],
            "type": "histogram2dcontour"
           }
          ],
          "mesh3d": [
           {
            "colorbar": {
             "outlinewidth": 0,
             "ticks": ""
            },
            "type": "mesh3d"
           }
          ],
          "parcoords": [
           {
            "line": {
             "colorbar": {
              "outlinewidth": 0,
              "ticks": ""
             }
            },
            "type": "parcoords"
           }
          ],
          "pie": [
           {
            "automargin": true,
            "type": "pie"
           }
          ],
          "scatter": [
           {
            "marker": {
             "colorbar": {
              "outlinewidth": 0,
              "ticks": ""
             }
            },
            "type": "scatter"
           }
          ],
          "scatter3d": [
           {
            "line": {
             "colorbar": {
              "outlinewidth": 0,
              "ticks": ""
             }
            },
            "marker": {
             "colorbar": {
              "outlinewidth": 0,
              "ticks": ""
             }
            },
            "type": "scatter3d"
           }
          ],
          "scattercarpet": [
           {
            "marker": {
             "colorbar": {
              "outlinewidth": 0,
              "ticks": ""
             }
            },
            "type": "scattercarpet"
           }
          ],
          "scattergeo": [
           {
            "marker": {
             "colorbar": {
              "outlinewidth": 0,
              "ticks": ""
             }
            },
            "type": "scattergeo"
           }
          ],
          "scattergl": [
           {
            "marker": {
             "colorbar": {
              "outlinewidth": 0,
              "ticks": ""
             }
            },
            "type": "scattergl"
           }
          ],
          "scattermapbox": [
           {
            "marker": {
             "colorbar": {
              "outlinewidth": 0,
              "ticks": ""
             }
            },
            "type": "scattermapbox"
           }
          ],
          "scatterpolar": [
           {
            "marker": {
             "colorbar": {
              "outlinewidth": 0,
              "ticks": ""
             }
            },
            "type": "scatterpolar"
           }
          ],
          "scatterpolargl": [
           {
            "marker": {
             "colorbar": {
              "outlinewidth": 0,
              "ticks": ""
             }
            },
            "type": "scatterpolargl"
           }
          ],
          "scatterternary": [
           {
            "marker": {
             "colorbar": {
              "outlinewidth": 0,
              "ticks": ""
             }
            },
            "type": "scatterternary"
           }
          ],
          "surface": [
           {
            "colorbar": {
             "outlinewidth": 0,
             "ticks": ""
            },
            "colorscale": [
             [
              0,
              "#0d0887"
             ],
             [
              0.1111111111111111,
              "#46039f"
             ],
             [
              0.2222222222222222,
              "#7201a8"
             ],
             [
              0.3333333333333333,
              "#9c179e"
             ],
             [
              0.4444444444444444,
              "#bd3786"
             ],
             [
              0.5555555555555556,
              "#d8576b"
             ],
             [
              0.6666666666666666,
              "#ed7953"
             ],
             [
              0.7777777777777778,
              "#fb9f3a"
             ],
             [
              0.8888888888888888,
              "#fdca26"
             ],
             [
              1,
              "#f0f921"
             ]
            ],
            "type": "surface"
           }
          ],
          "table": [
           {
            "cells": {
             "fill": {
              "color": "#EBF0F8"
             },
             "line": {
              "color": "white"
             }
            },
            "header": {
             "fill": {
              "color": "#C8D4E3"
             },
             "line": {
              "color": "white"
             }
            },
            "type": "table"
           }
          ]
         },
         "layout": {
          "annotationdefaults": {
           "arrowcolor": "#2a3f5f",
           "arrowhead": 0,
           "arrowwidth": 1
          },
          "autotypenumbers": "strict",
          "coloraxis": {
           "colorbar": {
            "outlinewidth": 0,
            "ticks": ""
           }
          },
          "colorscale": {
           "diverging": [
            [
             0,
             "#8e0152"
            ],
            [
             0.1,
             "#c51b7d"
            ],
            [
             0.2,
             "#de77ae"
            ],
            [
             0.3,
             "#f1b6da"
            ],
            [
             0.4,
             "#fde0ef"
            ],
            [
             0.5,
             "#f7f7f7"
            ],
            [
             0.6,
             "#e6f5d0"
            ],
            [
             0.7,
             "#b8e186"
            ],
            [
             0.8,
             "#7fbc41"
            ],
            [
             0.9,
             "#4d9221"
            ],
            [
             1,
             "#276419"
            ]
           ],
           "sequential": [
            [
             0,
             "#0d0887"
            ],
            [
             0.1111111111111111,
             "#46039f"
            ],
            [
             0.2222222222222222,
             "#7201a8"
            ],
            [
             0.3333333333333333,
             "#9c179e"
            ],
            [
             0.4444444444444444,
             "#bd3786"
            ],
            [
             0.5555555555555556,
             "#d8576b"
            ],
            [
             0.6666666666666666,
             "#ed7953"
            ],
            [
             0.7777777777777778,
             "#fb9f3a"
            ],
            [
             0.8888888888888888,
             "#fdca26"
            ],
            [
             1,
             "#f0f921"
            ]
           ],
           "sequentialminus": [
            [
             0,
             "#0d0887"
            ],
            [
             0.1111111111111111,
             "#46039f"
            ],
            [
             0.2222222222222222,
             "#7201a8"
            ],
            [
             0.3333333333333333,
             "#9c179e"
            ],
            [
             0.4444444444444444,
             "#bd3786"
            ],
            [
             0.5555555555555556,
             "#d8576b"
            ],
            [
             0.6666666666666666,
             "#ed7953"
            ],
            [
             0.7777777777777778,
             "#fb9f3a"
            ],
            [
             0.8888888888888888,
             "#fdca26"
            ],
            [
             1,
             "#f0f921"
            ]
           ]
          },
          "colorway": [
           "#636efa",
           "#EF553B",
           "#00cc96",
           "#ab63fa",
           "#FFA15A",
           "#19d3f3",
           "#FF6692",
           "#B6E880",
           "#FF97FF",
           "#FECB52"
          ],
          "font": {
           "color": "#2a3f5f"
          },
          "geo": {
           "bgcolor": "white",
           "lakecolor": "white",
           "landcolor": "#E5ECF6",
           "showlakes": true,
           "showland": true,
           "subunitcolor": "white"
          },
          "hoverlabel": {
           "align": "left"
          },
          "hovermode": "closest",
          "mapbox": {
           "style": "light"
          },
          "paper_bgcolor": "white",
          "plot_bgcolor": "#E5ECF6",
          "polar": {
           "angularaxis": {
            "gridcolor": "white",
            "linecolor": "white",
            "ticks": ""
           },
           "bgcolor": "#E5ECF6",
           "radialaxis": {
            "gridcolor": "white",
            "linecolor": "white",
            "ticks": ""
           }
          },
          "scene": {
           "xaxis": {
            "backgroundcolor": "#E5ECF6",
            "gridcolor": "white",
            "gridwidth": 2,
            "linecolor": "white",
            "showbackground": true,
            "ticks": "",
            "zerolinecolor": "white"
           },
           "yaxis": {
            "backgroundcolor": "#E5ECF6",
            "gridcolor": "white",
            "gridwidth": 2,
            "linecolor": "white",
            "showbackground": true,
            "ticks": "",
            "zerolinecolor": "white"
           },
           "zaxis": {
            "backgroundcolor": "#E5ECF6",
            "gridcolor": "white",
            "gridwidth": 2,
            "linecolor": "white",
            "showbackground": true,
            "ticks": "",
            "zerolinecolor": "white"
           }
          },
          "shapedefaults": {
           "line": {
            "color": "#2a3f5f"
           }
          },
          "ternary": {
           "aaxis": {
            "gridcolor": "white",
            "linecolor": "white",
            "ticks": ""
           },
           "baxis": {
            "gridcolor": "white",
            "linecolor": "white",
            "ticks": ""
           },
           "bgcolor": "#E5ECF6",
           "caxis": {
            "gridcolor": "white",
            "linecolor": "white",
            "ticks": ""
           }
          },
          "title": {
           "x": 0.05
          },
          "xaxis": {
           "automargin": true,
           "gridcolor": "white",
           "linecolor": "white",
           "ticks": "",
           "title": {
            "standoff": 15
           },
           "zerolinecolor": "white",
           "zerolinewidth": 2
          },
          "yaxis": {
           "automargin": true,
           "gridcolor": "white",
           "linecolor": "white",
           "ticks": "",
           "title": {
            "standoff": 15
           },
           "zerolinecolor": "white",
           "zerolinewidth": 2
          }
         }
        }
       }
      }
     },
     "metadata": {},
     "output_type": "display_data"
    }
   ],
   "source": [
    "import plotly.graph_objects as go\n",
    "\n",
    "categories = ['breadT','bwriteT','vmPerProc',\n",
    "              'iowaitT', 'vmT']\n",
    "# categories = ['bwritePerT','vmTransPerT',\n",
    "#               'iowaitPerT', 'vm']\n",
    "\n",
    "\n",
    "fig = go.Figure()\n",
    "\n",
    "import pandas as pd\n",
    "from sklearn import preprocessing\n",
    "\n",
    "# retmp = tmpdf[categories]\n",
    "# # print(tmpdf)\n",
    "# x = retmp.values #returns a numpy array\n",
    "# min_max_scaler = preprocessing.MinMaxScaler()\n",
    "# x_scaled = min_max_scaler.fit_transform(x)\n",
    "# df = pd.DataFrame(x_scaled, columns=categories)\n",
    "# tmpdf = df\n",
    "\n",
    "#set opacity parameter based on index\n",
    "dag_job_ids = newdf['dag_job_id'].unique().tolist()\n",
    "\n",
    "no_of_dia_per_col = 4\n",
    "no_of_row = math.ceil(len(dag_job_ids)/no_of_dia_per_col)\n",
    "# print(dag_job_ids)\n",
    "# print(dag_job_ids.index('sassena_ID0000006'))\n",
    "opacity_list = [0.2, 0.4, 0.6, 0.8, 1.0]\n",
    "\n",
    "type = {\"type\": \"polar\"}\n",
    "masterTypeList = []\n",
    "for j in range(no_of_row):\n",
    "  typeList = []\n",
    "  for i in range(no_of_dia_per_col):\n",
    "    typeList.append(type)\n",
    "  masterTypeList.append(typeList) \n",
    "\n",
    "fig = make_subplots(rows=no_of_row, cols=no_of_dia_per_col, specs=masterTypeList,subplot_titles= dag_job_ids)\n",
    "for ind in range(0,len(tmpdf['ts'])):\n",
    "\n",
    "    rlist = []\n",
    "\n",
    "    #Restructure data to have rlist = [i-th value from each column]\n",
    "    for cols in categories:\n",
    "        rlist.append(tmpdf[cols][ind])\n",
    "\n",
    "    pos_to_be_added = dag_job_ids.index(tmpdf['dag_job_id'][ind]);\n",
    "    #Add the i-th plot to the radar chart\n",
    "    fig.add_trace(go.Scatterpolar(\n",
    "      r=rlist,\n",
    "      theta=categories,\n",
    "      fill='toself',\n",
    "      opacity=opacity_list[ind%5],\n",
    "      name=str(tmpdf['pid'][ind]),\n",
    "    ),row=math.floor(pos_to_be_added/no_of_dia_per_col)+1,col=(pos_to_be_added%no_of_dia_per_col)+1)\n",
    "#     fig = px.line_polar(tmpdf, r=categories, theta=categories, line_close=True)\n",
    "    #Add interactive legends\n",
    "    fig.update_layout(\n",
    "      height=no_of_row*300,\n",
    "      polar=dict(\n",
    "        radialaxis=dict(\n",
    "          visible=True,\n",
    "          range=[0, 1]\n",
    "        )),\n",
    "      showlegend=True\n",
    "    )\n",
    "\n",
    "fig.show()\n"
   ]
  },
  {
   "cell_type": "markdown",
   "metadata": {},
   "source": [
    "### The following code block for calculating the standard deivations across indexed variables to replace channel counters."
   ]
  },
  {
   "cell_type": "code",
   "execution_count": 25,
   "metadata": {},
   "outputs": [
    {
     "name": "stdout",
     "output_type": "stream",
     "text": [
      "1\n",
      "0 0      3.587133\n",
      "1      2.820570\n",
      "2     26.697662\n",
      "3      6.041099\n",
      "4      7.370629\n",
      "5      0.000000\n",
      "6      0.627186\n",
      "7      0.317365\n",
      "8      0.524976\n",
      "9      8.000000\n",
      "10     5.198301\n",
      "11     0.000000\n",
      "12     0.445559\n",
      "Name: MemUnitBusy, dtype: float64\n",
      "1 0     0.039321\n",
      "1     0.085417\n",
      "2     2.647113\n",
      "3     1.412494\n",
      "4     3.718074\n",
      "5     0.150142\n",
      "6     0.000000\n",
      "7     0.049850\n",
      "8     0.118762\n",
      "9     0.064656\n",
      "10    1.000000\n",
      "11    2.027346\n",
      "12    0.000000\n",
      "13    0.052104\n",
      "Name: MemUnitBusy, dtype: float64\n",
      "2 0      4.186853\n",
      "1      3.016892\n",
      "2     16.334386\n",
      "3     12.411254\n",
      "4      2.968864\n",
      "5      0.841799\n",
      "6      1.000000\n",
      "7      0.471181\n",
      "8      0.184631\n",
      "9      0.387865\n",
      "10     3.000000\n",
      "11     6.060330\n",
      "12     0.000000\n",
      "13     0.163903\n",
      "Name: MemUnitBusy, dtype: float64\n",
      "3 0     0.008631\n",
      "1     0.015912\n",
      "2     1.544256\n",
      "3     1.000000\n",
      "4     3.417208\n",
      "5     0.516650\n",
      "6     0.000000\n",
      "7     0.057867\n",
      "8     0.113772\n",
      "9     0.047119\n",
      "10    0.000000\n",
      "11    2.085657\n",
      "12    0.000000\n",
      "13    0.013146\n",
      "Name: MemUnitBusy, dtype: float64\n",
      "4 0     12.626374\n",
      "1      5.609715\n",
      "2     51.589850\n",
      "3      5.478201\n",
      "4     14.616051\n",
      "5      3.000000\n",
      "6      1.127291\n",
      "7      1.226547\n",
      "8      1.879917\n",
      "9     15.000000\n",
      "10    10.986627\n",
      "11     1.000000\n",
      "12     1.117074\n",
      "Name: MemUnitBusy, dtype: float64\n",
      "5 0      6.131948\n",
      "1      2.224488\n",
      "2     23.759960\n",
      "3      6.564978\n",
      "4      7.643190\n",
      "5      2.000000\n",
      "6      0.315113\n",
      "7      0.460080\n",
      "8      1.253298\n",
      "9      9.000000\n",
      "10     7.725957\n",
      "11     0.000000\n",
      "12     0.381028\n",
      "Name: MemUnitBusy, dtype: float64\n",
      "6 0     0.000000\n",
      "1     0.039980\n",
      "2     0.000000\n",
      "3     0.046697\n",
      "4     1.000000\n",
      "5     0.000000\n",
      "6     0.027007\n",
      "7     0.016966\n",
      "8     0.021151\n",
      "9     0.000000\n",
      "10    2.000260\n",
      "11    0.000000\n",
      "12    0.000440\n",
      "Name: MemUnitBusy, dtype: float64\n",
      "7 0      1.613586\n",
      "1      2.745567\n",
      "2     18.450869\n",
      "3     13.868766\n",
      "4      2.745754\n",
      "5      1.502709\n",
      "6      0.000000\n",
      "7      0.515930\n",
      "8      0.266467\n",
      "9      0.216846\n",
      "10     5.000000\n",
      "11     3.610775\n",
      "12     0.000000\n",
      "13     0.158789\n",
      "Name: MemUnitBusy, dtype: float64\n",
      "8 0     0.000080\n",
      "1     0.000720\n",
      "2     0.000000\n",
      "3     0.000000\n",
      "4     1.000000\n",
      "5     0.000000\n",
      "6     0.007913\n",
      "7     0.000000\n",
      "8     0.019141\n",
      "9     0.000000\n",
      "10    2.014813\n",
      "11    0.000000\n",
      "12    0.000000\n",
      "Name: MemUnitBusy, dtype: float64\n",
      "9 0      6.718442\n",
      "1      4.927196\n",
      "2     50.488551\n",
      "3      5.528196\n",
      "4     14.297120\n",
      "5      0.000000\n",
      "6      0.794061\n",
      "7      0.536926\n",
      "8      1.500645\n",
      "9     15.000000\n",
      "10     9.552124\n",
      "11     0.000000\n",
      "12     1.092300\n",
      "Name: MemUnitBusy, dtype: float64\n",
      "134 3.5871328671328673\n",
      "134 2.8205697151424287\n",
      "134 26.697662337662337\n",
      "134 6.041099450274863\n",
      "134 7.370629370629371\n",
      "134 0.0\n",
      "134 0.6271864067966016\n",
      "134 0.31736526946107785\n",
      "134 0.5249756999327774\n",
      "134 8.0\n",
      "134 5.1983008495752125\n",
      "134 0.0\n",
      "134 0.44555879649978025\n",
      "134 0.03932067932067932\n",
      "134 0.08541729135432284\n",
      "134 2.647112887112887\n",
      "134 1.4124937531234383\n",
      "134 3.718073593073593\n",
      "134 0.15014152514152515\n",
      "134 0.0\n",
      "134 0.04985007496251874\n",
      "134 0.1187624750499002\n",
      "134 0.06465634708671718\n",
      "134 1.0\n",
      "134 2.027346326836582\n",
      "134 0.0\n",
      "134 0.05210372797378831\n",
      "134 4.186853146853147\n",
      "134 3.0168915542228887\n",
      "134 16.334385614385614\n",
      "134 12.411254372813593\n",
      "134 2.968864468864469\n",
      "134 0.8417991004497751\n",
      "134 1.0\n",
      "134 0.4711810761286024\n",
      "134 0.18463073852295409\n",
      "134 0.3878654094220672\n",
      "134 3.0\n",
      "134 6.060329835082459\n",
      "134 0.0\n",
      "134 0.16390298477644144\n",
      "134 0.008631368631368631\n",
      "134 0.015912043978010996\n",
      "134 1.5442557442557443\n",
      "134 1.0\n",
      "134 3.417207792207792\n",
      "134 0.5166500166500166\n",
      "134 0.0\n",
      "134 0.05786689988339164\n",
      "134 0.11377245508982035\n",
      "134 0.04711942006867608\n",
      "134 0.0\n",
      "134 2.085657171414293\n",
      "134 0.0\n",
      "134 0.013145802533264075\n",
      "134 12.626373626373626\n",
      "134 5.609715142428786\n",
      "134 51.58985014985015\n",
      "134 5.478200899550225\n",
      "134 14.616050616050616\n",
      "134 3.0\n",
      "134 1.1272905214059636\n",
      "134 1.2265469061876249\n",
      "134 1.87991678930252\n",
      "134 15.0\n",
      "134 10.986626686656672\n",
      "134 1.0\n",
      "134 1.117073560554601\n",
      "134 6.131948051948052\n",
      "134 2.224487756121939\n",
      "134 23.75996003996004\n",
      "134 6.564977511244378\n",
      "134 7.643190143190143\n",
      "134 2.0\n",
      "134 0.31511327669498584\n",
      "134 0.4600798403193613\n",
      "134 1.2532975418324521\n",
      "134 9.0\n",
      "134 7.725957021489255\n",
      "134 0.0\n",
      "134 0.38102848923162985\n",
      "134 0.0\n",
      "134 0.0399800099950025\n",
      "134 0.0\n",
      "134 0.04669665167416292\n",
      "134 1.0\n",
      "134 0.0\n",
      "134 0.027007329668499083\n",
      "134 0.016966067864271458\n",
      "134 0.021151278138115223\n",
      "134 0.0\n",
      "134 2.0002598700649674\n",
      "134 0.0\n",
      "134 0.0004395253126623247\n",
      "134 1.6135864135864135\n",
      "134 2.745567216391804\n",
      "134 18.45086913086913\n",
      "134 13.868765617191404\n",
      "134 2.7457542457542456\n",
      "134 1.5027086456771614\n",
      "134 0.0\n",
      "134 0.5159295352323838\n",
      "134 0.26646706586826346\n",
      "134 0.21684630548136843\n",
      "134 5.0\n",
      "134 3.6107746126936533\n",
      "134 0.0\n",
      "134 0.1587885084109162\n",
      "134 7.992007992007992e-05\n",
      "134 0.000719640179910045\n",
      "134 0.0\n",
      "134 0.0\n",
      "134 1.0\n",
      "134 0.0\n",
      "134 0.00791271031151091\n",
      "134 0.0\n",
      "134 0.019141412765029706\n",
      "134 0.0\n",
      "134 2.0148125937031485\n",
      "134 0.0\n",
      "134 0.0\n",
      "134 6.718441558441558\n",
      "134 4.9271964017991\n",
      "134 50.48855144855145\n",
      "134 5.528195902048975\n",
      "134 14.297119547119546\n",
      "134 0.0\n",
      "134 0.7940613026819924\n",
      "134 0.5369261477045908\n",
      "134 1.5006449737468432\n",
      "134 15.0\n",
      "134 9.552123938030984\n",
      "134 0.0\n",
      "134 1.0923003156590883\n"
     ]
    }
   ],
   "source": [
    "## Input processing and finding common features, and create a list of data frames for each model.\n",
    "# #target_list = ['score']\n",
    "\n",
    "## Create derived target metrics\n",
    "#For each file\n",
    "##MOVE target_list and filter_list to be a list that is returned from read_input\n",
    "target_list = ['ts', 'GPUBusy', 'VALUBusy', 'MemUnitBusy', 'VALUUtilization', 'ratio1', 'ratio2']\n",
    "filter_list = ['BeginNs', 'EndNs', 'DispatchNs', 'BeginNs', 'EndNs', 'CompleteNs', 'Index','queue-id','queue-index', 'pid', 'tid', 'grd', 'wgr', 'lds', 'vgpr', 'sgpr', 'fbar', 'sig', 'obj']\n",
    "\n",
    "###### Decide which input dictionary we want to use, the one with stdDev variables or individual channels?\n",
    "\n",
    "# selected_df_dict = copy.deepcopy(df_dict_input)\n",
    "selected_df_dict = copy.deepcopy(df_with_stdDev_vars)\n",
    "\n",
    "\n",
    "common_top_region_list = []\n",
    "df_dict_updated = {}\n",
    "cumulative_workload_id = 0\n",
    "feature_list = {} ######### CHECK\n",
    "region_list = {} ################### CHECK\n",
    "shorten_region_list = {} ################### CHECK\n",
    "model_index = 0  # wot\n",
    "print(len(workloads))\n",
    "for model_index in range(len(workloads)): #For each model\n",
    "    \n",
    "    df_subdir = {}\n",
    "    for wl in range(len(workloads[model_index])): #For each input parameter in a model\n",
    "        df_subdir[wl] = selected_df_dict[cumulative_workload_id].copy()\n",
    "        cumulative_workload_id += 1\n",
    "    #Find the common regions and features. Should be consistent within a model.\n",
    "    ## TODO: Make a dictionary of feature list per model\n",
    "    feature_list[model_index], region_list[model_index] = find_common_features_and_regions(df_subdir, filter_list, \"KernelName\")\n",
    "#     shorten_region_list[model_index] = region_list_parser(region_list[model_index].copy())\n",
    "    shorten_region_list[model_index] = region_list[model_index]\n",
    "    \n",
    "    cumulative_df = pd.DataFrame(columns=feature_list[model_index])\n",
    "    \n",
    "    for wl in range(len(workloads[model_index])): #For each input parameter in a model\n",
    "        #read in the file\n",
    "        df_original2 = df_subdir[wl].copy() #The dataset is already there. \n",
    "        ## REMOVE all columns that contain only 0s\n",
    "        df_original2 = df_original2.loc[:, (df_original2 != 0).any(axis=0)]\n",
    "\n",
    "        #Add new targets-- for AMD work, the target 'ts' is computed based on 'BeginNs', 'EndNs'\n",
    "        df_original2['ts'] = df_original2['EndNs'] - df_original2['BeginNs']\n",
    "        #df_original2['ratio1'] = 100*df_original2['VALUBusy'] / df_original2['GPUBusy'] #100*df_original2['GRBM_GUI_ACTIVE']/df_original2['GRBM_COUNT']\n",
    "        #df_original2['ratio2'] = 100*df_original2['VALUBusy'] / df_original2['MemUnitBusy'] #100*df_original2['GRBM_GUI_ACTIVE']/df_original2['GRBM_COUNT']\n",
    "#         df_original2['shortenKernelName'] = #region_list_parser(df_original2['KernelName'].copy())#region_list[model_index].copy())\n",
    "        \n",
    "        ## Just keep the top 5 regions according to their 'ts'\n",
    "#         df_original2.sort_values(by=['ts'], inplace=True, ascending=False)\n",
    "        \n",
    "        ## Only keep those rows that belong to the common region names\n",
    "#         for reg in shorten_region_list[model_index]:\n",
    "#             df_original2 = df_original2[(df_original2['shortenKernelName'] == reg )] \n",
    "        \n",
    "        ## Now, among those common regions, choose top 15 kernels.\n",
    "#         top_regions = (df_original2.head(15))['KernelName']\n",
    "#         region_list = top_regions\n",
    "        ## Now, create a list with the top kernel names \n",
    "        common_top_region_list.append([reg for reg in region_list[model_index]])\n",
    "\n",
    "        \n",
    "        # Now, appending all rows from different workloads to a stack workloads. Concat seems to be the way.\n",
    "        cumulative_df = cumulative_df.append(df_original2, ignore_index = True)\n",
    "        print(wl, df_original2['MemUnitBusy'])        \n",
    "\n",
    "    df_dict_updated[model_index] = cumulative_df\n",
    "        \n",
    "        \n",
    "for numx in df_dict_updated[0]['MemUnitBusy']: \n",
    "    print(len(df_dict_updated[0]['MemUnitBusy']), numx)\n",
    "\n",
    "# print(common_top_region_list[0])\n",
    "common_region_list = list(set(common_top_region_list[0]))\n",
    "# print(common_region_list)"
   ]
  },
  {
   "cell_type": "code",
   "execution_count": 26,
   "metadata": {
    "scrolled": true
   },
   "outputs": [
    {
     "name": "stdout",
     "output_type": "stream",
     "text": [
      "1\n",
      "Generating /Users/tanzima/Research/Stash/dashing-analysis-framework/data/aac/dash_format_aac_basic_lstm_adam_ts.csv...\n",
      "Generating /Users/tanzima/Research/Stash/dashing-analysis-framework/data/aac/dash_format_aac_basic_lstm_adam_GPUBusy.csv...\n",
      "Generating /Users/tanzima/Research/Stash/dashing-analysis-framework/data/aac/dash_format_aac_basic_lstm_adam_MemUnitBusy.csv...\n",
      "Done\n"
     ]
    }
   ],
   "source": [
    "## Input processing and finding common features\n",
    "\n",
    "#target_list = ['score']\n",
    "\n",
    "## Create derived target metrics\n",
    "#For each file\n",
    "# target_list = ['ts', 'GPUBusy', 'VALUBusy', 'MemUnitBusy', 'VALUUtilization', 'ratio1', 'ratio2']\n",
    "target_list = ['ts', 'GPUBusy', 'MemUnitBusy']\n",
    "\n",
    "# config_list = ['basic_lstm', 'lstm', 'rnn']\n",
    "config_list = ['pennent']\n",
    "# target_list = ['ts']\n",
    "cumulative_index = 0\n",
    "print(len(df_dict_updated))\n",
    "for model_index in range(len(df_dict_updated)):#range(len(workloads)): #For each model\n",
    "    df_original2 = df_dict_updated[model_index]\n",
    "    for target in target_list:\n",
    "        df_original3 = df_original2[feature_list[model_index]]\n",
    "        ##Make sure to fill up all Nan values with 0\n",
    "        df_original3 = df_original3.fillna(0)\n",
    "\n",
    "        #Add a target at a time to original3\n",
    "        df_original3[target] = df_original2[target]\n",
    "\n",
    "        outfilename = output_prefix[model_index] + '_' + target+'.csv'\n",
    "        print('Generating ' + outfilename + '...')\n",
    "        #generate_dash_data_format(df_original3, feature_list, target, region_list, outfilename, \"KernelName\")\n",
    "        ## TODO: PASS the following function feature_list[ind] and region_list[ind]\n",
    "        generate_dash_data_format(df_original3, feature_list[model_index], target, region_list[model_index], outfilename, \"KernelName\")\n",
    "        \n",
    "        #generate_config_block_for_this_input(config_list[model_index] + '_'+target, outfilename, target)\n",
    "print(\"Done\")"
   ]
  },
  {
   "cell_type": "code",
   "execution_count": 27,
   "metadata": {},
   "outputs": [],
   "source": [
    "########## AMD Q2 block-- generate 1 dash file per input config or Workload. This is so that we can correlate the resource\n",
    "#### importance values with FOM\n",
    "\n",
    "##MOVE target_list and filter_list to be a list that is returned from read_input\n",
    "target_list = ['ts', 'GPUBusy', 'VALUBusy', 'MemUnitBusy', 'VALUUtilization', 'ratio1', 'ratio2']\n",
    "filter_list = ['BeginNs', 'EndNs', 'DispatchNs', 'BeginNs', 'EndNs', 'CompleteNs', 'Index','queue-id','queue-index', 'pid', 'tid', 'grd', 'wgr', 'lds', 'vgpr', 'sgpr', 'fbar', 'sig', 'obj']\n",
    "\n",
    "###### Decide which input dictionary we want to use, the one with stdDev variables or individual channels?\n",
    "\n",
    "# selected_df_dict = copy.deepcopy(df_dict_input)\n",
    "selected_df_dict = copy.deepcopy(df_with_stdDev_vars)\n",
    "df_subdir = {}\n",
    "df_dict_updated = {}\n",
    "cumulative_workload_id = 0\n",
    "feature_list = {} ######### CHECK\n",
    "region_list = {} ################### CHECK\n",
    "shorten_region_list = {} ################### CHECK\n",
    "\n",
    "\n",
    "for model_index in range(len(workloads)): #For each model lstm, basic_lstm, rnn, ....\n",
    "    for wl in range(len(workloads[model_index])): #For each input parameter in a model\n",
    "        df_subdir[wl] = selected_df_dict[cumulative_workload_id].copy()\n",
    "        feature_list[wl], region_list[wl] = find_common_features_and_regions(df_subdir, filter_list, \"KernelName\")\n",
    "        shorten_region_list[wl] = region_list[wl]\n",
    "\n",
    "        df_original2 = df_subdir[wl].copy() #The dataset is already there. \n",
    "        ## REMOVE all columns that contain only 0s\n",
    "        df_original2 = df_original2.loc[:, (df_original2 != 0).any(axis=0)]\n",
    "\n",
    "        #Add new targets-- for AMD work, the target 'ts' is computed based on 'BeginNs', 'EndNs'\n",
    "        df_original2['ts'] = df_original2['EndNs'] - df_original2['BeginNs']\n",
    "        df_original2['ratio1'] = 100*df_original2['VALUBusy'] / df_original2['GPUBusy'] #100*df_original2['GRBM_GUI_ACTIVE']/df_original2['GRBM_COUNT']\n",
    "        df_original2['ratio2'] = 100*df_original2['VALUBusy'] / df_original2['MemUnitBusy'] #100*df_original2['GRBM_GUI_ACTIVE']/df_original2['GRBM_COUNT']\n",
    "\n",
    "        #generate_dash_data_format(df_original2, feature_list[wl], \"ts\", region_list[wl], \"sample_dash.csv\", \"KernelName\")\n",
    "        df_dict_updated[cumulative_workload_id] = df_original2#.deepcopy()\n",
    "\n",
    "        cumulative_workload_id += 1\n",
    "\n"
   ]
  },
  {
   "cell_type": "code",
   "execution_count": 28,
   "metadata": {},
   "outputs": [
    {
     "name": "stdout",
     "output_type": "stream",
     "text": [
      "0      3.587133\n",
      "1      2.820570\n",
      "2     26.697662\n",
      "3      6.041099\n",
      "4      7.370629\n",
      "5      0.000000\n",
      "6      0.627186\n",
      "7      0.317365\n",
      "8      0.524976\n",
      "9      8.000000\n",
      "10     5.198301\n",
      "11     0.000000\n",
      "12     0.445559\n",
      "Name: MemUnitBusy, dtype: float64 0      3.587133\n",
      "1      2.820570\n",
      "2     26.697662\n",
      "3      6.041099\n",
      "4      7.370629\n",
      "5      0.000000\n",
      "6      0.627186\n",
      "7      0.317365\n",
      "8      0.524976\n",
      "9      8.000000\n",
      "10     5.198301\n",
      "11     0.000000\n",
      "12     0.445559\n",
      "Name: MemUnitBusy, dtype: float64\n"
     ]
    }
   ],
   "source": [
    "print (df_dict_updated[0]['MemUnitBusy'], df_dict_updated[0]['MemUnitBusy'])\n",
    "    \n",
    "            "
   ]
  },
  {
   "cell_type": "code",
   "execution_count": 29,
   "metadata": {},
   "outputs": [
    {
     "name": "stdout",
     "output_type": "stream",
     "text": [
      "0      3.587133\n",
      "1      2.820570\n",
      "2     26.697662\n",
      "3      6.041099\n",
      "4      7.370629\n",
      "5      0.000000\n",
      "6      0.627186\n",
      "7      0.317365\n",
      "8      0.524976\n",
      "9      8.000000\n",
      "10     5.198301\n",
      "11     0.000000\n",
      "12     0.445559\n",
      "Name: MemUnitBusy, dtype: float64 0      3.587133\n",
      "1      2.820570\n",
      "2     26.697662\n",
      "3      6.041099\n",
      "4      7.370629\n",
      "5      0.000000\n",
      "6      0.627186\n",
      "7      0.317365\n",
      "8      0.524976\n",
      "9      8.000000\n",
      "10     5.198301\n",
      "11     0.000000\n",
      "12     0.445559\n",
      "Name: MemUnitBusy, dtype: float64\n"
     ]
    }
   ],
   "source": [
    "print (df_dict_input[0]['MemUnitBusy'], df_dict_input[0]['MemUnitBusy'])"
   ]
  },
  {
   "cell_type": "code",
   "execution_count": 30,
   "metadata": {},
   "outputs": [
    {
     "name": "stdout",
     "output_type": "stream",
     "text": [
      "{0: ['BiasGradNHWC_SharedAtomics', 'BiasNHWCKernel', 'Cijk_Ailk_Bjlk_SB_MT128x128x8_SE_1LDSB0_APM1_AF0EM1_AF1EM1_AMAS2_ASBE01_ASCE01_ASEM1_BL0_DTL0_DVO0_EPS0_FL0_GRVW4_GSU1_ISA000_IU1_K1_KLS_LBSPP0_LPA0_LPB0_LDL1_LRVW4_MDA2_NLCA1_NLCB1_ONLL1_PBD0_PK0_PGR1_PLR1_RK0_SIA1_SU32_SUM0_SUS256_SRVW0_SVW4_SNLL0_TT8_8_TLDS0_USFGRO0_VAW1_VS1_VW4_WSGRA0_WSGRB0_WG16_16_1_WGM1.kd', 'Cijk_Ailk_Bljk_SB_MT64x64x16_SE_1LDSB0_APM1_AF0EM1_AF1EM1_AMAS3_ASBE01_ASCE01_ASEM1_BL1_DTL0_DVO0_EPS1_FL1_GRVW4_GSU1_ISA908_IU1_K1_KLA_LBSPP0_LPA0_LPB4_LDL1_LRVW4_MDA2_NLCA1_NLCB1_ONLL1_PBD0_PK0_PGR1_PLR1_RK0_SIA1_SU32_SUM0_SUS256_SRVW0_SVW4_SNLL1_TT4_8_TLDS0_USFGRO0_VAW1_VS1_VW4_WSGRA0_WSGRB0_WG16_8_2_WGM8.kd', 'Cijk_Alik_Bljk_SB_MT64x64x16_SE_1LDSB0_APM1_AF0EM1_AF1EM1_AMAS3_ASBE01_ASCE01_ASEM1_BL1_DTL0_DVO0_EPS1_FL1_GRVW4_GSU1_ISA908_IU1_K1_KLA_LBSPP0_LPA4_LPB4_LDL1_LRVW4_MDA2_NLCA1_NLCB1_ONLL1_PBD0_PK0_PGR1_PLR1_RK0_SIA1_SU32_SUM0_SUS256_SRVW0_SVW4_SNLL1_TT4_4_TLDS0_USFGRO1_VAW1_VS1_VW4_WSGRA0_WSGRB0_WG16_16_1_WGM8.kd', 'ColumnReduceKernel', 'CwiseFusedMulAdd2Kernel', 'CwiseFusedMulAddKernel', 'EigenMetaKernel', 'FillPhiloxRandomKernelLaunch', 'SplitOpKernel', '__amd_rocclr_copyBuffer.kd', '__amd_rocclr_fillBuffer.kd'], 1: ['BiasGradNHWC_SharedAtomics', 'BiasNHWCKernel', 'ColumnReduceKernel', 'CwiseFusedMulAdd2Kernel', 'CwiseFusedMulAddKernel', 'EigenMetaKernel', 'FillPhiloxRandomKernelLaunch', 'SplitOpKernel', '__amd_rocclr_copyBuffer.kd', '__amd_rocclr_fillBuffer.kd'], 2: ['BiasGradNHWC_SharedAtomics', 'BiasNHWCKernel', 'ColumnReduceKernel', 'CwiseFusedMulAdd2Kernel', 'CwiseFusedMulAddKernel', 'EigenMetaKernel', 'FillPhiloxRandomKernelLaunch', 'SplitOpKernel', '__amd_rocclr_copyBuffer.kd', '__amd_rocclr_fillBuffer.kd'], 3: ['BiasGradNHWC_SharedAtomics', 'BiasNHWCKernel', 'ColumnReduceKernel', 'CwiseFusedMulAdd2Kernel', 'CwiseFusedMulAddKernel', 'EigenMetaKernel', 'FillPhiloxRandomKernelLaunch', 'SplitOpKernel', '__amd_rocclr_copyBuffer.kd', '__amd_rocclr_fillBuffer.kd'], 4: ['BiasGradNHWC_SharedAtomics', 'BiasNHWCKernel', 'ColumnReduceKernel', 'CwiseFusedMulAdd2Kernel', 'CwiseFusedMulAddKernel', 'EigenMetaKernel', 'FillPhiloxRandomKernelLaunch', 'SplitOpKernel', '__amd_rocclr_copyBuffer.kd', '__amd_rocclr_fillBuffer.kd'], 5: ['BiasGradNHWC_SharedAtomics', 'BiasNHWCKernel', 'ColumnReduceKernel', 'CwiseFusedMulAdd2Kernel', 'CwiseFusedMulAddKernel', 'EigenMetaKernel', 'FillPhiloxRandomKernelLaunch', 'SplitOpKernel', '__amd_rocclr_copyBuffer.kd', '__amd_rocclr_fillBuffer.kd'], 6: ['BiasGradNHWC_SharedAtomics', 'BiasNHWCKernel', 'ColumnReduceKernel', 'CwiseFusedMulAdd2Kernel', 'CwiseFusedMulAddKernel', 'EigenMetaKernel', 'FillPhiloxRandomKernelLaunch', 'SplitOpKernel', '__amd_rocclr_copyBuffer.kd', '__amd_rocclr_fillBuffer.kd'], 7: ['BiasGradNHWC_SharedAtomics', 'BiasNHWCKernel', 'ColumnReduceKernel', 'CwiseFusedMulAdd2Kernel', 'CwiseFusedMulAddKernel', 'EigenMetaKernel', 'FillPhiloxRandomKernelLaunch', 'SplitOpKernel', '__amd_rocclr_copyBuffer.kd', '__amd_rocclr_fillBuffer.kd'], 8: ['BiasGradNHWC_SharedAtomics', 'BiasNHWCKernel', 'ColumnReduceKernel', 'CwiseFusedMulAdd2Kernel', 'CwiseFusedMulAddKernel', 'EigenMetaKernel', 'FillPhiloxRandomKernelLaunch', 'SplitOpKernel', '__amd_rocclr_copyBuffer.kd', '__amd_rocclr_fillBuffer.kd'], 9: ['BiasGradNHWC_SharedAtomics', 'BiasNHWCKernel', 'ColumnReduceKernel', 'CwiseFusedMulAdd2Kernel', 'CwiseFusedMulAddKernel', 'EigenMetaKernel', 'FillPhiloxRandomKernelLaunch', 'SplitOpKernel', '__amd_rocclr_copyBuffer.kd', '__amd_rocclr_fillBuffer.kd']}\n"
     ]
    },
    {
     "data": {
      "text/plain": [
       "13"
      ]
     },
     "execution_count": 30,
     "metadata": {},
     "output_type": "execute_result"
    }
   ],
   "source": [
    "for ind in range(len(workloads)):\n",
    "    print(region_list)\n",
    "len(region_list[0])"
   ]
  },
  {
   "cell_type": "code",
   "execution_count": 31,
   "metadata": {},
   "outputs": [
    {
     "name": "stdout",
     "output_type": "stream",
     "text": [
      "13\n",
      "14\n",
      "14\n",
      "14\n",
      "13\n",
      "13\n",
      "13\n",
      "14\n",
      "13\n",
      "13\n"
     ]
    }
   ],
   "source": [
    "for key, val in df_dict_updated.items():\n",
    "    print(len(val))"
   ]
  },
  {
   "cell_type": "code",
   "execution_count": 32,
   "metadata": {},
   "outputs": [
    {
     "name": "stdout",
     "output_type": "stream",
     "text": [
      "  player  points  extra\n",
      "0      A      12      1\n",
      "1      B       5      5\n",
      "2      A      13      3\n",
      "3      B      17      7\n",
      "4      B      27      2\n",
      "  player     points     extra\n",
      "0      A  12.500000  2.000000\n",
      "1      B  16.333333  4.666667\n"
     ]
    }
   ],
   "source": [
    "import pandas as pd\n",
    "\n",
    "#create two DataFrames\n",
    "\n",
    "df1 = pd.DataFrame({'player': ['A', 'B', 'A', 'B', 'B'],\n",
    "                    'points':[12, 5, 13, 17, 27],\n",
    "                   'extra':[1, 5, 3, 7, 2]})\n",
    "\n",
    "df2 = pd.DataFrame({'player': ['F', 'G', 'H', 'I', 'J'],\n",
    "                    'points':[24, 26, 27, 27, 12]})\n",
    "\n",
    "#\"stack\" the two DataFrames together\n",
    "df3 = pd.concat([df1,df2], axis=0, ignore_index=True)\n",
    "\n",
    "print (df1)\n",
    "# A = df1.append(df2, ignore_index=True)\n",
    "# print(A.append(df3, ignore_index=True))\n",
    "\n",
    "# df = df1.groupby(['player']).agg({'extra':'mean','points':'mean'})\n",
    "df = df1.groupby(['player']).agg(func='mean')\n",
    "df = df.reset_index()\n",
    "print (df)\n",
    "\n",
    "# print(df3)"
   ]
  },
  {
   "cell_type": "code",
   "execution_count": 33,
   "metadata": {
    "scrolled": true
   },
   "outputs": [],
   "source": [
    "generate_dash_data_format(df_dict_updated[0], feature_list[0], \"ts\", region_list[0], \"sample_dash.csv\", \"KernelName\")"
   ]
  },
  {
   "cell_type": "code",
   "execution_count": 34,
   "metadata": {},
   "outputs": [
    {
     "name": "stdout",
     "output_type": "stream",
     "text": [
      "10\n"
     ]
    }
   ],
   "source": [
    "print(len(df_dict_updated))"
   ]
  },
  {
   "cell_type": "code",
   "execution_count": 35,
   "metadata": {},
   "outputs": [],
   "source": [
    "def generate_config_block_for_this_input(config_name, datafilename, target):\n",
    "    print(config_name + ':')\n",
    "    print('    data: ', datafilename)\n",
    "    print('    tasks: ')\n",
    "    print('      - modules.resource_score.compute_rsm_task_all_regions')\n",
    "    print('      - viz.barchart.create_rsm_error_barchart')\n",
    "    print('      - viz.barchart.create_rsm_percent_barchart')\n",
    "    print('      - viz.sunburst2.sunburst')\n",
    "    print('      - viz.linechart3.plot_raw_target_values')\n",
    "    print('      - viz.linechart3.raw_values_per_config')\n",
    "    print('    name: ', target)\n",
    "    print('    target: ', target)\n",
    "    \n",
    "    if target == 'ts':\n",
    "        print('    compute_target: modules.compute_target.compute_runtime')\n",
    "    else:\n",
    "        print('    compute_target: modules.compute_target.compute_inverse_target')\n",
    "    print('##############################')\n",
    "   \n",
    "\n",
    "    "
   ]
  },
  {
   "cell_type": "code",
   "execution_count": null,
   "metadata": {
    "scrolled": true
   },
   "outputs": [],
   "source": [
    "## AMD Q2: OUTPUT PROESSING: 1 file per input per model.\n",
    "\n",
    "#target_list = ['score']\n",
    "\n",
    "## Create derived target metrics\n",
    "#For each file\n",
    "filelist = ['s30-b32-l128', 's30-b128-l128', 's30-b32-l512', 's30-b128-l512', 's30-b32-l1024','s30-b128-l1024']\n",
    "#target_list = ['ts', 'GPUBusy', 'VALUBusy', 'MemUnitBusy', 'VALUUtilization', 'ratio1', 'ratio2']\n",
    "target_list = ['ts']\n",
    "cumulative_index = 0\n",
    "for model_index in range(len(df_dict_updated)):#range(len(workloads)): #For each model\n",
    "    df_original2 = df_dict_updated[model_index]\n",
    "    for target in target_list:\n",
    "        df_original3 = df_original2[feature_list[model_index]]\n",
    "        ##Make sure to fill up all Nan values with 0\n",
    "        df_original3 = df_original3.fillna(0)\n",
    "\n",
    "        #Add a target at a time to original3\n",
    "        df_original3[target] = df_original2[target]\n",
    "\n",
    "        #\n",
    "        outfilename = output_prefix[ind] + '_' + target +'_'+filelist[model_index]+'.csv'\n",
    "        #print('Generating ' + outfilename + '...')\n",
    "        generate_dash_data_format(df_original3, feature_list, target, region_list, outfilename, \"KernelName\")\n",
    "        ## TODO: PASS the following function feature_list[ind] and region_list[ind]\n",
    "        #generate_dash_data_format(df_original3, feature_list[model_index], target, region_list[model_index], outfilename, \"KernelName\")\n",
    "        print('    - ', filelist[model_index])\n",
    "        #generate_config_block_for_this_input(filelist[model_index], outfilename, target)\n",
    "print(\"Done\")"
   ]
  },
  {
   "cell_type": "code",
   "execution_count": null,
   "metadata": {},
   "outputs": [],
   "source": [
    "########## AMD Q2 -- feature compression and feature correaltion analysis --- \n",
    "## input: df_dict_updated --> each model has all input combined into it.\n",
    "colors=['red', 'blue', 'green', 'orange']\n",
    "\n",
    "for model_index in range(len(df_dict_updated)):#range(len(workloads)): #For each model\n",
    "    df_original2 = df_dict_updated[model_index]\n",
    "    plot_df(df_original2, 'ts', colors[model_index])\n"
   ]
  },
  {
   "cell_type": "code",
   "execution_count": null,
   "metadata": {},
   "outputs": [],
   "source": [
    "def plot_df(input_df, target, c):\n",
    "    fig, ax = plt.subplots()\n",
    "    input_df[target].plot(ax=ax, kind='bar', color = c)"
   ]
  },
  {
   "cell_type": "code",
   "execution_count": null,
   "metadata": {},
   "outputs": [],
   "source": [
    "# Returns info sieve output with nh components    \n",
    "def infoSieveX(X,nh):\n",
    "        identifier= 'Using Information Sieve %d Components'%nh\n",
    "        s = linearsieve.Sieve(n_hidden=nh, verbose=0).fit(X + 0.05*np.random.randn(X.shape[0],X.shape[1]))\n",
    "        X_lat = s.transform(X) \n",
    "        return X_lat"
   ]
  },
  {
   "cell_type": "code",
   "execution_count": null,
   "metadata": {},
   "outputs": [],
   "source": [
    "df2 = df_dict_updated[0]\n",
    "col_std_list = [ col for col in df2.columns if '_std' in col]\n",
    "for c in col_std_list:\n",
    "    print(c)"
   ]
  },
  {
   "cell_type": "code",
   "execution_count": null,
   "metadata": {},
   "outputs": [],
   "source": [
    "df = pd.read_csv('in.txt', sep=\" \")\n",
    "file1 = open(\"event_names_amd.txt\",\"w\")\n",
    "\n",
    "for k in df:\n",
    "    #print (k)\n",
    "    file1.write(k+\"\\n\")\n",
    "file1.close()\n",
    "        "
   ]
  },
  {
   "cell_type": "code",
   "execution_count": null,
   "metadata": {},
   "outputs": [],
   "source": [
    "############## Special processing block for Q2: AMD report\n",
    "##Input: res_imp_rnn.csv file which contains resource importance for all the kernels. \n"
   ]
  },
  {
   "cell_type": "code",
   "execution_count": null,
   "metadata": {},
   "outputs": [],
   "source": []
  },
  {
   "cell_type": "code",
   "execution_count": 34,
   "metadata": {},
   "outputs": [],
   "source": [
    "def read_fom_lstm_output(filename):\n",
    "\n",
    "    ###### Read and parse FOM for LSTM / RNN benchmark's output\n",
    "    total = 0.0\n",
    "    count = 0\n",
    "    with open(filename, \"r\") as fom_file:\n",
    "        read_next_line = 0\n",
    "        for line in fom_file:\n",
    "    #         print(line)\n",
    "            if read_next_line == 1: #If I am supposed to read this line \n",
    "                total += np.float((line.split())[4])\n",
    "                read_next_line = 0\n",
    "                count += 1\n",
    "            elif \"Forward + Backward\" in line:\n",
    "                read_next_line = 1\n",
    "    return 1.0/(total/count)\n",
    "        \n",
    "        "
   ]
  },
  {
   "cell_type": "code",
   "execution_count": 11,
   "metadata": {},
   "outputs": [
    {
     "name": "stdout",
     "output_type": "stream",
     "text": [
      "'prof-mi100-basic_lstm-adam-b4-l512-s25.csv',\n",
      "'prof-mi100-basic_lstm-adam-b4-l64-s25.csv',\n",
      "'prof-mi100-basic_lstm-adam-b8-l256-s25.csv',\n",
      "'prof-mi100-basic_lstm-adam-b8-l64-s25.csv',\n",
      "'prof-mi100-basic_lstm-adam-b8-l1024-s25.csv',\n",
      "'prof-mi100-basic_lstm-adam-b8-l512-s25.csv',\n",
      "'prof-mi100-basic_lstm-adam-b8-l32-s25.csv',\n",
      "'prof-mi100-basic_lstm-adam-b4-l256-s25.csv',\n",
      "'prof-mi100-basic_lstm-adam-b4-l32-s25.csv',\n",
      "'prof-mi100-basic_lstm-adam-b4-l1024-s25.csv',\n"
     ]
    }
   ],
   "source": [
    "# read_fom_lstm_output('/Users/tanzima/Research/AMD/DATA/mi-50/DATA-aac-july21/results')\n",
    "import os\n",
    "model_names = ['basic_lstm', 'rnn', 'lstm']\n",
    "for filename in os.listdir('/Users/tanzima/Research/AMD/DATA/mi-100/prof/adam/basic_lstm'):\n",
    "    print (\"'\"+filename+\"',\")\n",
    "    "
   ]
  },
  {
   "cell_type": "code",
   "execution_count": null,
   "metadata": {},
   "outputs": [],
   "source": []
  }
 ],
 "metadata": {
  "kernelspec": {
   "display_name": "Python 3 (ipykernel)",
   "language": "python",
   "name": "python3"
  },
  "language_info": {
   "codemirror_mode": {
    "name": "ipython",
    "version": 3
   },
   "file_extension": ".py",
   "mimetype": "text/x-python",
   "name": "python",
   "nbconvert_exporter": "python",
   "pygments_lexer": "ipython3",
   "version": "3.8.10"
  }
 },
 "nbformat": 4,
 "nbformat_minor": 4
}
