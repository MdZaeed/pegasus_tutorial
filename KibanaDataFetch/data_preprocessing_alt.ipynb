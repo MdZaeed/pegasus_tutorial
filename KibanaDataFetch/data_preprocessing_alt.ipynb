{
 "cells": [
  {
   "cell_type": "code",
   "execution_count": 16,
   "metadata": {},
   "outputs": [
    {
     "name": "stdout",
     "output_type": "stream",
     "text": [
      "Populating the interactive namespace from numpy and matplotlib\n"
     ]
    },
    {
     "name": "stderr",
     "output_type": "stream",
     "text": [
      "/home/mohammad/.local/lib/python3.8/site-packages/IPython/core/magics/pylab.py:159: UserWarning:\n",
      "\n",
      "pylab import has clobbered these variables: ['copy', 'f']\n",
      "`%matplotlib` prevents importing * from pylab and numpy\n",
      "\n"
     ]
    }
   ],
   "source": [
    "%matplotlib inline\n",
    "%pylab inline\n"
   ]
  },
  {
   "cell_type": "code",
   "execution_count": 17,
   "metadata": {},
   "outputs": [],
   "source": [
    "pylab.rcParams['figure.figsize'] = (8, 6)\n",
    "matplotlib.rcParams.update({'font.size':16})"
   ]
  },
  {
   "cell_type": "code",
   "execution_count": 18,
   "metadata": {},
   "outputs": [],
   "source": [
    "import sys\n",
    "import os\n",
    "from collections import defaultdict\n",
    "import numpy as np\n",
    "import pandas as pd\n",
    "import json\n",
    "from plotly.subplots import make_subplots\n",
    "import math"
   ]
  },
  {
   "cell_type": "code",
   "execution_count": 19,
   "metadata": {},
   "outputs": [],
   "source": [
    "def generate_dash_data_format(df, feature_list, target, regions, outfilename, region_column=\"app\"):\n",
    "    feature_list_and_target = feature_list[:]\n",
    "    feature_list_and_target.append(target)\n",
    "    \n",
    "    with open(outfilename, 'w') as txtfile:   \n",
    "        s = ','\n",
    "        s += ','.join([str(item) for item in regions])\n",
    "        s += '\\n'\n",
    "        txtfile.write(s)\n",
    "\n",
    "        for feat in feature_list_and_target:\n",
    "            if feat == region_column:\n",
    "                continue\n",
    "            row=feat# + \",\\\"\"\n",
    "            for reg in regions:\n",
    "                row += \",\\\"\"\n",
    "                ## GEt all rows that have the same kernel/region name\n",
    "                df_tmp = df[(df[region_column] == reg )] # DEBUG for empty values              \n",
    "                vals = []\n",
    "                \n",
    "                ## Now, make their values into a list\n",
    "                [vals.append(v) for v in df_tmp[feat].values]\n",
    "                s = ','.join([str(v) for v in vals])\n",
    "                row += s + \"\\\"\"\n",
    "            row += '\\n'\n",
    "            txtfile.write(row)    "
   ]
  },
  {
   "cell_type": "code",
   "execution_count": 20,
   "metadata": {},
   "outputs": [],
   "source": [
    "def func(var1, var2):\n",
    "    return (var1 / var2) ##This function can create an arbitrary combination of the two variables passed."
   ]
  },
  {
   "cell_type": "code",
   "execution_count": 21,
   "metadata": {},
   "outputs": [],
   "source": [
    "################### AMD Q2: AAC data on MI-50\n",
    "import os.path\n",
    "from os import path\n",
    "\n",
    "def read_input_manual4(dirname, model, optimizer, filelist):\n",
    "    input_prefix = [dirname+'/'] \n",
    "    \n",
    "    workloads = dict()\n",
    "    \n",
    "    for arch in range(len(input_prefix)):\n",
    "        print('ARCH: ', arch, input_prefix[arch])\n",
    "        input_file_list = []\n",
    "        for ind in range(len(filelist)):\n",
    "            filename = input_prefix[arch] + filelist[ind]\n",
    "            print('IND: ', ind, filename)\n",
    "            if path.exists(filename):\n",
    "                input_file_list.append(filename)\n",
    "                filename=\"\"\n",
    "            else:\n",
    "                print(filename, \"didn't exist\")\n",
    "        workloads[arch] = input_file_list\n",
    "    ##TODO: Change this\n",
    "    output_prefix = ['/home/Mohammad/pegasus_tutorial/spider-output/dash_format_'+model+'_'+optimizer]#,\n",
    "#                     '/Users/tanzima/Research/Stash/dashing-analysis-framework/data/gilgamesh/dash_format_aac_basic_lstm',\n",
    "#                     '/Users/tanzima/Research/Stash/dashing-analysis-framework/data/gilgamesh/dash_format_aac_rnn']\n",
    "\n",
    "    return workloads, output_prefix # target_list and filter_list\n",
    "    "
   ]
  },
  {
   "cell_type": "code",
   "execution_count": 22,
   "metadata": {},
   "outputs": [
    {
     "name": "stdout",
     "output_type": "stream",
     "text": [
      "ARCH:  0 /home/mohammad/pegasus_tutorial/KibanaDataFetch/kickstart/\n",
      "IND:  0 /home/mohammad/pegasus_tutorial/KibanaDataFetch/kickstart/0d3a50e8-d8f9-4ad1-a3d0-cceba3c9e6e1\n",
      "IND:  1 /home/mohammad/pegasus_tutorial/KibanaDataFetch/kickstart/e8c30de5-6bb2-4b38-a000-2b719e688e38\n",
      "IND:  2 /home/mohammad/pegasus_tutorial/KibanaDataFetch/kickstart/785cfe07-b8d5-430b-a5b3-80dd09214a43\n",
      "IND:  3 /home/mohammad/pegasus_tutorial/KibanaDataFetch/kickstart/b2792092-5381-4e2e-8c21-8ec114e6b92a\n",
      "IND:  4 /home/mohammad/pegasus_tutorial/KibanaDataFetch/kickstart/42e89572-5a05-431b-9f53-db62f02fceb5\n",
      "IND:  5 /home/mohammad/pegasus_tutorial/KibanaDataFetch/kickstart/f7819f47-2160-47da-b400-f0dde303b439\n",
      "IND:  6 /home/mohammad/pegasus_tutorial/KibanaDataFetch/kickstart/12de78bb-b1de-4397-997e-71883555a809\n",
      "IND:  7 /home/mohammad/pegasus_tutorial/KibanaDataFetch/kickstart/7c65f6e7-a884-46cc-bcc9-508914fe7da8\n",
      "IND:  8 /home/mohammad/pegasus_tutorial/KibanaDataFetch/kickstart/ba56031f-b37f-403e-9151-6ef01ff5ef6d\n",
      "IND:  9 /home/mohammad/pegasus_tutorial/KibanaDataFetch/kickstart/ecb61b22-672f-4f94-9cb1-ce9ba389ae00\n",
      "IND:  10 /home/mohammad/pegasus_tutorial/KibanaDataFetch/kickstart/29a158f5-3d8d-4b3e-b76a-c0aea646b3ac\n",
      "IND:  11 /home/mohammad/pegasus_tutorial/KibanaDataFetch/kickstart/49759244-07d3-4f0c-9460-4347ca309f39\n",
      "{0: ['/home/mohammad/pegasus_tutorial/KibanaDataFetch/kickstart/0d3a50e8-d8f9-4ad1-a3d0-cceba3c9e6e1', '/home/mohammad/pegasus_tutorial/KibanaDataFetch/kickstart/e8c30de5-6bb2-4b38-a000-2b719e688e38', '/home/mohammad/pegasus_tutorial/KibanaDataFetch/kickstart/785cfe07-b8d5-430b-a5b3-80dd09214a43', '/home/mohammad/pegasus_tutorial/KibanaDataFetch/kickstart/b2792092-5381-4e2e-8c21-8ec114e6b92a', '/home/mohammad/pegasus_tutorial/KibanaDataFetch/kickstart/42e89572-5a05-431b-9f53-db62f02fceb5', '/home/mohammad/pegasus_tutorial/KibanaDataFetch/kickstart/f7819f47-2160-47da-b400-f0dde303b439', '/home/mohammad/pegasus_tutorial/KibanaDataFetch/kickstart/12de78bb-b1de-4397-997e-71883555a809', '/home/mohammad/pegasus_tutorial/KibanaDataFetch/kickstart/7c65f6e7-a884-46cc-bcc9-508914fe7da8', '/home/mohammad/pegasus_tutorial/KibanaDataFetch/kickstart/ba56031f-b37f-403e-9151-6ef01ff5ef6d', '/home/mohammad/pegasus_tutorial/KibanaDataFetch/kickstart/ecb61b22-672f-4f94-9cb1-ce9ba389ae00', '/home/mohammad/pegasus_tutorial/KibanaDataFetch/kickstart/29a158f5-3d8d-4b3e-b76a-c0aea646b3ac', '/home/mohammad/pegasus_tutorial/KibanaDataFetch/kickstart/49759244-07d3-4f0c-9460-4347ca309f39']}\n"
     ]
    }
   ],
   "source": [
    "model_name = 'kickstart'\n",
    "opt = '1000genome'\n",
    "filelist=[\n",
    "    '0d3a50e8-d8f9-4ad1-a3d0-cceba3c9e6e1',\n",
    "    'e8c30de5-6bb2-4b38-a000-2b719e688e38',\n",
    "    '785cfe07-b8d5-430b-a5b3-80dd09214a43',\n",
    "    'b2792092-5381-4e2e-8c21-8ec114e6b92a',\n",
    "    '42e89572-5a05-431b-9f53-db62f02fceb5',\n",
    "    'f7819f47-2160-47da-b400-f0dde303b439',\n",
    "    '12de78bb-b1de-4397-997e-71883555a809',\n",
    "    '7c65f6e7-a884-46cc-bcc9-508914fe7da8',\n",
    "    'ba56031f-b37f-403e-9151-6ef01ff5ef6d',\n",
    "    'ecb61b22-672f-4f94-9cb1-ce9ba389ae00',\n",
    "    '29a158f5-3d8d-4b3e-b76a-c0aea646b3ac',\n",
    "    '49759244-07d3-4f0c-9460-4347ca309f39'\n",
    "\n",
    "    # 'kickSampleNamd.xlsx'\n",
    "    # 'e8c30de5-6bb2-4b38-a000-2b719e688e38',#fast one\n",
    "    # '29a158f5-3d8d-4b3e-b76a-c0aea646b3ac' #slow one\n",
    "    # '12de78bb-b1de-4397-997e-71883555a809',\n",
    "    # '29a158f5-3d8d-4b3e-b76a-c0aea646b3ac',\n",
    "    # 'ecb61b22-672f-4f94-9cb1-ce9ba389ae00',\n",
    "    # '49759244-07d3-4f0c-9460-4347ca309f39',\n",
    "    # '7c65f6e7-a884-46cc-bcc9-508914fe7da8',\n",
    "    # 'ba56031f-b37f-403e-9151-6ef01ff5ef6d',\n",
    "    # 'f7819f47-2160-47da-b400-f0dde303b439',\n",
    "    # '0d3a50e8-d8f9-4ad1-a3d0-cceba3c9e6e1',\n",
    "    # 'b2792092-5381-4e2e-8c21-8ec114e6b92a',\n",
    "    # 'e8c30de5-6bb2-4b38-a000-2b719e688e38'\n",
    "\n",
    "    # '7dc85a61-0e02-4d18-add5-600052ace052'\n",
    "]\n",
    "dirname = '/home/mohammad/pegasus_tutorial/KibanaDataFetch/kickstart'\n",
    "# workloads, output_prefix = read_input_manual4('/Users/tanzima/Research/AMD/DATA/mi-50/DATA-aac-july21/gd/prof/', 'basic_lstm', \"gd\", filelist)\n",
    "workloads, output_prefix = read_input_manual4(dirname, model_name, opt, filelist)\n",
    "\n",
    "\n",
    "########## Adam optimizer\n",
    "# filelist = ['s25-b2-l1024.csv', 's25-b2-l1536.csv', 's25-b32-l2048.csv', 's25-b32-l2560.csv',  's25-b32-l4096.csv', 's25-b64-l2048.csv']#, 'rnn/out-rnn-rnn-s30-b32-l128.csv']\n",
    "# workloads, output_prefix = read_input_manual4('/Users/tanzima/Research/AMD/DATA/mi-50/DATA-aac-july21/adam/prof/', 'basic_lstm', \"adam\", filelist)\n",
    "# workloads, output_prefix = read_input_pennant_mi100()\n",
    "print(workloads)\n",
    "#print(pd.read_csv(workloads[0][0]))"
   ]
  },
  {
   "cell_type": "code",
   "execution_count": 23,
   "metadata": {},
   "outputs": [],
   "source": [
    "def region_list_parser(region_list):\n",
    "    for i, kernelName in enumerate(region_list):\n",
    "        templateIdx = kernelName.find(\"<\")\n",
    "        if templateIdx == -1:\n",
    "            continue\n",
    "        namespaceIdx = kernelName.rfind(\"::\", 0, templateIdx)\n",
    "        assert(namespaceIdx != -1) # Shouldn't ever happen.\n",
    "        region_list[i] = kernelName[namespaceIdx+2:templateIdx]\n",
    "    print(region_list)\n",
    "    return region_list"
   ]
  },
  {
   "cell_type": "code",
   "execution_count": 24,
   "metadata": {},
   "outputs": [],
   "source": [
    "def changeRange(ts):\n",
    "    b = ts - min(ts)\n",
    "    # a= numpy.modf(b)\n",
    "    # return a[1].astype(int)\n",
    "    return b"
   ]
  },
  {
   "cell_type": "code",
   "execution_count": 25,
   "metadata": {},
   "outputs": [],
   "source": [
    "def normalize(feature_name):\n",
    "    max_value = feature_name.max()\n",
    "    min_value = feature_name.min()\n",
    "    result = (feature_name - min_value) / (max_value - min_value)\n",
    "    return result"
   ]
  },
  {
   "cell_type": "code",
   "execution_count": 26,
   "metadata": {},
   "outputs": [],
   "source": [
    "def normalize(feature_name):\n",
    "    max_value = feature_name.max()\n",
    "    min_value = feature_name.min()\n",
    "    result = (feature_name - min_value) / (max_value - min_value)\n",
    "    return result"
   ]
  },
  {
   "cell_type": "code",
   "execution_count": 27,
   "metadata": {},
   "outputs": [],
   "source": [
    "def find_common_features_and_regions(df_dict_param, filter_list, region_column=\"app\"):\n",
    "    # df_dist: list of workloads within a model\n",
    "    # filter_list: columns (metrics/counters) we don't want\n",
    "\n",
    "    features_dict = defaultdict(int)\n",
    "    common_region_dict = defaultdict(int)\n",
    "    regions_list_with_dup = [] # \"region\" = kernel\n",
    "    feature_list = [] # \"feature\" = column (metric/counter)\n",
    "    \n",
    "    #For each file\n",
    "    for key, df_instance in df_dict_param.items():\n",
    "        #read in the file\n",
    "        df_original2 = df_instance.copy()\n",
    "        ## REMOVE all columns that contain only 0s\n",
    "        df_original2 = df_original2.loc[:, (df_original2 != 0).any(axis=0)]\n",
    "        for v in df_original2.columns:\n",
    "            features_dict[v] += 1\n",
    "            \n",
    "        for v in df_original2[region_column]:\n",
    "            common_region_dict[v] += 1\n",
    "            #regions_list_with_dup.append(v)\n",
    "            \n",
    "    ## Finding the unique names of regions since regions_list_with_dup may have duplicate region names.\n",
    "    ##Here, region == kernel\n",
    "#     region_list = list(set(regions_list_with_dup))\n",
    "\n",
    "    ## FINDING COMMON FEATURES\n",
    "    common_feature_list = []\n",
    "    for k, v in features_dict.items():\n",
    "        if k in filter_list:\n",
    "            continue\n",
    "        if v == len(df_dict_param):\n",
    "            common_feature_list.append(k)\n",
    "\n",
    "            \n",
    "    ## FINDING COMMON Regions\n",
    "    common_region_list = []\n",
    "    for k, v in common_region_dict.items():\n",
    "        if v == len(df_dict_param):\n",
    "            common_region_list.append(k)\n",
    "\n",
    "        \n",
    "    return common_feature_list, common_region_list\n"
   ]
  },
  {
   "cell_type": "code",
   "execution_count": 28,
   "metadata": {},
   "outputs": [
    {
     "name": "stdout",
     "output_type": "stream",
     "text": [
      "['/home/mohammad/pegasus_tutorial/KibanaDataFetch/kickstart/0d3a50e8-d8f9-4ad1-a3d0-cceba3c9e6e1', '/home/mohammad/pegasus_tutorial/KibanaDataFetch/kickstart/e8c30de5-6bb2-4b38-a000-2b719e688e38', '/home/mohammad/pegasus_tutorial/KibanaDataFetch/kickstart/785cfe07-b8d5-430b-a5b3-80dd09214a43', '/home/mohammad/pegasus_tutorial/KibanaDataFetch/kickstart/b2792092-5381-4e2e-8c21-8ec114e6b92a', '/home/mohammad/pegasus_tutorial/KibanaDataFetch/kickstart/42e89572-5a05-431b-9f53-db62f02fceb5', '/home/mohammad/pegasus_tutorial/KibanaDataFetch/kickstart/f7819f47-2160-47da-b400-f0dde303b439', '/home/mohammad/pegasus_tutorial/KibanaDataFetch/kickstart/12de78bb-b1de-4397-997e-71883555a809', '/home/mohammad/pegasus_tutorial/KibanaDataFetch/kickstart/7c65f6e7-a884-46cc-bcc9-508914fe7da8', '/home/mohammad/pegasus_tutorial/KibanaDataFetch/kickstart/ba56031f-b37f-403e-9151-6ef01ff5ef6d', '/home/mohammad/pegasus_tutorial/KibanaDataFetch/kickstart/ecb61b22-672f-4f94-9cb1-ce9ba389ae00', '/home/mohammad/pegasus_tutorial/KibanaDataFetch/kickstart/29a158f5-3d8d-4b3e-b76a-c0aea646b3ac', '/home/mohammad/pegasus_tutorial/KibanaDataFetch/kickstart/49759244-07d3-4f0c-9460-4347ca309f39']\n",
      "----------\n",
      "----------\n",
      "----------\n",
      "----------\n",
      "----------\n",
      "----------\n",
      "----------\n",
      "----------\n",
      "----------\n",
      "----------\n",
      "----------\n",
      "----------\n"
     ]
    }
   ],
   "source": [
    "## Reading and saving input\n",
    "pd.set_option('float_format', '{:f}'.format)\n",
    "df_dict_input = {}\n",
    "total_file_count = 0\n",
    "filter_list = ['@version', 'wf_label','rss', 'site', 'type', 'condor_job_id','exe', 'hostname', 'task_id', 'xformation', 'wf_uuid']\n",
    "for ind in range(len(workloads)):\n",
    "    file_name_list = workloads[ind]\n",
    "    print(file_name_list)\n",
    "    for fname in file_name_list:\n",
    "        if not path.exists(fname):\n",
    "            print(fname, ' does not exist....')\n",
    "            continue\n",
    "        else:\n",
    "            with open(fname) as f:\n",
    "                temp_data = f.read()\n",
    "            f.close()\n",
    "            lst = json.loads(temp_data)\n",
    "            df_original2 = pd.DataFrame(lst)\n",
    "            \n",
    "\n",
    "            df_original2['@timestamp'] = pd.to_datetime(df_original2['@timestamp'], format=\"%Y-%m-%dT%H:%M:%S.%f\")#.sort_values()\n",
    "            newdf = df_original2.sort_values(['@timestamp'], ascending = (True))\n",
    "            # print('----------', newdf.columns)\n",
    "            print('----------')\n",
    "             \n",
    "            newdf['tsTrans'] = changeRange(df_original2['ts'])\n",
    "            # newdf['iowaitT'] = normalize(newdf['iowait'])\n",
    "            # newdf['vmT'] = normalize(newdf['vm'])\n",
    "            # newdf['bwriteT'] = normalize(newdf['bwrite'])\n",
    "            # newdf['breadT'] = normalize(newdf['bread'])\n",
    "\n",
    "            newdf['vmPerSec'] = newdf['vm'] / newdf['procs']\n",
    "            # newdf['vmPerProc'] = normalize(newdf['vmPerSec'])\n",
    "            newdf['utVst'] = newdf['utime']/newdf['stime']\n",
    "            # newdf['utVstT'] = normalize(newdf['utVst'])\n",
    "\n",
    "            newdf = newdf.drop(filter_list, axis=1)\n",
    "            newdf = newdf.loc[:, (newdf != 0).any(axis=0)]\n",
    "            \n",
    "            # newdf.replace([np.inf, -np.inf], np.nan, inplace=True)\n",
    "            newdf = newdf.fillna(0)\n",
    "\n",
    "            newdf = newdf.groupby('pid').tail(1).reset_index()\n",
    "            # print(newdf)\n",
    "\n",
    "            newdf['dag_job_id'] = str(total_file_count) + newdf['dag_job_id']\n",
    "            \n",
    "            newdf = newdf.drop(['procs', '@timestamp', 'event', 'threads', 'tsTrans'], axis=1)\n",
    "            # print(newdf.columns)\n",
    "\n",
    "            df_dict_input[total_file_count] = newdf\n",
    "            total_file_count += 1\n",
    "# print(total_file_count)\n",
    "# print(df_dict_input)"
   ]
  },
  {
   "cell_type": "code",
   "execution_count": 29,
   "metadata": {},
   "outputs": [],
   "source": [
    "import copy\n",
    "# import plotly.express as px)\n",
    "tmpdf = pd.DataFrame()\n",
    "for ind in range(total_file_count):\n",
    "    tmpdf = tmpdf.append(df_dict_input[ind], ignore_index=True)\n",
    "\n",
    "tmpdf['iowaitT'] = normalize(tmpdf['iowait'])\n",
    "tmpdf['vmT'] = normalize(tmpdf['vm'])\n",
    "tmpdf['bwriteT'] = normalize(tmpdf['bwrite'])\n",
    "tmpdf['breadT'] = normalize(tmpdf['bread'])\n",
    "tmpdf['vmPerProc'] = normalize(tmpdf['vmPerSec'])\n",
    "tmpdf['utVstT'] = normalize(tmpdf['utVst'])\n",
    "# tmpdf = copy.deepcopy(df_dict_input[0])\n",
    "# print(tmpdf)\n",
    "# # tmpdf['bwritePerT'] = tmpdf['bwrite'] / tmpdf['bwriteT']\n",
    "# # tmpdf['breadPerT'] = tmpdf['bread'] / tmpdf['breadT']\n",
    "\n",
    "\n",
    "# # tmpdf = tmpdf.drop(['pid', 'utime', 'syscw','event', 'stime', 'utimeT', 'stimeT', 'iowait', 'iowaitT', 'bwrite', 'bwriteT'], axis=1)\n",
    "\n",
    "\n",
    "# fig = px.scatter_matrix(tmpdf)\n",
    "# fig.show()"
   ]
  },
  {
   "cell_type": "markdown",
   "metadata": {},
   "source": [
    "### Decompose workflow based on the characteristics of individual jobs. Each job "
   ]
  },
  {
   "cell_type": "code",
   "execution_count": 30,
   "metadata": {},
   "outputs": [
    {
     "data": {
      "application/vnd.plotly.v1+json": {
       "config": {
        "plotlyServerURL": "https://plot.ly"
       },
       "data": [
        {
         "fill": "toself",
         "name": "23949",
         "opacity": 0.2,
         "r": [
          0.028237585199610515,
          0.05245901639344262,
          0.6204586404586404,
          0,
          0.058975117469373076
         ],
         "subplot": "polar",
         "theta": [
          "breadT",
          "bwriteT",
          "vmPerProc",
          "iowaitT",
          "utVstT"
         ],
         "type": "scatterpolar"
        },
        {
         "fill": "toself",
         "name": "11046",
         "opacity": 0.4,
         "r": [
          0.01314508276533593,
          0.057650273224043716,
          0.6195577395577395,
          0,
          0.06009821138781208
         ],
         "subplot": "polar",
         "theta": [
          "breadT",
          "bwriteT",
          "vmPerProc",
          "iowaitT",
          "utVstT"
         ],
         "type": "scatterpolar"
        },
        {
         "fill": "toself",
         "name": "23953",
         "opacity": 0.6,
         "r": [
          0.013631937682570594,
          0.04890710382513661,
          0.6218345618345619,
          0,
          0.06914435595361301
         ],
         "subplot": "polar",
         "theta": [
          "breadT",
          "bwriteT",
          "vmPerProc",
          "iowaitT",
          "utVstT"
         ],
         "type": "scatterpolar"
        },
        {
         "fill": "toself",
         "name": "11045",
         "opacity": 0.8,
         "r": [
          0.04040895813047712,
          0.03169398907103825,
          0.622964782964783,
          0,
          0.08117611609672741
         ],
         "subplot": "polar",
         "theta": [
          "breadT",
          "bwriteT",
          "vmPerProc",
          "iowaitT",
          "utVstT"
         ],
         "type": "scatterpolar"
        },
        {
         "fill": "toself",
         "name": "11047",
         "opacity": 1,
         "r": [
          0,
          0.030601092896174863,
          0.624914004914005,
          0,
          0.0849839133272503
         ],
         "subplot": "polar",
         "theta": [
          "breadT",
          "bwriteT",
          "vmPerProc",
          "iowaitT",
          "utVstT"
         ],
         "type": "scatterpolar"
        },
        {
         "fill": "toself",
         "name": "23950",
         "opacity": 0.2,
         "r": [
          0.034079844206426485,
          0.03907103825136612,
          0.6238165438165438,
          0,
          0.08683759657777453
         ],
         "subplot": "polar",
         "theta": [
          "breadT",
          "bwriteT",
          "vmPerProc",
          "iowaitT",
          "utVstT"
         ],
         "type": "scatterpolar"
        },
        {
         "fill": "toself",
         "name": "23954",
         "opacity": 0.4,
         "r": [
          0.017039922103213243,
          0.03551912568306011,
          0.6223095823095823,
          0,
          0.06233735939630262
         ],
         "subplot": "polar",
         "theta": [
          "breadT",
          "bwriteT",
          "vmPerProc",
          "iowaitT",
          "utVstT"
         ],
         "type": "scatterpolar"
        },
        {
         "fill": "toself",
         "name": "11044",
         "opacity": 0.6,
         "r": [
          0.11635832521908471,
          0.03879781420765027,
          0.6370843570843571,
          0.00022089684117517118,
          0.1324672360061907
         ],
         "subplot": "polar",
         "theta": [
          "breadT",
          "bwriteT",
          "vmPerProc",
          "iowaitT",
          "utVstT"
         ],
         "type": "scatterpolar"
        },
        {
         "fill": "toself",
         "name": "23543",
         "opacity": 0.8,
         "r": [
          0.037487828627069134,
          0.06038251366120219,
          0.6178214578214578,
          0,
          0.03775295412266873
         ],
         "subplot": "polar2",
         "theta": [
          "breadT",
          "bwriteT",
          "vmPerProc",
          "iowaitT",
          "utVstT"
         ],
         "type": "scatterpolar"
        },
        {
         "fill": "toself",
         "name": "25674",
         "opacity": 1,
         "r": [
          0.03675754625121714,
          0.08032786885245902,
          0.6236363636363637,
          0,
          0.05792500253843499
         ],
         "subplot": "polar2",
         "theta": [
          "breadT",
          "bwriteT",
          "vmPerProc",
          "iowaitT",
          "utVstT"
         ],
         "type": "scatterpolar"
        },
        {
         "fill": "toself",
         "name": "11205",
         "opacity": 0.2,
         "r": [
          0.04430379746835443,
          0.09316939890710382,
          0.6228665028665029,
          0,
          0.03783397998994101
         ],
         "subplot": "polar2",
         "theta": [
          "breadT",
          "bwriteT",
          "vmPerProc",
          "iowaitT",
          "utVstT"
         ],
         "type": "scatterpolar"
        },
        {
         "fill": "toself",
         "name": "24062",
         "opacity": 0.4,
         "r": [
          0.01679649464459591,
          0.09344262295081968,
          0.619017199017199,
          0,
          0.065472506839917
         ],
         "subplot": "polar2",
         "theta": [
          "breadT",
          "bwriteT",
          "vmPerProc",
          "iowaitT",
          "utVstT"
         ],
         "type": "scatterpolar"
        },
        {
         "fill": "toself",
         "name": "25678",
         "opacity": 0.6,
         "r": [
          0.0311587147030185,
          0.08989071038251366,
          0.6227682227682227,
          0,
          0.031311118992947334
         ],
         "subplot": "polar2",
         "theta": [
          "breadT",
          "bwriteT",
          "vmPerProc",
          "iowaitT",
          "utVstT"
         ],
         "type": "scatterpolar"
        },
        {
         "fill": "toself",
         "name": "24063",
         "opacity": 0.8,
         "r": [
          0.01801363193768257,
          0.1680327868852459,
          0.6230794430794431,
          0,
          0.04830764700786262
         ],
         "subplot": "polar2",
         "theta": [
          "breadT",
          "bwriteT",
          "vmPerProc",
          "iowaitT",
          "utVstT"
         ],
         "type": "scatterpolar"
        },
        {
         "fill": "toself",
         "name": "24064",
         "opacity": 1,
         "r": [
          0.019230769230769232,
          0.07486338797814207,
          0.6167567567567568,
          0,
          0.030310479621433614
         ],
         "subplot": "polar2",
         "theta": [
          "breadT",
          "bwriteT",
          "vmPerProc",
          "iowaitT",
          "utVstT"
         ],
         "type": "scatterpolar"
        },
        {
         "fill": "toself",
         "name": "24058",
         "opacity": 0.2,
         "r": [
          0.03894839337877313,
          0.0942622950819672,
          0.6232268632268633,
          0,
          0.05036447933283891
         ],
         "subplot": "polar2",
         "theta": [
          "breadT",
          "bwriteT",
          "vmPerProc",
          "iowaitT",
          "utVstT"
         ],
         "type": "scatterpolar"
        },
        {
         "fill": "toself",
         "name": "23540",
         "opacity": 0.4,
         "r": [
          0.021421616358325218,
          0.07486338797814207,
          0.6223095823095823,
          0,
          0.02153763791494255
         ],
         "subplot": "polar2",
         "theta": [
          "breadT",
          "bwriteT",
          "vmPerProc",
          "iowaitT",
          "utVstT"
         ],
         "type": "scatterpolar"
        },
        {
         "fill": "toself",
         "name": "11204",
         "opacity": 0.6,
         "r": [
          0.1360759493670886,
          0.6633879781420765,
          0.6345945945945946,
          0.0030925557764523966,
          0.09730376068133112
         ],
         "subplot": "polar2",
         "theta": [
          "breadT",
          "bwriteT",
          "vmPerProc",
          "iowaitT",
          "utVstT"
         ],
         "type": "scatterpolar"
        },
        {
         "fill": "toself",
         "name": "25679",
         "opacity": 0.8,
         "r": [
          0.02020447906523856,
          0.09617486338797815,
          0.6230794430794431,
          0,
          0.043615082900222826
         ],
         "subplot": "polar2",
         "theta": [
          "breadT",
          "bwriteT",
          "vmPerProc",
          "iowaitT",
          "utVstT"
         ],
         "type": "scatterpolar"
        },
        {
         "fill": "toself",
         "name": "23544",
         "opacity": 1,
         "r": [
          0.03359298928919182,
          0.11967213114754098,
          0.6228501228501229,
          0,
          0.027493077242091105
         ],
         "subplot": "polar2",
         "theta": [
          "breadT",
          "bwriteT",
          "vmPerProc",
          "iowaitT",
          "utVstT"
         ],
         "type": "scatterpolar"
        },
        {
         "fill": "toself",
         "name": "11211",
         "opacity": 0.2,
         "r": [
          0.0004868549172346641,
          0.0680327868852459,
          0.6173955773955774,
          0,
          0.06993739884937271
         ],
         "subplot": "polar2",
         "theta": [
          "breadT",
          "bwriteT",
          "vmPerProc",
          "iowaitT",
          "utVstT"
         ],
         "type": "scatterpolar"
        },
        {
         "fill": "toself",
         "name": "23545",
         "opacity": 0.4,
         "r": [
          0,
          0.04426229508196721,
          0.619066339066339,
          0,
          0.020331486642324103
         ],
         "subplot": "polar2",
         "theta": [
          "breadT",
          "bwriteT",
          "vmPerProc",
          "iowaitT",
          "utVstT"
         ],
         "type": "scatterpolar"
        },
        {
         "fill": "toself",
         "name": "11206",
         "opacity": 0.6,
         "r": [
          0,
          0.13142076502732242,
          0.6226371826371826,
          0,
          0.01582018774721792
         ],
         "subplot": "polar2",
         "theta": [
          "breadT",
          "bwriteT",
          "vmPerProc",
          "iowaitT",
          "utVstT"
         ],
         "type": "scatterpolar"
        },
        {
         "fill": "toself",
         "name": "25680",
         "opacity": 0.8,
         "r": [
          0.006085686465433301,
          0.06830601092896176,
          0.6167403767403767,
          0,
          0.028680849523524385
         ],
         "subplot": "polar2",
         "theta": [
          "breadT",
          "bwriteT",
          "vmPerProc",
          "iowaitT",
          "utVstT"
         ],
         "type": "scatterpolar"
        },
        {
         "fill": "toself",
         "name": "11638",
         "opacity": 1,
         "r": [
          0.44328140214216166,
          0.029234972677595627,
          0.8896969696969697,
          0.010382151535233045,
          0.01828216550565655
         ],
         "subplot": "polar3",
         "theta": [
          "breadT",
          "bwriteT",
          "vmPerProc",
          "iowaitT",
          "utVstT"
         ],
         "type": "scatterpolar"
        },
        {
         "fill": "toself",
         "name": "11637",
         "opacity": 0.2,
         "r": [
          0.5800876338851022,
          0.05027322404371585,
          0.9719082719082719,
          0.010603048376408216,
          0.0194790478199117
         ],
         "subplot": "polar3",
         "theta": [
          "breadT",
          "bwriteT",
          "vmPerProc",
          "iowaitT",
          "utVstT"
         ],
         "type": "scatterpolar"
        },
        {
         "fill": "toself",
         "name": "11645",
         "opacity": 0.4,
         "r": [
          0.22979552093476144,
          0.034972677595628415,
          0.8901064701064701,
          0.010161254694057875,
          0.016451472370538175
         ],
         "subplot": "polar3",
         "theta": [
          "breadT",
          "bwriteT",
          "vmPerProc",
          "iowaitT",
          "utVstT"
         ],
         "type": "scatterpolar"
        },
        {
         "fill": "toself",
         "name": "11639",
         "opacity": 0.6,
         "r": [
          0.15920155793573515,
          0.03224043715846994,
          0.8898443898443898,
          0.010161254694057875,
          0.021886501472494494
         ],
         "subplot": "polar3",
         "theta": [
          "breadT",
          "bwriteT",
          "vmPerProc",
          "iowaitT",
          "utVstT"
         ],
         "type": "scatterpolar"
        },
        {
         "fill": "toself",
         "name": "26050",
         "opacity": 0.8,
         "r": [
          0.31037000973709833,
          0.02896174863387978,
          0.89002457002457,
          0.010161254694057875,
          0.019570684620484034
         ],
         "subplot": "polar3",
         "theta": [
          "breadT",
          "bwriteT",
          "vmPerProc",
          "iowaitT",
          "utVstT"
         ],
         "type": "scatterpolar"
        },
        {
         "fill": "toself",
         "name": "24433",
         "opacity": 1,
         "r": [
          0.4749269717624148,
          0.02814207650273224,
          0.8903357903357904,
          0.009940357852882704,
          0.018485459200969154
         ],
         "subplot": "polar3",
         "theta": [
          "breadT",
          "bwriteT",
          "vmPerProc",
          "iowaitT",
          "utVstT"
         ],
         "type": "scatterpolar"
        },
        {
         "fill": "toself",
         "name": "24437",
         "opacity": 0.2,
         "r": [
          0.18914313534566699,
          0.02814207650273224,
          0.8896642096642097,
          0.009940357852882704,
          0.022647288208337293
         ],
         "subplot": "polar3",
         "theta": [
          "breadT",
          "bwriteT",
          "vmPerProc",
          "iowaitT",
          "utVstT"
         ],
         "type": "scatterpolar"
        },
        {
         "fill": "toself",
         "name": "26051",
         "opacity": 0.4,
         "r": [
          0.12804284323271664,
          0.03333333333333333,
          0.8904668304668305,
          0.00552242102937928,
          0.017813029866514143
         ],
         "subplot": "polar3",
         "theta": [
          "breadT",
          "bwriteT",
          "vmPerProc",
          "iowaitT",
          "utVstT"
         ],
         "type": "scatterpolar"
        },
        {
         "fill": "toself",
         "name": "23917",
         "opacity": 0.6,
         "r": [
          0.48052580331061345,
          0.038524590163934426,
          0.8898116298116298,
          0.00552242102937928,
          0.010895025615209502
         ],
         "subplot": "polar3",
         "theta": [
          "breadT",
          "bwriteT",
          "vmPerProc",
          "iowaitT",
          "utVstT"
         ],
         "type": "scatterpolar"
        },
        {
         "fill": "toself",
         "name": "24438",
         "opacity": 0.8,
         "r": [
          0.12341772151898735,
          0.03306010928961749,
          0.8912366912366912,
          0.009719461011707531,
          0.022041570243833315
         ],
         "subplot": "polar3",
         "theta": [
          "breadT",
          "bwriteT",
          "vmPerProc",
          "iowaitT",
          "utVstT"
         ],
         "type": "scatterpolar"
        },
        {
         "fill": "toself",
         "name": "23913",
         "opacity": 1,
         "r": [
          0.3519961051606621,
          0.03715846994535519,
          0.8920720720720721,
          0.005743317870554451,
          0.009044425993752148
         ],
         "subplot": "polar3",
         "theta": [
          "breadT",
          "bwriteT",
          "vmPerProc",
          "iowaitT",
          "utVstT"
         ],
         "type": "scatterpolar"
        },
        {
         "fill": "toself",
         "name": "26049",
         "opacity": 0.2,
         "r": [
          0.2592502434274586,
          0.02841530054644809,
          0.8895331695331695,
          0.010382151535233045,
          0.021533275571187577
         ],
         "subplot": "polar3",
         "theta": [
          "breadT",
          "bwriteT",
          "vmPerProc",
          "iowaitT",
          "utVstT"
         ],
         "type": "scatterpolar"
        },
        {
         "fill": "toself",
         "name": "24436",
         "opacity": 0.4,
         "r": [
          0.5019474196689386,
          0.028688524590163935,
          0.8902047502047502,
          0.009940357852882704,
          0.02106513161031159
         ],
         "subplot": "polar3",
         "theta": [
          "breadT",
          "bwriteT",
          "vmPerProc",
          "iowaitT",
          "utVstT"
         ],
         "type": "scatterpolar"
        },
        {
         "fill": "toself",
         "name": "23915",
         "opacity": 0.6,
         "r": [
          0.2765335929892892,
          0.03961748633879782,
          0.89000819000819,
          0.005743317870554451,
          0.00950860940135238
         ],
         "subplot": "polar3",
         "theta": [
          "breadT",
          "bwriteT",
          "vmPerProc",
          "iowaitT",
          "utVstT"
         ],
         "type": "scatterpolar"
        },
        {
         "fill": "toself",
         "name": "23922",
         "opacity": 0.8,
         "r": [
          0.024829600778967866,
          0.04207650273224044,
          0.8902702702702703,
          0.005301524188204108,
          0.008096664064811803
         ],
         "subplot": "polar3",
         "theta": [
          "breadT",
          "bwriteT",
          "vmPerProc",
          "iowaitT",
          "utVstT"
         ],
         "type": "scatterpolar"
        },
        {
         "fill": "toself",
         "name": "26046",
         "opacity": 1,
         "r": [
          0.686222005842259,
          0.02814207650273224,
          0.8948402948402948,
          0.005743317870554451,
          0.018339049737050535
         ],
         "subplot": "polar3",
         "theta": [
          "breadT",
          "bwriteT",
          "vmPerProc",
          "iowaitT",
          "utVstT"
         ],
         "type": "scatterpolar"
        },
        {
         "fill": "toself",
         "name": "12425",
         "opacity": 0.2,
         "r": [
          0.5939629990262901,
          0.03469945355191257,
          0.9659787059787059,
          0.005743317870554451,
          0.2421769596843266
         ],
         "subplot": "polar4",
         "theta": [
          "breadT",
          "bwriteT",
          "vmPerProc",
          "iowaitT",
          "utVstT"
         ],
         "type": "scatterpolar"
        },
        {
         "fill": "toself",
         "name": "12426",
         "opacity": 0.4,
         "r": [
          0.316699123661149,
          0.015846994535519125,
          0.89005733005733,
          0.00552242102937928,
          0.24239694265069406
         ],
         "subplot": "polar4",
         "theta": [
          "breadT",
          "bwriteT",
          "vmPerProc",
          "iowaitT",
          "utVstT"
         ],
         "type": "scatterpolar"
        },
        {
         "fill": "toself",
         "name": "12428",
         "opacity": 0.6,
         "r": [
          0.23661148977604674,
          0.015846994535519125,
          0.8899099099099099,
          0.00552242102937928,
          0.25279889977305187
         ],
         "subplot": "polar4",
         "theta": [
          "breadT",
          "bwriteT",
          "vmPerProc",
          "iowaitT",
          "utVstT"
         ],
         "type": "scatterpolar"
        },
        {
         "fill": "toself",
         "name": "12427",
         "opacity": 0.8,
         "r": [
          0.26509250243427457,
          0.01557377049180328,
          0.8902047502047502,
          0.00552242102937928,
          0.24727101284533204
         ],
         "subplot": "polar4",
         "theta": [
          "breadT",
          "bwriteT",
          "vmPerProc",
          "iowaitT",
          "utVstT"
         ],
         "type": "scatterpolar"
        },
        {
         "fill": "toself",
         "name": "26869",
         "opacity": 1,
         "r": [
          0.23466407010710807,
          0.016666666666666666,
          0.8923996723996724,
          0.010823945217583387,
          0.3997124757738695
         ],
         "subplot": "polar4",
         "theta": [
          "breadT",
          "bwriteT",
          "vmPerProc",
          "iowaitT",
          "utVstT"
         ],
         "type": "scatterpolar"
        },
        {
         "fill": "toself",
         "name": "26872",
         "opacity": 0.2,
         "r": [
          0.4277020447906524,
          0.015300546448087432,
          0.8906142506142506,
          0.01104484205875856,
          0.3718265582091735
         ],
         "subplot": "polar4",
         "theta": [
          "breadT",
          "bwriteT",
          "vmPerProc",
          "iowaitT",
          "utVstT"
         ],
         "type": "scatterpolar"
        },
        {
         "fill": "toself",
         "name": "25253",
         "opacity": 0.4,
         "r": [
          0.4286757546251217,
          0.015300546448087432,
          0.8953480753480754,
          0.009940357852882704,
          0.2463514493777538
         ],
         "subplot": "polar4",
         "theta": [
          "breadT",
          "bwriteT",
          "vmPerProc",
          "iowaitT",
          "utVstT"
         ],
         "type": "scatterpolar"
        },
        {
         "fill": "toself",
         "name": "24721",
         "opacity": 0.6,
         "r": [
          0.12560856864654332,
          0.017759562841530054,
          0.890990990990991,
          0.00552242102937928,
          0.35693569098887984
         ],
         "subplot": "polar4",
         "theta": [
          "breadT",
          "bwriteT",
          "vmPerProc",
          "iowaitT",
          "utVstT"
         ],
         "type": "scatterpolar"
        },
        {
         "fill": "toself",
         "name": "24722",
         "opacity": 0.8,
         "r": [
          0.1346153846153846,
          0.017486338797814208,
          0.8905814905814906,
          0.00552242102937928,
          0.35752967052948903
         ],
         "subplot": "polar4",
         "theta": [
          "breadT",
          "bwriteT",
          "vmPerProc",
          "iowaitT",
          "utVstT"
         ],
         "type": "scatterpolar"
        },
        {
         "fill": "toself",
         "name": "24720",
         "opacity": 1,
         "r": [
          0.41017526777020447,
          0.017759562841530054,
          0.8902702702702703,
          0.00552242102937928,
          0.36621505092663387
         ],
         "subplot": "polar4",
         "theta": [
          "breadT",
          "bwriteT",
          "vmPerProc",
          "iowaitT",
          "utVstT"
         ],
         "type": "scatterpolar"
        },
        {
         "fill": "toself",
         "name": "26876",
         "opacity": 0.2,
         "r": [
          0.34444985394352484,
          0.015027322404371584,
          0.8913349713349713,
          0.010823945217583387,
          0.4027696543793926
         ],
         "subplot": "polar4",
         "theta": [
          "breadT",
          "bwriteT",
          "vmPerProc",
          "iowaitT",
          "utVstT"
         ],
         "type": "scatterpolar"
        },
        {
         "fill": "toself",
         "name": "26875",
         "opacity": 0.4,
         "r": [
          0.3843719571567673,
          0.01612021857923497,
          0.88995904995905,
          0.010823945217583387,
          0.41798930433545206
         ],
         "subplot": "polar4",
         "theta": [
          "breadT",
          "bwriteT",
          "vmPerProc",
          "iowaitT",
          "utVstT"
         ],
         "type": "scatterpolar"
        },
        {
         "fill": "toself",
         "name": "25254",
         "opacity": 0.6,
         "r": [
          0.6703992210321325,
          0.01448087431693989,
          0.8902047502047502,
          0.009940357852882704,
          0.24861307877577585
         ],
         "subplot": "polar4",
         "theta": [
          "breadT",
          "bwriteT",
          "vmPerProc",
          "iowaitT",
          "utVstT"
         ],
         "type": "scatterpolar"
        },
        {
         "fill": "toself",
         "name": "25255",
         "opacity": 0.8,
         "r": [
          0.09250243427458617,
          0.014207650273224045,
          0.8901883701883702,
          0.009940357852882704,
          0.2650243949353397
         ],
         "subplot": "polar4",
         "theta": [
          "breadT",
          "bwriteT",
          "vmPerProc",
          "iowaitT",
          "utVstT"
         ],
         "type": "scatterpolar"
        },
        {
         "fill": "toself",
         "name": "24717",
         "opacity": 1,
         "r": [
          0.4634858812074002,
          0.019672131147540985,
          0.8914660114660115,
          0.00552242102937928,
          0.3650875992753931
         ],
         "subplot": "polar4",
         "theta": [
          "breadT",
          "bwriteT",
          "vmPerProc",
          "iowaitT",
          "utVstT"
         ],
         "type": "scatterpolar"
        },
        {
         "fill": "toself",
         "name": "25256",
         "opacity": 0.2,
         "r": [
          0.15481986368062317,
          0.013387978142076503,
          0.8897952497952498,
          0.009940357852882704,
          0.24089179603870597
         ],
         "subplot": "polar4",
         "theta": [
          "breadT",
          "bwriteT",
          "vmPerProc",
          "iowaitT",
          "utVstT"
         ],
         "type": "scatterpolar"
        },
        {
         "fill": "toself",
         "name": "6007",
         "opacity": 0.4,
         "r": [
          0.14922103213242455,
          0.05546448087431694,
          0.6188697788697789,
          0.00022089684117517118,
          0.14692449671474556
         ],
         "subplot": "polar5",
         "theta": [
          "breadT",
          "bwriteT",
          "vmPerProc",
          "iowaitT",
          "utVstT"
         ],
         "type": "scatterpolar"
        },
        {
         "fill": "toself",
         "name": "19424",
         "opacity": 0.6,
         "r": [
          0.02872444011684518,
          0.04453551912568306,
          0.6199344799344799,
          0,
          0.05206921662203948
         ],
         "subplot": "polar5",
         "theta": [
          "breadT",
          "bwriteT",
          "vmPerProc",
          "iowaitT",
          "utVstT"
         ],
         "type": "scatterpolar"
        },
        {
         "fill": "toself",
         "name": "19426",
         "opacity": 0.8,
         "r": [
          0.03554040895813048,
          0.02103825136612022,
          0.6254545454545455,
          0,
          0.08274312864617037
         ],
         "subplot": "polar5",
         "theta": [
          "breadT",
          "bwriteT",
          "vmPerProc",
          "iowaitT",
          "utVstT"
         ],
         "type": "scatterpolar"
        },
        {
         "fill": "toself",
         "name": "19427",
         "opacity": 1,
         "r": [
          0.007059396299902629,
          0.01994535519125683,
          0.6251433251433252,
          0,
          0.08488537271909166
         ],
         "subplot": "polar5",
         "theta": [
          "breadT",
          "bwriteT",
          "vmPerProc",
          "iowaitT",
          "utVstT"
         ],
         "type": "scatterpolar"
        },
        {
         "fill": "toself",
         "name": "6009",
         "opacity": 0.2,
         "r": [
          0,
          0.09098360655737706,
          0.6039148239148239,
          0,
          0.081034769956312
         ],
         "subplot": "polar5",
         "theta": [
          "breadT",
          "bwriteT",
          "vmPerProc",
          "iowaitT",
          "utVstT"
         ],
         "type": "scatterpolar"
        },
        {
         "fill": "toself",
         "name": "6008",
         "opacity": 0.4,
         "r": [
          0.020691333982473224,
          0.04590163934426229,
          0.6077968877968878,
          0,
          0.05644580547772447
         ],
         "subplot": "polar5",
         "theta": [
          "breadT",
          "bwriteT",
          "vmPerProc",
          "iowaitT",
          "utVstT"
         ],
         "type": "scatterpolar"
        },
        {
         "fill": "toself",
         "name": "20829",
         "opacity": 0.6,
         "r": [
          0.0949367088607595,
          0,
          0.0006715806715806716,
          0,
          0.06719240960237235
         ],
         "subplot": "polar5",
         "theta": [
          "breadT",
          "bwriteT",
          "vmPerProc",
          "iowaitT",
          "utVstT"
         ],
         "type": "scatterpolar"
        },
        {
         "fill": "toself",
         "name": "19428",
         "opacity": 0.8,
         "r": [
          0.02044790652385589,
          0.01994535519125683,
          0.6190990990990991,
          0,
          0.06235963490923743
         ],
         "subplot": "polar5",
         "theta": [
          "breadT",
          "bwriteT",
          "vmPerProc",
          "iowaitT",
          "utVstT"
         ],
         "type": "scatterpolar"
        },
        {
         "fill": "toself",
         "name": "6178",
         "opacity": 1,
         "r": [
          0.12877312560856866,
          0.7191256830601093,
          0.6355773955773956,
          0.0030925557764523966,
          0.07039309685488493
         ],
         "subplot": "polar6",
         "theta": [
          "breadT",
          "bwriteT",
          "vmPerProc",
          "iowaitT",
          "utVstT"
         ],
         "type": "scatterpolar"
        },
        {
         "fill": "toself",
         "name": "19104",
         "opacity": 0.2,
         "r": [
          0.029454722492697177,
          0.08032786885245902,
          0.6226699426699427,
          0,
          0.024074941274298912
         ],
         "subplot": "polar6",
         "theta": [
          "breadT",
          "bwriteT",
          "vmPerProc",
          "iowaitT",
          "utVstT"
         ],
         "type": "scatterpolar"
        },
        {
         "fill": "toself",
         "name": "19581",
         "opacity": 0.4,
         "r": [
          0.0009737098344693282,
          0.06639344262295081,
          0.6153316953316953,
          0,
          0.02598841339049104
         ],
         "subplot": "polar6",
         "theta": [
          "breadT",
          "bwriteT",
          "vmPerProc",
          "iowaitT",
          "utVstT"
         ],
         "type": "scatterpolar"
        },
        {
         "fill": "toself",
         "name": "19577",
         "opacity": 0.6,
         "r": [
          0.04016553067185979,
          0.08797814207650273,
          0.6224406224406225,
          0,
          0.04358434723050414
         ],
         "subplot": "polar6",
         "theta": [
          "breadT",
          "bwriteT",
          "vmPerProc",
          "iowaitT",
          "utVstT"
         ],
         "type": "scatterpolar"
        },
        {
         "fill": "toself",
         "name": "20947",
         "opacity": 0.8,
         "r": [
          0.019961051606621226,
          0.13169398907103824,
          0.6226535626535626,
          0,
          0.05237985541575687
         ],
         "subplot": "polar6",
         "theta": [
          "breadT",
          "bwriteT",
          "vmPerProc",
          "iowaitT",
          "utVstT"
         ],
         "type": "scatterpolar"
        },
        {
         "fill": "toself",
         "name": "19579",
         "opacity": 1,
         "r": [
          0.021421616358325218,
          0.08715846994535519,
          0.6186240786240786,
          0,
          0.06726423460501253
         ],
         "subplot": "polar6",
         "theta": [
          "breadT",
          "bwriteT",
          "vmPerProc",
          "iowaitT",
          "utVstT"
         ],
         "type": "scatterpolar"
        },
        {
         "fill": "toself",
         "name": "6180",
         "opacity": 0.2,
         "r": [
          0.030428432327166504,
          0.2336065573770492,
          0.6223095823095823,
          0,
          0.010280761095200664
         ],
         "subplot": "polar6",
         "theta": [
          "breadT",
          "bwriteT",
          "vmPerProc",
          "iowaitT",
          "utVstT"
         ],
         "type": "scatterpolar"
        },
        {
         "fill": "toself",
         "name": "19580",
         "opacity": 0.4,
         "r": [
          0.02969814995131451,
          0.14808743169398908,
          0.6227518427518427,
          0,
          0.04394503228998603
         ],
         "subplot": "polar6",
         "theta": [
          "breadT",
          "bwriteT",
          "vmPerProc",
          "iowaitT",
          "utVstT"
         ],
         "type": "scatterpolar"
        },
        {
         "fill": "toself",
         "name": "20945",
         "opacity": 0.6,
         "r": [
          0.0365141187925998,
          0.12486338797814207,
          0.6229484029484029,
          0,
          0.05475217183519236
         ],
         "subplot": "polar6",
         "theta": [
          "breadT",
          "bwriteT",
          "vmPerProc",
          "iowaitT",
          "utVstT"
         ],
         "type": "scatterpolar"
        },
        {
         "fill": "toself",
         "name": "19105",
         "opacity": 0.8,
         "r": [
          0.030428432327166504,
          0.06311475409836066,
          0.619000819000819,
          0,
          0.03654736525443264
         ],
         "subplot": "polar6",
         "theta": [
          "breadT",
          "bwriteT",
          "vmPerProc",
          "iowaitT",
          "utVstT"
         ],
         "type": "scatterpolar"
        },
        {
         "fill": "toself",
         "name": "6181",
         "opacity": 1,
         "r": [
          0,
          0.14562841530054646,
          0.6173955773955774,
          0,
          0.06810244092862423
         ],
         "subplot": "polar6",
         "theta": [
          "breadT",
          "bwriteT",
          "vmPerProc",
          "iowaitT",
          "utVstT"
         ],
         "type": "scatterpolar"
        },
        {
         "fill": "toself",
         "name": "19106",
         "opacity": 0.2,
         "r": [
          0.03091528724440117,
          0.13306010928961748,
          0.6242588042588043,
          0,
          0.0286207601207927
         ],
         "subplot": "polar6",
         "theta": [
          "breadT",
          "bwriteT",
          "vmPerProc",
          "iowaitT",
          "utVstT"
         ],
         "type": "scatterpolar"
        },
        {
         "fill": "toself",
         "name": "20948",
         "opacity": 0.4,
         "r": [
          0,
          0.10081967213114754,
          0.6164291564291564,
          0,
          0.031114109675945634
         ],
         "subplot": "polar6",
         "theta": [
          "breadT",
          "bwriteT",
          "vmPerProc",
          "iowaitT",
          "utVstT"
         ],
         "type": "scatterpolar"
        },
        {
         "fill": "toself",
         "name": "20946",
         "opacity": 0.6,
         "r": [
          0.038461538461538464,
          0.14426229508196722,
          0.6238984438984438,
          0,
          0.040736761917260195
         ],
         "subplot": "polar6",
         "theta": [
          "breadT",
          "bwriteT",
          "vmPerProc",
          "iowaitT",
          "utVstT"
         ],
         "type": "scatterpolar"
        },
        {
         "fill": "toself",
         "name": "19107",
         "opacity": 0.8,
         "r": [
          0.0009737098344693282,
          0.0633879781420765,
          0.6197051597051597,
          0,
          0.015981236953098242
         ],
         "subplot": "polar6",
         "theta": [
          "breadT",
          "bwriteT",
          "vmPerProc",
          "iowaitT",
          "utVstT"
         ],
         "type": "scatterpolar"
        },
        {
         "fill": "toself",
         "name": "6179",
         "opacity": 1,
         "r": [
          0.020934761441090556,
          0.20901639344262296,
          0.6223751023751024,
          0,
          0.03992910088116067
         ],
         "subplot": "polar6",
         "theta": [
          "breadT",
          "bwriteT",
          "vmPerProc",
          "iowaitT",
          "utVstT"
         ],
         "type": "scatterpolar"
        },
        {
         "fill": "toself",
         "name": "6746",
         "opacity": 0.2,
         "r": [
          0.16772151898734178,
          0.012841530054644808,
          0.89005733005733,
          0.009940357852882704,
          0.8575078533619209
         ],
         "subplot": "polar7",
         "theta": [
          "breadT",
          "bwriteT",
          "vmPerProc",
          "iowaitT",
          "utVstT"
         ],
         "type": "scatterpolar"
        },
        {
         "fill": "toself",
         "name": "6745",
         "opacity": 0.4,
         "r": [
          0.4917234664070107,
          0.03278688524590164,
          0.965995085995086,
          0.010161254694057875,
          0.8185163236009455
         ],
         "subplot": "polar7",
         "theta": [
          "breadT",
          "bwriteT",
          "vmPerProc",
          "iowaitT",
          "utVstT"
         ],
         "type": "scatterpolar"
        },
        {
         "fill": "toself",
         "name": "19594",
         "opacity": 0.6,
         "r": [
          0.36587147030185,
          0.013114754098360656,
          0.8902702702702703,
          0.010823945217583387,
          0.6938037780739206
         ],
         "subplot": "polar7",
         "theta": [
          "breadT",
          "bwriteT",
          "vmPerProc",
          "iowaitT",
          "utVstT"
         ],
         "type": "scatterpolar"
        },
        {
         "fill": "toself",
         "name": "19593",
         "opacity": 0.8,
         "r": [
          0.4342745861733204,
          0.012568306010928962,
          0.8901064701064701,
          0.010823945217583387,
          0.6658179948135475
         ],
         "subplot": "polar7",
         "theta": [
          "breadT",
          "bwriteT",
          "vmPerProc",
          "iowaitT",
          "utVstT"
         ],
         "type": "scatterpolar"
        },
        {
         "fill": "toself",
         "name": "21479",
         "opacity": 1,
         "r": [
          0.379746835443038,
          0.013934426229508197,
          0.8948402948402948,
          0.010603048376408216,
          0.803284008971246
         ],
         "subplot": "polar7",
         "theta": [
          "breadT",
          "bwriteT",
          "vmPerProc",
          "iowaitT",
          "utVstT"
         ],
         "type": "scatterpolar"
        },
        {
         "fill": "toself",
         "name": "19998",
         "opacity": 0.2,
         "r": [
          0.3563777994157741,
          0.014207650273224045,
          0.8938574938574939,
          0.009940357852882704,
          0.7619984765942633
         ],
         "subplot": "polar7",
         "theta": [
          "breadT",
          "bwriteT",
          "vmPerProc",
          "iowaitT",
          "utVstT"
         ],
         "type": "scatterpolar"
        },
        {
         "fill": "toself",
         "name": "21484",
         "opacity": 0.4,
         "r": [
          0.30209347614410903,
          0.012841530054644808,
          0.8903030303030303,
          0.010603048376408216,
          0.8043412257468912
         ],
         "subplot": "polar7",
         "theta": [
          "breadT",
          "bwriteT",
          "vmPerProc",
          "iowaitT",
          "utVstT"
         ],
         "type": "scatterpolar"
        },
        {
         "fill": "toself",
         "name": "19595",
         "opacity": 0.6,
         "r": [
          0.09761441090555015,
          0.012021857923497269,
          0.890958230958231,
          0.010603048376408216,
          0.6350051229865316
         ],
         "subplot": "polar7",
         "theta": [
          "breadT",
          "bwriteT",
          "vmPerProc",
          "iowaitT",
          "utVstT"
         ],
         "type": "scatterpolar"
        },
        {
         "fill": "toself",
         "name": "6747",
         "opacity": 0.8,
         "r": [
          0.11757546251217137,
          0.013114754098360656,
          0.8902047502047502,
          0.009940357852882704,
          0.8364190580244594
         ],
         "subplot": "polar7",
         "theta": [
          "breadT",
          "bwriteT",
          "vmPerProc",
          "iowaitT",
          "utVstT"
         ],
         "type": "scatterpolar"
        },
        {
         "fill": "toself",
         "name": "21485",
         "opacity": 1,
         "r": [
          0.15481986368062317,
          0.012841530054644808,
          0.8913349713349713,
          0.010382151535233045,
          0.7541795877607907
         ],
         "subplot": "polar7",
         "theta": [
          "breadT",
          "bwriteT",
          "vmPerProc",
          "iowaitT",
          "utVstT"
         ],
         "type": "scatterpolar"
        },
        {
         "fill": "toself",
         "name": "21483",
         "opacity": 0.2,
         "r": [
          0.5540408958130477,
          0.012568306010928962,
          0.8903357903357904,
          0.010603048376408216,
          0.8117186486351933
         ],
         "subplot": "polar7",
         "theta": [
          "breadT",
          "bwriteT",
          "vmPerProc",
          "iowaitT",
          "utVstT"
         ],
         "type": "scatterpolar"
        },
        {
         "fill": "toself",
         "name": "20003",
         "opacity": 0.4,
         "r": [
          0.20009737098344693,
          0.012568306010928962,
          0.8899099099099099,
          0.009940357852882704,
          0.7894350482187324
         ],
         "subplot": "polar7",
         "theta": [
          "breadT",
          "bwriteT",
          "vmPerProc",
          "iowaitT",
          "utVstT"
         ],
         "type": "scatterpolar"
        },
        {
         "fill": "toself",
         "name": "19592",
         "opacity": 0.6,
         "r": [
          0.23612463485881208,
          0.014207650273224045,
          0.8923832923832924,
          0.010823945217583387,
          0.6817570861485501
         ],
         "subplot": "polar7",
         "theta": [
          "breadT",
          "bwriteT",
          "vmPerProc",
          "iowaitT",
          "utVstT"
         ],
         "type": "scatterpolar"
        },
        {
         "fill": "toself",
         "name": "20001",
         "opacity": 0.8,
         "r": [
          0.6041869522882181,
          0.012568306010928962,
          0.8902047502047502,
          0.009940357852882704,
          0.7657425491952952
         ],
         "subplot": "polar7",
         "theta": [
          "breadT",
          "bwriteT",
          "vmPerProc",
          "iowaitT",
          "utVstT"
         ],
         "type": "scatterpolar"
        },
        {
         "fill": "toself",
         "name": "20002",
         "opacity": 1,
         "r": [
          0.18184031158714703,
          0.013114754098360656,
          0.8901883701883702,
          0.009940357852882704,
          0.7294849748402535
         ],
         "subplot": "polar7",
         "theta": [
          "breadT",
          "bwriteT",
          "vmPerProc",
          "iowaitT",
          "utVstT"
         ],
         "type": "scatterpolar"
        },
        {
         "fill": "toself",
         "name": "6748",
         "opacity": 0.2,
         "r": [
          0.6353456669912366,
          0.012295081967213115,
          0.88992628992629,
          0.009940357852882704,
          0.8021138855496578
         ],
         "subplot": "polar7",
         "theta": [
          "breadT",
          "bwriteT",
          "vmPerProc",
          "iowaitT",
          "utVstT"
         ],
         "type": "scatterpolar"
        },
        {
         "fill": "toself",
         "name": "6889",
         "opacity": 0.4,
         "r": [
          0.1755111976630964,
          0.02841530054644809,
          0.8896969696969697,
          0.010161254694057875,
          0.01905709195534855
         ],
         "subplot": "polar8",
         "theta": [
          "breadT",
          "bwriteT",
          "vmPerProc",
          "iowaitT",
          "utVstT"
         ],
         "type": "scatterpolar"
        },
        {
         "fill": "toself",
         "name": "19712",
         "opacity": 0.6,
         "r": [
          0.3814508276533593,
          0.03825136612021858,
          0.8908763308763309,
          0.010823945217583387,
          0.006992241639468744
         ],
         "subplot": "polar8",
         "theta": [
          "breadT",
          "bwriteT",
          "vmPerProc",
          "iowaitT",
          "utVstT"
         ],
         "type": "scatterpolar"
        },
        {
         "fill": "toself",
         "name": "19717",
         "opacity": 0.8,
         "r": [
          0.11660175267770205,
          0.047540983606557376,
          0.8904668304668305,
          0.010603048376408216,
          0.00659585217026856
         ],
         "subplot": "polar8",
         "theta": [
          "breadT",
          "bwriteT",
          "vmPerProc",
          "iowaitT",
          "utVstT"
         ],
         "type": "scatterpolar"
        },
        {
         "fill": "toself",
         "name": "19716",
         "opacity": 1,
         "r": [
          0.37560856864654335,
          0.03989071038251366,
          0.8898443898443898,
          0.010603048376408216,
          0.003599555096133057
         ],
         "subplot": "polar8",
         "theta": [
          "breadT",
          "bwriteT",
          "vmPerProc",
          "iowaitT",
          "utVstT"
         ],
         "type": "scatterpolar"
        },
        {
         "fill": "toself",
         "name": "6888",
         "opacity": 0.2,
         "r": [
          0.8128042843232717,
          0.04972677595628415,
          0.9761015561015561,
          0.010382151535233045,
          0.017143739311642984
         ],
         "subplot": "polar8",
         "theta": [
          "breadT",
          "bwriteT",
          "vmPerProc",
          "iowaitT",
          "utVstT"
         ],
         "type": "scatterpolar"
        },
        {
         "fill": "toself",
         "name": "6890",
         "opacity": 0.4,
         "r": [
          0.17599805258033105,
          0.03169398907103825,
          0.8898443898443898,
          0.009940357852882704,
          0.017046093962908303
         ],
         "subplot": "polar8",
         "theta": [
          "breadT",
          "bwriteT",
          "vmPerProc",
          "iowaitT",
          "utVstT"
         ],
         "type": "scatterpolar"
        },
        {
         "fill": "toself",
         "name": "6891",
         "opacity": 0.6,
         "r": [
          0.24805258033106134,
          0.03524590163934426,
          0.8901064701064701,
          0.009940357852882704,
          0.017161912383361535
         ],
         "subplot": "polar8",
         "theta": [
          "breadT",
          "bwriteT",
          "vmPerProc",
          "iowaitT",
          "utVstT"
         ],
         "type": "scatterpolar"
        },
        {
         "fill": "toself",
         "name": "21609",
         "opacity": 0.8,
         "r": [
          0.5523369036027264,
          0.027595628415300548,
          0.8893857493857494,
          0.01104484205875856,
          0.01630212293629736
         ],
         "subplot": "polar8",
         "theta": [
          "breadT",
          "bwriteT",
          "vmPerProc",
          "iowaitT",
          "utVstT"
         ],
         "type": "scatterpolar"
        },
        {
         "fill": "toself",
         "name": "20111",
         "opacity": 1,
         "r": [
          0.31061343719571566,
          0.031967213114754096,
          0.8902047502047502,
          0.009940357852882704,
          0.021997067226747227
         ],
         "subplot": "polar8",
         "theta": [
          "breadT",
          "bwriteT",
          "vmPerProc",
          "iowaitT",
          "utVstT"
         ],
         "type": "scatterpolar"
        },
        {
         "fill": "toself",
         "name": "21605",
         "opacity": 0.2,
         "r": [
          0.29771178188899705,
          0.0273224043715847,
          0.8928255528255529,
          0.015462778882261982,
          0.018823939560836583
         ],
         "subplot": "polar8",
         "theta": [
          "breadT",
          "bwriteT",
          "vmPerProc",
          "iowaitT",
          "utVstT"
         ],
         "type": "scatterpolar"
        },
        {
         "fill": "toself",
         "name": "19715",
         "opacity": 0.4,
         "r": [
          0.26022395326192793,
          0.03770491803278689,
          0.8899426699426699,
          0.010823945217583387,
          0.0038796192889181754
         ],
         "subplot": "polar8",
         "theta": [
          "breadT",
          "bwriteT",
          "vmPerProc",
          "iowaitT",
          "utVstT"
         ],
         "type": "scatterpolar"
        },
        {
         "fill": "toself",
         "name": "21610",
         "opacity": 0.6,
         "r": [
          0.15774099318403115,
          0.03169398907103825,
          0.8903357903357904,
          0.010382151535233045,
          0.017270699862895037
         ],
         "subplot": "polar8",
         "theta": [
          "breadT",
          "bwriteT",
          "vmPerProc",
          "iowaitT",
          "utVstT"
         ],
         "type": "scatterpolar"
        },
        {
         "fill": "toself",
         "name": "21608",
         "opacity": 0.8,
         "r": [
          0.37658227848101267,
          0.027049180327868853,
          0.8893857493857494,
          0.01568367572343715,
          0.01814874493697214
         ],
         "subplot": "polar8",
         "theta": [
          "breadT",
          "bwriteT",
          "vmPerProc",
          "iowaitT",
          "utVstT"
         ],
         "type": "scatterpolar"
        },
        {
         "fill": "toself",
         "name": "20107",
         "opacity": 1,
         "r": [
          0.4072541382667965,
          0.029508196721311476,
          0.8934316134316135,
          0.009940357852882704,
          0.018886506412398762
         ],
         "subplot": "polar8",
         "theta": [
          "breadT",
          "bwriteT",
          "vmPerProc",
          "iowaitT",
          "utVstT"
         ],
         "type": "scatterpolar"
        },
        {
         "fill": "toself",
         "name": "20112",
         "opacity": 0.2,
         "r": [
          0.28602726387536515,
          0.034972677595628415,
          0.8912039312039312,
          0.009719461011707531,
          0.014363108083569207
         ],
         "subplot": "polar8",
         "theta": [
          "breadT",
          "bwriteT",
          "vmPerProc",
          "iowaitT",
          "utVstT"
         ],
         "type": "scatterpolar"
        },
        {
         "fill": "toself",
         "name": "20110",
         "opacity": 0.4,
         "r": [
          0.2855404089581305,
          0.029781420765027322,
          0.8896642096642097,
          0.009940357852882704,
          0.017021229866076355
         ],
         "subplot": "polar8",
         "theta": [
          "breadT",
          "bwriteT",
          "vmPerProc",
          "iowaitT",
          "utVstT"
         ],
         "type": "scatterpolar"
        },
        {
         "fill": "toself",
         "name": "17403",
         "opacity": 0.6,
         "r": [
          0.03237585199610516,
          0.02540983606557377,
          0.6257166257166257,
          0,
          0.08266951709916998
         ],
         "subplot": "polar9",
         "theta": [
          "breadT",
          "bwriteT",
          "vmPerProc",
          "iowaitT",
          "utVstT"
         ],
         "type": "scatterpolar"
        },
        {
         "fill": "toself",
         "name": "17399",
         "opacity": 0.8,
         "r": [
          0.03602726387536514,
          0.06502732240437159,
          0.6228992628992629,
          0,
          0.05057640792738345
         ],
         "subplot": "polar9",
         "theta": [
          "breadT",
          "bwriteT",
          "vmPerProc",
          "iowaitT",
          "utVstT"
         ],
         "type": "scatterpolar"
        },
        {
         "fill": "toself",
         "name": "5339",
         "opacity": 1,
         "r": [
          0.09201557935735151,
          0,
          0.0004914004914004914,
          0,
          0.06807992703382044
         ],
         "subplot": "polar9",
         "theta": [
          "breadT",
          "bwriteT",
          "vmPerProc",
          "iowaitT",
          "utVstT"
         ],
         "type": "scatterpolar"
        },
        {
         "fill": "toself",
         "name": "15305",
         "opacity": 0.2,
         "r": [
          0.13656280428432327,
          0.02814207650273224,
          0.6191154791154792,
          0.00022089684117517118,
          0.11700915494451933
         ],
         "subplot": "polar9",
         "theta": [
          "breadT",
          "bwriteT",
          "vmPerProc",
          "iowaitT",
          "utVstT"
         ],
         "type": "scatterpolar"
        },
        {
         "fill": "toself",
         "name": "17402",
         "opacity": 0.4,
         "r": [
          0.025803310613437196,
          0.02814207650273224,
          0.6255692055692056,
          0,
          0.07561728639096381
         ],
         "subplot": "polar9",
         "theta": [
          "breadT",
          "bwriteT",
          "vmPerProc",
          "iowaitT",
          "utVstT"
         ],
         "type": "scatterpolar"
        },
        {
         "fill": "toself",
         "name": "17404",
         "opacity": 0.6,
         "r": [
          0.0009737098344693282,
          0.0273224043715847,
          0.6197870597870598,
          0,
          0.0572026654685705
         ],
         "subplot": "polar9",
         "theta": [
          "breadT",
          "bwriteT",
          "vmPerProc",
          "iowaitT",
          "utVstT"
         ],
         "type": "scatterpolar"
        },
        {
         "fill": "toself",
         "name": "15306",
         "opacity": 0.8,
         "r": [
          0.04016553067185979,
          0.018852459016393444,
          0.609041769041769,
          0,
          0.04959252983865206
         ],
         "subplot": "polar9",
         "theta": [
          "breadT",
          "bwriteT",
          "vmPerProc",
          "iowaitT",
          "utVstT"
         ],
         "type": "scatterpolar"
        },
        {
         "fill": "toself",
         "name": "15307",
         "opacity": 1,
         "r": [
          0,
          0.031420765027322405,
          0.6042588042588043,
          0,
          0.060411721027461646
         ],
         "subplot": "polar9",
         "theta": [
          "breadT",
          "bwriteT",
          "vmPerProc",
          "iowaitT",
          "utVstT"
         ],
         "type": "scatterpolar"
        },
        {
         "fill": "toself",
         "name": "5856",
         "opacity": 0.2,
         "r": [
          0.038461538461538464,
          0.10601092896174863,
          0.6227518427518427,
          0,
          0.03344760285510679
         ],
         "subplot": "polar10",
         "theta": [
          "breadT",
          "bwriteT",
          "vmPerProc",
          "iowaitT",
          "utVstT"
         ],
         "type": "scatterpolar"
        },
        {
         "fill": "toself",
         "name": "17767",
         "opacity": 0.4,
         "r": [
          0.03675754625121714,
          0.09754098360655737,
          0.6236363636363637,
          0,
          0.035446195238645443
         ],
         "subplot": "polar10",
         "theta": [
          "breadT",
          "bwriteT",
          "vmPerProc",
          "iowaitT",
          "utVstT"
         ],
         "type": "scatterpolar"
        },
        {
         "fill": "toself",
         "name": "15670",
         "opacity": 0.6,
         "r": [
          0.021908471275559883,
          0.11229508196721312,
          0.6220966420966421,
          0,
          0.031764021742576365
         ],
         "subplot": "polar10",
         "theta": [
          "breadT",
          "bwriteT",
          "vmPerProc",
          "iowaitT",
          "utVstT"
         ],
         "type": "scatterpolar"
        },
        {
         "fill": "toself",
         "name": "15671",
         "opacity": 0.8,
         "r": [
          0.025803310613437196,
          0.14207650273224043,
          0.622014742014742,
          0,
          0.009087274699464798
         ],
         "subplot": "polar10",
         "theta": [
          "breadT",
          "bwriteT",
          "vmPerProc",
          "iowaitT",
          "utVstT"
         ],
         "type": "scatterpolar"
        },
        {
         "fill": "toself",
         "name": "17771",
         "opacity": 1,
         "r": [
          0.0182570593962999,
          0.15382513661202185,
          0.6225880425880426,
          0,
          0.036751218769973705
         ],
         "subplot": "polar10",
         "theta": [
          "breadT",
          "bwriteT",
          "vmPerProc",
          "iowaitT",
          "utVstT"
         ],
         "type": "scatterpolar"
        },
        {
         "fill": "toself",
         "name": "12355",
         "opacity": 0.2,
         "r": [
          0.02653359298928919,
          0.07377049180327869,
          0.6175429975429976,
          0,
          0.030023853899857546
         ],
         "subplot": "polar10",
         "theta": [
          "breadT",
          "bwriteT",
          "vmPerProc",
          "iowaitT",
          "utVstT"
         ],
         "type": "scatterpolar"
        },
        {
         "fill": "toself",
         "name": "15669",
         "opacity": 0.4,
         "r": [
          0.13875365141187926,
          0.6857923497267759,
          0.6364946764946765,
          0.005301524188204108,
          0.07153411122400442
         ],
         "subplot": "polar10",
         "theta": [
          "breadT",
          "bwriteT",
          "vmPerProc",
          "iowaitT",
          "utVstT"
         ],
         "type": "scatterpolar"
        },
        {
         "fill": "toself",
         "name": "5853",
         "opacity": 0.6,
         "r": [
          0.034323271665043814,
          0.08989071038251366,
          0.6219328419328419,
          0,
          0.03882547960566884
         ],
         "subplot": "polar10",
         "theta": [
          "breadT",
          "bwriteT",
          "vmPerProc",
          "iowaitT",
          "utVstT"
         ],
         "type": "scatterpolar"
        },
        {
         "fill": "toself",
         "name": "12356",
         "opacity": 0.8,
         "r": [
          0.0311587147030185,
          0.14098360655737704,
          0.6237346437346437,
          0,
          0.021125124640151986
         ],
         "subplot": "polar10",
         "theta": [
          "breadT",
          "bwriteT",
          "vmPerProc",
          "iowaitT",
          "utVstT"
         ],
         "type": "scatterpolar"
        },
        {
         "fill": "toself",
         "name": "17772",
         "opacity": 1,
         "r": [
          0,
          0.06475409836065574,
          0.616068796068796,
          0,
          0.0198926366083849
         ],
         "subplot": "polar10",
         "theta": [
          "breadT",
          "bwriteT",
          "vmPerProc",
          "iowaitT",
          "utVstT"
         ],
         "type": "scatterpolar"
        },
        {
         "fill": "toself",
         "name": "5857",
         "opacity": 0.2,
         "r": [
          0.0182570593962999,
          0.11693989071038251,
          0.6237510237510238,
          0,
          0.03708141093209736
         ],
         "subplot": "polar10",
         "theta": [
          "breadT",
          "bwriteT",
          "vmPerProc",
          "iowaitT",
          "utVstT"
         ],
         "type": "scatterpolar"
        },
        {
         "fill": "toself",
         "name": "17770",
         "opacity": 0.4,
         "r": [
          0.03943524829600779,
          0.0953551912568306,
          0.6192137592137592,
          0,
          0.05621978543490022
         ],
         "subplot": "polar10",
         "theta": [
          "breadT",
          "bwriteT",
          "vmPerProc",
          "iowaitT",
          "utVstT"
         ],
         "type": "scatterpolar"
        },
        {
         "fill": "toself",
         "name": "15672",
         "opacity": 0.6,
         "r": [
          0.0012171372930866603,
          0.0773224043715847,
          0.6172317772317772,
          0,
          0.044572883449103734
         ],
         "subplot": "polar10",
         "theta": [
          "breadT",
          "bwriteT",
          "vmPerProc",
          "iowaitT",
          "utVstT"
         ],
         "type": "scatterpolar"
        },
        {
         "fill": "toself",
         "name": "5858",
         "opacity": 0.8,
         "r": [
          0.0009737098344693282,
          0.09699453551912568,
          0.6159049959049959,
          0,
          0.01985235567972712
         ],
         "subplot": "polar10",
         "theta": [
          "breadT",
          "bwriteT",
          "vmPerProc",
          "iowaitT",
          "utVstT"
         ],
         "type": "scatterpolar"
        },
        {
         "fill": "toself",
         "name": "12352",
         "opacity": 1,
         "r": [
          0.03481012658227848,
          0.07404371584699454,
          0.6222604422604423,
          0,
          0.02008640586607503
         ],
         "subplot": "polar10",
         "theta": [
          "breadT",
          "bwriteT",
          "vmPerProc",
          "iowaitT",
          "utVstT"
         ],
         "type": "scatterpolar"
        },
        {
         "fill": "toself",
         "name": "12357",
         "opacity": 0.2,
         "r": [
          0,
          0.0546448087431694,
          0.6156756756756757,
          0,
          0.012401656227389615
         ],
         "subplot": "polar10",
         "theta": [
          "breadT",
          "bwriteT",
          "vmPerProc",
          "iowaitT",
          "utVstT"
         ],
         "type": "scatterpolar"
        },
        {
         "fill": "toself",
         "name": "17174",
         "opacity": 0.4,
         "r": [
          0.44668938656280427,
          0.036065573770491806,
          1,
          0.010823945217583387,
          0.256859091932753
         ],
         "subplot": "polar11",
         "theta": [
          "breadT",
          "bwriteT",
          "vmPerProc",
          "iowaitT",
          "utVstT"
         ],
         "type": "scatterpolar"
        },
        {
         "fill": "toself",
         "name": "17176",
         "opacity": 0.6,
         "r": [
          0.6338851022395326,
          0.01557377049180328,
          0.9165929565929566,
          0.010382151535233045,
          0.06329959157862634
         ],
         "subplot": "polar11",
         "theta": [
          "breadT",
          "bwriteT",
          "vmPerProc",
          "iowaitT",
          "utVstT"
         ],
         "type": "scatterpolar"
        },
        {
         "fill": "toself",
         "name": "13726",
         "opacity": 0.8,
         "r": [
          0.21299902629016554,
          0.01448087431693989,
          0.9169041769041769,
          0.005964214711729622,
          0.06237420073733788
         ],
         "subplot": "polar11",
         "theta": [
          "breadT",
          "bwriteT",
          "vmPerProc",
          "iowaitT",
          "utVstT"
         ],
         "type": "scatterpolar"
        },
        {
         "fill": "toself",
         "name": "13722",
         "opacity": 1,
         "r": [
          0.4286757546251217,
          0.015300546448087432,
          0.9211138411138411,
          0.005964214711729622,
          0.06328046562326445
         ],
         "subplot": "polar11",
         "theta": [
          "breadT",
          "bwriteT",
          "vmPerProc",
          "iowaitT",
          "utVstT"
         ],
         "type": "scatterpolar"
        },
        {
         "fill": "toself",
         "name": "17175",
         "opacity": 0.2,
         "r": [
          0.19255111976630965,
          0.01639344262295082,
          0.9164455364455364,
          0.010603048376408216,
          0.05992034976758242
         ],
         "subplot": "polar11",
         "theta": [
          "breadT",
          "bwriteT",
          "vmPerProc",
          "iowaitT",
          "utVstT"
         ],
         "type": "scatterpolar"
        },
        {
         "fill": "toself",
         "name": "19239",
         "opacity": 0.4,
         "r": [
          0.27945472249269715,
          0.015300546448087432,
          0.9247338247338247,
          0.010161254694057875,
          0.059133854185782285
         ],
         "subplot": "polar11",
         "theta": [
          "breadT",
          "bwriteT",
          "vmPerProc",
          "iowaitT",
          "utVstT"
         ],
         "type": "scatterpolar"
        },
        {
         "fill": "toself",
         "name": "17177",
         "opacity": 0.6,
         "r": [
          0.22882181110029212,
          0.015846994535519125,
          0.9162981162981163,
          0.010382151535233045,
          0.05924796487860463
         ],
         "subplot": "polar11",
         "theta": [
          "breadT",
          "bwriteT",
          "vmPerProc",
          "iowaitT",
          "utVstT"
         ],
         "type": "scatterpolar"
        },
        {
         "fill": "toself",
         "name": "13727",
         "opacity": 0.8,
         "r": [
          0.3941090555014606,
          0.015300546448087432,
          0.9177395577395577,
          0.005964214711729622,
          0.062288153888254934
         ],
         "subplot": "polar11",
         "theta": [
          "breadT",
          "bwriteT",
          "vmPerProc",
          "iowaitT",
          "utVstT"
         ],
         "type": "scatterpolar"
        },
        {
         "fill": "toself",
         "name": "19244",
         "opacity": 1,
         "r": [
          0.25584225900681595,
          0.012841530054644808,
          0.9165438165438166,
          0.005743317870554451,
          0.06247424553265241
         ],
         "subplot": "polar11",
         "theta": [
          "breadT",
          "bwriteT",
          "vmPerProc",
          "iowaitT",
          "utVstT"
         ],
         "type": "scatterpolar"
        },
        {
         "fill": "toself",
         "name": "8132",
         "opacity": 0.2,
         "r": [
          0.5104673807205453,
          0.01721311475409836,
          0.9183456183456183,
          0.01104484205875856,
          0.0758536496957219
         ],
         "subplot": "polar11",
         "theta": [
          "breadT",
          "bwriteT",
          "vmPerProc",
          "iowaitT",
          "utVstT"
         ],
         "type": "scatterpolar"
        },
        {
         "fill": "toself",
         "name": "8136",
         "opacity": 0.4,
         "r": [
          0.3958130477117819,
          0.016666666666666666,
          0.9172153972153972,
          0.01104484205875856,
          0.07340901859701733
         ],
         "subplot": "polar11",
         "theta": [
          "breadT",
          "bwriteT",
          "vmPerProc",
          "iowaitT",
          "utVstT"
         ],
         "type": "scatterpolar"
        },
        {
         "fill": "toself",
         "name": "8138",
         "opacity": 0.6,
         "r": [
          0.17429406037000975,
          0.014207650273224045,
          0.9177231777231777,
          0.01104484205875856,
          0.0785351517004436
         ],
         "subplot": "polar11",
         "theta": [
          "breadT",
          "bwriteT",
          "vmPerProc",
          "iowaitT",
          "utVstT"
         ],
         "type": "scatterpolar"
        },
        {
         "fill": "toself",
         "name": "19242",
         "opacity": 0.8,
         "r": [
          0.4352482960077897,
          0.014207650273224045,
          0.9165929565929566,
          0.010161254694057875,
          0.06083846491364816
         ],
         "subplot": "polar11",
         "theta": [
          "breadT",
          "bwriteT",
          "vmPerProc",
          "iowaitT",
          "utVstT"
         ],
         "type": "scatterpolar"
        },
        {
         "fill": "toself",
         "name": "19243",
         "opacity": 1,
         "r": [
          0.4096884128529698,
          0.015027322404371584,
          0.9163308763308763,
          0.005743317870554451,
          0.05701139877724135
         ],
         "subplot": "polar11",
         "theta": [
          "breadT",
          "bwriteT",
          "vmPerProc",
          "iowaitT",
          "utVstT"
         ],
         "type": "scatterpolar"
        },
        {
         "fill": "toself",
         "name": "13728",
         "opacity": 0.2,
         "r": [
          0.12658227848101267,
          0.01366120218579235,
          0.9165601965601966,
          0.00552242102937928,
          0.06629885420321979
         ],
         "subplot": "polar11",
         "theta": [
          "breadT",
          "bwriteT",
          "vmPerProc",
          "iowaitT",
          "utVstT"
         ],
         "type": "scatterpolar"
        },
        {
         "fill": "toself",
         "name": "8137",
         "opacity": 0.4,
         "r": [
          0.32181110029211296,
          0.01639344262295082,
          0.9167731367731368,
          0.0064060083940799635,
          0.07507308336728152
         ],
         "subplot": "polar11",
         "theta": [
          "breadT",
          "bwriteT",
          "vmPerProc",
          "iowaitT",
          "utVstT"
         ],
         "type": "scatterpolar"
        },
        {
         "fill": "toself",
         "name": "17478",
         "opacity": 0.6,
         "r": [
          0.27069133398247325,
          0.037978142076502734,
          0.8898443898443898,
          0.006185111552904793,
          0.014841994913094916
         ],
         "subplot": "polar12",
         "theta": [
          "breadT",
          "bwriteT",
          "vmPerProc",
          "iowaitT",
          "utVstT"
         ],
         "type": "scatterpolar"
        },
        {
         "fill": "toself",
         "name": "13994",
         "opacity": 0.8,
         "r": [
          0.2370983446932814,
          0.03907103825136612,
          0.89002457002457,
          0.005743317870554451,
          0.007392013130596256
         ],
         "subplot": "polar12",
         "theta": [
          "breadT",
          "bwriteT",
          "vmPerProc",
          "iowaitT",
          "utVstT"
         ],
         "type": "scatterpolar"
        },
        {
         "fill": "toself",
         "name": "17476",
         "opacity": 1,
         "r": [
          0.3617332035053554,
          0.054098360655737705,
          0.9719082719082719,
          0.01104484205875856,
          0.018913237025573255
         ],
         "subplot": "polar12",
         "theta": [
          "breadT",
          "bwriteT",
          "vmPerProc",
          "iowaitT",
          "utVstT"
         ],
         "type": "scatterpolar"
        },
        {
         "fill": "toself",
         "name": "17477",
         "opacity": 0.2,
         "r": [
          0.4065238558909445,
          0.03469945355191257,
          0.8896969696969697,
          0.006185111552904793,
          0.013834469781939057
         ],
         "subplot": "polar12",
         "theta": [
          "breadT",
          "bwriteT",
          "vmPerProc",
          "iowaitT",
          "utVstT"
         ],
         "type": "scatterpolar"
        },
        {
         "fill": "toself",
         "name": "13995",
         "opacity": 0.4,
         "r": [
          0.6037000973709834,
          0.03961748633879782,
          0.8898607698607699,
          0.005743317870554451,
          0.00496581587092601
         ],
         "subplot": "polar12",
         "theta": [
          "breadT",
          "bwriteT",
          "vmPerProc",
          "iowaitT",
          "utVstT"
         ],
         "type": "scatterpolar"
        },
        {
         "fill": "toself",
         "name": "13992",
         "opacity": 0.6,
         "r": [
          0.20934761441090555,
          0.03907103825136612,
          0.8899099099099099,
          0.005743317870554451,
          0.008043223402034236
         ],
         "subplot": "polar12",
         "theta": [
          "breadT",
          "bwriteT",
          "vmPerProc",
          "iowaitT",
          "utVstT"
         ],
         "type": "scatterpolar"
        },
        {
         "fill": "toself",
         "name": "17479",
         "opacity": 0.8,
         "r": [
          0.4462025316455696,
          0.040983606557377046,
          0.8900900900900901,
          0.010603048376408216,
          0.012633002173421984
         ],
         "subplot": "polar12",
         "theta": [
          "breadT",
          "bwriteT",
          "vmPerProc",
          "iowaitT",
          "utVstT"
         ],
         "type": "scatterpolar"
        },
        {
         "fill": "toself",
         "name": "8516",
         "opacity": 1,
         "r": [
          0.4824732229795521,
          0.02814207650273224,
          0.8903194103194103,
          0.010823945217583387,
          0.020846724794227764
         ],
         "subplot": "polar12",
         "theta": [
          "breadT",
          "bwriteT",
          "vmPerProc",
          "iowaitT",
          "utVstT"
         ],
         "type": "scatterpolar"
        },
        {
         "fill": "toself",
         "name": "8519",
         "opacity": 0.2,
         "r": [
          0.39727361246348586,
          0.029234972677595627,
          0.8893857493857494,
          0.010823945217583387,
          0.021774525031662786
         ],
         "subplot": "polar12",
         "theta": [
          "breadT",
          "bwriteT",
          "vmPerProc",
          "iowaitT",
          "utVstT"
         ],
         "type": "scatterpolar"
        },
        {
         "fill": "toself",
         "name": "8521",
         "opacity": 0.4,
         "r": [
          0.2256572541382668,
          0.031967213114754096,
          0.8906797706797707,
          0.010603048376408216,
          0.017593789404080094
         ],
         "subplot": "polar12",
         "theta": [
          "breadT",
          "bwriteT",
          "vmPerProc",
          "iowaitT",
          "utVstT"
         ],
         "type": "scatterpolar"
        },
        {
         "fill": "toself",
         "name": "13996",
         "opacity": 0.6,
         "r": [
          0.09298928919182084,
          0.047540983606557376,
          0.8910565110565111,
          0.005301524188204108,
          0.007984537838670066
         ],
         "subplot": "polar12",
         "theta": [
          "breadT",
          "bwriteT",
          "vmPerProc",
          "iowaitT",
          "utVstT"
         ],
         "type": "scatterpolar"
        },
        {
         "fill": "toself",
         "name": "19516",
         "opacity": 0.8,
         "r": [
          0.22322297955209347,
          0.028688524590163935,
          0.8896642096642097,
          0.010603048376408216,
          0.015314257631834728
         ],
         "subplot": "polar12",
         "theta": [
          "breadT",
          "bwriteT",
          "vmPerProc",
          "iowaitT",
          "utVstT"
         ],
         "type": "scatterpolar"
        },
        {
         "fill": "toself",
         "name": "8520",
         "opacity": 1,
         "r": [
          0.28310613437195714,
          0.028688524590163935,
          0.8902047502047502,
          0.010603048376408216,
          0.017314365095315924
         ],
         "subplot": "polar12",
         "theta": [
          "breadT",
          "bwriteT",
          "vmPerProc",
          "iowaitT",
          "utVstT"
         ],
         "type": "scatterpolar"
        },
        {
         "fill": "toself",
         "name": "19517",
         "opacity": 0.2,
         "r": [
          0.22224926971762415,
          0.03333333333333333,
          0.8912694512694512,
          0.010382151535233045,
          0.013274042691560255
         ],
         "subplot": "polar12",
         "theta": [
          "breadT",
          "bwriteT",
          "vmPerProc",
          "iowaitT",
          "utVstT"
         ],
         "type": "scatterpolar"
        },
        {
         "fill": "toself",
         "name": "19511",
         "opacity": 0.4,
         "r": [
          0.39703018500486853,
          0.027595628415300548,
          0.891924651924652,
          0.010603048376408216,
          0.014816764211632581
         ],
         "subplot": "polar12",
         "theta": [
          "breadT",
          "bwriteT",
          "vmPerProc",
          "iowaitT",
          "utVstT"
         ],
         "type": "scatterpolar"
        },
        {
         "fill": "toself",
         "name": "19515",
         "opacity": 0.6,
         "r": [
          0.46592015579357354,
          0.027595628415300548,
          0.8896642096642097,
          0.010382151535233045,
          0.01653069574466417
         ],
         "subplot": "polar12",
         "theta": [
          "breadT",
          "bwriteT",
          "vmPerProc",
          "iowaitT",
          "utVstT"
         ],
         "type": "scatterpolar"
        },
        {
         "fill": "toself",
         "name": "21169",
         "opacity": 0.8,
         "r": [
          0.03359298928919182,
          0.041530054644808745,
          0.6254709254709254,
          0,
          0.0985545015093325
         ],
         "subplot": "polar13",
         "theta": [
          "breadT",
          "bwriteT",
          "vmPerProc",
          "iowaitT",
          "utVstT"
         ],
         "type": "scatterpolar"
        },
        {
         "fill": "toself",
         "name": "21172",
         "opacity": 1,
         "r": [
          0.024342745861733205,
          0.05874316939890711,
          0.6235053235053235,
          0,
          0.07206513879400701
         ],
         "subplot": "polar13",
         "theta": [
          "breadT",
          "bwriteT",
          "vmPerProc",
          "iowaitT",
          "utVstT"
         ],
         "type": "scatterpolar"
        },
        {
         "fill": "toself",
         "name": "8003",
         "opacity": 0.2,
         "r": [
          0.0004868549172346641,
          0.0273224043715847,
          0.6246027846027846,
          0,
          0.09552561024772331
         ],
         "subplot": "polar13",
         "theta": [
          "breadT",
          "bwriteT",
          "vmPerProc",
          "iowaitT",
          "utVstT"
         ],
         "type": "scatterpolar"
        },
        {
         "fill": "toself",
         "name": "8001",
         "opacity": 0.4,
         "r": [
          0.024829600778967866,
          0.03087431693989071,
          0.6237510237510238,
          0,
          0.08971206381943794
         ],
         "subplot": "polar13",
         "theta": [
          "breadT",
          "bwriteT",
          "vmPerProc",
          "iowaitT",
          "utVstT"
         ],
         "type": "scatterpolar"
        },
        {
         "fill": "toself",
         "name": "8000",
         "opacity": 0.6,
         "r": [
          0.10443037974683544,
          0.03879781420765027,
          0.6352006552006552,
          0.00022089684117517118,
          0.11438804745739824
         ],
         "subplot": "polar13",
         "theta": [
          "breadT",
          "bwriteT",
          "vmPerProc",
          "iowaitT",
          "utVstT"
         ],
         "type": "scatterpolar"
        },
        {
         "fill": "toself",
         "name": "8002",
         "opacity": 0.8,
         "r": [
          0.04016553067185979,
          0.07896174863387978,
          0.6199344799344799,
          0,
          0.04888099471426505
         ],
         "subplot": "polar13",
         "theta": [
          "breadT",
          "bwriteT",
          "vmPerProc",
          "iowaitT",
          "utVstT"
         ],
         "type": "scatterpolar"
        },
        {
         "fill": "toself",
         "name": "21173",
         "opacity": 1,
         "r": [
          0,
          0.04180327868852459,
          0.621998361998362,
          0,
          0.06170189500513581
         ],
         "subplot": "polar13",
         "theta": [
          "breadT",
          "bwriteT",
          "vmPerProc",
          "iowaitT",
          "utVstT"
         ],
         "type": "scatterpolar"
        },
        {
         "fill": "toself",
         "name": "21168",
         "opacity": 0.2,
         "r": [
          0.034323271665043814,
          0.06229508196721312,
          0.6205077805077805,
          0,
          0.07156539536338898
         ],
         "subplot": "polar13",
         "theta": [
          "breadT",
          "bwriteT",
          "vmPerProc",
          "iowaitT",
          "utVstT"
         ],
         "type": "scatterpolar"
        },
        {
         "fill": "toself",
         "name": "22880",
         "opacity": 0.4,
         "r": [
          0.05038948393378773,
          0.09398907103825137,
          0.6226371826371826,
          0,
          0.038282377418682664
         ],
         "subplot": "polar14",
         "theta": [
          "breadT",
          "bwriteT",
          "vmPerProc",
          "iowaitT",
          "utVstT"
         ],
         "type": "scatterpolar"
        },
        {
         "fill": "toself",
         "name": "22886",
         "opacity": 0.6,
         "r": [
          0,
          0.07486338797814207,
          0.6157739557739558,
          0,
          0.024091728224583674
         ],
         "subplot": "polar14",
         "theta": [
          "breadT",
          "bwriteT",
          "vmPerProc",
          "iowaitT",
          "utVstT"
         ],
         "type": "scatterpolar"
        },
        {
         "fill": "toself",
         "name": "20841",
         "opacity": 0.8,
         "r": [
          0.019717624148003893,
          0.123224043715847,
          0.621998361998362,
          0,
          0.026453764833555778
         ],
         "subplot": "polar14",
         "theta": [
          "breadT",
          "bwriteT",
          "vmPerProc",
          "iowaitT",
          "utVstT"
         ],
         "type": "scatterpolar"
        },
        {
         "fill": "toself",
         "name": "8137",
         "opacity": 1,
         "r": [
          0.12098344693281401,
          0.6863387978142077,
          0.6357739557739558,
          0.0028716589352772255,
          0.07363677489645866
         ],
         "subplot": "polar14",
         "theta": [
          "breadT",
          "bwriteT",
          "vmPerProc",
          "iowaitT",
          "utVstT"
         ],
         "type": "scatterpolar"
        },
        {
         "fill": "toself",
         "name": "8139",
         "opacity": 0.2,
         "r": [
          0.033106134371957155,
          0.1319672131147541,
          0.6223587223587224,
          0,
          0.01584479949272936
         ],
         "subplot": "polar14",
         "theta": [
          "breadT",
          "bwriteT",
          "vmPerProc",
          "iowaitT",
          "utVstT"
         ],
         "type": "scatterpolar"
        },
        {
         "fill": "toself",
         "name": "20839",
         "opacity": 0.4,
         "r": [
          0.042599805258033106,
          0.06639344262295081,
          0.6194103194103194,
          0,
          0.04277373295480253
         ],
         "subplot": "polar14",
         "theta": [
          "breadT",
          "bwriteT",
          "vmPerProc",
          "iowaitT",
          "utVstT"
         ],
         "type": "scatterpolar"
        },
        {
         "fill": "toself",
         "name": "21295",
         "opacity": 0.6,
         "r": [
          0.0031645569620253164,
          0.29180327868852457,
          0.6227518427518427,
          0,
          0.04728814260432603
         ],
         "subplot": "polar14",
         "theta": [
          "breadT",
          "bwriteT",
          "vmPerProc",
          "iowaitT",
          "utVstT"
         ],
         "type": "scatterpolar"
        },
        {
         "fill": "toself",
         "name": "8140",
         "opacity": 0.8,
         "r": [
          0.0004868549172346641,
          0.06666666666666667,
          0.6171171171171171,
          0,
          0.062037988693781035
         ],
         "subplot": "polar14",
         "theta": [
          "breadT",
          "bwriteT",
          "vmPerProc",
          "iowaitT",
          "utVstT"
         ],
         "type": "scatterpolar"
        },
        {
         "fill": "toself",
         "name": "20843",
         "opacity": 1,
         "r": [
          0.0009737098344693282,
          0.051092896174863386,
          0.6176412776412776,
          0,
          0.022299941423053776
         ],
         "subplot": "polar14",
         "theta": [
          "breadT",
          "bwriteT",
          "vmPerProc",
          "iowaitT",
          "utVstT"
         ],
         "type": "scatterpolar"
        },
        {
         "fill": "toself",
         "name": "8138",
         "opacity": 0.2,
         "r": [
          0.02629016553067186,
          0.10437158469945355,
          0.6232596232596233,
          0,
          0.040821782831251666
         ],
         "subplot": "polar14",
         "theta": [
          "breadT",
          "bwriteT",
          "vmPerProc",
          "iowaitT",
          "utVstT"
         ],
         "type": "scatterpolar"
        },
        {
         "fill": "toself",
         "name": "22881",
         "opacity": 0.4,
         "r": [
          0,
          0.09890710382513661,
          0.623063063063063,
          0,
          0.047845779399064946
         ],
         "subplot": "polar14",
         "theta": [
          "breadT",
          "bwriteT",
          "vmPerProc",
          "iowaitT",
          "utVstT"
         ],
         "type": "scatterpolar"
        },
        {
         "fill": "toself",
         "name": "20838",
         "opacity": 0.6,
         "r": [
          0.027994157740993186,
          0.07240437158469945,
          0.6235872235872236,
          0,
          0.025272827763135712
         ],
         "subplot": "polar14",
         "theta": [
          "breadT",
          "bwriteT",
          "vmPerProc",
          "iowaitT",
          "utVstT"
         ],
         "type": "scatterpolar"
        },
        {
         "fill": "toself",
         "name": "21293",
         "opacity": 0.8,
         "r": [
          0.043573515092502436,
          0.16311475409836065,
          0.6185585585585586,
          0,
          0.06971748060750914
         ],
         "subplot": "polar14",
         "theta": [
          "breadT",
          "bwriteT",
          "vmPerProc",
          "iowaitT",
          "utVstT"
         ],
         "type": "scatterpolar"
        },
        {
         "fill": "toself",
         "name": "22879",
         "opacity": 1,
         "r": [
          0.04454722492697176,
          0.09016393442622951,
          0.6228828828828828,
          0,
          0.05067726281434427
         ],
         "subplot": "polar14",
         "theta": [
          "breadT",
          "bwriteT",
          "vmPerProc",
          "iowaitT",
          "utVstT"
         ],
         "type": "scatterpolar"
        },
        {
         "fill": "toself",
         "name": "21296",
         "opacity": 0.2,
         "r": [
          0,
          0.12814207650273224,
          0.6152497952497953,
          0,
          0.02481127861560744
         ],
         "subplot": "polar14",
         "theta": [
          "breadT",
          "bwriteT",
          "vmPerProc",
          "iowaitT",
          "utVstT"
         ],
         "type": "scatterpolar"
        },
        {
         "fill": "toself",
         "name": "21290",
         "opacity": 0.4,
         "r": [
          0.046251217137293084,
          0.1483606557377049,
          0.6231122031122032,
          0,
          0.043486421736655706
         ],
         "subplot": "polar14",
         "theta": [
          "breadT",
          "bwriteT",
          "vmPerProc",
          "iowaitT",
          "utVstT"
         ],
         "type": "scatterpolar"
        },
        {
         "fill": "toself",
         "name": "8699",
         "opacity": 0.6,
         "r": [
          0.4223466407010711,
          0.05218579234972678,
          0.9719082719082719,
          0.00552242102937928,
          0.018522114747979747
         ],
         "subplot": "polar15",
         "theta": [
          "breadT",
          "bwriteT",
          "vmPerProc",
          "iowaitT",
          "utVstT"
         ],
         "type": "scatterpolar"
        },
        {
         "fill": "toself",
         "name": "8701",
         "opacity": 0.8,
         "r": [
          0.13851022395326193,
          0.03333333333333333,
          0.8898116298116298,
          0.005301524188204108,
          0.015128618315345841
         ],
         "subplot": "polar15",
         "theta": [
          "breadT",
          "bwriteT",
          "vmPerProc",
          "iowaitT",
          "utVstT"
         ],
         "type": "scatterpolar"
        },
        {
         "fill": "toself",
         "name": "8700",
         "opacity": 1,
         "r": [
          0.33714703018500486,
          0.030054644808743168,
          0.8896969696969697,
          0.005301524188204108,
          0.01734603509549617
         ],
         "subplot": "polar15",
         "theta": [
          "breadT",
          "bwriteT",
          "vmPerProc",
          "iowaitT",
          "utVstT"
         ],
         "type": "scatterpolar"
        },
        {
         "fill": "toself",
         "name": "21373",
         "opacity": 0.2,
         "r": [
          0.17964946445959104,
          0.03415300546448088,
          0.8939066339066339,
          0.010161254694057875,
          0.006651542251769012
         ],
         "subplot": "polar15",
         "theta": [
          "breadT",
          "bwriteT",
          "vmPerProc",
          "iowaitT",
          "utVstT"
         ],
         "type": "scatterpolar"
        },
        {
         "fill": "toself",
         "name": "23373",
         "opacity": 0.4,
         "r": [
          0.3885102239532619,
          0.029781420765027322,
          0.8983783783783784,
          0.015020985199911642,
          0.018152755776851444
         ],
         "subplot": "polar15",
         "theta": [
          "breadT",
          "bwriteT",
          "vmPerProc",
          "iowaitT",
          "utVstT"
         ],
         "type": "scatterpolar"
        },
        {
         "fill": "toself",
         "name": "21782",
         "opacity": 0.6,
         "r": [
          0.433300876338851,
          0.025956284153005466,
          0.893022113022113,
          0.009719461011707531,
          0.019113420379115748
         ],
         "subplot": "polar15",
         "theta": [
          "breadT",
          "bwriteT",
          "vmPerProc",
          "iowaitT",
          "utVstT"
         ],
         "type": "scatterpolar"
        },
        {
         "fill": "toself",
         "name": "23377",
         "opacity": 0.8,
         "r": [
          0.4079844206426485,
          0.02896174863387978,
          0.8894021294021294,
          0.015020985199911642,
          0.014292301491637611
         ],
         "subplot": "polar15",
         "theta": [
          "breadT",
          "bwriteT",
          "vmPerProc",
          "iowaitT",
          "utVstT"
         ],
         "type": "scatterpolar"
        },
        {
         "fill": "toself",
         "name": "21377",
         "opacity": 1,
         "r": [
          0.27872444011684516,
          0.037431693989071035,
          0.8900900900900901,
          0.010161254694057875,
          0.008224132489554373
         ],
         "subplot": "polar15",
         "theta": [
          "breadT",
          "bwriteT",
          "vmPerProc",
          "iowaitT",
          "utVstT"
         ],
         "type": "scatterpolar"
        },
        {
         "fill": "toself",
         "name": "21378",
         "opacity": 0.2,
         "r": [
          0.24951314508276534,
          0.04234972677595628,
          0.8906306306306306,
          0.010382151535233045,
          0.00834421281480574
         ],
         "subplot": "polar15",
         "theta": [
          "breadT",
          "bwriteT",
          "vmPerProc",
          "iowaitT",
          "utVstT"
         ],
         "type": "scatterpolar"
        },
        {
         "fill": "toself",
         "name": "21375",
         "opacity": 0.4,
         "r": [
          0.4259980525803311,
          0.036885245901639344,
          0.8908927108927109,
          0.010382151535233045,
          0.008571434747097038
         ],
         "subplot": "polar15",
         "theta": [
          "breadT",
          "bwriteT",
          "vmPerProc",
          "iowaitT",
          "utVstT"
         ],
         "type": "scatterpolar"
        },
        {
         "fill": "toself",
         "name": "23378",
         "opacity": 0.6,
         "r": [
          0.13096397273612465,
          0.03442622950819672,
          0.8895167895167895,
          0.015020985199911642,
          0.014897066228332088
         ],
         "subplot": "polar15",
         "theta": [
          "breadT",
          "bwriteT",
          "vmPerProc",
          "iowaitT",
          "utVstT"
         ],
         "type": "scatterpolar"
        },
        {
         "fill": "toself",
         "name": "21786",
         "opacity": 0.8,
         "r": [
          0.17259006815968841,
          0.027049180327868853,
          0.8897952497952498,
          0.00949856417053236,
          0.01888773944171094
         ],
         "subplot": "polar15",
         "theta": [
          "breadT",
          "bwriteT",
          "vmPerProc",
          "iowaitT",
          "utVstT"
         ],
         "type": "scatterpolar"
        },
        {
         "fill": "toself",
         "name": "23376",
         "opacity": 1,
         "r": [
          0.46324245374878287,
          0.02896174863387978,
          0.8895331695331695,
          0.015020985199911642,
          0.01581054005115978
         ],
         "subplot": "polar15",
         "theta": [
          "breadT",
          "bwriteT",
          "vmPerProc",
          "iowaitT",
          "utVstT"
         ],
         "type": "scatterpolar"
        },
        {
         "fill": "toself",
         "name": "8702",
         "opacity": 0.2,
         "r": [
          0.5131450827653359,
          0.038524590163934426,
          0.8901064701064701,
          0.005080627347028938,
          0.012616548299997137
         ],
         "subplot": "polar15",
         "theta": [
          "breadT",
          "bwriteT",
          "vmPerProc",
          "iowaitT",
          "utVstT"
         ],
         "type": "scatterpolar"
        },
        {
         "fill": "toself",
         "name": "21785",
         "opacity": 0.4,
         "r": [
          0.5864167478091529,
          0.026502732240437157,
          0.8902047502047502,
          0.009719461011707531,
          0.01663329933838723
         ],
         "subplot": "polar15",
         "theta": [
          "breadT",
          "bwriteT",
          "vmPerProc",
          "iowaitT",
          "utVstT"
         ],
         "type": "scatterpolar"
        },
        {
         "fill": "toself",
         "name": "21787",
         "opacity": 0.6,
         "r": [
          0.09712755598831548,
          0.03114754098360656,
          0.8906306306306306,
          0.009719461011707531,
          0.020784339839741643
         ],
         "subplot": "polar15",
         "theta": [
          "breadT",
          "bwriteT",
          "vmPerProc",
          "iowaitT",
          "utVstT"
         ],
         "type": "scatterpolar"
        },
        {
         "fill": "toself",
         "name": "9517",
         "opacity": 0.8,
         "r": [
          0.38924050632911394,
          0.012568306010928962,
          0.89005733005733,
          0.005301524188204108,
          0.7894350482187324
         ],
         "subplot": "polar16",
         "theta": [
          "breadT",
          "bwriteT",
          "vmPerProc",
          "iowaitT",
          "utVstT"
         ],
         "type": "scatterpolar"
        },
        {
         "fill": "toself",
         "name": "9516",
         "opacity": 1,
         "r": [
          0.7076436222005842,
          0.03306010928961749,
          0.9659787059787059,
          0.00552242102937928,
          0.6820081387483311
         ],
         "subplot": "polar16",
         "theta": [
          "breadT",
          "bwriteT",
          "vmPerProc",
          "iowaitT",
          "utVstT"
         ],
         "type": "scatterpolar"
        },
        {
         "fill": "toself",
         "name": "22167",
         "opacity": 0.2,
         "r": [
          0.28529698149951316,
          0.012568306010928962,
          0.8907780507780507,
          0.00552242102937928,
          0.6270001067826124
         ],
         "subplot": "polar16",
         "theta": [
          "breadT",
          "bwriteT",
          "vmPerProc",
          "iowaitT",
          "utVstT"
         ],
         "type": "scatterpolar"
        },
        {
         "fill": "toself",
         "name": "9518",
         "opacity": 0.4,
         "r": [
          0.18500486854917234,
          0.013114754098360656,
          0.8901883701883702,
          0.005301524188204108,
          0.6308980136429111
         ],
         "subplot": "polar16",
         "theta": [
          "breadT",
          "bwriteT",
          "vmPerProc",
          "iowaitT",
          "utVstT"
         ],
         "type": "scatterpolar"
        },
        {
         "fill": "toself",
         "name": "22166",
         "opacity": 0.6,
         "r": [
          0.6080817916260954,
          0.014207650273224045,
          0.8984602784602784,
          0.00552242102937928,
          0.5628236458348966
         ],
         "subplot": "polar16",
         "theta": [
          "breadT",
          "bwriteT",
          "vmPerProc",
          "iowaitT",
          "utVstT"
         ],
         "type": "scatterpolar"
        },
        {
         "fill": "toself",
         "name": "9519",
         "opacity": 0.8,
         "r": [
          0.13047711781888996,
          0.012295081967213115,
          0.8901392301392301,
          0.005301524188204108,
          0.7788378499452289
         ],
         "subplot": "polar16",
         "theta": [
          "breadT",
          "bwriteT",
          "vmPerProc",
          "iowaitT",
          "utVstT"
         ],
         "type": "scatterpolar"
        },
        {
         "fill": "toself",
         "name": "24165",
         "opacity": 1,
         "r": [
          0.23271665043816941,
          0.015300546448087432,
          0.8903194103194103,
          0.015020985199911642,
          0.8447938689751512
         ],
         "subplot": "polar16",
         "theta": [
          "breadT",
          "bwriteT",
          "vmPerProc",
          "iowaitT",
          "utVstT"
         ],
         "type": "scatterpolar"
        },
        {
         "fill": "toself",
         "name": "24167",
         "opacity": 0.2,
         "r": [
          0.3943524829600779,
          0.01448087431693989,
          0.8912203112203112,
          0.015020985199911642,
          0.7900646404885634
         ],
         "subplot": "polar16",
         "theta": [
          "breadT",
          "bwriteT",
          "vmPerProc",
          "iowaitT",
          "utVstT"
         ],
         "type": "scatterpolar"
        },
        {
         "fill": "toself",
         "name": "22571",
         "opacity": 0.4,
         "r": [
          0.27848101265822783,
          0.01557377049180328,
          0.8964946764946765,
          0.0006626905235255135,
          0.7289509899454812
         ],
         "subplot": "polar16",
         "theta": [
          "breadT",
          "bwriteT",
          "vmPerProc",
          "iowaitT",
          "utVstT"
         ],
         "type": "scatterpolar"
        },
        {
         "fill": "toself",
         "name": "24162",
         "opacity": 0.6,
         "r": [
          0.16212268743914313,
          0.016666666666666666,
          0.8911056511056511,
          0.015020985199911642,
          0.8788405499080758
         ],
         "subplot": "polar16",
         "theta": [
          "breadT",
          "bwriteT",
          "vmPerProc",
          "iowaitT",
          "utVstT"
         ],
         "type": "scatterpolar"
        },
        {
         "fill": "toself",
         "name": "22171",
         "opacity": 0.8,
         "r": [
          0.0562317429406037,
          0.012295081967213115,
          0.8901556101556102,
          0.005301524188204108,
          0.613447190173233
         ],
         "subplot": "polar16",
         "theta": [
          "breadT",
          "bwriteT",
          "vmPerProc",
          "iowaitT",
          "utVstT"
         ],
         "type": "scatterpolar"
        },
        {
         "fill": "toself",
         "name": "22168",
         "opacity": 1,
         "r": [
          0.18427458617332035,
          0.013114754098360656,
          0.8911056511056511,
          0.005301524188204108,
          0.6242350891083118
         ],
         "subplot": "polar16",
         "theta": [
          "breadT",
          "bwriteT",
          "vmPerProc",
          "iowaitT",
          "utVstT"
         ],
         "type": "scatterpolar"
        },
        {
         "fill": "toself",
         "name": "24166",
         "opacity": 0.2,
         "r": [
          0.5954235637779941,
          0.016939890710382512,
          0.8906633906633906,
          0.015020985199911642,
          0.9419346794032469
         ],
         "subplot": "polar16",
         "theta": [
          "breadT",
          "bwriteT",
          "vmPerProc",
          "iowaitT",
          "utVstT"
         ],
         "type": "scatterpolar"
        },
        {
         "fill": "toself",
         "name": "22577",
         "opacity": 0.4,
         "r": [
          0.17185978578383643,
          0.015027322404371584,
          0.88995904995905,
          0.005080627347028938,
          0.7421757287506896
         ],
         "subplot": "polar16",
         "theta": [
          "breadT",
          "bwriteT",
          "vmPerProc",
          "iowaitT",
          "utVstT"
         ],
         "type": "scatterpolar"
        },
        {
         "fill": "toself",
         "name": "22576",
         "opacity": 0.6,
         "r": [
          0.20399221032132425,
          0.01612021857923497,
          0.8899426699426699,
          0.005080627347028938,
          0.7169279862991229
         ],
         "subplot": "polar16",
         "theta": [
          "breadT",
          "bwriteT",
          "vmPerProc",
          "iowaitT",
          "utVstT"
         ],
         "type": "scatterpolar"
        },
        {
         "fill": "toself",
         "name": "22575",
         "opacity": 0.8,
         "r": [
          0.6881694255111976,
          0.01557377049180328,
          0.8899426699426699,
          0.005080627347028938,
          0.7459408264145181
         ],
         "subplot": "polar16",
         "theta": [
          "breadT",
          "bwriteT",
          "vmPerProc",
          "iowaitT",
          "utVstT"
         ],
         "type": "scatterpolar"
        },
        {
         "fill": "toself",
         "name": "28406",
         "opacity": 1,
         "r": [
          0.07497565725413827,
          0.0407103825136612,
          0.6355282555282555,
          0.0006626905235255135,
          0.1112300573385556
         ],
         "subplot": "polar17",
         "theta": [
          "breadT",
          "bwriteT",
          "vmPerProc",
          "iowaitT",
          "utVstT"
         ],
         "type": "scatterpolar"
        },
        {
         "fill": "toself",
         "name": "28408",
         "opacity": 0.2,
         "r": [
          0.032862706913339826,
          0.05737704918032787,
          0.6197542997542997,
          0,
          0.04604463418504876
         ],
         "subplot": "polar17",
         "theta": [
          "breadT",
          "bwriteT",
          "vmPerProc",
          "iowaitT",
          "utVstT"
         ],
         "type": "scatterpolar"
        },
        {
         "fill": "toself",
         "name": "30312",
         "opacity": 0.4,
         "r": [
          0.0004868549172346641,
          0.040437158469945354,
          0.6217199017199018,
          0,
          0.05373965485632852
         ],
         "subplot": "polar17",
         "theta": [
          "breadT",
          "bwriteT",
          "vmPerProc",
          "iowaitT",
          "utVstT"
         ],
         "type": "scatterpolar"
        },
        {
         "fill": "toself",
         "name": "30307",
         "opacity": 0.6,
         "r": [
          0.04186952288218111,
          0.06256830601092896,
          0.6214414414414414,
          0,
          0.06580298743810004
         ],
         "subplot": "polar17",
         "theta": [
          "breadT",
          "bwriteT",
          "vmPerProc",
          "iowaitT",
          "utVstT"
         ],
         "type": "scatterpolar"
        },
        {
         "fill": "toself",
         "name": "30311",
         "opacity": 0.8,
         "r": [
          0.034079844206426485,
          0.06885245901639345,
          0.6213104013104013,
          0,
          0.06800166293069722
         ],
         "subplot": "polar17",
         "theta": [
          "breadT",
          "bwriteT",
          "vmPerProc",
          "iowaitT",
          "utVstT"
         ],
         "type": "scatterpolar"
        },
        {
         "fill": "toself",
         "name": "28409",
         "opacity": 1,
         "r": [
          0.013631937682570594,
          0.031420765027322405,
          0.6247174447174447,
          0,
          0.07697440206078086
         ],
         "subplot": "polar17",
         "theta": [
          "breadT",
          "bwriteT",
          "vmPerProc",
          "iowaitT",
          "utVstT"
         ],
         "type": "scatterpolar"
        },
        {
         "fill": "toself",
         "name": "30310",
         "opacity": 0.2,
         "r": [
          0.01801363193768257,
          0.04644808743169399,
          0.6251433251433252,
          0,
          0.08753998282753785
         ],
         "subplot": "polar17",
         "theta": [
          "breadT",
          "bwriteT",
          "vmPerProc",
          "iowaitT",
          "utVstT"
         ],
         "type": "scatterpolar"
        },
        {
         "fill": "toself",
         "name": "28407",
         "opacity": 0.4,
         "r": [
          0.05525803310613437,
          0.03306010928961749,
          0.623063063063063,
          0,
          0.07753851626322136
         ],
         "subplot": "polar17",
         "theta": [
          "breadT",
          "bwriteT",
          "vmPerProc",
          "iowaitT",
          "utVstT"
         ],
         "type": "scatterpolar"
        },
        {
         "fill": "toself",
         "name": "19709",
         "opacity": 0.6,
         "r": [
          0.033106134371957155,
          0.10819672131147541,
          0.624029484029484,
          0,
          0.054063619983418285
         ],
         "subplot": "polar18",
         "theta": [
          "breadT",
          "bwriteT",
          "vmPerProc",
          "iowaitT",
          "utVstT"
         ],
         "type": "scatterpolar"
        },
        {
         "fill": "toself",
         "name": "30912",
         "opacity": 0.8,
         "r": [
          0.02750730282375852,
          0.0907103825136612,
          0.6194266994266995,
          0,
          0.05054411622718176
         ],
         "subplot": "polar18",
         "theta": [
          "breadT",
          "bwriteT",
          "vmPerProc",
          "iowaitT",
          "utVstT"
         ],
         "type": "scatterpolar"
        },
        {
         "fill": "toself",
         "name": "28979",
         "opacity": 1,
         "r": [
          0.07716650438169426,
          0.6836065573770492,
          0.6348239148239149,
          1,
          0.07937081333007104
         ],
         "subplot": "polar18",
         "theta": [
          "breadT",
          "bwriteT",
          "vmPerProc",
          "iowaitT",
          "utVstT"
         ],
         "type": "scatterpolar"
        },
        {
         "fill": "toself",
         "name": "30914",
         "opacity": 0.2,
         "r": [
          0.01436222005842259,
          0.0685792349726776,
          0.6156592956592957,
          0,
          0.021805617816614924
         ],
         "subplot": "polar18",
         "theta": [
          "breadT",
          "bwriteT",
          "vmPerProc",
          "iowaitT",
          "utVstT"
         ],
         "type": "scatterpolar"
        },
        {
         "fill": "toself",
         "name": "19715",
         "opacity": 0.4,
         "r": [
          0.01314508276533593,
          0.09781420765027322,
          0.6157739557739558,
          0,
          0.012944465330768639
         ],
         "subplot": "polar18",
         "theta": [
          "breadT",
          "bwriteT",
          "vmPerProc",
          "iowaitT",
          "utVstT"
         ],
         "type": "scatterpolar"
        },
        {
         "fill": "toself",
         "name": "28982",
         "opacity": 0.6,
         "r": [
          0.012171372930866602,
          0.07923497267759563,
          0.6181981981981982,
          0,
          0.04759529669965075
         ],
         "subplot": "polar18",
         "theta": [
          "breadT",
          "bwriteT",
          "vmPerProc",
          "iowaitT",
          "utVstT"
         ],
         "type": "scatterpolar"
        },
        {
         "fill": "toself",
         "name": "19713",
         "opacity": 0.8,
         "r": [
          0.028237585199610515,
          0.12540983606557377,
          0.6232760032760033,
          0,
          0.03279966448538918
         ],
         "subplot": "polar18",
         "theta": [
          "breadT",
          "bwriteT",
          "vmPerProc",
          "iowaitT",
          "utVstT"
         ],
         "type": "scatterpolar"
        },
        {
         "fill": "toself",
         "name": "23348",
         "opacity": 1,
         "r": [
          0.025803310613437196,
          0.13852459016393442,
          0.6226371826371826,
          0,
          0.021868769440914048
         ],
         "subplot": "polar18",
         "theta": [
          "breadT",
          "bwriteT",
          "vmPerProc",
          "iowaitT",
          "utVstT"
         ],
         "type": "scatterpolar"
        },
        {
         "fill": "toself",
         "name": "23349",
         "opacity": 0.2,
         "r": [
          0,
          0.046994535519125684,
          0.6170515970515971,
          0,
          0.01623601381720484
         ],
         "subplot": "polar18",
         "theta": [
          "breadT",
          "bwriteT",
          "vmPerProc",
          "iowaitT",
          "utVstT"
         ],
         "type": "scatterpolar"
        },
        {
         "fill": "toself",
         "name": "28981",
         "opacity": 0.4,
         "r": [
          0.06864654333008763,
          0.14672131147540984,
          0.6222932022932023,
          0,
          0.01039535088497776
         ],
         "subplot": "polar18",
         "theta": [
          "breadT",
          "bwriteT",
          "vmPerProc",
          "iowaitT",
          "utVstT"
         ],
         "type": "scatterpolar"
        },
        {
         "fill": "toself",
         "name": "30909",
         "opacity": 0.6,
         "r": [
          0.04235637779941578,
          0.09153005464480875,
          0.6225880425880426,
          0,
          0.034768309545662866
         ],
         "subplot": "polar18",
         "theta": [
          "breadT",
          "bwriteT",
          "vmPerProc",
          "iowaitT",
          "utVstT"
         ],
         "type": "scatterpolar"
        },
        {
         "fill": "toself",
         "name": "19714",
         "opacity": 0.8,
         "r": [
          0.017526777020447908,
          0.14617486338797814,
          0.6237674037674038,
          0,
          0.03913652335636923
         ],
         "subplot": "polar18",
         "theta": [
          "breadT",
          "bwriteT",
          "vmPerProc",
          "iowaitT",
          "utVstT"
         ],
         "type": "scatterpolar"
        },
        {
         "fill": "toself",
         "name": "23347",
         "opacity": 1,
         "r": [
          0.037244401168451804,
          0.06885245901639345,
          0.617035217035217,
          0,
          0.03220217396924474
         ],
         "subplot": "polar18",
         "theta": [
          "breadT",
          "bwriteT",
          "vmPerProc",
          "iowaitT",
          "utVstT"
         ],
         "type": "scatterpolar"
        },
        {
         "fill": "toself",
         "name": "30913",
         "opacity": 0.2,
         "r": [
          0.010954235637779941,
          0.14234972677595628,
          0.6232268632268633,
          0,
          0.031166670904902254
         ],
         "subplot": "polar18",
         "theta": [
          "breadT",
          "bwriteT",
          "vmPerProc",
          "iowaitT",
          "utVstT"
         ],
         "type": "scatterpolar"
        },
        {
         "fill": "toself",
         "name": "28980",
         "opacity": 0.4,
         "r": [
          0.02969814995131451,
          0.11147540983606558,
          0.6221785421785422,
          0,
          0.02344639483960529
         ],
         "subplot": "polar18",
         "theta": [
          "breadT",
          "bwriteT",
          "vmPerProc",
          "iowaitT",
          "utVstT"
         ],
         "type": "scatterpolar"
        },
        {
         "fill": "toself",
         "name": "23344",
         "opacity": 0.6,
         "r": [
          0.02872444011684518,
          0.08387978142076502,
          0.6223587223587224,
          0,
          0.020233890170725785
         ],
         "subplot": "polar18",
         "theta": [
          "breadT",
          "bwriteT",
          "vmPerProc",
          "iowaitT",
          "utVstT"
         ],
         "type": "scatterpolar"
        },
        {
         "fill": "toself",
         "name": "30350",
         "opacity": 0.8,
         "r": [
          0.6316942551119766,
          0.04972677595628415,
          0.9719082719082719,
          0.011486635741108902,
          0.018971868320283768
         ],
         "subplot": "polar19",
         "theta": [
          "breadT",
          "bwriteT",
          "vmPerProc",
          "iowaitT",
          "utVstT"
         ],
         "type": "scatterpolar"
        },
        {
         "fill": "toself",
         "name": "24552",
         "opacity": 1,
         "r": [
          0.3707400194741967,
          0.038524590163934426,
          0.8910565110565111,
          0.010603048376408216,
          0.0036200709166686164
         ],
         "subplot": "polar19",
         "theta": [
          "breadT",
          "bwriteT",
          "vmPerProc",
          "iowaitT",
          "utVstT"
         ],
         "type": "scatterpolar"
        },
        {
         "fill": "toself",
         "name": "30351",
         "opacity": 0.2,
         "r": [
          0.4469328140214216,
          0.028688524590163935,
          0.8896969696969697,
          0.010382151535233045,
          0.020039021937473683
         ],
         "subplot": "polar19",
         "theta": [
          "breadT",
          "bwriteT",
          "vmPerProc",
          "iowaitT",
          "utVstT"
         ],
         "type": "scatterpolar"
        },
        {
         "fill": "toself",
         "name": "24556",
         "opacity": 0.4,
         "r": [
          0.3062317429406037,
          0.03989071038251366,
          0.8905487305487305,
          0.010603048376408216,
          0.005776604384250405
         ],
         "subplot": "polar19",
         "theta": [
          "breadT",
          "bwriteT",
          "vmPerProc",
          "iowaitT",
          "utVstT"
         ],
         "type": "scatterpolar"
        },
        {
         "fill": "toself",
         "name": "30353",
         "opacity": 0.6,
         "r": [
          0.33617332035053554,
          0.03442622950819672,
          0.8900900900900901,
          0.010161254694057875,
          0.015042479138205686
         ],
         "subplot": "polar19",
         "theta": [
          "breadT",
          "bwriteT",
          "vmPerProc",
          "iowaitT",
          "utVstT"
         ],
         "type": "scatterpolar"
        },
        {
         "fill": "toself",
         "name": "24555",
         "opacity": 0.8,
         "r": [
          0.3785296981499513,
          0.03907103825136612,
          0.8897952497952498,
          0.010603048376408216,
          0.00793864008673646
         ],
         "subplot": "polar19",
         "theta": [
          "breadT",
          "bwriteT",
          "vmPerProc",
          "iowaitT",
          "utVstT"
         ],
         "type": "scatterpolar"
        },
        {
         "fill": "toself",
         "name": "32183",
         "opacity": 1,
         "r": [
          0.40749756572541385,
          0.03579234972677595,
          0.8896642096642097,
          0.010161254694057875,
          0.014937375921257205
         ],
         "subplot": "polar19",
         "theta": [
          "breadT",
          "bwriteT",
          "vmPerProc",
          "iowaitT",
          "utVstT"
         ],
         "type": "scatterpolar"
        },
        {
         "fill": "toself",
         "name": "32182",
         "opacity": 0.2,
         "r": [
          0.5136319376825705,
          0.03442622950819672,
          0.8893857493857494,
          0.010161254694057875,
          0.014736609456792416
         ],
         "subplot": "polar19",
         "theta": [
          "breadT",
          "bwriteT",
          "vmPerProc",
          "iowaitT",
          "utVstT"
         ],
         "type": "scatterpolar"
        },
        {
         "fill": "toself",
         "name": "21755",
         "opacity": 0.4,
         "r": [
          0.18111002921129504,
          0.0273224043715847,
          0.8921212121212121,
          0.01104484205875856,
          0.01748211579440625
         ],
         "subplot": "polar19",
         "theta": [
          "breadT",
          "bwriteT",
          "vmPerProc",
          "iowaitT",
          "utVstT"
         ],
         "type": "scatterpolar"
        },
        {
         "fill": "toself",
         "name": "21760",
         "opacity": 0.6,
         "r": [
          0.7792112950340798,
          0.028688524590163935,
          0.8893857493857494,
          0.01104484205875856,
          0.016800883821140384
         ],
         "subplot": "polar19",
         "theta": [
          "breadT",
          "bwriteT",
          "vmPerProc",
          "iowaitT",
          "utVstT"
         ],
         "type": "scatterpolar"
        },
        {
         "fill": "toself",
         "name": "21759",
         "opacity": 0.8,
         "r": [
          0.21421616358325218,
          0.02841530054644809,
          0.8893857493857494,
          0.01104484205875856,
          0.01582682492465497
         ],
         "subplot": "polar19",
         "theta": [
          "breadT",
          "bwriteT",
          "vmPerProc",
          "iowaitT",
          "utVstT"
         ],
         "type": "scatterpolar"
        },
        {
         "fill": "toself",
         "name": "30352",
         "opacity": 1,
         "r": [
          0.07035053554040896,
          0.03224043715846994,
          0.8898116298116298,
          0.009940357852882704,
          0.01821375243382831
         ],
         "subplot": "polar19",
         "theta": [
          "breadT",
          "bwriteT",
          "vmPerProc",
          "iowaitT",
          "utVstT"
         ],
         "type": "scatterpolar"
        },
        {
         "fill": "toself",
         "name": "24557",
         "opacity": 0.2,
         "r": [
          0.08836416747809153,
          0.048087431693989074,
          0.8914987714987715,
          0.010161254694057875,
          0.006930121630826379
         ],
         "subplot": "polar19",
         "theta": [
          "breadT",
          "bwriteT",
          "vmPerProc",
          "iowaitT",
          "utVstT"
         ],
         "type": "scatterpolar"
        },
        {
         "fill": "toself",
         "name": "21761",
         "opacity": 0.4,
         "r": [
          0.20934761441090555,
          0.031420765027322405,
          0.8895167895167895,
          0.01104484205875856,
          0.016723571495088897
         ],
         "subplot": "polar19",
         "theta": [
          "breadT",
          "bwriteT",
          "vmPerProc",
          "iowaitT",
          "utVstT"
         ],
         "type": "scatterpolar"
        },
        {
         "fill": "toself",
         "name": "32179",
         "opacity": 0.6,
         "r": [
          0.24659201557935737,
          0.03524590163934426,
          0.8948075348075348,
          0.00552242102937928,
          0.012086381018052908
         ],
         "subplot": "polar19",
         "theta": [
          "breadT",
          "bwriteT",
          "vmPerProc",
          "iowaitT",
          "utVstT"
         ],
         "type": "scatterpolar"
        },
        {
         "fill": "toself",
         "name": "32184",
         "opacity": 0.8,
         "r": [
          0.14070107108081792,
          0.040983606557377046,
          0.890941850941851,
          0.010161254694057875,
          0.019381493022279202
         ],
         "subplot": "polar19",
         "theta": [
          "breadT",
          "bwriteT",
          "vmPerProc",
          "iowaitT",
          "utVstT"
         ],
         "type": "scatterpolar"
        },
        {
         "fill": "toself",
         "name": "26561",
         "opacity": 1,
         "r": [
          0.5362706913339824,
          0.014207650273224045,
          0.8901228501228501,
          0.00552242102937928,
          0.49736174108271936
         ],
         "subplot": "polar20",
         "theta": [
          "breadT",
          "bwriteT",
          "vmPerProc",
          "iowaitT",
          "utVstT"
         ],
         "type": "scatterpolar"
        },
        {
         "fill": "toself",
         "name": "26563",
         "opacity": 0.2,
         "r": [
          0.3222979552093476,
          0.012568306010928962,
          0.8901556101556102,
          0.00552242102937928,
          0.5134026473216804
         ],
         "subplot": "polar20",
         "theta": [
          "breadT",
          "bwriteT",
          "vmPerProc",
          "iowaitT",
          "utVstT"
         ],
         "type": "scatterpolar"
        },
        {
         "fill": "toself",
         "name": "26564",
         "opacity": 0.4,
         "r": [
          0.18597857838364168,
          0.012568306010928962,
          0.8900900900900901,
          0.00552242102937928,
          0.515716090845101
         ],
         "subplot": "polar20",
         "theta": [
          "breadT",
          "bwriteT",
          "vmPerProc",
          "iowaitT",
          "utVstT"
         ],
         "type": "scatterpolar"
        },
        {
         "fill": "toself",
         "name": "32495",
         "opacity": 0.6,
         "r": [
          0.07181110029211295,
          0.012841530054644808,
          0.8902047502047502,
          0.010382151535233045,
          0.6113877209504693
         ],
         "subplot": "polar20",
         "theta": [
          "breadT",
          "bwriteT",
          "vmPerProc",
          "iowaitT",
          "utVstT"
         ],
         "type": "scatterpolar"
        },
        {
         "fill": "toself",
         "name": "32494",
         "opacity": 0.8,
         "r": [
          0.2059396299902629,
          0.012841530054644808,
          0.89005733005733,
          0.010382151535233045,
          0.6878201008139384
         ],
         "subplot": "polar20",
         "theta": [
          "breadT",
          "bwriteT",
          "vmPerProc",
          "iowaitT",
          "utVstT"
         ],
         "type": "scatterpolar"
        },
        {
         "fill": "toself",
         "name": "32493",
         "opacity": 1,
         "r": [
          0.5384615384615384,
          0.03306010928961749,
          0.9659787059787059,
          0.015241882041086811,
          0.8185269560435403
         ],
         "subplot": "polar20",
         "theta": [
          "breadT",
          "bwriteT",
          "vmPerProc",
          "iowaitT",
          "utVstT"
         ],
         "type": "scatterpolar"
        },
        {
         "fill": "toself",
         "name": "1886",
         "opacity": 0.2,
         "r": [
          0.26630963972736127,
          0.01448087431693989,
          0.8930876330876331,
          0.010603048376408216,
          0.6591150524030821
         ],
         "subplot": "polar20",
         "theta": [
          "breadT",
          "bwriteT",
          "vmPerProc",
          "iowaitT",
          "utVstT"
         ],
         "type": "scatterpolar"
        },
        {
         "fill": "toself",
         "name": "25161",
         "opacity": 0.4,
         "r": [
          0.4218597857838364,
          0.014207650273224045,
          0.894971334971335,
          0.01104484205875856,
          0.8556389062302178
         ],
         "subplot": "polar20",
         "theta": [
          "breadT",
          "bwriteT",
          "vmPerProc",
          "iowaitT",
          "utVstT"
         ],
         "type": "scatterpolar"
        },
        {
         "fill": "toself",
         "name": "26565",
         "opacity": 0.6,
         "r": [
          0.09980525803310614,
          0.012841530054644808,
          0.8902866502866503,
          0.005080627347028938,
          0.5868300489358649
         ],
         "subplot": "polar20",
         "theta": [
          "breadT",
          "bwriteT",
          "vmPerProc",
          "iowaitT",
          "utVstT"
         ],
         "type": "scatterpolar"
        },
        {
         "fill": "toself",
         "name": "32496",
         "opacity": 0.8,
         "r": [
          0.6689386562804285,
          0.012295081967213115,
          0.8899099099099099,
          0.010161254694057875,
          0.7935447489407004
         ],
         "subplot": "polar20",
         "theta": [
          "breadT",
          "bwriteT",
          "vmPerProc",
          "iowaitT",
          "utVstT"
         ],
         "type": "scatterpolar"
        },
        {
         "fill": "toself",
         "name": "25166",
         "opacity": 1,
         "r": [
          0.35150925024342744,
          0.012568306010928962,
          0.8902866502866503,
          0.01104484205875856,
          0.7260140730242334
         ],
         "subplot": "polar20",
         "theta": [
          "breadT",
          "bwriteT",
          "vmPerProc",
          "iowaitT",
          "utVstT"
         ],
         "type": "scatterpolar"
        },
        {
         "fill": "toself",
         "name": "25167",
         "opacity": 0.2,
         "r": [
          0.35978578383641674,
          0.012295081967213115,
          0.8905814905814906,
          0.01104484205875856,
          0.7037222574555452
         ],
         "subplot": "polar20",
         "theta": [
          "breadT",
          "bwriteT",
          "vmPerProc",
          "iowaitT",
          "utVstT"
         ],
         "type": "scatterpolar"
        },
        {
         "fill": "toself",
         "name": "1889",
         "opacity": 0.4,
         "r": [
          0.20277507302823758,
          0.012568306010928962,
          0.8901719901719902,
          0.010603048376408216,
          0.7737900156682759
         ],
         "subplot": "polar20",
         "theta": [
          "breadT",
          "bwriteT",
          "vmPerProc",
          "iowaitT",
          "utVstT"
         ],
         "type": "scatterpolar"
        },
        {
         "fill": "toself",
         "name": "25165",
         "opacity": 0.6,
         "r": [
          0.251460564751704,
          0.013387978142076503,
          0.8904013104013104,
          0.01104484205875856,
          0.8161346564596601
         ],
         "subplot": "polar20",
         "theta": [
          "breadT",
          "bwriteT",
          "vmPerProc",
          "iowaitT",
          "utVstT"
         ],
         "type": "scatterpolar"
        },
        {
         "fill": "toself",
         "name": "1890",
         "opacity": 0.8,
         "r": [
          0.17575462512171372,
          0.012568306010928962,
          0.8897788697788698,
          0.010161254694057875,
          0.6658179948135475
         ],
         "subplot": "polar20",
         "theta": [
          "breadT",
          "bwriteT",
          "vmPerProc",
          "iowaitT",
          "utVstT"
         ],
         "type": "scatterpolar"
        },
        {
         "fill": "toself",
         "name": "1888",
         "opacity": 1,
         "r": [
          0.7173807205452775,
          0.012568306010928962,
          0.8899426699426699,
          0.010603048376408216,
          0.6638535540327793
         ],
         "subplot": "polar20",
         "theta": [
          "breadT",
          "bwriteT",
          "vmPerProc",
          "iowaitT",
          "utVstT"
         ],
         "type": "scatterpolar"
        },
        {
         "fill": "toself",
         "name": "1608",
         "opacity": 0.2,
         "r": [
          0.04113924050632911,
          0.06147540983606557,
          0.620982800982801,
          0,
          0.05390390669618525
         ],
         "subplot": "polar21",
         "theta": [
          "breadT",
          "bwriteT",
          "vmPerProc",
          "iowaitT",
          "utVstT"
         ],
         "type": "scatterpolar"
        },
        {
         "fill": "toself",
         "name": "3164",
         "opacity": 0.4,
         "r": [
          0.0949367088607595,
          0,
          0,
          0,
          0.0741741170599912
         ],
         "subplot": "polar21",
         "theta": [
          "breadT",
          "bwriteT",
          "vmPerProc",
          "iowaitT",
          "utVstT"
         ],
         "type": "scatterpolar"
        },
        {
         "fill": "toself",
         "name": "1612",
         "opacity": 0.6,
         "r": [
          0.012171372930866602,
          0.02814207650273224,
          0.625945945945946,
          0,
          0.08537638657234835
         ],
         "subplot": "polar21",
         "theta": [
          "breadT",
          "bwriteT",
          "vmPerProc",
          "iowaitT",
          "utVstT"
         ],
         "type": "scatterpolar"
        },
        {
         "fill": "toself",
         "name": "1613",
         "opacity": 0.8,
         "r": [
          0.02044790652385589,
          0.026775956284153007,
          0.6259131859131859,
          0,
          0.0911095694637332
         ],
         "subplot": "polar21",
         "theta": [
          "breadT",
          "bwriteT",
          "vmPerProc",
          "iowaitT",
          "utVstT"
         ],
         "type": "scatterpolar"
        },
        {
         "fill": "toself",
         "name": "1614",
         "opacity": 1,
         "r": [
          0.019230769230769232,
          0.026775956284153007,
          0.6196396396396396,
          0,
          0.06751547321904962
         ],
         "subplot": "polar21",
         "theta": [
          "breadT",
          "bwriteT",
          "vmPerProc",
          "iowaitT",
          "utVstT"
         ],
         "type": "scatterpolar"
        },
        {
         "fill": "toself",
         "name": "22006",
         "opacity": 0.2,
         "r": [
          0.10881207400194742,
          0.02841530054644809,
          0.6180835380835381,
          0.00022089684117517118,
          0.16296114150466834
         ],
         "subplot": "polar21",
         "theta": [
          "breadT",
          "bwriteT",
          "vmPerProc",
          "iowaitT",
          "utVstT"
         ],
         "type": "scatterpolar"
        },
        {
         "fill": "toself",
         "name": "22008",
         "opacity": 0.4,
         "r": [
          0.0007302823758519961,
          0.03114754098360656,
          0.6046846846846847,
          0,
          0.08398835501556476
         ],
         "subplot": "polar21",
         "theta": [
          "breadT",
          "bwriteT",
          "vmPerProc",
          "iowaitT",
          "utVstT"
         ],
         "type": "scatterpolar"
        },
        {
         "fill": "toself",
         "name": "22007",
         "opacity": 0.6,
         "r": [
          0.06037000973709834,
          0.020218579234972677,
          0.6078624078624079,
          0,
          0.05508275098606613
         ],
         "subplot": "polar21",
         "theta": [
          "breadT",
          "bwriteT",
          "vmPerProc",
          "iowaitT",
          "utVstT"
         ],
         "type": "scatterpolar"
        },
        {
         "fill": "toself",
         "name": "3236",
         "opacity": 0.8,
         "r": [
          0.037487828627069134,
          0.10710382513661203,
          0.6228173628173628,
          0,
          0.06513249449306632
         ],
         "subplot": "polar22",
         "theta": [
          "breadT",
          "bwriteT",
          "vmPerProc",
          "iowaitT",
          "utVstT"
         ],
         "type": "scatterpolar"
        },
        {
         "fill": "toself",
         "name": "22135",
         "opacity": 1,
         "r": [
          0.03456669912366115,
          0.08551912568306011,
          0.6221294021294022,
          0,
          0.04052198787526376
         ],
         "subplot": "polar22",
         "theta": [
          "breadT",
          "bwriteT",
          "vmPerProc",
          "iowaitT",
          "utVstT"
         ],
         "type": "scatterpolar"
        },
        {
         "fill": "toself",
         "name": "3237",
         "opacity": 0.2,
         "r": [
          0.03992210321324245,
          0.13060109289617486,
          0.6222604422604423,
          0,
          0.04673227589152623
         ],
         "subplot": "polar22",
         "theta": [
          "breadT",
          "bwriteT",
          "vmPerProc",
          "iowaitT",
          "utVstT"
         ],
         "type": "scatterpolar"
        },
        {
         "fill": "toself",
         "name": "1731",
         "opacity": 0.4,
         "r": [
          0.035296981499513144,
          0.06912568306010929,
          0.6223751023751024,
          0,
          0.04651530320334456
         ],
         "subplot": "polar22",
         "theta": [
          "breadT",
          "bwriteT",
          "vmPerProc",
          "iowaitT",
          "utVstT"
         ],
         "type": "scatterpolar"
        },
        {
         "fill": "toself",
         "name": "22137",
         "opacity": 0.6,
         "r": [
          0,
          0.06284153005464481,
          0.6172972972972973,
          0,
          0.05266005043192812
         ],
         "subplot": "polar22",
         "theta": [
          "breadT",
          "bwriteT",
          "vmPerProc",
          "iowaitT",
          "utVstT"
         ],
         "type": "scatterpolar"
        },
        {
         "fill": "toself",
         "name": "1736",
         "opacity": 0.8,
         "r": [
          0,
          0.05628415300546448,
          0.6156101556101556,
          0,
          0.03307756467218173
         ],
         "subplot": "polar22",
         "theta": [
          "breadT",
          "bwriteT",
          "vmPerProc",
          "iowaitT",
          "utVstT"
         ],
         "type": "scatterpolar"
        },
        {
         "fill": "toself",
         "name": "22134",
         "opacity": 1,
         "r": [
          0.12414800389483933,
          0.6622950819672131,
          0.6345290745290745,
          0.0028716589352772255,
          0.08446388686205983
         ],
         "subplot": "polar22",
         "theta": [
          "breadT",
          "bwriteT",
          "vmPerProc",
          "iowaitT",
          "utVstT"
         ],
         "type": "scatterpolar"
        },
        {
         "fill": "toself",
         "name": "22136",
         "opacity": 0.2,
         "r": [
          0.021421616358325218,
          0.11502732240437158,
          0.6222276822276822,
          0,
          0.016374863607733464
         ],
         "subplot": "polar22",
         "theta": [
          "breadT",
          "bwriteT",
          "vmPerProc",
          "iowaitT",
          "utVstT"
         ],
         "type": "scatterpolar"
        },
        {
         "fill": "toself",
         "name": "1732",
         "opacity": 0.4,
         "r": [
          0.030671859785783837,
          0.06994535519125683,
          0.6183292383292384,
          0,
          0.06551249434465332
         ],
         "subplot": "polar22",
         "theta": [
          "breadT",
          "bwriteT",
          "vmPerProc",
          "iowaitT",
          "utVstT"
         ],
         "type": "scatterpolar"
        },
        {
         "fill": "toself",
         "name": "766",
         "opacity": 0.6,
         "r": [
          0.021421616358325218,
          0.11912568306010929,
          0.6223751023751024,
          0,
          0.033470555434583465
         ],
         "subplot": "polar22",
         "theta": [
          "breadT",
          "bwriteT",
          "vmPerProc",
          "iowaitT",
          "utVstT"
         ],
         "type": "scatterpolar"
        },
        {
         "fill": "toself",
         "name": "765",
         "opacity": 0.8,
         "r": [
          0.03821811100292113,
          0.05819672131147541,
          0.6189516789516789,
          0,
          0.04987628806163627
         ],
         "subplot": "polar22",
         "theta": [
          "breadT",
          "bwriteT",
          "vmPerProc",
          "iowaitT",
          "utVstT"
         ],
         "type": "scatterpolar"
        },
        {
         "fill": "toself",
         "name": "1735",
         "opacity": 1,
         "r": [
          0.027020447906523856,
          0.10765027322404372,
          0.6222276822276822,
          0,
          0.04719324676768174
         ],
         "subplot": "polar22",
         "theta": [
          "breadT",
          "bwriteT",
          "vmPerProc",
          "iowaitT",
          "utVstT"
         ],
         "type": "scatterpolar"
        },
        {
         "fill": "toself",
         "name": "3240",
         "opacity": 0.2,
         "r": [
          0.016553067185978577,
          0.13333333333333333,
          0.6228337428337428,
          0,
          0.0466298941708858
         ],
         "subplot": "polar22",
         "theta": [
          "breadT",
          "bwriteT",
          "vmPerProc",
          "iowaitT",
          "utVstT"
         ],
         "type": "scatterpolar"
        },
        {
         "fill": "toself",
         "name": "767",
         "opacity": 0.4,
         "r": [
          0,
          0.04426229508196721,
          0.6178378378378379,
          0,
          0.022314850372912094
         ],
         "subplot": "polar22",
         "theta": [
          "breadT",
          "bwriteT",
          "vmPerProc",
          "iowaitT",
          "utVstT"
         ],
         "type": "scatterpolar"
        },
        {
         "fill": "toself",
         "name": "3241",
         "opacity": 0.6,
         "r": [
          0.00024342745861733204,
          0.1087431693989071,
          0.6155282555282555,
          0,
          0.01839207948276243
         ],
         "subplot": "polar22",
         "theta": [
          "breadT",
          "bwriteT",
          "vmPerProc",
          "iowaitT",
          "utVstT"
         ],
         "type": "scatterpolar"
        },
        {
         "fill": "toself",
         "name": "763",
         "opacity": 0.8,
         "r": [
          0.032862706913339826,
          0.06994535519125683,
          0.6227682227682227,
          0,
          0.02027163702939354
         ],
         "subplot": "polar22",
         "theta": [
          "breadT",
          "bwriteT",
          "vmPerProc",
          "iowaitT",
          "utVstT"
         ],
         "type": "scatterpolar"
        },
        {
         "fill": "toself",
         "name": "1233",
         "opacity": 1,
         "r": [
          0.5148490749756572,
          0.012841530054644808,
          0.8902866502866503,
          0.00552242102937928,
          0.5831320379114974
         ],
         "subplot": "polar23",
         "theta": [
          "breadT",
          "bwriteT",
          "vmPerProc",
          "iowaitT",
          "utVstT"
         ],
         "type": "scatterpolar"
        },
        {
         "fill": "toself",
         "name": "22646",
         "opacity": 0.2,
         "r": [
          0.43500486854917236,
          0.03278688524590164,
          0.9659787059787059,
          0.00552242102937928,
          0.7093611952593566
         ],
         "subplot": "polar23",
         "theta": [
          "breadT",
          "bwriteT",
          "vmPerProc",
          "iowaitT",
          "utVstT"
         ],
         "type": "scatterpolar"
        },
        {
         "fill": "toself",
         "name": "22647",
         "opacity": 0.4,
         "r": [
          0.17259006815968841,
          0.013114754098360656,
          0.89005733005733,
          0.00552242102937928,
          0.7408192348647761
         ],
         "subplot": "polar23",
         "theta": [
          "breadT",
          "bwriteT",
          "vmPerProc",
          "iowaitT",
          "utVstT"
         ],
         "type": "scatterpolar"
        },
        {
         "fill": "toself",
         "name": "3744",
         "opacity": 0.6,
         "r": [
          0.4471762414800389,
          0.016939890710382512,
          0.8953644553644554,
          0.010161254694057875,
          0.8515838053435406
         ],
         "subplot": "polar23",
         "theta": [
          "breadT",
          "bwriteT",
          "vmPerProc",
          "iowaitT",
          "utVstT"
         ],
         "type": "scatterpolar"
        },
        {
         "fill": "toself",
         "name": "1234",
         "opacity": 0.8,
         "r": [
          0.2446445959104187,
          0.012841530054644808,
          0.8902047502047502,
          0.00552242102937928,
          0.6544066986352632
         ],
         "subplot": "polar23",
         "theta": [
          "breadT",
          "bwriteT",
          "vmPerProc",
          "iowaitT",
          "utVstT"
         ],
         "type": "scatterpolar"
        },
        {
         "fill": "toself",
         "name": "22649",
         "opacity": 1,
         "r": [
          0.7122687439143135,
          0.012021857923497269,
          0.8899099099099099,
          0.005301524188204108,
          0.7034634801603864
         ],
         "subplot": "polar23",
         "theta": [
          "breadT",
          "bwriteT",
          "vmPerProc",
          "iowaitT",
          "utVstT"
         ],
         "type": "scatterpolar"
        },
        {
         "fill": "toself",
         "name": "22648",
         "opacity": 0.2,
         "r": [
          0.09177215189873418,
          0.013114754098360656,
          0.8902047502047502,
          0.005301524188204108,
          0.7467613397894123
         ],
         "subplot": "polar23",
         "theta": [
          "breadT",
          "bwriteT",
          "vmPerProc",
          "iowaitT",
          "utVstT"
         ],
         "type": "scatterpolar"
        },
        {
         "fill": "toself",
         "name": "2242",
         "opacity": 0.4,
         "r": [
          0.5946932814021422,
          0.012841530054644808,
          0.8901883701883702,
          0.015020985199911642,
          0.8973454594556523
         ],
         "subplot": "polar23",
         "theta": [
          "breadT",
          "bwriteT",
          "vmPerProc",
          "iowaitT",
          "utVstT"
         ],
         "type": "scatterpolar"
        },
        {
         "fill": "toself",
         "name": "1235",
         "opacity": 0.6,
         "r": [
          0.03237585199610516,
          0.012295081967213115,
          0.8903030303030303,
          0.005301524188204108,
          0.5916683279076482
         ],
         "subplot": "polar23",
         "theta": [
          "breadT",
          "bwriteT",
          "vmPerProc",
          "iowaitT",
          "utVstT"
         ],
         "type": "scatterpolar"
        },
        {
         "fill": "toself",
         "name": "1230",
         "opacity": 0.8,
         "r": [
          0.3420155793573515,
          0.014207650273224045,
          0.8931859131859132,
          0.00552242102937928,
          0.5910129828095185
         ],
         "subplot": "polar23",
         "theta": [
          "breadT",
          "bwriteT",
          "vmPerProc",
          "iowaitT",
          "utVstT"
         ],
         "type": "scatterpolar"
        },
        {
         "fill": "toself",
         "name": "2243",
         "opacity": 1,
         "r": [
          0.15384615384615385,
          0.011748633879781421,
          0.8899099099099099,
          0.015020985199911642,
          0.8531469767212801
         ],
         "subplot": "polar23",
         "theta": [
          "breadT",
          "bwriteT",
          "vmPerProc",
          "iowaitT",
          "utVstT"
         ],
         "type": "scatterpolar"
        },
        {
         "fill": "toself",
         "name": "3748",
         "opacity": 0.2,
         "r": [
          0.574732229795521,
          0.015300546448087432,
          0.8903357903357904,
          0.010382151535233045,
          0.8275379511428236
         ],
         "subplot": "polar23",
         "theta": [
          "breadT",
          "bwriteT",
          "vmPerProc",
          "iowaitT",
          "utVstT"
         ],
         "type": "scatterpolar"
        },
        {
         "fill": "toself",
         "name": "2241",
         "opacity": 0.4,
         "r": [
          0.18743914313534565,
          0.012841530054644808,
          0.8902047502047502,
          0.015020985199911642,
          0.9883937998300273
         ],
         "subplot": "polar23",
         "theta": [
          "breadT",
          "bwriteT",
          "vmPerProc",
          "iowaitT",
          "utVstT"
         ],
         "type": "scatterpolar"
        },
        {
         "fill": "toself",
         "name": "3749",
         "opacity": 0.6,
         "r": [
          0.19474196689386564,
          0.015846994535519125,
          0.8907616707616708,
          0.010382151535233045,
          0.7603303254353878
         ],
         "subplot": "polar23",
         "theta": [
          "breadT",
          "bwriteT",
          "vmPerProc",
          "iowaitT",
          "utVstT"
         ],
         "type": "scatterpolar"
        },
        {
         "fill": "toself",
         "name": "3750",
         "opacity": 0.8,
         "r": [
          0.17039922103213243,
          0.015027322404371584,
          0.8911384111384112,
          0.010382151535233045,
          0.8352067679930844
         ],
         "subplot": "polar23",
         "theta": [
          "breadT",
          "bwriteT",
          "vmPerProc",
          "iowaitT",
          "utVstT"
         ],
         "type": "scatterpolar"
        },
        {
         "fill": "toself",
         "name": "2238",
         "opacity": 1,
         "r": [
          0.4116358325219085,
          0.01448087431693989,
          0.8914168714168714,
          0.015020985199911642,
          1
         ],
         "subplot": "polar23",
         "theta": [
          "breadT",
          "bwriteT",
          "vmPerProc",
          "iowaitT",
          "utVstT"
         ],
         "type": "scatterpolar"
        },
        {
         "fill": "toself",
         "name": "22769",
         "opacity": 0.2,
         "r": [
          0.930379746835443,
          0.05027322404371585,
          0.9719082719082719,
          0.010161254694057875,
          0.015329112660151483
         ],
         "subplot": "polar24",
         "theta": [
          "breadT",
          "bwriteT",
          "vmPerProc",
          "iowaitT",
          "utVstT"
         ],
         "type": "scatterpolar"
        },
        {
         "fill": "toself",
         "name": "22770",
         "opacity": 0.4,
         "r": [
          0.1830574488802337,
          0.02841530054644809,
          0.8896969696969697,
          0.010161254694057875,
          0.02129748278951823
         ],
         "subplot": "polar24",
         "theta": [
          "breadT",
          "bwriteT",
          "vmPerProc",
          "iowaitT",
          "utVstT"
         ],
         "type": "scatterpolar"
        },
        {
         "fill": "toself",
         "name": "1349",
         "opacity": 0.6,
         "r": [
          0.16309639727361247,
          0.03989071038251366,
          0.8901392301392301,
          0.00552242102937928,
          0.00826629399440235
         ],
         "subplot": "polar24",
         "theta": [
          "breadT",
          "bwriteT",
          "vmPerProc",
          "iowaitT",
          "utVstT"
         ],
         "type": "scatterpolar"
        },
        {
         "fill": "toself",
         "name": "22771",
         "opacity": 0.8,
         "r": [
          0.16991236611489777,
          0.032513661202185795,
          0.8898443898443898,
          0.010161254694057875,
          0.01766204663272651
         ],
         "subplot": "polar24",
         "theta": [
          "breadT",
          "bwriteT",
          "vmPerProc",
          "iowaitT",
          "utVstT"
         ],
         "type": "scatterpolar"
        },
        {
         "fill": "toself",
         "name": "2335",
         "opacity": 1,
         "r": [
          0.316699123661149,
          0.027868852459016394,
          0.8934152334152334,
          0.005301524188204108,
          0.016613290882993723
         ],
         "subplot": "polar24",
         "theta": [
          "breadT",
          "bwriteT",
          "vmPerProc",
          "iowaitT",
          "utVstT"
         ],
         "type": "scatterpolar"
        },
        {
         "fill": "toself",
         "name": "1348",
         "opacity": 0.2,
         "r": [
          0.10199610516066213,
          0.03907103825136612,
          0.8893857493857494,
          0.00552242102937928,
          0.004716419223721407
         ],
         "subplot": "polar24",
         "theta": [
          "breadT",
          "bwriteT",
          "vmPerProc",
          "iowaitT",
          "utVstT"
         ],
         "type": "scatterpolar"
        },
        {
         "fill": "toself",
         "name": "1350",
         "opacity": 0.4,
         "r": [
          0.10272638753651411,
          0.04781420765027322,
          0.8914332514332515,
          0.00552242102937928,
          0.008328105509930716
         ],
         "subplot": "polar24",
         "theta": [
          "breadT",
          "bwriteT",
          "vmPerProc",
          "iowaitT",
          "utVstT"
         ],
         "type": "scatterpolar"
        },
        {
         "fill": "toself",
         "name": "3837",
         "opacity": 0.6,
         "r": [
          0.5333495618305745,
          0.02841530054644809,
          0.8946437346437346,
          0.005964214711729622,
          0.016075188501716044
         ],
         "subplot": "polar24",
         "theta": [
          "breadT",
          "bwriteT",
          "vmPerProc",
          "iowaitT",
          "utVstT"
         ],
         "type": "scatterpolar"
        },
        {
         "fill": "toself",
         "name": "3841",
         "opacity": 0.8,
         "r": [
          0.31621226874391434,
          0.027868852459016394,
          0.8895331695331695,
          0.010382151535233045,
          0.015464393106904369
         ],
         "subplot": "polar24",
         "theta": [
          "breadT",
          "bwriteT",
          "vmPerProc",
          "iowaitT",
          "utVstT"
         ],
         "type": "scatterpolar"
        },
        {
         "fill": "toself",
         "name": "22772",
         "opacity": 1,
         "r": [
          0.12901655306718599,
          0.03442622950819672,
          0.8900900900900901,
          0.009940357852882704,
          0.01875784669760734
         ],
         "subplot": "polar24",
         "theta": [
          "breadT",
          "bwriteT",
          "vmPerProc",
          "iowaitT",
          "utVstT"
         ],
         "type": "scatterpolar"
        },
        {
         "fill": "toself",
         "name": "3843",
         "opacity": 0.2,
         "r": [
          0.1472736124634859,
          0.03333333333333333,
          0.8903030303030303,
          0.015020985199911642,
          0.015739274408848338
         ],
         "subplot": "polar24",
         "theta": [
          "breadT",
          "bwriteT",
          "vmPerProc",
          "iowaitT",
          "utVstT"
         ],
         "type": "scatterpolar"
        },
        {
         "fill": "toself",
         "name": "3842",
         "opacity": 0.4,
         "r": [
          0.3851022395326193,
          0.028688524590163935,
          0.8905978705978705,
          0.015020985199911642,
          0.01841528707288291
         ],
         "subplot": "polar24",
         "theta": [
          "breadT",
          "bwriteT",
          "vmPerProc",
          "iowaitT",
          "utVstT"
         ],
         "type": "scatterpolar"
        },
        {
         "fill": "toself",
         "name": "1344",
         "opacity": 0.6,
         "r": [
          0.7653359298928919,
          0.03907103825136612,
          0.8916789516789517,
          0.005743317870554451,
          0.004466382847697027
         ],
         "subplot": "polar24",
         "theta": [
          "breadT",
          "bwriteT",
          "vmPerProc",
          "iowaitT",
          "utVstT"
         ],
         "type": "scatterpolar"
        },
        {
         "fill": "toself",
         "name": "2336",
         "opacity": 0.8,
         "r": [
          0.2020447906523856,
          0.027868852459016394,
          0.8894021294021294,
          0.009719461011707531,
          0.020384318234029166
         ],
         "subplot": "polar24",
         "theta": [
          "breadT",
          "bwriteT",
          "vmPerProc",
          "iowaitT",
          "utVstT"
         ],
         "type": "scatterpolar"
        },
        {
         "fill": "toself",
         "name": "2338",
         "opacity": 1,
         "r": [
          0.6360759493670886,
          0.02814207650273224,
          0.8897952497952498,
          0.005301524188204108,
          0.020232416954113753
         ],
         "subplot": "polar24",
         "theta": [
          "breadT",
          "bwriteT",
          "vmPerProc",
          "iowaitT",
          "utVstT"
         ],
         "type": "scatterpolar"
        },
        {
         "fill": "toself",
         "name": "2339",
         "opacity": 0.2,
         "r": [
          0.1346153846153846,
          0.03333333333333333,
          0.8902702702702703,
          0.005301524188204108,
          0.019854119755198466
         ],
         "subplot": "polar24",
         "theta": [
          "breadT",
          "bwriteT",
          "vmPerProc",
          "iowaitT",
          "utVstT"
         ],
         "type": "scatterpolar"
        },
        {
         "fill": "toself",
         "name": "11711",
         "opacity": 0.4,
         "r": [
          0.03018500486854917,
          0.08442622950819673,
          0.6224733824733825,
          0,
          0.035536172406870306
         ],
         "subplot": "polar25",
         "theta": [
          "breadT",
          "bwriteT",
          "vmPerProc",
          "iowaitT",
          "utVstT"
         ],
         "type": "scatterpolar"
        },
        {
         "fill": "toself",
         "name": "28682",
         "opacity": 0.6,
         "r": [
          0.09201557935735151,
          0,
          0.0016871416871416872,
          0,
          0.04476642506394878
         ],
         "subplot": "polar25",
         "theta": [
          "breadT",
          "bwriteT",
          "vmPerProc",
          "iowaitT",
          "utVstT"
         ],
         "type": "scatterpolar"
        },
        {
         "fill": "toself",
         "name": "9549",
         "opacity": 0.8,
         "r": [
          0.07960077896786757,
          0.03579234972677595,
          0.6199017199017199,
          0.004197039982328252,
          0.1354951525846218
         ],
         "subplot": "polar25",
         "theta": [
          "breadT",
          "bwriteT",
          "vmPerProc",
          "iowaitT",
          "utVstT"
         ],
         "type": "scatterpolar"
        },
        {
         "fill": "toself",
         "name": "9550",
         "opacity": 1,
         "r": [
          0.05111976630963973,
          0.023770491803278688,
          0.6071580671580672,
          0,
          0.03468289647395815
         ],
         "subplot": "polar25",
         "theta": [
          "breadT",
          "bwriteT",
          "vmPerProc",
          "iowaitT",
          "utVstT"
         ],
         "type": "scatterpolar"
        },
        {
         "fill": "toself",
         "name": "9551",
         "opacity": 0.2,
         "r": [
          0.046007789678675755,
          0.05546448087431694,
          0.6033579033579034,
          0,
          0.054507721335392376
         ],
         "subplot": "polar25",
         "theta": [
          "breadT",
          "bwriteT",
          "vmPerProc",
          "iowaitT",
          "utVstT"
         ],
         "type": "scatterpolar"
        },
        {
         "fill": "toself",
         "name": "11712",
         "opacity": 0.4,
         "r": [
          0.06475170399221032,
          0.03114754098360656,
          0.6251924651924652,
          0,
          0.05301564356522351
         ],
         "subplot": "polar25",
         "theta": [
          "breadT",
          "bwriteT",
          "vmPerProc",
          "iowaitT",
          "utVstT"
         ],
         "type": "scatterpolar"
        },
        {
         "fill": "toself",
         "name": "11716",
         "opacity": 0.6,
         "r": [
          0,
          0.029781420765027322,
          0.6248812448812449,
          0,
          0.055747486336235455
         ],
         "subplot": "polar25",
         "theta": [
          "breadT",
          "bwriteT",
          "vmPerProc",
          "iowaitT",
          "utVstT"
         ],
         "type": "scatterpolar"
        },
        {
         "fill": "toself",
         "name": "11718",
         "opacity": 0.8,
         "r": [
          0.00024342745861733204,
          0.03633879781420765,
          0.6195577395577395,
          0,
          0.04413153395946375
         ],
         "subplot": "polar25",
         "theta": [
          "breadT",
          "bwriteT",
          "vmPerProc",
          "iowaitT",
          "utVstT"
         ],
         "type": "scatterpolar"
        },
        {
         "fill": "toself",
         "name": "12643",
         "opacity": 1,
         "r": [
          0.04649464459591042,
          0.1226775956284153,
          0.6193447993447994,
          0,
          0.053500539561537094
         ],
         "subplot": "polar26",
         "theta": [
          "breadT",
          "bwriteT",
          "vmPerProc",
          "iowaitT",
          "utVstT"
         ],
         "type": "scatterpolar"
        },
        {
         "fill": "toself",
         "name": "12638",
         "opacity": 0.2,
         "r": [
          0.042843232716650435,
          0.13278688524590163,
          0.6227027027027027,
          0,
          0.03255885602378568
         ],
         "subplot": "polar26",
         "theta": [
          "breadT",
          "bwriteT",
          "vmPerProc",
          "iowaitT",
          "utVstT"
         ],
         "type": "scatterpolar"
        },
        {
         "fill": "toself",
         "name": "7632",
         "opacity": 0.4,
         "r": [
          0.03554040895813048,
          0.0866120218579235,
          0.6223259623259624,
          0,
          0.018411266464738354
         ],
         "subplot": "polar26",
         "theta": [
          "breadT",
          "bwriteT",
          "vmPerProc",
          "iowaitT",
          "utVstT"
         ],
         "type": "scatterpolar"
        },
        {
         "fill": "toself",
         "name": "12646",
         "opacity": 0.6,
         "r": [
          0.0009737098344693282,
          0.09836065573770492,
          0.6171171171171171,
          0,
          0.02053556413368893
         ],
         "subplot": "polar26",
         "theta": [
          "breadT",
          "bwriteT",
          "vmPerProc",
          "iowaitT",
          "utVstT"
         ],
         "type": "scatterpolar"
        },
        {
         "fill": "toself",
         "name": "30167",
         "opacity": 0.8,
         "r": [
          0,
          0.11311475409836065,
          0.6165765765765766,
          0,
          0.020092166450465222
         ],
         "subplot": "polar26",
         "theta": [
          "breadT",
          "bwriteT",
          "vmPerProc",
          "iowaitT",
          "utVstT"
         ],
         "type": "scatterpolar"
        },
        {
         "fill": "toself",
         "name": "10483",
         "opacity": 1,
         "r": [
          0.05258033106134372,
          0.13524590163934427,
          0.6214250614250614,
          0,
          0.031716475176161135
         ],
         "subplot": "polar26",
         "theta": [
          "breadT",
          "bwriteT",
          "vmPerProc",
          "iowaitT",
          "utVstT"
         ],
         "type": "scatterpolar"
        },
        {
         "fill": "toself",
         "name": "10485",
         "opacity": 0.2,
         "r": [
          0,
          0.08852459016393442,
          0.6173136773136774,
          0,
          0.039559959131041746
         ],
         "subplot": "polar26",
         "theta": [
          "breadT",
          "bwriteT",
          "vmPerProc",
          "iowaitT",
          "utVstT"
         ],
         "type": "scatterpolar"
        },
        {
         "fill": "toself",
         "name": "7641",
         "opacity": 0.4,
         "r": [
          0.0004868549172346641,
          0.0633879781420765,
          0.6157248157248157,
          0,
          0.011708082951340322
         ],
         "subplot": "polar26",
         "theta": [
          "breadT",
          "bwriteT",
          "vmPerProc",
          "iowaitT",
          "utVstT"
         ],
         "type": "scatterpolar"
        },
        {
         "fill": "toself",
         "name": "7635",
         "opacity": 0.6,
         "r": [
          0.034079844206426485,
          0.09289617486338798,
          0.6173628173628174,
          0,
          0.0356965303213727
         ],
         "subplot": "polar26",
         "theta": [
          "breadT",
          "bwriteT",
          "vmPerProc",
          "iowaitT",
          "utVstT"
         ],
         "type": "scatterpolar"
        },
        {
         "fill": "toself",
         "name": "12645",
         "opacity": 0.8,
         "r": [
          0.004868549172346641,
          0.1989071038251366,
          0.6231941031941032,
          0,
          0.038261675104106344
         ],
         "subplot": "polar26",
         "theta": [
          "breadT",
          "bwriteT",
          "vmPerProc",
          "iowaitT",
          "utVstT"
         ],
         "type": "scatterpolar"
        },
        {
         "fill": "toself",
         "name": "30166",
         "opacity": 1,
         "r": [
          0.035296981499513144,
          0.126775956284153,
          0.6233742833742834,
          0,
          0.03314425436090801
         ],
         "subplot": "polar26",
         "theta": [
          "breadT",
          "bwriteT",
          "vmPerProc",
          "iowaitT",
          "utVstT"
         ],
         "type": "scatterpolar"
        },
        {
         "fill": "toself",
         "name": "7636",
         "opacity": 0.2,
         "r": [
          0.02117818889970789,
          0.16475409836065574,
          0.6225061425061426,
          0,
          0.022335147812115316
         ],
         "subplot": "polar26",
         "theta": [
          "breadT",
          "bwriteT",
          "vmPerProc",
          "iowaitT",
          "utVstT"
         ],
         "type": "scatterpolar"
        },
        {
         "fill": "toself",
         "name": "30165",
         "opacity": 0.4,
         "r": [
          0.03554040895813048,
          0.12404371584699453,
          0.6224570024570024,
          0,
          0.0358750854987995
         ],
         "subplot": "polar26",
         "theta": [
          "breadT",
          "bwriteT",
          "vmPerProc",
          "iowaitT",
          "utVstT"
         ],
         "type": "scatterpolar"
        },
        {
         "fill": "toself",
         "name": "10482",
         "opacity": 0.6,
         "r": [
          0.10516066212268745,
          0.6898907103825137,
          0.6374938574938575,
          0.007731389441130991,
          0.07220665709951817
         ],
         "subplot": "polar26",
         "theta": [
          "breadT",
          "bwriteT",
          "vmPerProc",
          "iowaitT",
          "utVstT"
         ],
         "type": "scatterpolar"
        },
        {
         "fill": "toself",
         "name": "10484",
         "opacity": 0.8,
         "r": [
          0.02994157740993184,
          0.14562841530054646,
          0.6216543816543817,
          0.00022089684117517118,
          0.008982918685852728
         ],
         "subplot": "polar26",
         "theta": [
          "breadT",
          "bwriteT",
          "vmPerProc",
          "iowaitT",
          "utVstT"
         ],
         "type": "scatterpolar"
        },
        {
         "fill": "toself",
         "name": "30162",
         "opacity": 1,
         "r": [
          0.02117818889970789,
          0.12896174863387977,
          0.621998361998362,
          0,
          0.03410924969530651
         ],
         "subplot": "polar26",
         "theta": [
          "breadT",
          "bwriteT",
          "vmPerProc",
          "iowaitT",
          "utVstT"
         ],
         "type": "scatterpolar"
        },
        {
         "fill": "toself",
         "name": "12419",
         "opacity": 0.2,
         "r": [
          0.06499513145082765,
          0.013114754098360656,
          0.8902047502047502,
          0.005964214711729622,
          0.5937114626253466
         ],
         "subplot": "polar27",
         "theta": [
          "breadT",
          "bwriteT",
          "vmPerProc",
          "iowaitT",
          "utVstT"
         ],
         "type": "scatterpolar"
        },
        {
         "fill": "toself",
         "name": "12418",
         "opacity": 0.4,
         "r": [
          0.607838364167478,
          0.012841530054644808,
          0.89005733005733,
          0.005964214711729622,
          0.6380634001111367
         ],
         "subplot": "polar27",
         "theta": [
          "breadT",
          "bwriteT",
          "vmPerProc",
          "iowaitT",
          "utVstT"
         ],
         "type": "scatterpolar"
        },
        {
         "fill": "toself",
         "name": "12417",
         "opacity": 0.6,
         "r": [
          0.6428919182083739,
          0.03278688524590164,
          0.9659787059787059,
          0.015020985199911642,
          0.680231894414542
         ],
         "subplot": "polar27",
         "theta": [
          "breadT",
          "bwriteT",
          "vmPerProc",
          "iowaitT",
          "utVstT"
         ],
         "type": "scatterpolar"
        },
        {
         "fill": "toself",
         "name": "9456",
         "opacity": 0.8,
         "r": [
          0.5878773125608568,
          0.014207650273224045,
          0.8902538902538902,
          0.01126573889993373,
          0.5764469577865591
         ],
         "subplot": "polar27",
         "theta": [
          "breadT",
          "bwriteT",
          "vmPerProc",
          "iowaitT",
          "utVstT"
         ],
         "type": "scatterpolar"
        },
        {
         "fill": "toself",
         "name": "9458",
         "opacity": 1,
         "r": [
          0.29503407984420643,
          0.013114754098360656,
          0.8901392301392301,
          0.01126573889993373,
          0.5244504806857584
         ],
         "subplot": "polar27",
         "theta": [
          "breadT",
          "bwriteT",
          "vmPerProc",
          "iowaitT",
          "utVstT"
         ],
         "type": "scatterpolar"
        },
        {
         "fill": "toself",
         "name": "12420",
         "opacity": 0.2,
         "r": [
          0.1694255111976631,
          0.012295081967213115,
          0.8899099099099099,
          0.005743317870554451,
          0.6038169697045321
         ],
         "subplot": "polar27",
         "theta": [
          "breadT",
          "bwriteT",
          "vmPerProc",
          "iowaitT",
          "utVstT"
         ],
         "type": "scatterpolar"
        },
        {
         "fill": "toself",
         "name": "14584",
         "opacity": 0.4,
         "r": [
          0.42015579357351507,
          0.012841530054644808,
          0.8902047502047502,
          0.010382151535233045,
          0.66618813301213
         ],
         "subplot": "polar27",
         "theta": [
          "breadT",
          "bwriteT",
          "vmPerProc",
          "iowaitT",
          "utVstT"
         ],
         "type": "scatterpolar"
        },
        {
         "fill": "toself",
         "name": "812",
         "opacity": 0.6,
         "r": [
          0.16358325219084713,
          0.012568306010928962,
          0.890941850941851,
          0.011486635741108902,
          0.610478503426938
         ],
         "subplot": "polar27",
         "theta": [
          "breadT",
          "bwriteT",
          "vmPerProc",
          "iowaitT",
          "utVstT"
         ],
         "type": "scatterpolar"
        },
        {
         "fill": "toself",
         "name": "14581",
         "opacity": 0.8,
         "r": [
          0.38461538461538464,
          0.013934426229508197,
          0.893988533988534,
          0.010603048376408216,
          0.6062222670332261
         ],
         "subplot": "polar27",
         "theta": [
          "breadT",
          "bwriteT",
          "vmPerProc",
          "iowaitT",
          "utVstT"
         ],
         "type": "scatterpolar"
        },
        {
         "fill": "toself",
         "name": "14586",
         "opacity": 1,
         "r": [
          0.12950340798442064,
          0.012295081967213115,
          0.88992628992629,
          0.010382151535233045,
          0.6017985068022927
         ],
         "subplot": "polar27",
         "theta": [
          "breadT",
          "bwriteT",
          "vmPerProc",
          "iowaitT",
          "utVstT"
         ],
         "type": "scatterpolar"
        },
        {
         "fill": "toself",
         "name": "807",
         "opacity": 0.2,
         "r": [
          0.33787731256085685,
          0.014207650273224045,
          0.8911547911547911,
          0.011486635741108902,
          0.6772381393524918
         ],
         "subplot": "polar27",
         "theta": [
          "breadT",
          "bwriteT",
          "vmPerProc",
          "iowaitT",
          "utVstT"
         ],
         "type": "scatterpolar"
        },
        {
         "fill": "toself",
         "name": "9460",
         "opacity": 0.4,
         "r": [
          0.1185491723466407,
          0.012568306010928962,
          0.8907125307125308,
          0.010603048376408216,
          0.6029198750813147
         ],
         "subplot": "polar27",
         "theta": [
          "breadT",
          "bwriteT",
          "vmPerProc",
          "iowaitT",
          "utVstT"
         ],
         "type": "scatterpolar"
        },
        {
         "fill": "toself",
         "name": "810",
         "opacity": 0.6,
         "r": [
          0.3074488802336904,
          0.013114754098360656,
          0.8903194103194103,
          0.011486635741108902,
          0.6611524479592229
         ],
         "subplot": "polar27",
         "theta": [
          "breadT",
          "bwriteT",
          "vmPerProc",
          "iowaitT",
          "utVstT"
         ],
         "type": "scatterpolar"
        },
        {
         "fill": "toself",
         "name": "9459",
         "opacity": 0.8,
         "r": [
          0.14167478091528724,
          0.012295081967213115,
          0.8905323505323506,
          0.01126573889993373,
          0.6032871420075984
         ],
         "subplot": "polar27",
         "theta": [
          "breadT",
          "bwriteT",
          "vmPerProc",
          "iowaitT",
          "utVstT"
         ],
         "type": "scatterpolar"
        },
        {
         "fill": "toself",
         "name": "811",
         "opacity": 1,
         "r": [
          0.5740019474196689,
          0.012295081967213115,
          0.8903194103194103,
          0.011486635741108902,
          0.6669302149614826
         ],
         "subplot": "polar27",
         "theta": [
          "breadT",
          "bwriteT",
          "vmPerProc",
          "iowaitT",
          "utVstT"
         ],
         "type": "scatterpolar"
        },
        {
         "fill": "toself",
         "name": "14585",
         "opacity": 0.2,
         "r": [
          0.4279454722492697,
          0.012841530054644808,
          0.88992628992629,
          0.010382151535233045,
          0.6066738247294766
         ],
         "subplot": "polar27",
         "theta": [
          "breadT",
          "bwriteT",
          "vmPerProc",
          "iowaitT",
          "utVstT"
         ],
         "type": "scatterpolar"
        },
        {
         "fill": "toself",
         "name": "12616",
         "opacity": 0.4,
         "r": [
          0.5153359298928919,
          0.05191256830601093,
          0.9719082719082719,
          0.0064060083940799635,
          0.009954982116377596
         ],
         "subplot": "polar28",
         "theta": [
          "breadT",
          "bwriteT",
          "vmPerProc",
          "iowaitT",
          "utVstT"
         ],
         "type": "scatterpolar"
        },
        {
         "fill": "toself",
         "name": "9624",
         "opacity": 0.6,
         "r": [
          0.4203992210321324,
          0.03961748633879782,
          0.88995904995905,
          0.006185111552904793,
          0.006523991612634145
         ],
         "subplot": "polar28",
         "theta": [
          "breadT",
          "bwriteT",
          "vmPerProc",
          "iowaitT",
          "utVstT"
         ],
         "type": "scatterpolar"
        },
        {
         "fill": "toself",
         "name": "9623",
         "opacity": 0.8,
         "r": [
          0.43816942551119764,
          0.03907103825136612,
          0.8927436527436527,
          0.006185111552904793,
          0.010174820436405281
         ],
         "subplot": "polar28",
         "theta": [
          "breadT",
          "bwriteT",
          "vmPerProc",
          "iowaitT",
          "utVstT"
         ],
         "type": "scatterpolar"
        },
        {
         "fill": "toself",
         "name": "12617",
         "opacity": 1,
         "r": [
          0.5718111002921129,
          0.029234972677595627,
          0.8896969696969697,
          0.005743317870554451,
          0.01334709555836981
         ],
         "subplot": "polar28",
         "theta": [
          "breadT",
          "bwriteT",
          "vmPerProc",
          "iowaitT",
          "utVstT"
         ],
         "type": "scatterpolar"
        },
        {
         "fill": "toself",
         "name": "12618",
         "opacity": 0.2,
         "r": [
          0.10710808179162609,
          0.03715846994535519,
          0.8898443898443898,
          0.005743317870554451,
          0.011377117319865172
         ],
         "subplot": "polar28",
         "theta": [
          "breadT",
          "bwriteT",
          "vmPerProc",
          "iowaitT",
          "utVstT"
         ],
         "type": "scatterpolar"
        },
        {
         "fill": "toself",
         "name": "9627",
         "opacity": 0.4,
         "r": [
          0.09542356377799416,
          0.047540983606557376,
          0.8904504504504505,
          0.00552242102937928,
          0.006898524107900546
         ],
         "subplot": "polar28",
         "theta": [
          "breadT",
          "bwriteT",
          "vmPerProc",
          "iowaitT",
          "utVstT"
         ],
         "type": "scatterpolar"
        },
        {
         "fill": "toself",
         "name": "12619",
         "opacity": 0.6,
         "r": [
          0.2908958130477118,
          0.0412568306010929,
          0.8897788697788698,
          0.005743317870554451,
          0.014518585315309494
         ],
         "subplot": "polar28",
         "theta": [
          "breadT",
          "bwriteT",
          "vmPerProc",
          "iowaitT",
          "utVstT"
         ],
         "type": "scatterpolar"
        },
        {
         "fill": "toself",
         "name": "9626",
         "opacity": 0.8,
         "r": [
          0.19109055501460565,
          0.04016393442622951,
          0.8897952497952498,
          0.006185111552904793,
          0.003512251293119691
         ],
         "subplot": "polar28",
         "theta": [
          "breadT",
          "bwriteT",
          "vmPerProc",
          "iowaitT",
          "utVstT"
         ],
         "type": "scatterpolar"
        },
        {
         "fill": "toself",
         "name": "14747",
         "opacity": 1,
         "r": [
          0.3259493670886076,
          0.026775956284153007,
          0.8938083538083538,
          0.0064060083940799635,
          0.01446944316983369
         ],
         "subplot": "polar28",
         "theta": [
          "breadT",
          "bwriteT",
          "vmPerProc",
          "iowaitT",
          "utVstT"
         ],
         "type": "scatterpolar"
        },
        {
         "fill": "toself",
         "name": "1046",
         "opacity": 0.2,
         "r": [
          0.3931353456669912,
          0.026775956284153007,
          0.89000819000819,
          0.00552242102937928,
          0.019601942198041133
         ],
         "subplot": "polar28",
         "theta": [
          "breadT",
          "bwriteT",
          "vmPerProc",
          "iowaitT",
          "utVstT"
         ],
         "type": "scatterpolar"
        },
        {
         "fill": "toself",
         "name": "1043",
         "opacity": 0.4,
         "r": [
          0.4169912366114898,
          0.0273224043715847,
          0.897002457002457,
          0.00552242102937928,
          0.019681335547625387
         ],
         "subplot": "polar28",
         "theta": [
          "breadT",
          "bwriteT",
          "vmPerProc",
          "iowaitT",
          "utVstT"
         ],
         "type": "scatterpolar"
        },
        {
         "fill": "toself",
         "name": "14752",
         "opacity": 0.6,
         "r": [
          0.39191820837390456,
          0.03360655737704918,
          0.8917772317772318,
          0.0064060083940799635,
          0.016818718455775723
         ],
         "subplot": "polar28",
         "theta": [
          "breadT",
          "bwriteT",
          "vmPerProc",
          "iowaitT",
          "utVstT"
         ],
         "type": "scatterpolar"
        },
        {
         "fill": "toself",
         "name": "1045",
         "opacity": 0.8,
         "r": [
          0.49342745861733206,
          0.0273224043715847,
          0.89002457002457,
          0.010382151535233045,
          0.01571116447077331
         ],
         "subplot": "polar28",
         "theta": [
          "breadT",
          "bwriteT",
          "vmPerProc",
          "iowaitT",
          "utVstT"
         ],
         "type": "scatterpolar"
        },
        {
         "fill": "toself",
         "name": "1047",
         "opacity": 1,
         "r": [
          0.08300876338851022,
          0.03169398907103825,
          0.8903521703521704,
          0.005301524188204108,
          0.017193249222165936
         ],
         "subplot": "polar28",
         "theta": [
          "breadT",
          "bwriteT",
          "vmPerProc",
          "iowaitT",
          "utVstT"
         ],
         "type": "scatterpolar"
        },
        {
         "fill": "toself",
         "name": "14750",
         "opacity": 0.2,
         "r": [
          0.2453748782862707,
          0.027049180327868853,
          0.8906306306306306,
          0.0064060083940799635,
          0.017302288335349355
         ],
         "subplot": "polar28",
         "theta": [
          "breadT",
          "bwriteT",
          "vmPerProc",
          "iowaitT",
          "utVstT"
         ],
         "type": "scatterpolar"
        },
        {
         "fill": "toself",
         "name": "14751",
         "opacity": 0.4,
         "r": [
          0.3459104186952288,
          0.02814207650273224,
          0.8896642096642097,
          0.0064060083940799635,
          0.015382624361753968
         ],
         "subplot": "polar28",
         "theta": [
          "breadT",
          "bwriteT",
          "vmPerProc",
          "iowaitT",
          "utVstT"
         ],
         "type": "scatterpolar"
        },
        {
         "fill": "toself",
         "name": "11614",
         "opacity": 0.6,
         "r": [
          0.007789678675754625,
          0.08087431693989071,
          0.6057166257166258,
          0,
          0.04672004261891575
         ],
         "subplot": "polar29",
         "theta": [
          "breadT",
          "bwriteT",
          "vmPerProc",
          "iowaitT",
          "utVstT"
         ],
         "type": "scatterpolar"
        },
        {
         "fill": "toself",
         "name": "20849",
         "opacity": 0.8,
         "r": [
          0.09225900681596884,
          0.04207650273224044,
          0.6257985257985258,
          0,
          0.04836765909001248
         ],
         "subplot": "polar29",
         "theta": [
          "breadT",
          "bwriteT",
          "vmPerProc",
          "iowaitT",
          "utVstT"
         ],
         "type": "scatterpolar"
        },
        {
         "fill": "toself",
         "name": "11610",
         "opacity": 1,
         "r": [
          0.07887049659201557,
          0.048633879781420766,
          0.61995085995086,
          0,
          0.07296590214239124
         ],
         "subplot": "polar29",
         "theta": [
          "breadT",
          "bwriteT",
          "vmPerProc",
          "iowaitT",
          "utVstT"
         ],
         "type": "scatterpolar"
        },
        {
         "fill": "toself",
         "name": "22119",
         "opacity": 0.2,
         "r": [
          0.0949367088607595,
          0,
          0.0015561015561015561,
          0,
          0.04522331441956376
         ],
         "subplot": "polar29",
         "theta": [
          "breadT",
          "bwriteT",
          "vmPerProc",
          "iowaitT",
          "utVstT"
         ],
         "type": "scatterpolar"
        },
        {
         "fill": "toself",
         "name": "20850",
         "opacity": 0.4,
         "r": [
          0.0007302823758519961,
          0.04371584699453552,
          0.6257821457821457,
          0,
          0.040435554279688535
         ],
         "subplot": "polar29",
         "theta": [
          "breadT",
          "bwriteT",
          "vmPerProc",
          "iowaitT",
          "utVstT"
         ],
         "type": "scatterpolar"
        },
        {
         "fill": "toself",
         "name": "20855",
         "opacity": 0.6,
         "r": [
          0,
          0.04562841530054645,
          0.617084357084357,
          0,
          0.03391257262906182
         ],
         "subplot": "polar29",
         "theta": [
          "breadT",
          "bwriteT",
          "vmPerProc",
          "iowaitT",
          "utVstT"
         ],
         "type": "scatterpolar"
        },
        {
         "fill": "toself",
         "name": "20845",
         "opacity": 0.8,
         "r": [
          0,
          0.0953551912568306,
          0.6204095004095004,
          0.00022089684117517118,
          0.03344782177882637
         ],
         "subplot": "polar29",
         "theta": [
          "breadT",
          "bwriteT",
          "vmPerProc",
          "iowaitT",
          "utVstT"
         ],
         "type": "scatterpolar"
        },
        {
         "fill": "toself",
         "name": "11611",
         "opacity": 1,
         "r": [
          0.08325219084712755,
          0.040437158469945354,
          0.6101883701883702,
          0,
          0.04297693418802945
         ],
         "subplot": "polar29",
         "theta": [
          "breadT",
          "bwriteT",
          "vmPerProc",
          "iowaitT",
          "utVstT"
         ],
         "type": "scatterpolar"
        },
        {
         "fill": "toself",
         "name": "22212",
         "opacity": 0.2,
         "r": [
          0.03992210321324245,
          0.5489071038251366,
          0.6224897624897625,
          0.00044179368235034236,
          0.022981213303291604
         ],
         "subplot": "polar30",
         "theta": [
          "breadT",
          "bwriteT",
          "vmPerProc",
          "iowaitT",
          "utVstT"
         ],
         "type": "scatterpolar"
        },
        {
         "fill": "toself",
         "name": "22213",
         "opacity": 0.4,
         "r": [
          0.046007789678675755,
          0.6270491803278688,
          0.6229320229320229,
          0.00044179368235034236,
          0.023455337270260612
         ],
         "subplot": "polar30",
         "theta": [
          "breadT",
          "bwriteT",
          "vmPerProc",
          "iowaitT",
          "utVstT"
         ],
         "type": "scatterpolar"
        },
        {
         "fill": "toself",
         "name": "21001",
         "opacity": 0.6,
         "r": [
          0.009980525803310613,
          0.37896174863387977,
          0.6171171171171171,
          0.0006626905235255135,
          0.024695385747028488
         ],
         "subplot": "polar30",
         "theta": [
          "breadT",
          "bwriteT",
          "vmPerProc",
          "iowaitT",
          "utVstT"
         ],
         "type": "scatterpolar"
        },
        {
         "fill": "toself",
         "name": "22211",
         "opacity": 0.8,
         "r": [
          0.008763388510223954,
          0.4997267759562842,
          0.6228501228501229,
          0.0006626905235255135,
          0.02541539244844048
         ],
         "subplot": "polar30",
         "theta": [
          "breadT",
          "bwriteT",
          "vmPerProc",
          "iowaitT",
          "utVstT"
         ],
         "type": "scatterpolar"
        },
        {
         "fill": "toself",
         "name": "11765",
         "opacity": 1,
         "r": [
          0.0004868549172346641,
          0.4453551912568306,
          0.6224078624078624,
          0,
          0.018928896140297444
         ],
         "subplot": "polar30",
         "theta": [
          "breadT",
          "bwriteT",
          "vmPerProc",
          "iowaitT",
          "utVstT"
         ],
         "type": "scatterpolar"
        },
        {
         "fill": "toself",
         "name": "19301",
         "opacity": 0.2,
         "r": [
          0,
          0.1959016393442623,
          0.6182309582309582,
          0,
          0.01319399641933257
         ],
         "subplot": "polar30",
         "theta": [
          "breadT",
          "bwriteT",
          "vmPerProc",
          "iowaitT",
          "utVstT"
         ],
         "type": "scatterpolar"
        },
        {
         "fill": "toself",
         "name": "20998",
         "opacity": 0.4,
         "r": [
          0.046007789678675755,
          0.42650273224043717,
          0.6221457821457822,
          0.00022089684117517118,
          0.022803234902084763
         ],
         "subplot": "polar30",
         "theta": [
          "breadT",
          "bwriteT",
          "vmPerProc",
          "iowaitT",
          "utVstT"
         ],
         "type": "scatterpolar"
        },
        {
         "fill": "toself",
         "name": "21007",
         "opacity": 0.6,
         "r": [
          0.02020447906523856,
          0.3185792349726776,
          0.6175429975429976,
          0,
          0.021398284548736872
         ],
         "subplot": "polar30",
         "theta": [
          "breadT",
          "bwriteT",
          "vmPerProc",
          "iowaitT",
          "utVstT"
         ],
         "type": "scatterpolar"
        },
        {
         "fill": "toself",
         "name": "19299",
         "opacity": 0.8,
         "r": [
          0.0029211295034079843,
          0.28770491803278686,
          0.618984438984439,
          0.00022089684117517118,
          0.01502213316362288
         ],
         "subplot": "polar30",
         "theta": [
          "breadT",
          "bwriteT",
          "vmPerProc",
          "iowaitT",
          "utVstT"
         ],
         "type": "scatterpolar"
        },
        {
         "fill": "toself",
         "name": "21002",
         "opacity": 1,
         "r": [
          0.01679649464459591,
          0.6622950819672131,
          0.6223259623259624,
          0.00022089684117517118,
          0.02351903007647382
         ],
         "subplot": "polar30",
         "theta": [
          "breadT",
          "bwriteT",
          "vmPerProc",
          "iowaitT",
          "utVstT"
         ],
         "type": "scatterpolar"
        },
        {
         "fill": "toself",
         "name": "19298",
         "opacity": 0.2,
         "r": [
          0.010954235637779941,
          0.28469945355191256,
          0.6220802620802621,
          0.00044179368235034236,
          0.014341478337655996
         ],
         "subplot": "polar30",
         "theta": [
          "breadT",
          "bwriteT",
          "vmPerProc",
          "iowaitT",
          "utVstT"
         ],
         "type": "scatterpolar"
        },
        {
         "fill": "toself",
         "name": "19300",
         "opacity": 0.4,
         "r": [
          0.07862706913339824,
          0.5560109289617486,
          0.6235708435708436,
          0,
          0.012834961497009644
         ],
         "subplot": "polar30",
         "theta": [
          "breadT",
          "bwriteT",
          "vmPerProc",
          "iowaitT",
          "utVstT"
         ],
         "type": "scatterpolar"
        },
        {
         "fill": "toself",
         "name": "11763",
         "opacity": 0.6,
         "r": [
          0.0981012658227848,
          0.8390710382513661,
          0.6352825552825553,
          0.007731389441130991,
          0.02731000015612499
         ],
         "subplot": "polar30",
         "theta": [
          "breadT",
          "bwriteT",
          "vmPerProc",
          "iowaitT",
          "utVstT"
         ],
         "type": "scatterpolar"
        },
        {
         "fill": "toself",
         "name": "22218",
         "opacity": 0.8,
         "r": [
          0.00024342745861733204,
          0.4521857923497268,
          0.6171498771498771,
          0.0008835873647006847,
          0.02424913902340554
         ],
         "subplot": "polar30",
         "theta": [
          "breadT",
          "bwriteT",
          "vmPerProc",
          "iowaitT",
          "utVstT"
         ],
         "type": "scatterpolar"
        },
        {
         "fill": "toself",
         "name": "11770",
         "opacity": 1,
         "r": [
          0,
          0.3005464480874317,
          0.6192792792792793,
          0.00022089684117517118,
          0.022873283054526752
         ],
         "subplot": "polar30",
         "theta": [
          "breadT",
          "bwriteT",
          "vmPerProc",
          "iowaitT",
          "utVstT"
         ],
         "type": "scatterpolar"
        },
        {
         "fill": "toself",
         "name": "11764",
         "opacity": 0.2,
         "r": [
          0.08227848101265822,
          0.4576502732240437,
          0.623030303030303,
          0,
          0.021412933508980467
         ],
         "subplot": "polar30",
         "theta": [
          "breadT",
          "bwriteT",
          "vmPerProc",
          "iowaitT",
          "utVstT"
         ],
         "type": "scatterpolar"
        },
        {
         "fill": "toself",
         "name": "13165",
         "opacity": 0.4,
         "r": [
          1,
          0.060655737704918035,
          0.9719082719082719,
          0.00552242102937928,
          0.01840597190721234
         ],
         "subplot": "polar31",
         "theta": [
          "breadT",
          "bwriteT",
          "vmPerProc",
          "iowaitT",
          "utVstT"
         ],
         "type": "scatterpolar"
        },
        {
         "fill": "toself",
         "name": "13166",
         "opacity": 0.6,
         "r": [
          0.1346153846153846,
          0.038524590163934426,
          0.8896969696969697,
          0.005080627347028938,
          0.015533369662512285
         ],
         "subplot": "polar31",
         "theta": [
          "breadT",
          "bwriteT",
          "vmPerProc",
          "iowaitT",
          "utVstT"
         ],
         "type": "scatterpolar"
        },
        {
         "fill": "toself",
         "name": "20649",
         "opacity": 0.8,
         "r": [
          0.615141187925998,
          0.03961748633879782,
          0.88995904995905,
          0.005964214711729622,
          0.006495631650420939
         ],
         "subplot": "polar31",
         "theta": [
          "breadT",
          "bwriteT",
          "vmPerProc",
          "iowaitT",
          "utVstT"
         ],
         "type": "scatterpolar"
        },
        {
         "fill": "toself",
         "name": "20645",
         "opacity": 1,
         "r": [
          0.2066699123661149,
          0.038524590163934426,
          0.8992465192465192,
          0.005964214711729622,
          0.00656695920271391
         ],
         "subplot": "polar31",
         "theta": [
          "breadT",
          "bwriteT",
          "vmPerProc",
          "iowaitT",
          "utVstT"
         ],
         "type": "scatterpolar"
        },
        {
         "fill": "toself",
         "name": "13167",
         "opacity": 0.2,
         "r": [
          0.09371957156767283,
          0.04371584699453552,
          0.8898607698607699,
          0.005301524188204108,
          0.01266021319015569
         ],
         "subplot": "polar31",
         "theta": [
          "breadT",
          "bwriteT",
          "vmPerProc",
          "iowaitT",
          "utVstT"
         ],
         "type": "scatterpolar"
        },
        {
         "fill": "toself",
         "name": "20655",
         "opacity": 0.4,
         "r": [
          0.03773125608568646,
          0.04726775956284153,
          0.8903521703521704,
          0.00552242102937928,
          0.008359933561664316
         ],
         "subplot": "polar31",
         "theta": [
          "breadT",
          "bwriteT",
          "vmPerProc",
          "iowaitT",
          "utVstT"
         ],
         "type": "scatterpolar"
        },
        {
         "fill": "toself",
         "name": "13172",
         "opacity": 0.6,
         "r": [
          0.18403115871470302,
          0.050546448087431695,
          0.8897788697788698,
          0.005080627347028938,
          0.019501368003286872
         ],
         "subplot": "polar31",
         "theta": [
          "breadT",
          "bwriteT",
          "vmPerProc",
          "iowaitT",
          "utVstT"
         ],
         "type": "scatterpolar"
        },
        {
         "fill": "toself",
         "name": "22380",
         "opacity": 0.8,
         "r": [
          0.2217624148003895,
          0.040437158469945354,
          0.8902047502047502,
          0.009719461011707531,
          0.0188085607821879
         ],
         "subplot": "polar31",
         "theta": [
          "breadT",
          "bwriteT",
          "vmPerProc",
          "iowaitT",
          "utVstT"
         ],
         "type": "scatterpolar"
        },
        {
         "fill": "toself",
         "name": "23575",
         "opacity": 1,
         "r": [
          0.2400194741966894,
          0.03961748633879782,
          0.8963800163800164,
          0.010161254694057875,
          0.016850770193259475
         ],
         "subplot": "polar31",
         "theta": [
          "breadT",
          "bwriteT",
          "vmPerProc",
          "iowaitT",
          "utVstT"
         ],
         "type": "scatterpolar"
        },
        {
         "fill": "toself",
         "name": "23581",
         "opacity": 0.2,
         "r": [
          0.07692307692307693,
          0.04918032786885246,
          0.8912694512694512,
          0.01480008835873647,
          0.01825139599896301
         ],
         "subplot": "polar31",
         "theta": [
          "breadT",
          "bwriteT",
          "vmPerProc",
          "iowaitT",
          "utVstT"
         ],
         "type": "scatterpolar"
        },
        {
         "fill": "toself",
         "name": "23580",
         "opacity": 0.4,
         "r": [
          0.8807205452775073,
          0.0407103825136612,
          0.89002457002457,
          0.015020985199911642,
          0.01406117577003158
         ],
         "subplot": "polar31",
         "theta": [
          "breadT",
          "bwriteT",
          "vmPerProc",
          "iowaitT",
          "utVstT"
         ],
         "type": "scatterpolar"
        },
        {
         "fill": "toself",
         "name": "22382",
         "opacity": 0.6,
         "r": [
          0.17185978578383643,
          0.049453551912568304,
          0.8913841113841113,
          0.009719461011707531,
          0.0201112466911614
         ],
         "subplot": "polar31",
         "theta": [
          "breadT",
          "bwriteT",
          "vmPerProc",
          "iowaitT",
          "utVstT"
         ],
         "type": "scatterpolar"
        },
        {
         "fill": "toself",
         "name": "20650",
         "opacity": 0.8,
         "r": [
          0.2736124634858812,
          0.03961748633879782,
          0.8902047502047502,
          0.00552242102937928,
          0.0054833927515044525
         ],
         "subplot": "polar31",
         "theta": [
          "breadT",
          "bwriteT",
          "vmPerProc",
          "iowaitT",
          "utVstT"
         ],
         "type": "scatterpolar"
        },
        {
         "fill": "toself",
         "name": "22381",
         "opacity": 1,
         "r": [
          0.07911392405063292,
          0.040437158469945354,
          0.8902211302211303,
          0.009719461011707531,
          0.01947714463370345
         ],
         "subplot": "polar31",
         "theta": [
          "breadT",
          "bwriteT",
          "vmPerProc",
          "iowaitT",
          "utVstT"
         ],
         "type": "scatterpolar"
        },
        {
         "fill": "toself",
         "name": "22375",
         "opacity": 0.2,
         "r": [
          0.8166991236611489,
          0.04016393442622951,
          0.8960851760851761,
          0.0145791915175613,
          0.015417008286218366
         ],
         "subplot": "polar31",
         "theta": [
          "breadT",
          "bwriteT",
          "vmPerProc",
          "iowaitT",
          "utVstT"
         ],
         "type": "scatterpolar"
        },
        {
         "fill": "toself",
         "name": "23579",
         "opacity": 0.4,
         "r": [
          0.1944985394352483,
          0.04016393442622951,
          0.8899426699426699,
          0.010382151535233045,
          0.015313379420160197
         ],
         "subplot": "polar31",
         "theta": [
          "breadT",
          "bwriteT",
          "vmPerProc",
          "iowaitT",
          "utVstT"
         ],
         "type": "scatterpolar"
        },
        {
         "fill": "toself",
         "name": "14008",
         "opacity": 0.6,
         "r": [
          0.6416747809152873,
          0.03770491803278689,
          0.965945945945946,
          0.0064060083940799635,
          0.029422142548483163
         ],
         "subplot": "polar32",
         "theta": [
          "breadT",
          "bwriteT",
          "vmPerProc",
          "iowaitT",
          "utVstT"
         ],
         "type": "scatterpolar"
        },
        {
         "fill": "toself",
         "name": "21470",
         "opacity": 0.8,
         "r": [
          0.24294060370009737,
          0.019398907103825136,
          0.8902375102375102,
          0.005743317870554451,
          0.025329091443758313
         ],
         "subplot": "polar32",
         "theta": [
          "breadT",
          "bwriteT",
          "vmPerProc",
          "iowaitT",
          "utVstT"
         ],
         "type": "scatterpolar"
        },
        {
         "fill": "toself",
         "name": "14012",
         "opacity": 1,
         "r": [
          0.20837390457643623,
          0.018032786885245903,
          0.8901883701883702,
          0.004859730505853766,
          0.03009721597293986
         ],
         "subplot": "polar32",
         "theta": [
          "breadT",
          "bwriteT",
          "vmPerProc",
          "iowaitT",
          "utVstT"
         ],
         "type": "scatterpolar"
        },
        {
         "fill": "toself",
         "name": "14015",
         "opacity": 0.2,
         "r": [
          0.24659201557935737,
          0.018579234972677595,
          0.8902866502866503,
          0.005301524188204108,
          0.03342453718489817
         ],
         "subplot": "polar32",
         "theta": [
          "breadT",
          "bwriteT",
          "vmPerProc",
          "iowaitT",
          "utVstT"
         ],
         "type": "scatterpolar"
        },
        {
         "fill": "toself",
         "name": "21472",
         "opacity": 0.4,
         "r": [
          0.2249269717624148,
          0.01994535519125683,
          0.891007371007371,
          0.00552242102937928,
          0.025394644805244164
         ],
         "subplot": "polar32",
         "theta": [
          "breadT",
          "bwriteT",
          "vmPerProc",
          "iowaitT",
          "utVstT"
         ],
         "type": "scatterpolar"
        },
        {
         "fill": "toself",
         "name": "14009",
         "opacity": 0.6,
         "r": [
          0.3157254138266796,
          0.036065573770491806,
          0.8900409500409501,
          0.005080627347028938,
          0.03505186391926168
         ],
         "subplot": "polar32",
         "theta": [
          "breadT",
          "bwriteT",
          "vmPerProc",
          "iowaitT",
          "utVstT"
         ],
         "type": "scatterpolar"
        },
        {
         "fill": "toself",
         "name": "21465",
         "opacity": 0.8,
         "r": [
          0.5433300876338851,
          0.020491803278688523,
          0.892989352989353,
          0.005964214711729622,
          0.02592254887826147
         ],
         "subplot": "polar32",
         "theta": [
          "breadT",
          "bwriteT",
          "vmPerProc",
          "iowaitT",
          "utVstT"
         ],
         "type": "scatterpolar"
        },
        {
         "fill": "toself",
         "name": "23210",
         "opacity": 1,
         "r": [
          0.19133398247322297,
          0.01830601092896175,
          0.8902047502047502,
          0.009940357852882704,
          0.030060055812802623
         ],
         "subplot": "polar32",
         "theta": [
          "breadT",
          "bwriteT",
          "vmPerProc",
          "iowaitT",
          "utVstT"
         ],
         "type": "scatterpolar"
        },
        {
         "fill": "toself",
         "name": "24401",
         "opacity": 0.2,
         "r": [
          0.9892891918208374,
          0.021584699453551914,
          0.8899426699426699,
          0.010603048376408216,
          0.03559915891205705
         ],
         "subplot": "polar32",
         "theta": [
          "breadT",
          "bwriteT",
          "vmPerProc",
          "iowaitT",
          "utVstT"
         ],
         "type": "scatterpolar"
        },
        {
         "fill": "toself",
         "name": "23211",
         "opacity": 0.4,
         "r": [
          0.1482473222979552,
          0.017486338797814208,
          0.8903030303030303,
          0.009719461011707531,
          0.03180778464468052
         ],
         "subplot": "polar32",
         "theta": [
          "breadT",
          "bwriteT",
          "vmPerProc",
          "iowaitT",
          "utVstT"
         ],
         "type": "scatterpolar"
        },
        {
         "fill": "toself",
         "name": "24402",
         "opacity": 0.6,
         "r": [
          0.1277994157740993,
          0.019398907103825136,
          0.8910565110565111,
          0.010382151535233045,
          0.036013549028787215
         ],
         "subplot": "polar32",
         "theta": [
          "breadT",
          "bwriteT",
          "vmPerProc",
          "iowaitT",
          "utVstT"
         ],
         "type": "scatterpolar"
        },
        {
         "fill": "toself",
         "name": "21471",
         "opacity": 0.8,
         "r": [
          0.12268743914313535,
          0.019672131147540985,
          0.8902702702702703,
          0.005301524188204108,
          0.02393126503645413
         ],
         "subplot": "polar32",
         "theta": [
          "breadT",
          "bwriteT",
          "vmPerProc",
          "iowaitT",
          "utVstT"
         ],
         "type": "scatterpolar"
        },
        {
         "fill": "toself",
         "name": "23209",
         "opacity": 1,
         "r": [
          0.5793573515092503,
          0.018032786885245903,
          0.8902211302211303,
          0.010161254694057875,
          0.029088629374642336
         ],
         "subplot": "polar32",
         "theta": [
          "breadT",
          "bwriteT",
          "vmPerProc",
          "iowaitT",
          "utVstT"
         ],
         "type": "scatterpolar"
        },
        {
         "fill": "toself",
         "name": "23208",
         "opacity": 0.2,
         "r": [
          0.42356377799415773,
          0.020218579234972677,
          0.90004914004914,
          0.010382151535233045,
          0.028535698472515438
         ],
         "subplot": "polar32",
         "theta": [
          "breadT",
          "bwriteT",
          "vmPerProc",
          "iowaitT",
          "utVstT"
         ],
         "type": "scatterpolar"
        },
        {
         "fill": "toself",
         "name": "24400",
         "opacity": 0.4,
         "r": [
          0.19936708860759494,
          0.021311475409836064,
          0.8903194103194103,
          0.010382151535233045,
          0.03606386942711048
         ],
         "subplot": "polar32",
         "theta": [
          "breadT",
          "bwriteT",
          "vmPerProc",
          "iowaitT",
          "utVstT"
         ],
         "type": "scatterpolar"
        },
        {
         "fill": "toself",
         "name": "24399",
         "opacity": 0.6,
         "r": [
          0.07497565725413827,
          0.022404371584699455,
          0.8955610155610155,
          0.010603048376408216,
          0.033516115871111044
         ],
         "subplot": "polar32",
         "theta": [
          "breadT",
          "bwriteT",
          "vmPerProc",
          "iowaitT",
          "utVstT"
         ],
         "type": "scatterpolar"
        },
        {
         "fill": "toself",
         "name": "8194",
         "opacity": 0.8,
         "r": [
          0.1579844206426485,
          0.04180327868852459,
          0.6203767403767404,
          0.00022089684117517118,
          0.07356651932310267
         ],
         "subplot": "polar33",
         "theta": [
          "breadT",
          "bwriteT",
          "vmPerProc",
          "iowaitT",
          "utVstT"
         ],
         "type": "scatterpolar"
        },
        {
         "fill": "toself",
         "name": "17909",
         "opacity": 1,
         "r": [
          0,
          0.04426229508196721,
          0.6233415233415234,
          0,
          0.0389540637049142
         ],
         "subplot": "polar33",
         "theta": [
          "breadT",
          "bwriteT",
          "vmPerProc",
          "iowaitT",
          "utVstT"
         ],
         "type": "scatterpolar"
        },
        {
         "fill": "toself",
         "name": "19225",
         "opacity": 0.2,
         "r": [
          0.0949367088607595,
          0,
          0.0017199017199017199,
          0,
          0.0425818910470362
         ],
         "subplot": "polar33",
         "theta": [
          "breadT",
          "bwriteT",
          "vmPerProc",
          "iowaitT",
          "utVstT"
         ],
         "type": "scatterpolar"
        },
        {
         "fill": "toself",
         "name": "8195",
         "opacity": 0.4,
         "r": [
          0.01192794547224927,
          0.03169398907103825,
          0.6093693693693694,
          0,
          0.044628841388032435
         ],
         "subplot": "polar33",
         "theta": [
          "breadT",
          "bwriteT",
          "vmPerProc",
          "iowaitT",
          "utVstT"
         ],
         "type": "scatterpolar"
        },
        {
         "fill": "toself",
         "name": "17914",
         "opacity": 0.6,
         "r": [
          0.0004868549172346641,
          0.04234972677595628,
          0.6175429975429976,
          0,
          0.03577862870138527
         ],
         "subplot": "polar33",
         "theta": [
          "breadT",
          "bwriteT",
          "vmPerProc",
          "iowaitT",
          "utVstT"
         ],
         "type": "scatterpolar"
        },
        {
         "fill": "toself",
         "name": "17908",
         "opacity": 0.8,
         "r": [
          0.08398247322297955,
          0.04480874316939891,
          0.6216707616707616,
          0,
          0.04149426747690058
         ],
         "subplot": "polar33",
         "theta": [
          "breadT",
          "bwriteT",
          "vmPerProc",
          "iowaitT",
          "utVstT"
         ],
         "type": "scatterpolar"
        },
        {
         "fill": "toself",
         "name": "17904",
         "opacity": 1,
         "r": [
          0.008519961051606621,
          0.09808743169398908,
          0.61998361998362,
          0,
          0.032450671226102575
         ],
         "subplot": "polar33",
         "theta": [
          "breadT",
          "bwriteT",
          "vmPerProc",
          "iowaitT",
          "utVstT"
         ],
         "type": "scatterpolar"
        },
        {
         "fill": "toself",
         "name": "8198",
         "opacity": 0.2,
         "r": [
          0,
          0.06666666666666667,
          0.6071580671580672,
          0,
          0.04479689757888826
         ],
         "subplot": "polar33",
         "theta": [
          "breadT",
          "bwriteT",
          "vmPerProc",
          "iowaitT",
          "utVstT"
         ],
         "type": "scatterpolar"
        },
        {
         "fill": "toself",
         "name": "8359",
         "opacity": 0.4,
         "r": [
          0.06962025316455696,
          0.9718579234972677,
          0.634987714987715,
          0.007731389441130991,
          0.02613901100187638
         ],
         "subplot": "polar34",
         "theta": [
          "breadT",
          "bwriteT",
          "vmPerProc",
          "iowaitT",
          "utVstT"
         ],
         "type": "scatterpolar"
        },
        {
         "fill": "toself",
         "name": "16515",
         "opacity": 0.6,
         "r": [
          0.0440603700097371,
          0.4273224043715847,
          0.6180343980343981,
          0,
          0.01433158864612631
         ],
         "subplot": "polar34",
         "theta": [
          "breadT",
          "bwriteT",
          "vmPerProc",
          "iowaitT",
          "utVstT"
         ],
         "type": "scatterpolar"
        },
        {
         "fill": "toself",
         "name": "18064",
         "opacity": 0.8,
         "r": [
          0.0009737098344693282,
          0.3554644808743169,
          0.6162489762489762,
          0,
          0.021328137433915734
         ],
         "subplot": "polar34",
         "theta": [
          "breadT",
          "bwriteT",
          "vmPerProc",
          "iowaitT",
          "utVstT"
         ],
         "type": "scatterpolar"
        },
        {
         "fill": "toself",
         "name": "18055",
         "opacity": 1,
         "r": [
          0.07181110029211295,
          0.4592896174863388,
          0.6227518427518427,
          0.00022089684117517118,
          0.023560015498066376
         ],
         "subplot": "polar34",
         "theta": [
          "breadT",
          "bwriteT",
          "vmPerProc",
          "iowaitT",
          "utVstT"
         ],
         "type": "scatterpolar"
        },
        {
         "fill": "toself",
         "name": "16512",
         "opacity": 0.2,
         "r": [
          0.0046251217137293086,
          0.4281420765027322,
          0.6224406224406225,
          0.0008835873647006847,
          0.013291340494252844
         ],
         "subplot": "polar34",
         "theta": [
          "breadT",
          "bwriteT",
          "vmPerProc",
          "iowaitT",
          "utVstT"
         ],
         "type": "scatterpolar"
        },
        {
         "fill": "toself",
         "name": "8361",
         "opacity": 0.4,
         "r": [
          0.0017039922103213243,
          0.5489071038251366,
          0.621998361998362,
          0,
          0.020630130223378527
         ],
         "subplot": "polar34",
         "theta": [
          "breadT",
          "bwriteT",
          "vmPerProc",
          "iowaitT",
          "utVstT"
         ],
         "type": "scatterpolar"
        },
        {
         "fill": "toself",
         "name": "19319",
         "opacity": 0.6,
         "r": [
          0.011684518013631937,
          0.47650273224043715,
          0.6238329238329239,
          0.001104484205875856,
          0.02394071485549324
         ],
         "subplot": "polar34",
         "theta": [
          "breadT",
          "bwriteT",
          "vmPerProc",
          "iowaitT",
          "utVstT"
         ],
         "type": "scatterpolar"
        },
        {
         "fill": "toself",
         "name": "19318",
         "opacity": 0.8,
         "r": [
          0.07400194741966894,
          0.4557377049180328,
          0.6219328419328419,
          0.00044179368235034236,
          0.02235562434218201
         ],
         "subplot": "polar34",
         "theta": [
          "breadT",
          "bwriteT",
          "vmPerProc",
          "iowaitT",
          "utVstT"
         ],
         "type": "scatterpolar"
        },
        {
         "fill": "toself",
         "name": "8362",
         "opacity": 1,
         "r": [
          0.0004868549172346641,
          0.3404371584699454,
          0.6180343980343981,
          0.00022089684117517118,
          0.02438531446539759
         ],
         "subplot": "polar34",
         "theta": [
          "breadT",
          "bwriteT",
          "vmPerProc",
          "iowaitT",
          "utVstT"
         ],
         "type": "scatterpolar"
        },
        {
         "fill": "toself",
         "name": "19320",
         "opacity": 0.2,
         "r": [
          0,
          0.36475409836065575,
          0.6180671580671581,
          0.00044179368235034236,
          0.02095765687439919
         ],
         "subplot": "polar34",
         "theta": [
          "breadT",
          "bwriteT",
          "vmPerProc",
          "iowaitT",
          "utVstT"
         ],
         "type": "scatterpolar"
        },
        {
         "fill": "toself",
         "name": "8360",
         "opacity": 0.4,
         "r": [
          0.10905550146056475,
          0.47595628415300545,
          0.6222113022113022,
          0.00022089684117517118,
          0.024623983306137336
         ],
         "subplot": "polar34",
         "theta": [
          "breadT",
          "bwriteT",
          "vmPerProc",
          "iowaitT",
          "utVstT"
         ],
         "type": "scatterpolar"
        },
        {
         "fill": "toself",
         "name": "18058",
         "opacity": 0.6,
         "r": [
          0.02020447906523856,
          0.7691256830601093,
          0.6230794430794431,
          0,
          0.02333681942133349
         ],
         "subplot": "polar34",
         "theta": [
          "breadT",
          "bwriteT",
          "vmPerProc",
          "iowaitT",
          "utVstT"
         ],
         "type": "scatterpolar"
        },
        {
         "fill": "toself",
         "name": "16520",
         "opacity": 0.8,
         "r": [
          0.01557935735150925,
          0.27240437158469943,
          0.6177886977886978,
          0.00022089684117517118,
          0.011741707514181927
         ],
         "subplot": "polar34",
         "theta": [
          "breadT",
          "bwriteT",
          "vmPerProc",
          "iowaitT",
          "utVstT"
         ],
         "type": "scatterpolar"
        },
        {
         "fill": "toself",
         "name": "16516",
         "opacity": 1,
         "r": [
          0.028237585199610515,
          0.7901639344262295,
          0.6227354627354628,
          0,
          0.013714605172497667
         ],
         "subplot": "polar34",
         "theta": [
          "breadT",
          "bwriteT",
          "vmPerProc",
          "iowaitT",
          "utVstT"
         ],
         "type": "scatterpolar"
        },
        {
         "fill": "toself",
         "name": "18057",
         "opacity": 0.2,
         "r": [
          0,
          0.45191256830601095,
          0.6203112203112203,
          0.0006626905235255135,
          0.02548369170125025
         ],
         "subplot": "polar34",
         "theta": [
          "breadT",
          "bwriteT",
          "vmPerProc",
          "iowaitT",
          "utVstT"
         ],
         "type": "scatterpolar"
        },
        {
         "fill": "toself",
         "name": "19314",
         "opacity": 0.4,
         "r": [
          0.009250243427458617,
          0.40081967213114755,
          0.6238001638001638,
          0.00022089684117517118,
          0.021791240003129226
         ],
         "subplot": "polar34",
         "theta": [
          "breadT",
          "bwriteT",
          "vmPerProc",
          "iowaitT",
          "utVstT"
         ],
         "type": "scatterpolar"
        },
        {
         "fill": "toself",
         "name": "9855",
         "opacity": 0.6,
         "r": [
          0.6820837390457644,
          0.06038251366120219,
          0.9719082719082719,
          0.01656726308813784,
          0.02182857273651122
         ],
         "subplot": "polar35",
         "theta": [
          "breadT",
          "bwriteT",
          "vmPerProc",
          "iowaitT",
          "utVstT"
         ],
         "type": "scatterpolar"
        },
        {
         "fill": "toself",
         "name": "17984",
         "opacity": 0.8,
         "r": [
          0.3524829600778968,
          0.038524590163934426,
          0.894054054054054,
          0.005743317870554451,
          0.008290823850305376
         ],
         "subplot": "polar35",
         "theta": [
          "breadT",
          "bwriteT",
          "vmPerProc",
          "iowaitT",
          "utVstT"
         ],
         "type": "scatterpolar"
        },
        {
         "fill": "toself",
         "name": "9856",
         "opacity": 1,
         "r": [
          0.3960564751703992,
          0.038524590163934426,
          0.8896969696969697,
          0.015462778882261982,
          0.01679980711679803
         ],
         "subplot": "polar35",
         "theta": [
          "breadT",
          "bwriteT",
          "vmPerProc",
          "iowaitT",
          "utVstT"
         ],
         "type": "scatterpolar"
        },
        {
         "fill": "toself",
         "name": "17986",
         "opacity": 0.2,
         "r": [
          0.4513145082765336,
          0.04016393442622951,
          0.88995904995905,
          0.005743317870554451,
          0.007766129794866668
         ],
         "subplot": "polar35",
         "theta": [
          "breadT",
          "bwriteT",
          "vmPerProc",
          "iowaitT",
          "utVstT"
         ],
         "type": "scatterpolar"
        },
        {
         "fill": "toself",
         "name": "17985",
         "opacity": 0.4,
         "r": [
          0.2609542356377799,
          0.03907103825136612,
          0.8903194103194103,
          0.001325381047051027,
          0.006050040085644496
         ],
         "subplot": "polar35",
         "theta": [
          "breadT",
          "bwriteT",
          "vmPerProc",
          "iowaitT",
          "utVstT"
         ],
         "type": "scatterpolar"
        },
        {
         "fill": "toself",
         "name": "9858",
         "opacity": 0.6,
         "r": [
          0.21640701071080817,
          0.04972677595628415,
          0.8901064701064701,
          0.015462778882261982,
          0.021195173377899692
         ],
         "subplot": "polar35",
         "theta": [
          "breadT",
          "bwriteT",
          "vmPerProc",
          "iowaitT",
          "utVstT"
         ],
         "type": "scatterpolar"
        },
        {
         "fill": "toself",
         "name": "20773",
         "opacity": 0.8,
         "r": [
          0.27775073028237585,
          0.03907103825136612,
          0.8974774774774775,
          0.010603048376408216,
          0.01609019402654772
         ],
         "subplot": "polar35",
         "theta": [
          "breadT",
          "bwriteT",
          "vmPerProc",
          "iowaitT",
          "utVstT"
         ],
         "type": "scatterpolar"
        },
        {
         "fill": "toself",
         "name": "20776",
         "opacity": 1,
         "r": [
          0.45399221032132425,
          0.04016393442622951,
          0.8902211302211303,
          0.010382151535233045,
          0.015702950196492982
         ],
         "subplot": "polar35",
         "theta": [
          "breadT",
          "bwriteT",
          "vmPerProc",
          "iowaitT",
          "utVstT"
         ],
         "type": "scatterpolar"
        },
        {
         "fill": "toself",
         "name": "19519",
         "opacity": 0.2,
         "r": [
          0.13388510223953262,
          0.040437158469945354,
          0.8902211302211303,
          0.014358294676386127,
          0.018955449252653328
         ],
         "subplot": "polar35",
         "theta": [
          "breadT",
          "bwriteT",
          "vmPerProc",
          "iowaitT",
          "utVstT"
         ],
         "type": "scatterpolar"
        },
        {
         "fill": "toself",
         "name": "20778",
         "opacity": 0.4,
         "r": [
          0.15895813047711782,
          0.049453551912568304,
          0.8900409500409501,
          0.010382151535233045,
          0.015561753765345339
         ],
         "subplot": "polar35",
         "theta": [
          "breadT",
          "bwriteT",
          "vmPerProc",
          "iowaitT",
          "utVstT"
         ],
         "type": "scatterpolar"
        },
        {
         "fill": "toself",
         "name": "19515",
         "opacity": 0.6,
         "r": [
          0.9189386562804285,
          0.03961748633879782,
          0.8962817362817362,
          0.01480008835873647,
          0.018176051469249523
         ],
         "subplot": "polar35",
         "theta": [
          "breadT",
          "bwriteT",
          "vmPerProc",
          "iowaitT",
          "utVstT"
         ],
         "type": "scatterpolar"
        },
        {
         "fill": "toself",
         "name": "19520",
         "opacity": 0.8,
         "r": [
          0.13851022395326193,
          0.04918032786885246,
          0.8917608517608517,
          0.0145791915175613,
          0.019738192838417018
         ],
         "subplot": "polar35",
         "theta": [
          "breadT",
          "bwriteT",
          "vmPerProc",
          "iowaitT",
          "utVstT"
         ],
         "type": "scatterpolar"
        },
        {
         "fill": "toself",
         "name": "17991",
         "opacity": 1,
         "r": [
          0.0691333982473223,
          0.047540983606557376,
          0.8904504504504505,
          0.00022089684117517118,
          0.006900839202576303
         ],
         "subplot": "polar35",
         "theta": [
          "breadT",
          "bwriteT",
          "vmPerProc",
          "iowaitT",
          "utVstT"
         ],
         "type": "scatterpolar"
        },
        {
         "fill": "toself",
         "name": "9857",
         "opacity": 0.2,
         "r": [
          0.11781888997078871,
          0.04426229508196721,
          0.8898607698607699,
          0.015020985199911642,
          0.023216565805959596
         ],
         "subplot": "polar35",
         "theta": [
          "breadT",
          "bwriteT",
          "vmPerProc",
          "iowaitT",
          "utVstT"
         ],
         "type": "scatterpolar"
        },
        {
         "fill": "toself",
         "name": "19518",
         "opacity": 0.4,
         "r": [
          0.0981012658227848,
          0.03989071038251366,
          0.8902538902538902,
          0.014358294676386127,
          0.021878530329888884
         ],
         "subplot": "polar35",
         "theta": [
          "breadT",
          "bwriteT",
          "vmPerProc",
          "iowaitT",
          "utVstT"
         ],
         "type": "scatterpolar"
        },
        {
         "fill": "toself",
         "name": "20777",
         "opacity": 0.6,
         "r": [
          0.4953748782862707,
          0.04016393442622951,
          0.89000819000819,
          0.010603048376408216,
          0.019509756479897358
         ],
         "subplot": "polar35",
         "theta": [
          "breadT",
          "bwriteT",
          "vmPerProc",
          "iowaitT",
          "utVstT"
         ],
         "type": "scatterpolar"
        },
        {
         "fill": "toself",
         "name": "10726",
         "opacity": 0.8,
         "r": [
          0.312317429406037,
          0.03825136612021858,
          0.965995085995086,
          0.006847802076430307,
          0.02903328499839891
         ],
         "subplot": "polar36",
         "theta": [
          "breadT",
          "bwriteT",
          "vmPerProc",
          "iowaitT",
          "utVstT"
         ],
         "type": "scatterpolar"
        },
        {
         "fill": "toself",
         "name": "10727",
         "opacity": 1,
         "r": [
          0.7402629016553067,
          0.019672131147540985,
          0.89005733005733,
          0.005301524188204108,
          0.031000865637544565
         ],
         "subplot": "polar36",
         "theta": [
          "breadT",
          "bwriteT",
          "vmPerProc",
          "iowaitT",
          "utVstT"
         ],
         "type": "scatterpolar"
        },
        {
         "fill": "toself",
         "name": "10728",
         "opacity": 0.2,
         "r": [
          0.20155793573515093,
          0.019398907103825136,
          0.8901883701883702,
          0.005080627347028938,
          0.03140072535782458
         ],
         "subplot": "polar36",
         "theta": [
          "breadT",
          "bwriteT",
          "vmPerProc",
          "iowaitT",
          "utVstT"
         ],
         "type": "scatterpolar"
        },
        {
         "fill": "toself",
         "name": "18812",
         "opacity": 0.4,
         "r": [
          0.2765335929892892,
          0.018032786885245903,
          0.8902375102375102,
          0.005080627347028938,
          0.02571026661837107
         ],
         "subplot": "polar36",
         "theta": [
          "breadT",
          "bwriteT",
          "vmPerProc",
          "iowaitT",
          "utVstT"
         ],
         "type": "scatterpolar"
        },
        {
         "fill": "toself",
         "name": "18815",
         "opacity": 0.6,
         "r": [
          0.17064264849074975,
          0.01912568306010929,
          0.8899426699426699,
          0.00552242102937928,
          0.023171969188495945
         ],
         "subplot": "polar36",
         "theta": [
          "breadT",
          "bwriteT",
          "vmPerProc",
          "iowaitT",
          "utVstT"
         ],
         "type": "scatterpolar"
        },
        {
         "fill": "toself",
         "name": "18816",
         "opacity": 0.8,
         "r": [
          0.08227848101265822,
          0.01639344262295082,
          0.8913185913185914,
          0.005301524188204108,
          0.02474042269388086
         ],
         "subplot": "polar36",
         "theta": [
          "breadT",
          "bwriteT",
          "vmPerProc",
          "iowaitT",
          "utVstT"
         ],
         "type": "scatterpolar"
        },
        {
         "fill": "toself",
         "name": "18811",
         "opacity": 1,
         "r": [
          0.6044303797468354,
          0.01994535519125683,
          0.8942014742014742,
          0.005743317870554451,
          0.02503455545176713
         ],
         "subplot": "polar36",
         "theta": [
          "breadT",
          "bwriteT",
          "vmPerProc",
          "iowaitT",
          "utVstT"
         ],
         "type": "scatterpolar"
        },
        {
         "fill": "toself",
         "name": "21614",
         "opacity": 0.2,
         "r": [
          0.7056962025316456,
          0.024043715846994537,
          0.8942342342342342,
          0.0066269052352551355,
          0.03528105347909541
         ],
         "subplot": "polar36",
         "theta": [
          "breadT",
          "bwriteT",
          "vmPerProc",
          "iowaitT",
          "utVstT"
         ],
         "type": "scatterpolar"
        },
        {
         "fill": "toself",
         "name": "10729",
         "opacity": 0.4,
         "r": [
          0.15822784810126583,
          0.020491803278688523,
          0.8901392301392301,
          0.00044179368235034236,
          0.03057056517196236
         ],
         "subplot": "polar36",
         "theta": [
          "breadT",
          "bwriteT",
          "vmPerProc",
          "iowaitT",
          "utVstT"
         ],
         "type": "scatterpolar"
        },
        {
         "fill": "toself",
         "name": "21619",
         "opacity": 0.6,
         "r": [
          0.31499513145082764,
          0.02103825136612022,
          0.8903194103194103,
          0.010823945217583387,
          0.036549113889766394
         ],
         "subplot": "polar36",
         "theta": [
          "breadT",
          "bwriteT",
          "vmPerProc",
          "iowaitT",
          "utVstT"
         ],
         "type": "scatterpolar"
        },
        {
         "fill": "toself",
         "name": "21620",
         "opacity": 0.8,
         "r": [
          0.17648490749756574,
          0.01912568306010929,
          0.8906797706797707,
          0.010823945217583387,
          0.03632048375210678
         ],
         "subplot": "polar36",
         "theta": [
          "breadT",
          "bwriteT",
          "vmPerProc",
          "iowaitT",
          "utVstT"
         ],
         "type": "scatterpolar"
        },
        {
         "fill": "toself",
         "name": "20338",
         "opacity": 1,
         "r": [
          0.28432327166504384,
          0.018579234972677595,
          0.8953808353808353,
          0.00552242102937928,
          0.027877768779772986
         ],
         "subplot": "polar36",
         "theta": [
          "breadT",
          "bwriteT",
          "vmPerProc",
          "iowaitT",
          "utVstT"
         ],
         "type": "scatterpolar"
        },
        {
         "fill": "toself",
         "name": "20341",
         "opacity": 0.2,
         "r": [
          0.053554040895813046,
          0.01830601092896175,
          0.8902375102375102,
          0.010603048376408216,
          0.028185083548318494
         ],
         "subplot": "polar36",
         "theta": [
          "breadT",
          "bwriteT",
          "vmPerProc",
          "iowaitT",
          "utVstT"
         ],
         "type": "scatterpolar"
        },
        {
         "fill": "toself",
         "name": "21618",
         "opacity": 0.4,
         "r": [
          0.19498539435248297,
          0.020218579234972677,
          0.8904340704340704,
          0.010823945217583387,
          0.03470158664818295
         ],
         "subplot": "polar36",
         "theta": [
          "breadT",
          "bwriteT",
          "vmPerProc",
          "iowaitT",
          "utVstT"
         ],
         "type": "scatterpolar"
        },
        {
         "fill": "toself",
         "name": "20339",
         "opacity": 0.6,
         "r": [
          0.2879746835443038,
          0.018032786885245903,
          0.8901719901719902,
          0.010382151535233045,
          0.029194476836654222
         ],
         "subplot": "polar36",
         "theta": [
          "breadT",
          "bwriteT",
          "vmPerProc",
          "iowaitT",
          "utVstT"
         ],
         "type": "scatterpolar"
        },
        {
         "fill": "toself",
         "name": "20340",
         "opacity": 0.8,
         "r": [
          0.7217624148003895,
          0.019398907103825136,
          0.88992628992629,
          0.010161254694057875,
          0.029879096662595073
         ],
         "subplot": "polar36",
         "theta": [
          "breadT",
          "bwriteT",
          "vmPerProc",
          "iowaitT",
          "utVstT"
         ],
         "type": "scatterpolar"
        },
        {
         "fill": "toself",
         "name": "19310",
         "opacity": 1,
         "r": [
          0.09201557935735151,
          0,
          0.00475020475020475,
          0,
          0.04491915018893435
         ],
         "subplot": "polar37",
         "theta": [
          "breadT",
          "bwriteT",
          "vmPerProc",
          "iowaitT",
          "utVstT"
         ],
         "type": "scatterpolar"
        },
        {
         "fill": "toself",
         "name": "6532",
         "opacity": 0.2,
         "r": [
          0.022151898734177215,
          0.09262295081967213,
          0.6211957411957412,
          0,
          0.038167672113960376
         ],
         "subplot": "polar37",
         "theta": [
          "breadT",
          "bwriteT",
          "vmPerProc",
          "iowaitT",
          "utVstT"
         ],
         "type": "scatterpolar"
        },
        {
         "fill": "toself",
         "name": "6539",
         "opacity": 0.4,
         "r": [
          0.02969814995131451,
          0.04836065573770492,
          0.6178705978705978,
          0,
          0.03176582254938058
         ],
         "subplot": "polar37",
         "theta": [
          "breadT",
          "bwriteT",
          "vmPerProc",
          "iowaitT",
          "utVstT"
         ],
         "type": "scatterpolar"
        },
        {
         "fill": "toself",
         "name": "31951",
         "opacity": 0.6,
         "r": [
          0.1056475170399221,
          0.048087431693989074,
          0.6084520884520884,
          0,
          0.03914760365328073
         ],
         "subplot": "polar37",
         "theta": [
          "breadT",
          "bwriteT",
          "vmPerProc",
          "iowaitT",
          "utVstT"
         ],
         "type": "scatterpolar"
        },
        {
         "fill": "toself",
         "name": "6534",
         "opacity": 0.8,
         "r": [
          0,
          0.03907103825136612,
          0.6236036036036036,
          0,
          0.0335644230067023
         ],
         "subplot": "polar37",
         "theta": [
          "breadT",
          "bwriteT",
          "vmPerProc",
          "iowaitT",
          "utVstT"
         ],
         "type": "scatterpolar"
        },
        {
         "fill": "toself",
         "name": "6533",
         "opacity": 1,
         "r": [
          0.037487828627069134,
          0.04890710382513661,
          0.6226208026208027,
          0,
          0.052945995579999496
         ],
         "subplot": "polar37",
         "theta": [
          "breadT",
          "bwriteT",
          "vmPerProc",
          "iowaitT",
          "utVstT"
         ],
         "type": "scatterpolar"
        },
        {
         "fill": "toself",
         "name": "31952",
         "opacity": 0.2,
         "r": [
          0.007059396299902629,
          0.10300546448087432,
          0.6061425061425061,
          0,
          0.04934458499498279
         ],
         "subplot": "polar37",
         "theta": [
          "breadT",
          "bwriteT",
          "vmPerProc",
          "iowaitT",
          "utVstT"
         ],
         "type": "scatterpolar"
        },
        {
         "fill": "toself",
         "name": "31949",
         "opacity": 0.4,
         "r": [
          0.062317429406037,
          0.057650273224043716,
          0.6192628992628992,
          0.00044179368235034236,
          0.05914134718482543
         ],
         "subplot": "polar37",
         "theta": [
          "breadT",
          "bwriteT",
          "vmPerProc",
          "iowaitT",
          "utVstT"
         ],
         "type": "scatterpolar"
        },
        {
         "fill": "toself",
         "name": "32164",
         "opacity": 0.6,
         "r": [
          0.032862706913339826,
          0.526775956284153,
          0.6225061425061426,
          0.00022089684117517118,
          0.019875276075657734
         ],
         "subplot": "polar38",
         "theta": [
          "breadT",
          "bwriteT",
          "vmPerProc",
          "iowaitT",
          "utVstT"
         ],
         "type": "scatterpolar"
        },
        {
         "fill": "toself",
         "name": "6712",
         "opacity": 0.8,
         "r": [
          0.03140214216163583,
          0.2683060109289617,
          0.6182309582309582,
          0,
          0.02094327777006689
         ],
         "subplot": "polar38",
         "theta": [
          "breadT",
          "bwriteT",
          "vmPerProc",
          "iowaitT",
          "utVstT"
         ],
         "type": "scatterpolar"
        },
        {
         "fill": "toself",
         "name": "6708",
         "opacity": 1,
         "r": [
          0.04892891918208374,
          0.35710382513661204,
          0.6234398034398034,
          0,
          0.024733176554110427
         ],
         "subplot": "polar38",
         "theta": [
          "breadT",
          "bwriteT",
          "vmPerProc",
          "iowaitT",
          "utVstT"
         ],
         "type": "scatterpolar"
        },
        {
         "fill": "toself",
         "name": "19452",
         "opacity": 0.2,
         "r": [
          0.055744888023369035,
          0.4644808743169399,
          0.622997542997543,
          0.0006626905235255135,
          0.02096957305522369
         ],
         "subplot": "polar38",
         "theta": [
          "breadT",
          "bwriteT",
          "vmPerProc",
          "iowaitT",
          "utVstT"
         ],
         "type": "scatterpolar"
        },
        {
         "fill": "toself",
         "name": "19448",
         "opacity": 0.4,
         "r": [
          0.005842259006815969,
          0.42568306010928963,
          0.6231941031941032,
          0.00044179368235034236,
          0.023541985249781367
         ],
         "subplot": "polar38",
         "theta": [
          "breadT",
          "bwriteT",
          "vmPerProc",
          "iowaitT",
          "utVstT"
         ],
         "type": "scatterpolar"
        },
        {
         "fill": "toself",
         "name": "31528",
         "opacity": 0.6,
         "r": [
          0.0046251217137293086,
          0.2967213114754098,
          0.6225225225225225,
          0.00022089684117517118,
          0.013730453155792102
         ],
         "subplot": "polar38",
         "theta": [
          "breadT",
          "bwriteT",
          "vmPerProc",
          "iowaitT",
          "utVstT"
         ],
         "type": "scatterpolar"
        },
        {
         "fill": "toself",
         "name": "31530",
         "opacity": 0.8,
         "r": [
          0.028237585199610515,
          0.5592896174863388,
          0.6238820638820639,
          0.00022089684117517118,
          0.01194212928658291
         ],
         "subplot": "polar38",
         "theta": [
          "breadT",
          "bwriteT",
          "vmPerProc",
          "iowaitT",
          "utVstT"
         ],
         "type": "scatterpolar"
        },
        {
         "fill": "toself",
         "name": "6711",
         "opacity": 1,
         "r": [
          0.005842259006815969,
          0.6062841530054645,
          0.6257657657657658,
          0,
          0.02317068759346351
         ],
         "subplot": "polar38",
         "theta": [
          "breadT",
          "bwriteT",
          "vmPerProc",
          "iowaitT",
          "utVstT"
         ],
         "type": "scatterpolar"
        },
        {
         "fill": "toself",
         "name": "31529",
         "opacity": 0.2,
         "r": [
          0.05963972736124635,
          0.3117486338797814,
          0.6179033579033579,
          0.00022089684117517118,
          0.014273700408494466
         ],
         "subplot": "polar38",
         "theta": [
          "breadT",
          "bwriteT",
          "vmPerProc",
          "iowaitT",
          "utVstT"
         ],
         "type": "scatterpolar"
        },
        {
         "fill": "toself",
         "name": "32165",
         "opacity": 0.4,
         "r": [
          0.02653359298928919,
          0.5967213114754099,
          0.6231941031941032,
          0,
          0.016660522673229396
         ],
         "subplot": "polar38",
         "theta": [
          "breadT",
          "bwriteT",
          "vmPerProc",
          "iowaitT",
          "utVstT"
         ],
         "type": "scatterpolar"
        },
        {
         "fill": "toself",
         "name": "19454",
         "opacity": 0.6,
         "r": [
          0.0014605647517039922,
          0.373224043715847,
          0.6174938574938575,
          0.0006626905235255135,
          0.022221487726237145
         ],
         "subplot": "polar38",
         "theta": [
          "breadT",
          "bwriteT",
          "vmPerProc",
          "iowaitT",
          "utVstT"
         ],
         "type": "scatterpolar"
        },
        {
         "fill": "toself",
         "name": "32163",
         "opacity": 0.8,
         "r": [
          0.12658227848101267,
          0.903551912568306,
          0.6353972153972154,
          0.007068698917605478,
          0.021606953676897207
         ],
         "subplot": "polar38",
         "theta": [
          "breadT",
          "bwriteT",
          "vmPerProc",
          "iowaitT",
          "utVstT"
         ],
         "type": "scatterpolar"
        },
        {
         "fill": "toself",
         "name": "6710",
         "opacity": 1,
         "r": [
          0.0038948393378773127,
          0.3590163934426229,
          0.619017199017199,
          0.00022089684117517118,
          0.025033878023685584
         ],
         "subplot": "polar38",
         "theta": [
          "breadT",
          "bwriteT",
          "vmPerProc",
          "iowaitT",
          "utVstT"
         ],
         "type": "scatterpolar"
        },
        {
         "fill": "toself",
         "name": "31531",
         "opacity": 0.2,
         "r": [
          0,
          0.20737704918032787,
          0.6194266994266995,
          0.00044179368235034236,
          0.011862506489959401
         ],
         "subplot": "polar38",
         "theta": [
          "breadT",
          "bwriteT",
          "vmPerProc",
          "iowaitT",
          "utVstT"
         ],
         "type": "scatterpolar"
        },
        {
         "fill": "toself",
         "name": "19453",
         "opacity": 0.4,
         "r": [
          0.028967867575462512,
          0.4953551912568306,
          0.6228665028665029,
          0.00022089684117517118,
          0.022340402379280377
         ],
         "subplot": "polar38",
         "theta": [
          "breadT",
          "bwriteT",
          "vmPerProc",
          "iowaitT",
          "utVstT"
         ],
         "type": "scatterpolar"
        },
        {
         "fill": "toself",
         "name": "32166",
         "opacity": 0.6,
         "r": [
          0,
          0.38333333333333336,
          0.6175102375102375,
          0.00022089684117517118,
          0.021796035959715146
         ],
         "subplot": "polar38",
         "theta": [
          "breadT",
          "bwriteT",
          "vmPerProc",
          "iowaitT",
          "utVstT"
         ],
         "type": "scatterpolar"
        },
        {
         "fill": "toself",
         "name": "524",
         "opacity": 0.8,
         "r": [
          0.437682570593963,
          0.03879781420765027,
          0.901064701064701,
          0.01126573889993373,
          0.0054806361674206066
         ],
         "subplot": "polar39",
         "theta": [
          "breadT",
          "bwriteT",
          "vmPerProc",
          "iowaitT",
          "utVstT"
         ],
         "type": "scatterpolar"
        },
        {
         "fill": "toself",
         "name": "1259",
         "opacity": 1,
         "r": [
          0.7307692307692307,
          0.06147540983606557,
          0.9761015561015561,
          0.011486635741108902,
          0.014599424836188098
         ],
         "subplot": "polar39",
         "theta": [
          "breadT",
          "bwriteT",
          "vmPerProc",
          "iowaitT",
          "utVstT"
         ],
         "type": "scatterpolar"
        },
        {
         "fill": "toself",
         "name": "1261",
         "opacity": 0.2,
         "r": [
          0.2285783836416748,
          0.04371584699453552,
          0.8898443898443898,
          0.010382151535233045,
          0.015122342354611303
         ],
         "subplot": "polar39",
         "theta": [
          "breadT",
          "bwriteT",
          "vmPerProc",
          "iowaitT",
          "utVstT"
         ],
         "type": "scatterpolar"
        },
        {
         "fill": "toself",
         "name": "528",
         "opacity": 0.4,
         "r": [
          0.5640214216163584,
          0.048087431693989074,
          0.8898607698607699,
          0.01126573889993373,
          0.007695938989390214
         ],
         "subplot": "polar39",
         "theta": [
          "breadT",
          "bwriteT",
          "vmPerProc",
          "iowaitT",
          "utVstT"
         ],
         "type": "scatterpolar"
        },
        {
         "fill": "toself",
         "name": "1260",
         "opacity": 0.6,
         "r": [
          0.2629016553067186,
          0.037978142076502734,
          0.8896969696969697,
          0.010603048376408216,
          0.014035126452535808
         ],
         "subplot": "polar39",
         "theta": [
          "breadT",
          "bwriteT",
          "vmPerProc",
          "iowaitT",
          "utVstT"
         ],
         "type": "scatterpolar"
        },
        {
         "fill": "toself",
         "name": "1265",
         "opacity": 0.8,
         "r": [
          0.2629016553067186,
          0.05,
          0.8900900900900901,
          0.010603048376408216,
          0.014590100927221225
         ],
         "subplot": "polar39",
         "theta": [
          "breadT",
          "bwriteT",
          "vmPerProc",
          "iowaitT",
          "utVstT"
         ],
         "type": "scatterpolar"
        },
        {
         "fill": "toself",
         "name": "526",
         "opacity": 1,
         "r": [
          0.06085686465433301,
          0.03989071038251366,
          0.8895495495495496,
          0.01126573889993373,
          0.008036307927970927
         ],
         "subplot": "polar39",
         "theta": [
          "breadT",
          "bwriteT",
          "vmPerProc",
          "iowaitT",
          "utVstT"
         ],
         "type": "scatterpolar"
        },
        {
         "fill": "toself",
         "name": "527",
         "opacity": 0.2,
         "r": [
          0.07132424537487829,
          0.04016393442622951,
          0.8892547092547093,
          0.011486635741108902,
          0.0025290577459029357
         ],
         "subplot": "polar39",
         "theta": [
          "breadT",
          "bwriteT",
          "vmPerProc",
          "iowaitT",
          "utVstT"
         ],
         "type": "scatterpolar"
        },
        {
         "fill": "toself",
         "name": "8308",
         "opacity": 0.4,
         "r": [
          0.12609542356377798,
          0.05027322404371585,
          0.8901228501228501,
          0.016346366246962667,
          0.015217942721151055
         ],
         "subplot": "polar39",
         "theta": [
          "breadT",
          "bwriteT",
          "vmPerProc",
          "iowaitT",
          "utVstT"
         ],
         "type": "scatterpolar"
        },
        {
         "fill": "toself",
         "name": "20912",
         "opacity": 0.6,
         "r": [
          0.5116845180136319,
          0.03989071038251366,
          0.8933660933660934,
          0.010603048376408216,
          0.019478137090828428
         ],
         "subplot": "polar39",
         "theta": [
          "breadT",
          "bwriteT",
          "vmPerProc",
          "iowaitT",
          "utVstT"
         ],
         "type": "scatterpolar"
        },
        {
         "fill": "toself",
         "name": "8306",
         "opacity": 0.8,
         "r": [
          0.1428919182083739,
          0.03989071038251366,
          0.8896642096642097,
          0.016346366246962667,
          0.014848944509781307
         ],
         "subplot": "polar39",
         "theta": [
          "breadT",
          "bwriteT",
          "vmPerProc",
          "iowaitT",
          "utVstT"
         ],
         "type": "scatterpolar"
        },
        {
         "fill": "toself",
         "name": "20918",
         "opacity": 1,
         "r": [
          0.2166504381694255,
          0.04890710382513661,
          0.8899426699426699,
          0.010603048376408216,
          0.019998081207293062
         ],
         "subplot": "polar39",
         "theta": [
          "breadT",
          "bwriteT",
          "vmPerProc",
          "iowaitT",
          "utVstT"
         ],
         "type": "scatterpolar"
        },
        {
         "fill": "toself",
         "name": "20917",
         "opacity": 0.2,
         "r": [
          0.23807205452775074,
          0.0407103825136612,
          0.8899426699426699,
          0.005964214711729622,
          0.015862339794232433
         ],
         "subplot": "polar39",
         "theta": [
          "breadT",
          "bwriteT",
          "vmPerProc",
          "iowaitT",
          "utVstT"
         ],
         "type": "scatterpolar"
        },
        {
         "fill": "toself",
         "name": "20916",
         "opacity": 0.4,
         "r": [
          0.4206426484907498,
          0.040437158469945354,
          0.8902047502047502,
          0.010603048376408216,
          0.017008945511745335
         ],
         "subplot": "polar39",
         "theta": [
          "breadT",
          "bwriteT",
          "vmPerProc",
          "iowaitT",
          "utVstT"
         ],
         "type": "scatterpolar"
        },
        {
         "fill": "toself",
         "name": "8303",
         "opacity": 0.6,
         "r": [
          0.9130963972736125,
          0.03961748633879782,
          0.8973300573300573,
          0.01656726308813784,
          0.014224322518915452
         ],
         "subplot": "polar39",
         "theta": [
          "breadT",
          "bwriteT",
          "vmPerProc",
          "iowaitT",
          "utVstT"
         ],
         "type": "scatterpolar"
        },
        {
         "fill": "toself",
         "name": "8307",
         "opacity": 0.8,
         "r": [
          0.11124634858812074,
          0.0407103825136612,
          0.8896642096642097,
          0.016346366246962667,
          0.016625900624314204
         ],
         "subplot": "polar39",
         "theta": [
          "breadT",
          "bwriteT",
          "vmPerProc",
          "iowaitT",
          "utVstT"
         ],
         "type": "scatterpolar"
        },
        {
         "fill": "toself",
         "name": "2160",
         "opacity": 1,
         "r": [
          0.4079844206426485,
          0.016939890710382512,
          0.89005733005733,
          0.010823945217583387,
          0.029219295104388605
         ],
         "subplot": "polar40",
         "theta": [
          "breadT",
          "bwriteT",
          "vmPerProc",
          "iowaitT",
          "utVstT"
         ],
         "type": "scatterpolar"
        },
        {
         "fill": "toself",
         "name": "1492",
         "opacity": 0.2,
         "r": [
          0.40920155793573515,
          0.01994535519125683,
          0.8903030303030303,
          0.005743317870554451,
          0.025127826962593202
         ],
         "subplot": "polar40",
         "theta": [
          "breadT",
          "bwriteT",
          "vmPerProc",
          "iowaitT",
          "utVstT"
         ],
         "type": "scatterpolar"
        },
        {
         "fill": "toself",
         "name": "1490",
         "opacity": 0.4,
         "r": [
          0.3853456669912366,
          0.020765027322404372,
          0.8928255528255529,
          0.00552242102937928,
          0.023038820541115543
         ],
         "subplot": "polar40",
         "theta": [
          "breadT",
          "bwriteT",
          "vmPerProc",
          "iowaitT",
          "utVstT"
         ],
         "type": "scatterpolar"
        },
        {
         "fill": "toself",
         "name": "2159",
         "opacity": 0.6,
         "r": [
          0.42648490749756574,
          0.036065573770491806,
          0.9659787059787059,
          0.011928429423459244,
          0.025268796611653183
         ],
         "subplot": "polar40",
         "theta": [
          "breadT",
          "bwriteT",
          "vmPerProc",
          "iowaitT",
          "utVstT"
         ],
         "type": "scatterpolar"
        },
        {
         "fill": "toself",
         "name": "2166",
         "opacity": 0.8,
         "r": [
          0.37195715676728336,
          0.01721311475409836,
          0.88992628992629,
          0.010603048376408216,
          0.029731760589613156
         ],
         "subplot": "polar40",
         "theta": [
          "breadT",
          "bwriteT",
          "vmPerProc",
          "iowaitT",
          "utVstT"
         ],
         "type": "scatterpolar"
        },
        {
         "fill": "toself",
         "name": "2161",
         "opacity": 1,
         "r": [
          0.2779941577409932,
          0.016666666666666666,
          0.8902211302211303,
          0.010603048376408216,
          0.027937139701230133
         ],
         "subplot": "polar40",
         "theta": [
          "breadT",
          "bwriteT",
          "vmPerProc",
          "iowaitT",
          "utVstT"
         ],
         "type": "scatterpolar"
        },
        {
         "fill": "toself",
         "name": "21842",
         "opacity": 0.2,
         "r": [
          0.5893378773125608,
          0.019398907103825136,
          0.8903030303030303,
          0.010823945217583387,
          0.03536947973483846
         ],
         "subplot": "polar40",
         "theta": [
          "breadT",
          "bwriteT",
          "vmPerProc",
          "iowaitT",
          "utVstT"
         ],
         "type": "scatterpolar"
        },
        {
         "fill": "toself",
         "name": "21838",
         "opacity": 0.4,
         "r": [
          0.32862706913339823,
          0.01912568306010929,
          0.8968222768222768,
          0.01126573889993373,
          0.033706361631792685
         ],
         "subplot": "polar40",
         "theta": [
          "breadT",
          "bwriteT",
          "vmPerProc",
          "iowaitT",
          "utVstT"
         ],
         "type": "scatterpolar"
        },
        {
         "fill": "toself",
         "name": "9187",
         "opacity": 0.6,
         "r": [
          0.25778967867575464,
          0.020218579234972677,
          0.8965601965601966,
          0.010823945217583387,
          0.030778212313516806
         ],
         "subplot": "polar40",
         "theta": [
          "breadT",
          "bwriteT",
          "vmPerProc",
          "iowaitT",
          "utVstT"
         ],
         "type": "scatterpolar"
        },
        {
         "fill": "toself",
         "name": "9192",
         "opacity": 0.8,
         "r": [
          0.1626095423563778,
          0.017486338797814208,
          0.8902047502047502,
          0.010161254694057875,
          0.03154150412618321
         ],
         "subplot": "polar40",
         "theta": [
          "breadT",
          "bwriteT",
          "vmPerProc",
          "iowaitT",
          "utVstT"
         ],
         "type": "scatterpolar"
        },
        {
         "fill": "toself",
         "name": "21844",
         "opacity": 1,
         "r": [
          0.37171372930866603,
          0.01994535519125683,
          0.8913513513513514,
          0.010823945217583387,
          0.03787214674932138
         ],
         "subplot": "polar40",
         "theta": [
          "breadT",
          "bwriteT",
          "vmPerProc",
          "iowaitT",
          "utVstT"
         ],
         "type": "scatterpolar"
        },
        {
         "fill": "toself",
         "name": "21843",
         "opacity": 0.2,
         "r": [
          0.10053554040895812,
          0.020765027322404372,
          0.8901719901719902,
          0.010823945217583387,
          0.035133078045288126
         ],
         "subplot": "polar40",
         "theta": [
          "breadT",
          "bwriteT",
          "vmPerProc",
          "iowaitT",
          "utVstT"
         ],
         "type": "scatterpolar"
        },
        {
         "fill": "toself",
         "name": "1494",
         "opacity": 0.4,
         "r": [
          0.187682570593963,
          0.018852459016393444,
          0.8913185913185914,
          0.00552242102937928,
          0.024471972933221925
         ],
         "subplot": "polar40",
         "theta": [
          "breadT",
          "bwriteT",
          "vmPerProc",
          "iowaitT",
          "utVstT"
         ],
         "type": "scatterpolar"
        },
        {
         "fill": "toself",
         "name": "9190",
         "opacity": 0.6,
         "r": [
          0.43816942551119764,
          0.01830601092896175,
          0.8902047502047502,
          0.010823945217583387,
          0.027652297260177514
         ],
         "subplot": "polar40",
         "theta": [
          "breadT",
          "bwriteT",
          "vmPerProc",
          "iowaitT",
          "utVstT"
         ],
         "type": "scatterpolar"
        },
        {
         "fill": "toself",
         "name": "1493",
         "opacity": 0.8,
         "r": [
          0.15165530671859787,
          0.01994535519125683,
          0.8903521703521704,
          0.00552242102937928,
          0.022359511636834
         ],
         "subplot": "polar40",
         "theta": [
          "breadT",
          "bwriteT",
          "vmPerProc",
          "iowaitT",
          "utVstT"
         ],
         "type": "scatterpolar"
        },
        {
         "fill": "toself",
         "name": "9191",
         "opacity": 1,
         "r": [
          0.48661148977604674,
          0.018032786885245903,
          0.8902047502047502,
          0.010382151535233045,
          0.029035269680481677
         ],
         "subplot": "polar40",
         "theta": [
          "breadT",
          "bwriteT",
          "vmPerProc",
          "iowaitT",
          "utVstT"
         ],
         "type": "scatterpolar"
        },
        {
         "fill": "toself",
         "name": "19134",
         "opacity": 0.2,
         "r": [
          0.16699123661148976,
          0.06147540983606557,
          0.6333988533988534,
          0.00022089684117517118,
          0.04319187115598571
         ],
         "subplot": "polar41",
         "theta": [
          "breadT",
          "bwriteT",
          "vmPerProc",
          "iowaitT",
          "utVstT"
         ],
         "type": "scatterpolar"
        },
        {
         "fill": "toself",
         "name": "26060",
         "opacity": 0.4,
         "r": [
          0.03164556962025317,
          0.1448087431693989,
          0.6246355446355446,
          0,
          0.04177825852666979
         ],
         "subplot": "polar41",
         "theta": [
          "breadT",
          "bwriteT",
          "vmPerProc",
          "iowaitT",
          "utVstT"
         ],
         "type": "scatterpolar"
        },
        {
         "fill": "toself",
         "name": "26058",
         "opacity": 0.6,
         "r": [
          0.03967867575462512,
          0.2278688524590164,
          0.6213104013104013,
          0,
          0.03800378919561911
         ],
         "subplot": "polar41",
         "theta": [
          "breadT",
          "bwriteT",
          "vmPerProc",
          "iowaitT",
          "utVstT"
         ],
         "type": "scatterpolar"
        },
        {
         "fill": "toself",
         "name": "19135",
         "opacity": 0.8,
         "r": [
          0.0014605647517039922,
          0.05546448087431694,
          0.6221294021294022,
          0.00022089684117517118,
          0.035412014650992245
         ],
         "subplot": "polar41",
         "theta": [
          "breadT",
          "bwriteT",
          "vmPerProc",
          "iowaitT",
          "utVstT"
         ],
         "type": "scatterpolar"
        },
        {
         "fill": "toself",
         "name": "19137",
         "opacity": 1,
         "r": [
          0.006572541382667965,
          0.05273224043715847,
          0.623030303030303,
          0,
          0.03328052924206823
         ],
         "subplot": "polar41",
         "theta": [
          "breadT",
          "bwriteT",
          "vmPerProc",
          "iowaitT",
          "utVstT"
         ],
         "type": "scatterpolar"
        },
        {
         "fill": "toself",
         "name": "26066",
         "opacity": 0.2,
         "r": [
          0,
          0.12349726775956284,
          0.6224897624897625,
          0,
          0.03737014328531751
         ],
         "subplot": "polar41",
         "theta": [
          "breadT",
          "bwriteT",
          "vmPerProc",
          "iowaitT",
          "utVstT"
         ],
         "type": "scatterpolar"
        },
        {
         "fill": "toself",
         "name": "26061",
         "opacity": 0.4,
         "r": [
          0.018743914313534567,
          0.22021857923497268,
          0.6239148239148239,
          0,
          0.03600822987198053
         ],
         "subplot": "polar41",
         "theta": [
          "breadT",
          "bwriteT",
          "vmPerProc",
          "iowaitT",
          "utVstT"
         ],
         "type": "scatterpolar"
        },
        {
         "fill": "toself",
         "name": "19136",
         "opacity": 0.6,
         "r": [
          0,
          0.10819672131147541,
          0.6206224406224407,
          0,
          0.028926957911034196
         ],
         "subplot": "polar41",
         "theta": [
          "breadT",
          "bwriteT",
          "vmPerProc",
          "iowaitT",
          "utVstT"
         ],
         "type": "scatterpolar"
        },
        {
         "fill": "toself",
         "name": "26274",
         "opacity": 0.8,
         "r": [
          0.04844206426484907,
          0.8745901639344262,
          0.6221949221949222,
          0.00044179368235034236,
          0.021945086274315385
         ],
         "subplot": "polar42",
         "theta": [
          "breadT",
          "bwriteT",
          "vmPerProc",
          "iowaitT",
          "utVstT"
         ],
         "type": "scatterpolar"
        },
        {
         "fill": "toself",
         "name": "6520",
         "opacity": 1,
         "r": [
          0.06426484907497566,
          0.5934426229508196,
          0.6228992628992629,
          0,
          0.01961042200005552
         ],
         "subplot": "polar42",
         "theta": [
          "breadT",
          "bwriteT",
          "vmPerProc",
          "iowaitT",
          "utVstT"
         ],
         "type": "scatterpolar"
        },
        {
         "fill": "toself",
         "name": "6524",
         "opacity": 0.2,
         "r": [
          0.002677702044790652,
          0.5169398907103825,
          0.6178705978705978,
          0,
          0.020666637268244154
         ],
         "subplot": "polar42",
         "theta": [
          "breadT",
          "bwriteT",
          "vmPerProc",
          "iowaitT",
          "utVstT"
         ],
         "type": "scatterpolar"
        },
        {
         "fill": "toself",
         "name": "18284",
         "opacity": 0.4,
         "r": [
          0.03943524829600779,
          0.40027322404371585,
          0.6244062244062244,
          0.00022089684117517118,
          0.013457689388712274
         ],
         "subplot": "polar42",
         "theta": [
          "breadT",
          "bwriteT",
          "vmPerProc",
          "iowaitT",
          "utVstT"
         ],
         "type": "scatterpolar"
        },
        {
         "fill": "toself",
         "name": "6521",
         "opacity": 0.6,
         "r": [
          0,
          0.6819672131147541,
          0.6241113841113841,
          0,
          0.023372048815903376
         ],
         "subplot": "polar42",
         "theta": [
          "breadT",
          "bwriteT",
          "vmPerProc",
          "iowaitT",
          "utVstT"
         ],
         "type": "scatterpolar"
        },
        {
         "fill": "toself",
         "name": "26273",
         "opacity": 0.8,
         "r": [
          0.004138266796494644,
          0.524863387978142,
          0.6211793611793612,
          0.001325381047051027,
          0.023337969356061857
         ],
         "subplot": "polar42",
         "theta": [
          "breadT",
          "bwriteT",
          "vmPerProc",
          "iowaitT",
          "utVstT"
         ],
         "type": "scatterpolar"
        },
        {
         "fill": "toself",
         "name": "19361",
         "opacity": 1,
         "r": [
          0.06377799415774099,
          0.5836065573770491,
          0.6236855036855037,
          0.0006626905235255135,
          0.0206320958327637
         ],
         "subplot": "polar42",
         "theta": [
          "breadT",
          "bwriteT",
          "vmPerProc",
          "iowaitT",
          "utVstT"
         ],
         "type": "scatterpolar"
        },
        {
         "fill": "toself",
         "name": "19362",
         "opacity": 0.2,
         "r": [
          0.015335929892891918,
          0.687431693989071,
          0.6239312039312039,
          0.00022089684117517118,
          0.017386724416143133
         ],
         "subplot": "polar42",
         "theta": [
          "breadT",
          "bwriteT",
          "vmPerProc",
          "iowaitT",
          "utVstT"
         ],
         "type": "scatterpolar"
        },
        {
         "fill": "toself",
         "name": "19360",
         "opacity": 0.4,
         "r": [
          0.09250243427458617,
          1,
          0.6340868140868141,
          0.0064060083940799635,
          0.02425564679082383
         ],
         "subplot": "polar42",
         "theta": [
          "breadT",
          "bwriteT",
          "vmPerProc",
          "iowaitT",
          "utVstT"
         ],
         "type": "scatterpolar"
        },
        {
         "fill": "toself",
         "name": "26270",
         "opacity": 0.6,
         "r": [
          0.037487828627069134,
          0.5568306010928962,
          0.6228173628173628,
          0.00022089684117517118,
          0.024018515087285496
         ],
         "subplot": "polar42",
         "theta": [
          "breadT",
          "bwriteT",
          "vmPerProc",
          "iowaitT",
          "utVstT"
         ],
         "type": "scatterpolar"
        },
        {
         "fill": "toself",
         "name": "26275",
         "opacity": 0.8,
         "r": [
          0,
          0.39289617486338796,
          0.6181818181818182,
          0,
          0.023193258823024906
         ],
         "subplot": "polar42",
         "theta": [
          "breadT",
          "bwriteT",
          "vmPerProc",
          "iowaitT",
          "utVstT"
         ],
         "type": "scatterpolar"
        },
        {
         "fill": "toself",
         "name": "6517",
         "opacity": 1,
         "r": [
          0.0250730282375852,
          0.6691256830601093,
          0.6232596232596233,
          0.00022089684117517118,
          0.022842739254927566
         ],
         "subplot": "polar42",
         "theta": [
          "breadT",
          "bwriteT",
          "vmPerProc",
          "iowaitT",
          "utVstT"
         ],
         "type": "scatterpolar"
        },
        {
         "fill": "toself",
         "name": "19367",
         "opacity": 0.2,
         "r": [
          0.013631937682570594,
          0.3948087431693989,
          0.6174447174447174,
          0,
          0.02266379054773022
         ],
         "subplot": "polar42",
         "theta": [
          "breadT",
          "bwriteT",
          "vmPerProc",
          "iowaitT",
          "utVstT"
         ],
         "type": "scatterpolar"
        },
        {
         "fill": "toself",
         "name": "18287",
         "opacity": 0.4,
         "r": [
          0.0501460564751704,
          0.7530054644808744,
          0.6228337428337428,
          0,
          0.013213576129205762
         ],
         "subplot": "polar42",
         "theta": [
          "breadT",
          "bwriteT",
          "vmPerProc",
          "iowaitT",
          "utVstT"
         ],
         "type": "scatterpolar"
        },
        {
         "fill": "toself",
         "name": "18286",
         "opacity": 0.6,
         "r": [
          0.0017039922103213243,
          0.4065573770491803,
          0.6185257985257985,
          0,
          0.014701392367303983
         ],
         "subplot": "polar42",
         "theta": [
          "breadT",
          "bwriteT",
          "vmPerProc",
          "iowaitT",
          "utVstT"
         ],
         "type": "scatterpolar"
        },
        {
         "fill": "toself",
         "name": "18290",
         "opacity": 0.8,
         "r": [
          0.0012171372930866603,
          0.2576502732240437,
          0.6174610974610975,
          0.00044179368235034236,
          0.012251291976277388
         ],
         "subplot": "polar42",
         "theta": [
          "breadT",
          "bwriteT",
          "vmPerProc",
          "iowaitT",
          "utVstT"
         ],
         "type": "scatterpolar"
        },
        {
         "fill": "toself",
         "name": "20852",
         "opacity": 1,
         "r": [
          0.16212268743914313,
          0.018032786885245903,
          0.8902047502047502,
          0.010161254694057875,
          0.027412981071468296
         ],
         "subplot": "polar43",
         "theta": [
          "breadT",
          "bwriteT",
          "vmPerProc",
          "iowaitT",
          "utVstT"
         ],
         "type": "scatterpolar"
        },
        {
         "fill": "toself",
         "name": "19721",
         "opacity": 0.2,
         "r": [
          0.44741966893865626,
          0.020765027322404372,
          0.8902538902538902,
          0.005964214711729622,
          0.0241687924263466
         ],
         "subplot": "polar43",
         "theta": [
          "breadT",
          "bwriteT",
          "vmPerProc",
          "iowaitT",
          "utVstT"
         ],
         "type": "scatterpolar"
        },
        {
         "fill": "toself",
         "name": "19720",
         "opacity": 0.4,
         "r": [
          0.2310126582278481,
          0.019672131147540985,
          0.894021294021294,
          0.0066269052352551355,
          0.027423973782224068
         ],
         "subplot": "polar43",
         "theta": [
          "breadT",
          "bwriteT",
          "vmPerProc",
          "iowaitT",
          "utVstT"
         ],
         "type": "scatterpolar"
        },
        {
         "fill": "toself",
         "name": "20851",
         "opacity": 0.6,
         "r": [
          0.20569620253164558,
          0.01912568306010929,
          0.89005733005733,
          0.010161254694057875,
          0.028773375198104974
         ],
         "subplot": "polar43",
         "theta": [
          "breadT",
          "bwriteT",
          "vmPerProc",
          "iowaitT",
          "utVstT"
         ],
         "type": "scatterpolar"
        },
        {
         "fill": "toself",
         "name": "19722",
         "opacity": 0.8,
         "r": [
          0.3578383641674781,
          0.01994535519125683,
          0.8911056511056511,
          0.005743317870554451,
          0.024529995663077384
         ],
         "subplot": "polar43",
         "theta": [
          "breadT",
          "bwriteT",
          "vmPerProc",
          "iowaitT",
          "utVstT"
         ],
         "type": "scatterpolar"
        },
        {
         "fill": "toself",
         "name": "20850",
         "opacity": 1,
         "r": [
          0.9829600778967867,
          0.0366120218579235,
          0.965995085995086,
          0.011928429423459244,
          0.026518336616521223
         ],
         "subplot": "polar43",
         "theta": [
          "breadT",
          "bwriteT",
          "vmPerProc",
          "iowaitT",
          "utVstT"
         ],
         "type": "scatterpolar"
        },
        {
         "fill": "toself",
         "name": "27707",
         "opacity": 0.2,
         "r": [
          0.12609542356377798,
          0.018032786885245903,
          0.88992628992629,
          0.010161254694057875,
          0.026949847973628104
         ],
         "subplot": "polar43",
         "theta": [
          "breadT",
          "bwriteT",
          "vmPerProc",
          "iowaitT",
          "utVstT"
         ],
         "type": "scatterpolar"
        },
        {
         "fill": "toself",
         "name": "20855",
         "opacity": 0.4,
         "r": [
          0.13437195715676728,
          0.018852459016393444,
          0.8901392301392301,
          0.010161254694057875,
          0.026620712229660018
         ],
         "subplot": "polar43",
         "theta": [
          "breadT",
          "bwriteT",
          "vmPerProc",
          "iowaitT",
          "utVstT"
         ],
         "type": "scatterpolar"
        },
        {
         "fill": "toself",
         "name": "7957",
         "opacity": 0.6,
         "r": [
          0.17356377799415773,
          0.02103825136612022,
          0.890990990990991,
          0.01480008835873647,
          0.03345517765597497
         ],
         "subplot": "polar43",
         "theta": [
          "breadT",
          "bwriteT",
          "vmPerProc",
          "iowaitT",
          "utVstT"
         ],
         "type": "scatterpolar"
        },
        {
         "fill": "toself",
         "name": "19727",
         "opacity": 0.8,
         "r": [
          0.09688412852969815,
          0.01912568306010929,
          0.8911711711711712,
          0.005743317870554451,
          0.025071331436157453
         ],
         "subplot": "polar43",
         "theta": [
          "breadT",
          "bwriteT",
          "vmPerProc",
          "iowaitT",
          "utVstT"
         ],
         "type": "scatterpolar"
        },
        {
         "fill": "toself",
         "name": "27706",
         "opacity": 1,
         "r": [
          0.3617332035053554,
          0.018579234972677595,
          0.8902047502047502,
          0.005743317870554451,
          0.029274780207874156
         ],
         "subplot": "polar43",
         "theta": [
          "breadT",
          "bwriteT",
          "vmPerProc",
          "iowaitT",
          "utVstT"
         ],
         "type": "scatterpolar"
        },
        {
         "fill": "toself",
         "name": "27705",
         "opacity": 0.2,
         "r": [
          0.5248296007789679,
          0.01830601092896175,
          0.8902047502047502,
          0.010161254694057875,
          0.02660640777224883
         ],
         "subplot": "polar43",
         "theta": [
          "breadT",
          "bwriteT",
          "vmPerProc",
          "iowaitT",
          "utVstT"
         ],
         "type": "scatterpolar"
        },
        {
         "fill": "toself",
         "name": "7956",
         "opacity": 0.4,
         "r": [
          0.5250730282375852,
          0.02185792349726776,
          0.8903357903357904,
          0.015020985199911642,
          0.03539647932442198
         ],
         "subplot": "polar43",
         "theta": [
          "breadT",
          "bwriteT",
          "vmPerProc",
          "iowaitT",
          "utVstT"
         ],
         "type": "scatterpolar"
        },
        {
         "fill": "toself",
         "name": "7954",
         "opacity": 0.6,
         "r": [
          0.22224926971762415,
          0.01994535519125683,
          0.8903849303849304,
          0.015241882041086811,
          0.033793453208391395
         ],
         "subplot": "polar43",
         "theta": [
          "breadT",
          "bwriteT",
          "vmPerProc",
          "iowaitT",
          "utVstT"
         ],
         "type": "scatterpolar"
        },
        {
         "fill": "toself",
         "name": "27701",
         "opacity": 0.8,
         "r": [
          0.3330087633885102,
          0.01912568306010929,
          0.8919082719082719,
          0.010161254694057875,
          0.028617447859814016
         ],
         "subplot": "polar43",
         "theta": [
          "breadT",
          "bwriteT",
          "vmPerProc",
          "iowaitT",
          "utVstT"
         ],
         "type": "scatterpolar"
        },
        {
         "fill": "toself",
         "name": "7952",
         "opacity": 1,
         "r": [
          0.46835443037974683,
          0.021584699453551914,
          0.89998361998362,
          0.015020985199911642,
          0.032240670668864095
         ],
         "subplot": "polar43",
         "theta": [
          "breadT",
          "bwriteT",
          "vmPerProc",
          "iowaitT",
          "utVstT"
         ],
         "type": "scatterpolar"
        },
        {
         "fill": "toself",
         "name": "19899",
         "opacity": 0.2,
         "r": [
          0.37682570593963,
          0.038524590163934426,
          0.8918918918918919,
          0.005964214711729622,
          0.008463651326607261
         ],
         "subplot": "polar44",
         "theta": [
          "breadT",
          "bwriteT",
          "vmPerProc",
          "iowaitT",
          "utVstT"
         ],
         "type": "scatterpolar"
        },
        {
         "fill": "toself",
         "name": "21043",
         "opacity": 0.4,
         "r": [
          0.35175267770204477,
          0.03770491803278689,
          0.8896969696969697,
          0.006185111552904793,
          0.015002918346868132
         ],
         "subplot": "polar44",
         "theta": [
          "breadT",
          "bwriteT",
          "vmPerProc",
          "iowaitT",
          "utVstT"
         ],
         "type": "scatterpolar"
        },
        {
         "fill": "toself",
         "name": "21044",
         "opacity": 0.6,
         "r": [
          0.19255111976630965,
          0.043989071038251365,
          0.8898443898443898,
          0.01126573889993373,
          0.012774948472599894
         ],
         "subplot": "polar44",
         "theta": [
          "breadT",
          "bwriteT",
          "vmPerProc",
          "iowaitT",
          "utVstT"
         ],
         "type": "scatterpolar"
        },
        {
         "fill": "toself",
         "name": "21045",
         "opacity": 0.8,
         "r": [
          0.4345180136319377,
          0.050546448087431695,
          0.8897952497952498,
          0.011486635741108902,
          0.015079322053828077
         ],
         "subplot": "polar44",
         "theta": [
          "breadT",
          "bwriteT",
          "vmPerProc",
          "iowaitT",
          "utVstT"
         ],
         "type": "scatterpolar"
        },
        {
         "fill": "toself",
         "name": "19902",
         "opacity": 1,
         "r": [
          0.30136319376825704,
          0.040437158469945354,
          0.8902047502047502,
          0.005964214711729622,
          0.0093887777487857
         ],
         "subplot": "polar44",
         "theta": [
          "breadT",
          "bwriteT",
          "vmPerProc",
          "iowaitT",
          "utVstT"
         ],
         "type": "scatterpolar"
        },
        {
         "fill": "toself",
         "name": "21042",
         "opacity": 0.2,
         "r": [
          0.5063291139240507,
          0.06092896174863388,
          0.9761015561015561,
          0.012370223105809586,
          0.014655481910246713
         ],
         "subplot": "polar44",
         "theta": [
          "breadT",
          "bwriteT",
          "vmPerProc",
          "iowaitT",
          "utVstT"
         ],
         "type": "scatterpolar"
        },
        {
         "fill": "toself",
         "name": "27877",
         "opacity": 0.4,
         "r": [
          0.6609055501460565,
          0.040437158469945354,
          0.8914004914004914,
          0.00552242102937928,
          0.015130984239789797
         ],
         "subplot": "polar44",
         "theta": [
          "breadT",
          "bwriteT",
          "vmPerProc",
          "iowaitT",
          "utVstT"
         ],
         "type": "scatterpolar"
        },
        {
         "fill": "toself",
         "name": "8117",
         "opacity": 0.6,
         "r": [
          0.3293573515092502,
          0.03961748633879782,
          0.8921867321867322,
          0.011928429423459244,
          0.017167146640987306
         ],
         "subplot": "polar44",
         "theta": [
          "breadT",
          "bwriteT",
          "vmPerProc",
          "iowaitT",
          "utVstT"
         ],
         "type": "scatterpolar"
        },
        {
         "fill": "toself",
         "name": "27879",
         "opacity": 0.8,
         "r": [
          0.11660175267770205,
          0.048633879781420766,
          0.8912694512694512,
          0.005301524188204108,
          0.017799459768354526
         ],
         "subplot": "polar44",
         "theta": [
          "breadT",
          "bwriteT",
          "vmPerProc",
          "iowaitT",
          "utVstT"
         ],
         "type": "scatterpolar"
        },
        {
         "fill": "toself",
         "name": "8122",
         "opacity": 1,
         "r": [
          0.6112463485881208,
          0.0407103825136612,
          0.8893857493857494,
          0.011707532582284073,
          0.01635489600524475
         ],
         "subplot": "polar44",
         "theta": [
          "breadT",
          "bwriteT",
          "vmPerProc",
          "iowaitT",
          "utVstT"
         ],
         "type": "scatterpolar"
        },
        {
         "fill": "toself",
         "name": "19905",
         "opacity": 0.2,
         "r": [
          0.027994157740993186,
          0.046994535519125684,
          0.8906961506961507,
          0,
          0.00873261126289533
         ],
         "subplot": "polar44",
         "theta": [
          "breadT",
          "bwriteT",
          "vmPerProc",
          "iowaitT",
          "utVstT"
         ],
         "type": "scatterpolar"
        },
        {
         "fill": "toself",
         "name": "19901",
         "opacity": 0.4,
         "r": [
          0.4277020447906524,
          0.03961748633879782,
          0.8907289107289107,
          0.0064060083940799635,
          0.004998807295111908
         ],
         "subplot": "polar44",
         "theta": [
          "breadT",
          "bwriteT",
          "vmPerProc",
          "iowaitT",
          "utVstT"
         ],
         "type": "scatterpolar"
        },
        {
         "fill": "toself",
         "name": "8123",
         "opacity": 0.6,
         "r": [
          0.2035053554040896,
          0.0407103825136612,
          0.8893857493857494,
          0.006847802076430307,
          0.017195214045749703
         ],
         "subplot": "polar44",
         "theta": [
          "breadT",
          "bwriteT",
          "vmPerProc",
          "iowaitT",
          "utVstT"
         ],
         "type": "scatterpolar"
        },
        {
         "fill": "toself",
         "name": "8124",
         "opacity": 0.8,
         "r": [
          0.24488802336903603,
          0.048633879781420766,
          0.8898443898443898,
          0.01126573889993373,
          0.017159119315250385
         ],
         "subplot": "polar44",
         "theta": [
          "breadT",
          "bwriteT",
          "vmPerProc",
          "iowaitT",
          "utVstT"
         ],
         "type": "scatterpolar"
        },
        {
         "fill": "toself",
         "name": "27878",
         "opacity": 1,
         "r": [
          0.3585686465433301,
          0.040983606557377046,
          0.8894021294021294,
          0.009940357852882704,
          0.019196080073740997
         ],
         "subplot": "polar44",
         "theta": [
          "breadT",
          "bwriteT",
          "vmPerProc",
          "iowaitT",
          "utVstT"
         ],
         "type": "scatterpolar"
        },
        {
         "fill": "toself",
         "name": "27874",
         "opacity": 0.2,
         "r": [
          0.1572541382667965,
          0.03989071038251366,
          0.8967403767403768,
          0.005743317870554451,
          0.017836251261662866
         ],
         "subplot": "polar44",
         "theta": [
          "breadT",
          "bwriteT",
          "vmPerProc",
          "iowaitT",
          "utVstT"
         ],
         "type": "scatterpolar"
        },
        {
         "fill": "toself",
         "name": "28094",
         "opacity": 0.4,
         "r": [
          0.006572541382667965,
          0.13224043715846995,
          0.6229320229320229,
          0,
          0.036497783434662014
         ],
         "subplot": "polar45",
         "theta": [
          "breadT",
          "bwriteT",
          "vmPerProc",
          "iowaitT",
          "utVstT"
         ],
         "type": "scatterpolar"
        },
        {
         "fill": "toself",
         "name": "28096",
         "opacity": 0.6,
         "r": [
          0.012901655306718598,
          0.13934426229508196,
          0.621900081900082,
          0,
          0.035141039188214346
         ],
         "subplot": "polar45",
         "theta": [
          "breadT",
          "bwriteT",
          "vmPerProc",
          "iowaitT",
          "utVstT"
         ],
         "type": "scatterpolar"
        },
        {
         "fill": "toself",
         "name": "19124",
         "opacity": 0.8,
         "r": [
          0.012414800389483933,
          0.05245901639344262,
          0.6242915642915643,
          0,
          0.03514976182723315
         ],
         "subplot": "polar45",
         "theta": [
          "breadT",
          "bwriteT",
          "vmPerProc",
          "iowaitT",
          "utVstT"
         ],
         "type": "scatterpolar"
        },
        {
         "fill": "toself",
         "name": "19121",
         "opacity": 1,
         "r": [
          0.0759493670886076,
          0.07213114754098361,
          0.6365929565929566,
          0.00044179368235034236,
          0.04264078900226157
         ],
         "subplot": "polar45",
         "theta": [
          "breadT",
          "bwriteT",
          "vmPerProc",
          "iowaitT",
          "utVstT"
         ],
         "type": "scatterpolar"
        },
        {
         "fill": "toself",
         "name": "19122",
         "opacity": 0.2,
         "r": [
          0.024342745861733205,
          0.062021857923497264,
          0.6224406224406225,
          0.00022089684117517118,
          0.031853583044436654
         ],
         "subplot": "polar45",
         "theta": [
          "breadT",
          "bwriteT",
          "vmPerProc",
          "iowaitT",
          "utVstT"
         ],
         "type": "scatterpolar"
        },
        {
         "fill": "toself",
         "name": "28101",
         "opacity": 0.4,
         "r": [
          0.0004868549172346641,
          0.08032786885245902,
          0.6242424242424243,
          0,
          0.03520873512129484
         ],
         "subplot": "polar45",
         "theta": [
          "breadT",
          "bwriteT",
          "vmPerProc",
          "iowaitT",
          "utVstT"
         ],
         "type": "scatterpolar"
        },
        {
         "fill": "toself",
         "name": "28095",
         "opacity": 0.6,
         "r": [
          0.07181110029211295,
          0.09508196721311475,
          0.6246519246519247,
          0,
          0.03868020768562725
         ],
         "subplot": "polar45",
         "theta": [
          "breadT",
          "bwriteT",
          "vmPerProc",
          "iowaitT",
          "utVstT"
         ],
         "type": "scatterpolar"
        },
        {
         "fill": "toself",
         "name": "19123",
         "opacity": 0.8,
         "r": [
          0.05720545277507303,
          0.16010928961748633,
          0.6213267813267813,
          0.00022089684117517118,
          0.026991805099410786
         ],
         "subplot": "polar45",
         "theta": [
          "breadT",
          "bwriteT",
          "vmPerProc",
          "iowaitT",
          "utVstT"
         ],
         "type": "scatterpolar"
        },
        {
         "fill": "toself",
         "name": "28306",
         "opacity": 1,
         "r": [
          0.023369036027263874,
          0.40765027322404374,
          0.6226208026208027,
          0.00044179368235034236,
          0.02214312715011081
         ],
         "subplot": "polar46",
         "theta": [
          "breadT",
          "bwriteT",
          "vmPerProc",
          "iowaitT",
          "utVstT"
         ],
         "type": "scatterpolar"
        },
        {
         "fill": "toself",
         "name": "29326",
         "opacity": 0.2,
         "r": [
          0.0012171372930866603,
          0.5983606557377049,
          0.6231777231777231,
          0,
          0.025190839102502263
         ],
         "subplot": "polar46",
         "theta": [
          "breadT",
          "bwriteT",
          "vmPerProc",
          "iowaitT",
          "utVstT"
         ],
         "type": "scatterpolar"
        },
        {
         "fill": "toself",
         "name": "19353",
         "opacity": 0.4,
         "r": [
          0.08373904576436222,
          0.45846994535519126,
          0.6237510237510238,
          0,
          0.022548913072909377
         ],
         "subplot": "polar46",
         "theta": [
          "breadT",
          "bwriteT",
          "vmPerProc",
          "iowaitT",
          "utVstT"
         ],
         "type": "scatterpolar"
        },
        {
         "fill": "toself",
         "name": "29316",
         "opacity": 0.6,
         "r": [
          0.0805744888023369,
          0.5163934426229508,
          0.6236691236691236,
          0,
          0.02460300205031662
         ],
         "subplot": "polar46",
         "theta": [
          "breadT",
          "bwriteT",
          "vmPerProc",
          "iowaitT",
          "utVstT"
         ],
         "type": "scatterpolar"
        },
        {
         "fill": "toself",
         "name": "19352",
         "opacity": 0.8,
         "r": [
          0.0949367088607595,
          0.953551912568306,
          0.6346601146601146,
          0.008394079964656504,
          0.026200462299760783
         ],
         "subplot": "polar46",
         "theta": [
          "breadT",
          "bwriteT",
          "vmPerProc",
          "iowaitT",
          "utVstT"
         ],
         "type": "scatterpolar"
        },
        {
         "fill": "toself",
         "name": "19355",
         "opacity": 1,
         "r": [
          0.0021908471275559884,
          0.3540983606557377,
          0.6182800982800983,
          0,
          0.02377008289018709
         ],
         "subplot": "polar46",
         "theta": [
          "breadT",
          "bwriteT",
          "vmPerProc",
          "iowaitT",
          "utVstT"
         ],
         "type": "scatterpolar"
        },
        {
         "fill": "toself",
         "name": "28312",
         "opacity": 0.2,
         "r": [
          0.033106134371957155,
          0.6073770491803279,
          0.6221621621621621,
          0,
          0.023973331702558068
         ],
         "subplot": "polar46",
         "theta": [
          "breadT",
          "bwriteT",
          "vmPerProc",
          "iowaitT",
          "utVstT"
         ],
         "type": "scatterpolar"
        },
        {
         "fill": "toself",
         "name": "28317",
         "opacity": 0.4,
         "r": [
          0.03578383641674781,
          0.3112021857923497,
          0.6173791973791973,
          0,
          0.021737535089972695
         ],
         "subplot": "polar46",
         "theta": [
          "breadT",
          "bwriteT",
          "vmPerProc",
          "iowaitT",
          "utVstT"
         ],
         "type": "scatterpolar"
        },
        {
         "fill": "toself",
         "name": "26171",
         "opacity": 0.6,
         "r": [
          0.002677702044790652,
          0.4226775956284153,
          0.6235217035217036,
          0.00022089684117517118,
          0.014989939913213755
         ],
         "subplot": "polar46",
         "theta": [
          "breadT",
          "bwriteT",
          "vmPerProc",
          "iowaitT",
          "utVstT"
         ],
         "type": "scatterpolar"
        },
        {
         "fill": "toself",
         "name": "26181",
         "opacity": 0.8,
         "r": [
          0,
          0.2795081967213115,
          0.6188370188370188,
          0,
          0.013107037147251343
         ],
         "subplot": "polar46",
         "theta": [
          "breadT",
          "bwriteT",
          "vmPerProc",
          "iowaitT",
          "utVstT"
         ],
         "type": "scatterpolar"
        },
        {
         "fill": "toself",
         "name": "28311",
         "opacity": 1,
         "r": [
          0.0007302823758519961,
          0.3699453551912568,
          0.62,
          0.0006626905235255135,
          0.0260066939174658
         ],
         "subplot": "polar46",
         "theta": [
          "breadT",
          "bwriteT",
          "vmPerProc",
          "iowaitT",
          "utVstT"
         ],
         "type": "scatterpolar"
        },
        {
         "fill": "toself",
         "name": "26175",
         "opacity": 0.2,
         "r": [
          0.08714703018500487,
          0.42349726775956287,
          0.6195413595413596,
          0,
          0.014847069521140357
         ],
         "subplot": "polar46",
         "theta": [
          "breadT",
          "bwriteT",
          "vmPerProc",
          "iowaitT",
          "utVstT"
         ],
         "type": "scatterpolar"
        },
        {
         "fill": "toself",
         "name": "29321",
         "opacity": 0.4,
         "r": [
          0.01192794547224927,
          0.5448087431693989,
          0.6226371826371826,
          0.00022089684117517118,
          0.021861247463347024
         ],
         "subplot": "polar46",
         "theta": [
          "breadT",
          "bwriteT",
          "vmPerProc",
          "iowaitT",
          "utVstT"
         ],
         "type": "scatterpolar"
        },
        {
         "fill": "toself",
         "name": "26176",
         "opacity": 0.6,
         "r": [
          0.002677702044790652,
          0.7475409836065574,
          0.6223751023751024,
          0,
          0.0139834666179976
         ],
         "subplot": "polar46",
         "theta": [
          "breadT",
          "bwriteT",
          "vmPerProc",
          "iowaitT",
          "utVstT"
         ],
         "type": "scatterpolar"
        },
        {
         "fill": "toself",
         "name": "29327",
         "opacity": 0.8,
         "r": [
          0.0012171372930866603,
          0.44153005464480877,
          0.6163636363636363,
          0,
          0.024926404118739746
         ],
         "subplot": "polar46",
         "theta": [
          "breadT",
          "bwriteT",
          "vmPerProc",
          "iowaitT",
          "utVstT"
         ],
         "type": "scatterpolar"
        },
        {
         "fill": "toself",
         "name": "19354",
         "opacity": 1,
         "r": [
          0,
          0.5811475409836065,
          0.6227354627354628,
          0,
          0.01865154782433888
         ],
         "subplot": "polar46",
         "theta": [
          "breadT",
          "bwriteT",
          "vmPerProc",
          "iowaitT",
          "utVstT"
         ],
         "type": "scatterpolar"
        },
        {
         "fill": "toself",
         "name": "21037",
         "opacity": 0.2,
         "r": [
          0.4598344693281402,
          0.060655737704918035,
          0.9719082719082719,
          0.012149326264634415,
          0.014440639244944596
         ],
         "subplot": "polar47",
         "theta": [
          "breadT",
          "bwriteT",
          "vmPerProc",
          "iowaitT",
          "utVstT"
         ],
         "type": "scatterpolar"
        },
        {
         "fill": "toself",
         "name": "27784",
         "opacity": 0.4,
         "r": [
          0.13485881207400194,
          0.040437158469945354,
          0.88995904995905,
          0.00552242102937928,
          0.001711126596086072
         ],
         "subplot": "polar47",
         "theta": [
          "breadT",
          "bwriteT",
          "vmPerProc",
          "iowaitT",
          "utVstT"
         ],
         "type": "scatterpolar"
        },
        {
         "fill": "toself",
         "name": "21039",
         "opacity": 0.6,
         "r": [
          0.2188412852969815,
          0.04371584699453552,
          0.8898443898443898,
          0.010382151535233045,
          0.013493595483028975
         ],
         "subplot": "polar47",
         "theta": [
          "breadT",
          "bwriteT",
          "vmPerProc",
          "iowaitT",
          "utVstT"
         ],
         "type": "scatterpolar"
        },
        {
         "fill": "toself",
         "name": "27785",
         "opacity": 0.8,
         "r": [
          0.5331061343719572,
          0.03989071038251366,
          0.88995904995905,
          0.005964214711729622,
          0
         ],
         "subplot": "polar47",
         "theta": [
          "breadT",
          "bwriteT",
          "vmPerProc",
          "iowaitT",
          "utVstT"
         ],
         "type": "scatterpolar"
        },
        {
         "fill": "toself",
         "name": "21038",
         "opacity": 1,
         "r": [
          0.5973709834469328,
          0.03770491803278689,
          0.8896969696969697,
          0.010603048376408216,
          0.014655211944342982
         ],
         "subplot": "polar47",
         "theta": [
          "breadT",
          "bwriteT",
          "vmPerProc",
          "iowaitT",
          "utVstT"
         ],
         "type": "scatterpolar"
        },
        {
         "fill": "toself",
         "name": "27786",
         "opacity": 0.2,
         "r": [
          0.06986368062317429,
          0.047540983606557376,
          0.8903194103194103,
          0.00552242102937928,
          0.007749139487993855
         ],
         "subplot": "polar47",
         "theta": [
          "breadT",
          "bwriteT",
          "vmPerProc",
          "iowaitT",
          "utVstT"
         ],
         "type": "scatterpolar"
        },
        {
         "fill": "toself",
         "name": "27783",
         "opacity": 0.4,
         "r": [
          0.3960564751703992,
          0.03907103825136612,
          0.8926617526617526,
          0.005743317870554451,
          0.0063125149209537785
         ],
         "subplot": "polar47",
         "theta": [
          "breadT",
          "bwriteT",
          "vmPerProc",
          "iowaitT",
          "utVstT"
         ],
         "type": "scatterpolar"
        },
        {
         "fill": "toself",
         "name": "30942",
         "opacity": 0.6,
         "r": [
          0.08154819863680624,
          0.049453551912568304,
          0.8914004914004914,
          0.015462778882261982,
          0.015812101808127137
         ],
         "subplot": "polar47",
         "theta": [
          "breadT",
          "bwriteT",
          "vmPerProc",
          "iowaitT",
          "utVstT"
         ],
         "type": "scatterpolar"
        },
        {
         "fill": "toself",
         "name": "21040",
         "opacity": 0.8,
         "r": [
          0.13631937682570594,
          0.05081967213114754,
          0.8898280098280098,
          0.009940357852882704,
          0.015259424319009883
         ],
         "subplot": "polar47",
         "theta": [
          "breadT",
          "bwriteT",
          "vmPerProc",
          "iowaitT",
          "utVstT"
         ],
         "type": "scatterpolar"
        },
        {
         "fill": "toself",
         "name": "30940",
         "opacity": 1,
         "r": [
          0.3240019474196689,
          0.040437158469945354,
          0.89002457002457,
          0.015462778882261982,
          0.01683308492381468
         ],
         "subplot": "polar47",
         "theta": [
          "breadT",
          "bwriteT",
          "vmPerProc",
          "iowaitT",
          "utVstT"
         ],
         "type": "scatterpolar"
        },
        {
         "fill": "toself",
         "name": "29914",
         "opacity": 0.2,
         "r": [
          0.3843719571567673,
          0.03907103825136612,
          0.895986895986896,
          0.009940357852882704,
          0.020829066061619415
         ],
         "subplot": "polar47",
         "theta": [
          "breadT",
          "bwriteT",
          "vmPerProc",
          "iowaitT",
          "utVstT"
         ],
         "type": "scatterpolar"
        },
        {
         "fill": "toself",
         "name": "30941",
         "opacity": 0.4,
         "r": [
          0.5206913339824732,
          0.04207650273224044,
          0.8900737100737101,
          0.01568367572343715,
          0.018760871526810597
         ],
         "subplot": "polar47",
         "theta": [
          "breadT",
          "bwriteT",
          "vmPerProc",
          "iowaitT",
          "utVstT"
         ],
         "type": "scatterpolar"
        },
        {
         "fill": "toself",
         "name": "29915",
         "opacity": 0.6,
         "r": [
          0.22151898734177214,
          0.03961748633879782,
          0.8902047502047502,
          0.010161254694057875,
          0.020695959899368014
         ],
         "subplot": "polar47",
         "theta": [
          "breadT",
          "bwriteT",
          "vmPerProc",
          "iowaitT",
          "utVstT"
         ],
         "type": "scatterpolar"
        },
        {
         "fill": "toself",
         "name": "29916",
         "opacity": 0.8,
         "r": [
          0.37877312560856863,
          0.0407103825136612,
          0.8915642915642915,
          0.009719461011707531,
          0.015595066863656892
         ],
         "subplot": "polar47",
         "theta": [
          "breadT",
          "bwriteT",
          "vmPerProc",
          "iowaitT",
          "utVstT"
         ],
         "type": "scatterpolar"
        },
        {
         "fill": "toself",
         "name": "30936",
         "opacity": 1,
         "r": [
          0.46592015579357354,
          0.038524590163934426,
          0.8928419328419328,
          0.01568367572343715,
          0.01879726675563804
         ],
         "subplot": "polar47",
         "theta": [
          "breadT",
          "bwriteT",
          "vmPerProc",
          "iowaitT",
          "utVstT"
         ],
         "type": "scatterpolar"
        },
        {
         "fill": "toself",
         "name": "29917",
         "opacity": 0.2,
         "r": [
          0.30988315481986367,
          0.049453551912568304,
          0.8916625716625717,
          0.010161254694057875,
          0.020048511323706976
         ],
         "subplot": "polar47",
         "theta": [
          "breadT",
          "bwriteT",
          "vmPerProc",
          "iowaitT",
          "utVstT"
         ],
         "type": "scatterpolar"
        },
        {
         "fill": "toself",
         "name": "21976",
         "opacity": 0.4,
         "r": [
          0.06645569620253164,
          0.019398907103825136,
          0.8899099099099099,
          0.010161254694057875,
          0.029534631548847057
         ],
         "subplot": "polar48",
         "theta": [
          "breadT",
          "bwriteT",
          "vmPerProc",
          "iowaitT",
          "utVstT"
         ],
         "type": "scatterpolar"
        },
        {
         "fill": "toself",
         "name": "21969",
         "opacity": 0.6,
         "r": [
          0.6613924050632911,
          0.01912568306010929,
          0.89005733005733,
          0.010382151535233045,
          0.029340195212745245
         ],
         "subplot": "polar48",
         "theta": [
          "breadT",
          "bwriteT",
          "vmPerProc",
          "iowaitT",
          "utVstT"
         ],
         "type": "scatterpolar"
        },
        {
         "fill": "toself",
         "name": "21968",
         "opacity": 0.8,
         "r": [
          0.4574001947419669,
          0.03934426229508197,
          0.966011466011466,
          0.012149326264634415,
          0.030824691963035746
         ],
         "subplot": "polar48",
         "theta": [
          "breadT",
          "bwriteT",
          "vmPerProc",
          "iowaitT",
          "utVstT"
         ],
         "type": "scatterpolar"
        },
        {
         "fill": "toself",
         "name": "28679",
         "opacity": 1,
         "r": [
          0.3994644595910419,
          0.019672131147540985,
          0.8901883701883702,
          0.005743317870554451,
          0.0255713759045855
         ],
         "subplot": "polar48",
         "theta": [
          "breadT",
          "bwriteT",
          "vmPerProc",
          "iowaitT",
          "utVstT"
         ],
         "type": "scatterpolar"
        },
        {
         "fill": "toself",
         "name": "28680",
         "opacity": 0.2,
         "r": [
          0.3977604673807206,
          0.020491803278688523,
          0.8899426699426699,
          0.00552242102937928,
          0.02685671777159613
         ],
         "subplot": "polar48",
         "theta": [
          "breadT",
          "bwriteT",
          "vmPerProc",
          "iowaitT",
          "utVstT"
         ],
         "type": "scatterpolar"
        },
        {
         "fill": "toself",
         "name": "28677",
         "opacity": 0.4,
         "r": [
          0.18354430379746836,
          0.019672131147540985,
          0.8949221949221949,
          0.00552242102937928,
          0.02673833588453864
         ],
         "subplot": "polar48",
         "theta": [
          "breadT",
          "bwriteT",
          "vmPerProc",
          "iowaitT",
          "utVstT"
         ],
         "type": "scatterpolar"
        },
        {
         "fill": "toself",
         "name": "31849",
         "opacity": 0.6,
         "r": [
          0.1830574488802337,
          0.020765027322404372,
          0.8904340704340704,
          0.010603048376408216,
          0.03451125176759378
         ],
         "subplot": "polar48",
         "theta": [
          "breadT",
          "bwriteT",
          "vmPerProc",
          "iowaitT",
          "utVstT"
         ],
         "type": "scatterpolar"
        },
        {
         "fill": "toself",
         "name": "21970",
         "opacity": 0.8,
         "r": [
          0.2271178188899708,
          0.020491803278688523,
          0.8901883701883702,
          0.009940357852882704,
          0.026696269395940588
         ],
         "subplot": "polar48",
         "theta": [
          "breadT",
          "bwriteT",
          "vmPerProc",
          "iowaitT",
          "utVstT"
         ],
         "type": "scatterpolar"
        },
        {
         "fill": "toself",
         "name": "30824",
         "opacity": 1,
         "r": [
          0.18257059396299902,
          0.018852459016393444,
          0.8901556101556102,
          0.005964214711729622,
          0.030273832518647657
         ],
         "subplot": "polar48",
         "theta": [
          "breadT",
          "bwriteT",
          "vmPerProc",
          "iowaitT",
          "utVstT"
         ],
         "type": "scatterpolar"
        },
        {
         "fill": "toself",
         "name": "30823",
         "opacity": 0.2,
         "r": [
          0.5318889970788705,
          0.01912568306010929,
          0.8901719901719902,
          0.010161254694057875,
          0.02901054255988217
         ],
         "subplot": "polar48",
         "theta": [
          "breadT",
          "bwriteT",
          "vmPerProc",
          "iowaitT",
          "utVstT"
         ],
         "type": "scatterpolar"
        },
        {
         "fill": "toself",
         "name": "28681",
         "opacity": 0.4,
         "r": [
          0.15311587147030184,
          0.019672131147540985,
          0.8901064701064701,
          0.005301524188204108,
          0.024142820120047134
         ],
         "subplot": "polar48",
         "theta": [
          "breadT",
          "bwriteT",
          "vmPerProc",
          "iowaitT",
          "utVstT"
         ],
         "type": "scatterpolar"
        },
        {
         "fill": "toself",
         "name": "30818",
         "opacity": 0.6,
         "r": [
          0.47857838364167476,
          0.018032786885245903,
          0.8978378378378379,
          0.010161254694057875,
          0.02970673459732717
         ],
         "subplot": "polar48",
         "theta": [
          "breadT",
          "bwriteT",
          "vmPerProc",
          "iowaitT",
          "utVstT"
         ],
         "type": "scatterpolar"
        },
        {
         "fill": "toself",
         "name": "30825",
         "opacity": 0.8,
         "r": [
          0.14873417721518986,
          0.017759562841530054,
          0.8899426699426699,
          0.009940357852882704,
          0.02929733908671301
         ],
         "subplot": "polar48",
         "theta": [
          "breadT",
          "bwriteT",
          "vmPerProc",
          "iowaitT",
          "utVstT"
         ],
         "type": "scatterpolar"
        },
        {
         "fill": "toself",
         "name": "31845",
         "opacity": 1,
         "r": [
          0.4664070107108082,
          0.022131147540983605,
          0.8927272727272727,
          0.015241882041086811,
          0.034183958956176805
         ],
         "subplot": "polar48",
         "theta": [
          "breadT",
          "bwriteT",
          "vmPerProc",
          "iowaitT",
          "utVstT"
         ],
         "type": "scatterpolar"
        },
        {
         "fill": "toself",
         "name": "31851",
         "opacity": 0.2,
         "r": [
          0.10248296007789678,
          0.020491803278688523,
          0.8913513513513514,
          0.010382151535233045,
          0.03602096077174524
         ],
         "subplot": "polar48",
         "theta": [
          "breadT",
          "bwriteT",
          "vmPerProc",
          "iowaitT",
          "utVstT"
         ],
         "type": "scatterpolar"
        },
        {
         "fill": "toself",
         "name": "31850",
         "opacity": 0.4,
         "r": [
          0.6402142161635832,
          0.021584699453551914,
          0.8904176904176904,
          0.010823945217583387,
          0.036107394288332005
         ],
         "subplot": "polar48",
         "theta": [
          "breadT",
          "bwriteT",
          "vmPerProc",
          "iowaitT",
          "utVstT"
         ],
         "type": "scatterpolar"
        }
       ],
       "layout": {
        "annotations": [
         {
          "font": {
           "size": 16
          },
          "showarrow": false,
          "text": "0namd_ID0000002",
          "x": 0.10625,
          "xanchor": "center",
          "xref": "paper",
          "y": 1,
          "yanchor": "bottom",
          "yref": "paper"
         },
         {
          "font": {
           "size": 16
          },
          "showarrow": false,
          "text": "0namd_ID0000003",
          "x": 0.36875,
          "xanchor": "center",
          "xref": "paper",
          "y": 1,
          "yanchor": "bottom",
          "yref": "paper"
         },
         {
          "font": {
           "size": 16
          },
          "showarrow": false,
          "text": "0sassena_ID0000005",
          "x": 0.6312500000000001,
          "xanchor": "center",
          "xref": "paper",
          "y": 1,
          "yanchor": "bottom",
          "yref": "paper"
         },
         {
          "font": {
           "size": 16
          },
          "showarrow": false,
          "text": "0sassena_ID0000006",
          "x": 0.89375,
          "xanchor": "center",
          "xref": "paper",
          "y": 1,
          "yanchor": "bottom",
          "yref": "paper"
         },
         {
          "font": {
           "size": 16
          },
          "showarrow": false,
          "text": "1namd_ID0000002",
          "x": 0.10625,
          "xanchor": "center",
          "xref": "paper",
          "y": 0.9131944444444444,
          "yanchor": "bottom",
          "yref": "paper"
         },
         {
          "font": {
           "size": 16
          },
          "showarrow": false,
          "text": "1namd_ID0000003",
          "x": 0.36875,
          "xanchor": "center",
          "xref": "paper",
          "y": 0.9131944444444444,
          "yanchor": "bottom",
          "yref": "paper"
         },
         {
          "font": {
           "size": 16
          },
          "showarrow": false,
          "text": "1sassena_ID0000006",
          "x": 0.6312500000000001,
          "xanchor": "center",
          "xref": "paper",
          "y": 0.9131944444444444,
          "yanchor": "bottom",
          "yref": "paper"
         },
         {
          "font": {
           "size": 16
          },
          "showarrow": false,
          "text": "1sassena_ID0000005",
          "x": 0.89375,
          "xanchor": "center",
          "xref": "paper",
          "y": 0.9131944444444444,
          "yanchor": "bottom",
          "yref": "paper"
         },
         {
          "font": {
           "size": 16
          },
          "showarrow": false,
          "text": "2namd_ID0000002",
          "x": 0.10625,
          "xanchor": "center",
          "xref": "paper",
          "y": 0.8263888888888888,
          "yanchor": "bottom",
          "yref": "paper"
         },
         {
          "font": {
           "size": 16
          },
          "showarrow": false,
          "text": "2namd_ID0000003",
          "x": 0.36875,
          "xanchor": "center",
          "xref": "paper",
          "y": 0.8263888888888888,
          "yanchor": "bottom",
          "yref": "paper"
         },
         {
          "font": {
           "size": 16
          },
          "showarrow": false,
          "text": "2sassena_ID0000006",
          "x": 0.6312500000000001,
          "xanchor": "center",
          "xref": "paper",
          "y": 0.8263888888888888,
          "yanchor": "bottom",
          "yref": "paper"
         },
         {
          "font": {
           "size": 16
          },
          "showarrow": false,
          "text": "2sassena_ID0000005",
          "x": 0.89375,
          "xanchor": "center",
          "xref": "paper",
          "y": 0.8263888888888888,
          "yanchor": "bottom",
          "yref": "paper"
         },
         {
          "font": {
           "size": 16
          },
          "showarrow": false,
          "text": "3namd_ID0000002",
          "x": 0.10625,
          "xanchor": "center",
          "xref": "paper",
          "y": 0.7395833333333333,
          "yanchor": "bottom",
          "yref": "paper"
         },
         {
          "font": {
           "size": 16
          },
          "showarrow": false,
          "text": "3namd_ID0000003",
          "x": 0.36875,
          "xanchor": "center",
          "xref": "paper",
          "y": 0.7395833333333333,
          "yanchor": "bottom",
          "yref": "paper"
         },
         {
          "font": {
           "size": 16
          },
          "showarrow": false,
          "text": "3sassena_ID0000005",
          "x": 0.6312500000000001,
          "xanchor": "center",
          "xref": "paper",
          "y": 0.7395833333333333,
          "yanchor": "bottom",
          "yref": "paper"
         },
         {
          "font": {
           "size": 16
          },
          "showarrow": false,
          "text": "3sassena_ID0000006",
          "x": 0.89375,
          "xanchor": "center",
          "xref": "paper",
          "y": 0.7395833333333333,
          "yanchor": "bottom",
          "yref": "paper"
         },
         {
          "font": {
           "size": 16
          },
          "showarrow": false,
          "text": "4namd_ID0000002",
          "x": 0.10625,
          "xanchor": "center",
          "xref": "paper",
          "y": 0.6527777777777777,
          "yanchor": "bottom",
          "yref": "paper"
         },
         {
          "font": {
           "size": 16
          },
          "showarrow": false,
          "text": "4namd_ID0000003",
          "x": 0.36875,
          "xanchor": "center",
          "xref": "paper",
          "y": 0.6527777777777777,
          "yanchor": "bottom",
          "yref": "paper"
         },
         {
          "font": {
           "size": 16
          },
          "showarrow": false,
          "text": "4sassena_ID0000005",
          "x": 0.6312500000000001,
          "xanchor": "center",
          "xref": "paper",
          "y": 0.6527777777777777,
          "yanchor": "bottom",
          "yref": "paper"
         },
         {
          "font": {
           "size": 16
          },
          "showarrow": false,
          "text": "4sassena_ID0000006",
          "x": 0.89375,
          "xanchor": "center",
          "xref": "paper",
          "y": 0.6527777777777777,
          "yanchor": "bottom",
          "yref": "paper"
         },
         {
          "font": {
           "size": 16
          },
          "showarrow": false,
          "text": "5namd_ID0000002",
          "x": 0.10625,
          "xanchor": "center",
          "xref": "paper",
          "y": 0.5659722222222223,
          "yanchor": "bottom",
          "yref": "paper"
         },
         {
          "font": {
           "size": 16
          },
          "showarrow": false,
          "text": "5namd_ID0000003",
          "x": 0.36875,
          "xanchor": "center",
          "xref": "paper",
          "y": 0.5659722222222223,
          "yanchor": "bottom",
          "yref": "paper"
         },
         {
          "font": {
           "size": 16
          },
          "showarrow": false,
          "text": "5sassena_ID0000006",
          "x": 0.6312500000000001,
          "xanchor": "center",
          "xref": "paper",
          "y": 0.5659722222222223,
          "yanchor": "bottom",
          "yref": "paper"
         },
         {
          "font": {
           "size": 16
          },
          "showarrow": false,
          "text": "5sassena_ID0000005",
          "x": 0.89375,
          "xanchor": "center",
          "xref": "paper",
          "y": 0.5659722222222223,
          "yanchor": "bottom",
          "yref": "paper"
         },
         {
          "font": {
           "size": 16
          },
          "showarrow": false,
          "text": "6namd_ID0000002",
          "x": 0.10625,
          "xanchor": "center",
          "xref": "paper",
          "y": 0.4791666666666667,
          "yanchor": "bottom",
          "yref": "paper"
         },
         {
          "font": {
           "size": 16
          },
          "showarrow": false,
          "text": "6namd_ID0000003",
          "x": 0.36875,
          "xanchor": "center",
          "xref": "paper",
          "y": 0.4791666666666667,
          "yanchor": "bottom",
          "yref": "paper"
         },
         {
          "font": {
           "size": 16
          },
          "showarrow": false,
          "text": "6sassena_ID0000006",
          "x": 0.6312500000000001,
          "xanchor": "center",
          "xref": "paper",
          "y": 0.4791666666666667,
          "yanchor": "bottom",
          "yref": "paper"
         },
         {
          "font": {
           "size": 16
          },
          "showarrow": false,
          "text": "6sassena_ID0000005",
          "x": 0.89375,
          "xanchor": "center",
          "xref": "paper",
          "y": 0.4791666666666667,
          "yanchor": "bottom",
          "yref": "paper"
         },
         {
          "font": {
           "size": 16
          },
          "showarrow": false,
          "text": "7namd_ID0000002",
          "x": 0.10625,
          "xanchor": "center",
          "xref": "paper",
          "y": 0.3923611111111111,
          "yanchor": "bottom",
          "yref": "paper"
         },
         {
          "font": {
           "size": 16
          },
          "showarrow": false,
          "text": "7namd_ID0000003",
          "x": 0.36875,
          "xanchor": "center",
          "xref": "paper",
          "y": 0.3923611111111111,
          "yanchor": "bottom",
          "yref": "paper"
         },
         {
          "font": {
           "size": 16
          },
          "showarrow": false,
          "text": "7sassena_ID0000005",
          "x": 0.6312500000000001,
          "xanchor": "center",
          "xref": "paper",
          "y": 0.3923611111111111,
          "yanchor": "bottom",
          "yref": "paper"
         },
         {
          "font": {
           "size": 16
          },
          "showarrow": false,
          "text": "7sassena_ID0000006",
          "x": 0.89375,
          "xanchor": "center",
          "xref": "paper",
          "y": 0.3923611111111111,
          "yanchor": "bottom",
          "yref": "paper"
         },
         {
          "font": {
           "size": 16
          },
          "showarrow": false,
          "text": "8namd_ID0000002",
          "x": 0.10625,
          "xanchor": "center",
          "xref": "paper",
          "y": 0.3055555555555556,
          "yanchor": "bottom",
          "yref": "paper"
         },
         {
          "font": {
           "size": 16
          },
          "showarrow": false,
          "text": "8namd_ID0000003",
          "x": 0.36875,
          "xanchor": "center",
          "xref": "paper",
          "y": 0.3055555555555556,
          "yanchor": "bottom",
          "yref": "paper"
         },
         {
          "font": {
           "size": 16
          },
          "showarrow": false,
          "text": "8sassena_ID0000005",
          "x": 0.6312500000000001,
          "xanchor": "center",
          "xref": "paper",
          "y": 0.3055555555555556,
          "yanchor": "bottom",
          "yref": "paper"
         },
         {
          "font": {
           "size": 16
          },
          "showarrow": false,
          "text": "8sassena_ID0000006",
          "x": 0.89375,
          "xanchor": "center",
          "xref": "paper",
          "y": 0.3055555555555556,
          "yanchor": "bottom",
          "yref": "paper"
         },
         {
          "font": {
           "size": 16
          },
          "showarrow": false,
          "text": "9namd_ID0000002",
          "x": 0.10625,
          "xanchor": "center",
          "xref": "paper",
          "y": 0.21875,
          "yanchor": "bottom",
          "yref": "paper"
         },
         {
          "font": {
           "size": 16
          },
          "showarrow": false,
          "text": "9namd_ID0000003",
          "x": 0.36875,
          "xanchor": "center",
          "xref": "paper",
          "y": 0.21875,
          "yanchor": "bottom",
          "yref": "paper"
         },
         {
          "font": {
           "size": 16
          },
          "showarrow": false,
          "text": "9sassena_ID0000005",
          "x": 0.6312500000000001,
          "xanchor": "center",
          "xref": "paper",
          "y": 0.21875,
          "yanchor": "bottom",
          "yref": "paper"
         },
         {
          "font": {
           "size": 16
          },
          "showarrow": false,
          "text": "9sassena_ID0000006",
          "x": 0.89375,
          "xanchor": "center",
          "xref": "paper",
          "y": 0.21875,
          "yanchor": "bottom",
          "yref": "paper"
         },
         {
          "font": {
           "size": 16
          },
          "showarrow": false,
          "text": "10namd_ID0000002",
          "x": 0.10625,
          "xanchor": "center",
          "xref": "paper",
          "y": 0.13194444444444445,
          "yanchor": "bottom",
          "yref": "paper"
         },
         {
          "font": {
           "size": 16
          },
          "showarrow": false,
          "text": "10namd_ID0000003",
          "x": 0.36875,
          "xanchor": "center",
          "xref": "paper",
          "y": 0.13194444444444445,
          "yanchor": "bottom",
          "yref": "paper"
         },
         {
          "font": {
           "size": 16
          },
          "showarrow": false,
          "text": "10sassena_ID0000006",
          "x": 0.6312500000000001,
          "xanchor": "center",
          "xref": "paper",
          "y": 0.13194444444444445,
          "yanchor": "bottom",
          "yref": "paper"
         },
         {
          "font": {
           "size": 16
          },
          "showarrow": false,
          "text": "10sassena_ID0000005",
          "x": 0.89375,
          "xanchor": "center",
          "xref": "paper",
          "y": 0.13194444444444445,
          "yanchor": "bottom",
          "yref": "paper"
         },
         {
          "font": {
           "size": 16
          },
          "showarrow": false,
          "text": "11namd_ID0000002",
          "x": 0.10625,
          "xanchor": "center",
          "xref": "paper",
          "y": 0.045138888888888895,
          "yanchor": "bottom",
          "yref": "paper"
         },
         {
          "font": {
           "size": 16
          },
          "showarrow": false,
          "text": "11namd_ID0000003",
          "x": 0.36875,
          "xanchor": "center",
          "xref": "paper",
          "y": 0.045138888888888895,
          "yanchor": "bottom",
          "yref": "paper"
         },
         {
          "font": {
           "size": 16
          },
          "showarrow": false,
          "text": "11sassena_ID0000005",
          "x": 0.6312500000000001,
          "xanchor": "center",
          "xref": "paper",
          "y": 0.045138888888888895,
          "yanchor": "bottom",
          "yref": "paper"
         },
         {
          "font": {
           "size": 16
          },
          "showarrow": false,
          "text": "11sassena_ID0000006",
          "x": 0.89375,
          "xanchor": "center",
          "xref": "paper",
          "y": 0.045138888888888895,
          "yanchor": "bottom",
          "yref": "paper"
         }
        ],
        "height": 3600,
        "polar": {
         "domain": {
          "x": [
           0,
           0.2125
          ],
          "y": [
           0.9548611111111112,
           1
          ]
         },
         "radialaxis": {
          "range": [
           0,
           1
          ],
          "visible": true
         }
        },
        "polar10": {
         "domain": {
          "x": [
           0.2625,
           0.475
          ],
          "y": [
           0.78125,
           0.8263888888888888
          ]
         }
        },
        "polar11": {
         "domain": {
          "x": [
           0.525,
           0.7375
          ],
          "y": [
           0.78125,
           0.8263888888888888
          ]
         }
        },
        "polar12": {
         "domain": {
          "x": [
           0.7875,
           1
          ],
          "y": [
           0.78125,
           0.8263888888888888
          ]
         }
        },
        "polar13": {
         "domain": {
          "x": [
           0,
           0.2125
          ],
          "y": [
           0.6944444444444444,
           0.7395833333333333
          ]
         }
        },
        "polar14": {
         "domain": {
          "x": [
           0.2625,
           0.475
          ],
          "y": [
           0.6944444444444444,
           0.7395833333333333
          ]
         }
        },
        "polar15": {
         "domain": {
          "x": [
           0.525,
           0.7375
          ],
          "y": [
           0.6944444444444444,
           0.7395833333333333
          ]
         }
        },
        "polar16": {
         "domain": {
          "x": [
           0.7875,
           1
          ],
          "y": [
           0.6944444444444444,
           0.7395833333333333
          ]
         }
        },
        "polar17": {
         "domain": {
          "x": [
           0,
           0.2125
          ],
          "y": [
           0.6076388888888888,
           0.6527777777777777
          ]
         }
        },
        "polar18": {
         "domain": {
          "x": [
           0.2625,
           0.475
          ],
          "y": [
           0.6076388888888888,
           0.6527777777777777
          ]
         }
        },
        "polar19": {
         "domain": {
          "x": [
           0.525,
           0.7375
          ],
          "y": [
           0.6076388888888888,
           0.6527777777777777
          ]
         }
        },
        "polar2": {
         "domain": {
          "x": [
           0.2625,
           0.475
          ],
          "y": [
           0.9548611111111112,
           1
          ]
         }
        },
        "polar20": {
         "domain": {
          "x": [
           0.7875,
           1
          ],
          "y": [
           0.6076388888888888,
           0.6527777777777777
          ]
         }
        },
        "polar21": {
         "domain": {
          "x": [
           0,
           0.2125
          ],
          "y": [
           0.5208333333333334,
           0.5659722222222223
          ]
         }
        },
        "polar22": {
         "domain": {
          "x": [
           0.2625,
           0.475
          ],
          "y": [
           0.5208333333333334,
           0.5659722222222223
          ]
         }
        },
        "polar23": {
         "domain": {
          "x": [
           0.525,
           0.7375
          ],
          "y": [
           0.5208333333333334,
           0.5659722222222223
          ]
         }
        },
        "polar24": {
         "domain": {
          "x": [
           0.7875,
           1
          ],
          "y": [
           0.5208333333333334,
           0.5659722222222223
          ]
         }
        },
        "polar25": {
         "domain": {
          "x": [
           0,
           0.2125
          ],
          "y": [
           0.4340277777777778,
           0.4791666666666667
          ]
         }
        },
        "polar26": {
         "domain": {
          "x": [
           0.2625,
           0.475
          ],
          "y": [
           0.4340277777777778,
           0.4791666666666667
          ]
         }
        },
        "polar27": {
         "domain": {
          "x": [
           0.525,
           0.7375
          ],
          "y": [
           0.4340277777777778,
           0.4791666666666667
          ]
         }
        },
        "polar28": {
         "domain": {
          "x": [
           0.7875,
           1
          ],
          "y": [
           0.4340277777777778,
           0.4791666666666667
          ]
         }
        },
        "polar29": {
         "domain": {
          "x": [
           0,
           0.2125
          ],
          "y": [
           0.3472222222222222,
           0.3923611111111111
          ]
         }
        },
        "polar3": {
         "domain": {
          "x": [
           0.525,
           0.7375
          ],
          "y": [
           0.9548611111111112,
           1
          ]
         }
        },
        "polar30": {
         "domain": {
          "x": [
           0.2625,
           0.475
          ],
          "y": [
           0.3472222222222222,
           0.3923611111111111
          ]
         }
        },
        "polar31": {
         "domain": {
          "x": [
           0.525,
           0.7375
          ],
          "y": [
           0.3472222222222222,
           0.3923611111111111
          ]
         }
        },
        "polar32": {
         "domain": {
          "x": [
           0.7875,
           1
          ],
          "y": [
           0.3472222222222222,
           0.3923611111111111
          ]
         }
        },
        "polar33": {
         "domain": {
          "x": [
           0,
           0.2125
          ],
          "y": [
           0.2604166666666667,
           0.3055555555555556
          ]
         }
        },
        "polar34": {
         "domain": {
          "x": [
           0.2625,
           0.475
          ],
          "y": [
           0.2604166666666667,
           0.3055555555555556
          ]
         }
        },
        "polar35": {
         "domain": {
          "x": [
           0.525,
           0.7375
          ],
          "y": [
           0.2604166666666667,
           0.3055555555555556
          ]
         }
        },
        "polar36": {
         "domain": {
          "x": [
           0.7875,
           1
          ],
          "y": [
           0.2604166666666667,
           0.3055555555555556
          ]
         }
        },
        "polar37": {
         "domain": {
          "x": [
           0,
           0.2125
          ],
          "y": [
           0.1736111111111111,
           0.21875
          ]
         }
        },
        "polar38": {
         "domain": {
          "x": [
           0.2625,
           0.475
          ],
          "y": [
           0.1736111111111111,
           0.21875
          ]
         }
        },
        "polar39": {
         "domain": {
          "x": [
           0.525,
           0.7375
          ],
          "y": [
           0.1736111111111111,
           0.21875
          ]
         }
        },
        "polar4": {
         "domain": {
          "x": [
           0.7875,
           1
          ],
          "y": [
           0.9548611111111112,
           1
          ]
         }
        },
        "polar40": {
         "domain": {
          "x": [
           0.7875,
           1
          ],
          "y": [
           0.1736111111111111,
           0.21875
          ]
         }
        },
        "polar41": {
         "domain": {
          "x": [
           0,
           0.2125
          ],
          "y": [
           0.08680555555555555,
           0.13194444444444445
          ]
         }
        },
        "polar42": {
         "domain": {
          "x": [
           0.2625,
           0.475
          ],
          "y": [
           0.08680555555555555,
           0.13194444444444445
          ]
         }
        },
        "polar43": {
         "domain": {
          "x": [
           0.525,
           0.7375
          ],
          "y": [
           0.08680555555555555,
           0.13194444444444445
          ]
         }
        },
        "polar44": {
         "domain": {
          "x": [
           0.7875,
           1
          ],
          "y": [
           0.08680555555555555,
           0.13194444444444445
          ]
         }
        },
        "polar45": {
         "domain": {
          "x": [
           0,
           0.2125
          ],
          "y": [
           0,
           0.045138888888888895
          ]
         }
        },
        "polar46": {
         "domain": {
          "x": [
           0.2625,
           0.475
          ],
          "y": [
           0,
           0.045138888888888895
          ]
         }
        },
        "polar47": {
         "domain": {
          "x": [
           0.525,
           0.7375
          ],
          "y": [
           0,
           0.045138888888888895
          ]
         }
        },
        "polar48": {
         "domain": {
          "x": [
           0.7875,
           1
          ],
          "y": [
           0,
           0.045138888888888895
          ]
         }
        },
        "polar5": {
         "domain": {
          "x": [
           0,
           0.2125
          ],
          "y": [
           0.8680555555555556,
           0.9131944444444444
          ]
         }
        },
        "polar6": {
         "domain": {
          "x": [
           0.2625,
           0.475
          ],
          "y": [
           0.8680555555555556,
           0.9131944444444444
          ]
         }
        },
        "polar7": {
         "domain": {
          "x": [
           0.525,
           0.7375
          ],
          "y": [
           0.8680555555555556,
           0.9131944444444444
          ]
         }
        },
        "polar8": {
         "domain": {
          "x": [
           0.7875,
           1
          ],
          "y": [
           0.8680555555555556,
           0.9131944444444444
          ]
         }
        },
        "polar9": {
         "domain": {
          "x": [
           0,
           0.2125
          ],
          "y": [
           0.78125,
           0.8263888888888888
          ]
         }
        },
        "showlegend": true,
        "template": {
         "data": {
          "bar": [
           {
            "error_x": {
             "color": "#2a3f5f"
            },
            "error_y": {
             "color": "#2a3f5f"
            },
            "marker": {
             "line": {
              "color": "#E5ECF6",
              "width": 0.5
             },
             "pattern": {
              "fillmode": "overlay",
              "size": 10,
              "solidity": 0.2
             }
            },
            "type": "bar"
           }
          ],
          "barpolar": [
           {
            "marker": {
             "line": {
              "color": "#E5ECF6",
              "width": 0.5
             },
             "pattern": {
              "fillmode": "overlay",
              "size": 10,
              "solidity": 0.2
             }
            },
            "type": "barpolar"
           }
          ],
          "carpet": [
           {
            "aaxis": {
             "endlinecolor": "#2a3f5f",
             "gridcolor": "white",
             "linecolor": "white",
             "minorgridcolor": "white",
             "startlinecolor": "#2a3f5f"
            },
            "baxis": {
             "endlinecolor": "#2a3f5f",
             "gridcolor": "white",
             "linecolor": "white",
             "minorgridcolor": "white",
             "startlinecolor": "#2a3f5f"
            },
            "type": "carpet"
           }
          ],
          "choropleth": [
           {
            "colorbar": {
             "outlinewidth": 0,
             "ticks": ""
            },
            "type": "choropleth"
           }
          ],
          "contour": [
           {
            "colorbar": {
             "outlinewidth": 0,
             "ticks": ""
            },
            "colorscale": [
             [
              0,
              "#0d0887"
             ],
             [
              0.1111111111111111,
              "#46039f"
             ],
             [
              0.2222222222222222,
              "#7201a8"
             ],
             [
              0.3333333333333333,
              "#9c179e"
             ],
             [
              0.4444444444444444,
              "#bd3786"
             ],
             [
              0.5555555555555556,
              "#d8576b"
             ],
             [
              0.6666666666666666,
              "#ed7953"
             ],
             [
              0.7777777777777778,
              "#fb9f3a"
             ],
             [
              0.8888888888888888,
              "#fdca26"
             ],
             [
              1,
              "#f0f921"
             ]
            ],
            "type": "contour"
           }
          ],
          "contourcarpet": [
           {
            "colorbar": {
             "outlinewidth": 0,
             "ticks": ""
            },
            "type": "contourcarpet"
           }
          ],
          "heatmap": [
           {
            "colorbar": {
             "outlinewidth": 0,
             "ticks": ""
            },
            "colorscale": [
             [
              0,
              "#0d0887"
             ],
             [
              0.1111111111111111,
              "#46039f"
             ],
             [
              0.2222222222222222,
              "#7201a8"
             ],
             [
              0.3333333333333333,
              "#9c179e"
             ],
             [
              0.4444444444444444,
              "#bd3786"
             ],
             [
              0.5555555555555556,
              "#d8576b"
             ],
             [
              0.6666666666666666,
              "#ed7953"
             ],
             [
              0.7777777777777778,
              "#fb9f3a"
             ],
             [
              0.8888888888888888,
              "#fdca26"
             ],
             [
              1,
              "#f0f921"
             ]
            ],
            "type": "heatmap"
           }
          ],
          "heatmapgl": [
           {
            "colorbar": {
             "outlinewidth": 0,
             "ticks": ""
            },
            "colorscale": [
             [
              0,
              "#0d0887"
             ],
             [
              0.1111111111111111,
              "#46039f"
             ],
             [
              0.2222222222222222,
              "#7201a8"
             ],
             [
              0.3333333333333333,
              "#9c179e"
             ],
             [
              0.4444444444444444,
              "#bd3786"
             ],
             [
              0.5555555555555556,
              "#d8576b"
             ],
             [
              0.6666666666666666,
              "#ed7953"
             ],
             [
              0.7777777777777778,
              "#fb9f3a"
             ],
             [
              0.8888888888888888,
              "#fdca26"
             ],
             [
              1,
              "#f0f921"
             ]
            ],
            "type": "heatmapgl"
           }
          ],
          "histogram": [
           {
            "marker": {
             "pattern": {
              "fillmode": "overlay",
              "size": 10,
              "solidity": 0.2
             }
            },
            "type": "histogram"
           }
          ],
          "histogram2d": [
           {
            "colorbar": {
             "outlinewidth": 0,
             "ticks": ""
            },
            "colorscale": [
             [
              0,
              "#0d0887"
             ],
             [
              0.1111111111111111,
              "#46039f"
             ],
             [
              0.2222222222222222,
              "#7201a8"
             ],
             [
              0.3333333333333333,
              "#9c179e"
             ],
             [
              0.4444444444444444,
              "#bd3786"
             ],
             [
              0.5555555555555556,
              "#d8576b"
             ],
             [
              0.6666666666666666,
              "#ed7953"
             ],
             [
              0.7777777777777778,
              "#fb9f3a"
             ],
             [
              0.8888888888888888,
              "#fdca26"
             ],
             [
              1,
              "#f0f921"
             ]
            ],
            "type": "histogram2d"
           }
          ],
          "histogram2dcontour": [
           {
            "colorbar": {
             "outlinewidth": 0,
             "ticks": ""
            },
            "colorscale": [
             [
              0,
              "#0d0887"
             ],
             [
              0.1111111111111111,
              "#46039f"
             ],
             [
              0.2222222222222222,
              "#7201a8"
             ],
             [
              0.3333333333333333,
              "#9c179e"
             ],
             [
              0.4444444444444444,
              "#bd3786"
             ],
             [
              0.5555555555555556,
              "#d8576b"
             ],
             [
              0.6666666666666666,
              "#ed7953"
             ],
             [
              0.7777777777777778,
              "#fb9f3a"
             ],
             [
              0.8888888888888888,
              "#fdca26"
             ],
             [
              1,
              "#f0f921"
             ]
            ],
            "type": "histogram2dcontour"
           }
          ],
          "mesh3d": [
           {
            "colorbar": {
             "outlinewidth": 0,
             "ticks": ""
            },
            "type": "mesh3d"
           }
          ],
          "parcoords": [
           {
            "line": {
             "colorbar": {
              "outlinewidth": 0,
              "ticks": ""
             }
            },
            "type": "parcoords"
           }
          ],
          "pie": [
           {
            "automargin": true,
            "type": "pie"
           }
          ],
          "scatter": [
           {
            "marker": {
             "colorbar": {
              "outlinewidth": 0,
              "ticks": ""
             }
            },
            "type": "scatter"
           }
          ],
          "scatter3d": [
           {
            "line": {
             "colorbar": {
              "outlinewidth": 0,
              "ticks": ""
             }
            },
            "marker": {
             "colorbar": {
              "outlinewidth": 0,
              "ticks": ""
             }
            },
            "type": "scatter3d"
           }
          ],
          "scattercarpet": [
           {
            "marker": {
             "colorbar": {
              "outlinewidth": 0,
              "ticks": ""
             }
            },
            "type": "scattercarpet"
           }
          ],
          "scattergeo": [
           {
            "marker": {
             "colorbar": {
              "outlinewidth": 0,
              "ticks": ""
             }
            },
            "type": "scattergeo"
           }
          ],
          "scattergl": [
           {
            "marker": {
             "colorbar": {
              "outlinewidth": 0,
              "ticks": ""
             }
            },
            "type": "scattergl"
           }
          ],
          "scattermapbox": [
           {
            "marker": {
             "colorbar": {
              "outlinewidth": 0,
              "ticks": ""
             }
            },
            "type": "scattermapbox"
           }
          ],
          "scatterpolar": [
           {
            "marker": {
             "colorbar": {
              "outlinewidth": 0,
              "ticks": ""
             }
            },
            "type": "scatterpolar"
           }
          ],
          "scatterpolargl": [
           {
            "marker": {
             "colorbar": {
              "outlinewidth": 0,
              "ticks": ""
             }
            },
            "type": "scatterpolargl"
           }
          ],
          "scatterternary": [
           {
            "marker": {
             "colorbar": {
              "outlinewidth": 0,
              "ticks": ""
             }
            },
            "type": "scatterternary"
           }
          ],
          "surface": [
           {
            "colorbar": {
             "outlinewidth": 0,
             "ticks": ""
            },
            "colorscale": [
             [
              0,
              "#0d0887"
             ],
             [
              0.1111111111111111,
              "#46039f"
             ],
             [
              0.2222222222222222,
              "#7201a8"
             ],
             [
              0.3333333333333333,
              "#9c179e"
             ],
             [
              0.4444444444444444,
              "#bd3786"
             ],
             [
              0.5555555555555556,
              "#d8576b"
             ],
             [
              0.6666666666666666,
              "#ed7953"
             ],
             [
              0.7777777777777778,
              "#fb9f3a"
             ],
             [
              0.8888888888888888,
              "#fdca26"
             ],
             [
              1,
              "#f0f921"
             ]
            ],
            "type": "surface"
           }
          ],
          "table": [
           {
            "cells": {
             "fill": {
              "color": "#EBF0F8"
             },
             "line": {
              "color": "white"
             }
            },
            "header": {
             "fill": {
              "color": "#C8D4E3"
             },
             "line": {
              "color": "white"
             }
            },
            "type": "table"
           }
          ]
         },
         "layout": {
          "annotationdefaults": {
           "arrowcolor": "#2a3f5f",
           "arrowhead": 0,
           "arrowwidth": 1
          },
          "autotypenumbers": "strict",
          "coloraxis": {
           "colorbar": {
            "outlinewidth": 0,
            "ticks": ""
           }
          },
          "colorscale": {
           "diverging": [
            [
             0,
             "#8e0152"
            ],
            [
             0.1,
             "#c51b7d"
            ],
            [
             0.2,
             "#de77ae"
            ],
            [
             0.3,
             "#f1b6da"
            ],
            [
             0.4,
             "#fde0ef"
            ],
            [
             0.5,
             "#f7f7f7"
            ],
            [
             0.6,
             "#e6f5d0"
            ],
            [
             0.7,
             "#b8e186"
            ],
            [
             0.8,
             "#7fbc41"
            ],
            [
             0.9,
             "#4d9221"
            ],
            [
             1,
             "#276419"
            ]
           ],
           "sequential": [
            [
             0,
             "#0d0887"
            ],
            [
             0.1111111111111111,
             "#46039f"
            ],
            [
             0.2222222222222222,
             "#7201a8"
            ],
            [
             0.3333333333333333,
             "#9c179e"
            ],
            [
             0.4444444444444444,
             "#bd3786"
            ],
            [
             0.5555555555555556,
             "#d8576b"
            ],
            [
             0.6666666666666666,
             "#ed7953"
            ],
            [
             0.7777777777777778,
             "#fb9f3a"
            ],
            [
             0.8888888888888888,
             "#fdca26"
            ],
            [
             1,
             "#f0f921"
            ]
           ],
           "sequentialminus": [
            [
             0,
             "#0d0887"
            ],
            [
             0.1111111111111111,
             "#46039f"
            ],
            [
             0.2222222222222222,
             "#7201a8"
            ],
            [
             0.3333333333333333,
             "#9c179e"
            ],
            [
             0.4444444444444444,
             "#bd3786"
            ],
            [
             0.5555555555555556,
             "#d8576b"
            ],
            [
             0.6666666666666666,
             "#ed7953"
            ],
            [
             0.7777777777777778,
             "#fb9f3a"
            ],
            [
             0.8888888888888888,
             "#fdca26"
            ],
            [
             1,
             "#f0f921"
            ]
           ]
          },
          "colorway": [
           "#636efa",
           "#EF553B",
           "#00cc96",
           "#ab63fa",
           "#FFA15A",
           "#19d3f3",
           "#FF6692",
           "#B6E880",
           "#FF97FF",
           "#FECB52"
          ],
          "font": {
           "color": "#2a3f5f"
          },
          "geo": {
           "bgcolor": "white",
           "lakecolor": "white",
           "landcolor": "#E5ECF6",
           "showlakes": true,
           "showland": true,
           "subunitcolor": "white"
          },
          "hoverlabel": {
           "align": "left"
          },
          "hovermode": "closest",
          "mapbox": {
           "style": "light"
          },
          "paper_bgcolor": "white",
          "plot_bgcolor": "#E5ECF6",
          "polar": {
           "angularaxis": {
            "gridcolor": "white",
            "linecolor": "white",
            "ticks": ""
           },
           "bgcolor": "#E5ECF6",
           "radialaxis": {
            "gridcolor": "white",
            "linecolor": "white",
            "ticks": ""
           }
          },
          "scene": {
           "xaxis": {
            "backgroundcolor": "#E5ECF6",
            "gridcolor": "white",
            "gridwidth": 2,
            "linecolor": "white",
            "showbackground": true,
            "ticks": "",
            "zerolinecolor": "white"
           },
           "yaxis": {
            "backgroundcolor": "#E5ECF6",
            "gridcolor": "white",
            "gridwidth": 2,
            "linecolor": "white",
            "showbackground": true,
            "ticks": "",
            "zerolinecolor": "white"
           },
           "zaxis": {
            "backgroundcolor": "#E5ECF6",
            "gridcolor": "white",
            "gridwidth": 2,
            "linecolor": "white",
            "showbackground": true,
            "ticks": "",
            "zerolinecolor": "white"
           }
          },
          "shapedefaults": {
           "line": {
            "color": "#2a3f5f"
           }
          },
          "ternary": {
           "aaxis": {
            "gridcolor": "white",
            "linecolor": "white",
            "ticks": ""
           },
           "baxis": {
            "gridcolor": "white",
            "linecolor": "white",
            "ticks": ""
           },
           "bgcolor": "#E5ECF6",
           "caxis": {
            "gridcolor": "white",
            "linecolor": "white",
            "ticks": ""
           }
          },
          "title": {
           "x": 0.05
          },
          "xaxis": {
           "automargin": true,
           "gridcolor": "white",
           "linecolor": "white",
           "ticks": "",
           "title": {
            "standoff": 15
           },
           "zerolinecolor": "white",
           "zerolinewidth": 2
          },
          "yaxis": {
           "automargin": true,
           "gridcolor": "white",
           "linecolor": "white",
           "ticks": "",
           "title": {
            "standoff": 15
           },
           "zerolinecolor": "white",
           "zerolinewidth": 2
          }
         }
        }
       }
      }
     },
     "metadata": {},
     "output_type": "display_data"
    }
   ],
   "source": [
    "import plotly.graph_objects as go\n",
    "\n",
    "categories = ['breadT','bwriteT','vmPerProc',\n",
    "              'iowaitT', 'utVstT']\n",
    "# categories = ['bwritePerT','vmTransPerT',\n",
    "#               'iowaitPerT', 'vm']\n",
    "\n",
    "\n",
    "fig = go.Figure()\n",
    "\n",
    "import pandas as pd\n",
    "from sklearn import preprocessing\n",
    "\n",
    "# retmp = tmpdf[categories]\n",
    "# # print(tmpdf)\n",
    "# x = retmp.values #returns a numpy array\n",
    "# min_max_scaler = preprocessing.MinMaxScaler()\n",
    "# x_scaled = min_max_scaler.fit_transform(x)\n",
    "# df = pd.DataFrame(x_scaled, columns=categories)\n",
    "# tmpdf = df\n",
    "\n",
    "#set opacity parameter based on index\n",
    "dag_job_ids = tmpdf['dag_job_id'].unique().tolist()\n",
    "\n",
    "no_of_dia_per_col = 4\n",
    "no_of_row = math.ceil(len(dag_job_ids)/no_of_dia_per_col)\n",
    "# print(dag_job_ids)\n",
    "# print(dag_job_ids.index('sassena_ID0000006'))\n",
    "opacity_list = [0.2, 0.4, 0.6, 0.8, 1.0]\n",
    "\n",
    "type = {\"type\": \"polar\"}\n",
    "masterTypeList = []\n",
    "for j in range(no_of_row):\n",
    "  typeList = []\n",
    "  for i in range(no_of_dia_per_col):\n",
    "    typeList.append(type)\n",
    "  masterTypeList.append(typeList) \n",
    "\n",
    "fig = make_subplots(rows=no_of_row, cols=no_of_dia_per_col, specs=masterTypeList,subplot_titles= dag_job_ids)\n",
    "for ind in range(0,len(tmpdf['ts'])):\n",
    "\n",
    "    rlist = []\n",
    "\n",
    "    #Restructure data to have rlist = [i-th value from each column]\n",
    "    for cols in categories:\n",
    "        rlist.append(tmpdf[cols][ind])\n",
    "\n",
    "    pos_to_be_added = dag_job_ids.index(tmpdf['dag_job_id'][ind]);\n",
    "    #Add the i-th plot to the radar chart\n",
    "    fig.add_trace(go.Scatterpolar(\n",
    "      r=rlist,\n",
    "      theta=categories,\n",
    "      fill='toself',\n",
    "      opacity=opacity_list[ind%5],\n",
    "      name=str(tmpdf['pid'][ind]),\n",
    "    ),row=math.floor(pos_to_be_added/no_of_dia_per_col)+1,col=(pos_to_be_added%no_of_dia_per_col)+1)\n",
    "#     fig = px.line_polar(tmpdf, r=categories, theta=categories, line_close=True)\n",
    "    #Add interactive legends\n",
    "    fig.update_layout(\n",
    "      height=no_of_row*300,\n",
    "      polar=dict(\n",
    "        radialaxis=dict(\n",
    "          visible=True,\n",
    "          range=[0, 1]\n",
    "        )),\n",
    "      showlegend=True\n",
    "    )\n",
    "\n",
    "fig.show()\n"
   ]
  },
  {
   "cell_type": "markdown",
   "metadata": {},
   "source": [
    "### The following code block for calculating the standard deivations across indexed variables to replace channel counters."
   ]
  },
  {
   "cell_type": "code",
   "execution_count": 25,
   "metadata": {},
   "outputs": [
    {
     "name": "stdout",
     "output_type": "stream",
     "text": [
      "1\n",
      "0 0      3.587133\n",
      "1      2.820570\n",
      "2     26.697662\n",
      "3      6.041099\n",
      "4      7.370629\n",
      "5      0.000000\n",
      "6      0.627186\n",
      "7      0.317365\n",
      "8      0.524976\n",
      "9      8.000000\n",
      "10     5.198301\n",
      "11     0.000000\n",
      "12     0.445559\n",
      "Name: MemUnitBusy, dtype: float64\n",
      "1 0     0.039321\n",
      "1     0.085417\n",
      "2     2.647113\n",
      "3     1.412494\n",
      "4     3.718074\n",
      "5     0.150142\n",
      "6     0.000000\n",
      "7     0.049850\n",
      "8     0.118762\n",
      "9     0.064656\n",
      "10    1.000000\n",
      "11    2.027346\n",
      "12    0.000000\n",
      "13    0.052104\n",
      "Name: MemUnitBusy, dtype: float64\n",
      "2 0      4.186853\n",
      "1      3.016892\n",
      "2     16.334386\n",
      "3     12.411254\n",
      "4      2.968864\n",
      "5      0.841799\n",
      "6      1.000000\n",
      "7      0.471181\n",
      "8      0.184631\n",
      "9      0.387865\n",
      "10     3.000000\n",
      "11     6.060330\n",
      "12     0.000000\n",
      "13     0.163903\n",
      "Name: MemUnitBusy, dtype: float64\n",
      "3 0     0.008631\n",
      "1     0.015912\n",
      "2     1.544256\n",
      "3     1.000000\n",
      "4     3.417208\n",
      "5     0.516650\n",
      "6     0.000000\n",
      "7     0.057867\n",
      "8     0.113772\n",
      "9     0.047119\n",
      "10    0.000000\n",
      "11    2.085657\n",
      "12    0.000000\n",
      "13    0.013146\n",
      "Name: MemUnitBusy, dtype: float64\n",
      "4 0     12.626374\n",
      "1      5.609715\n",
      "2     51.589850\n",
      "3      5.478201\n",
      "4     14.616051\n",
      "5      3.000000\n",
      "6      1.127291\n",
      "7      1.226547\n",
      "8      1.879917\n",
      "9     15.000000\n",
      "10    10.986627\n",
      "11     1.000000\n",
      "12     1.117074\n",
      "Name: MemUnitBusy, dtype: float64\n",
      "5 0      6.131948\n",
      "1      2.224488\n",
      "2     23.759960\n",
      "3      6.564978\n",
      "4      7.643190\n",
      "5      2.000000\n",
      "6      0.315113\n",
      "7      0.460080\n",
      "8      1.253298\n",
      "9      9.000000\n",
      "10     7.725957\n",
      "11     0.000000\n",
      "12     0.381028\n",
      "Name: MemUnitBusy, dtype: float64\n",
      "6 0     0.000000\n",
      "1     0.039980\n",
      "2     0.000000\n",
      "3     0.046697\n",
      "4     1.000000\n",
      "5     0.000000\n",
      "6     0.027007\n",
      "7     0.016966\n",
      "8     0.021151\n",
      "9     0.000000\n",
      "10    2.000260\n",
      "11    0.000000\n",
      "12    0.000440\n",
      "Name: MemUnitBusy, dtype: float64\n",
      "7 0      1.613586\n",
      "1      2.745567\n",
      "2     18.450869\n",
      "3     13.868766\n",
      "4      2.745754\n",
      "5      1.502709\n",
      "6      0.000000\n",
      "7      0.515930\n",
      "8      0.266467\n",
      "9      0.216846\n",
      "10     5.000000\n",
      "11     3.610775\n",
      "12     0.000000\n",
      "13     0.158789\n",
      "Name: MemUnitBusy, dtype: float64\n",
      "8 0     0.000080\n",
      "1     0.000720\n",
      "2     0.000000\n",
      "3     0.000000\n",
      "4     1.000000\n",
      "5     0.000000\n",
      "6     0.007913\n",
      "7     0.000000\n",
      "8     0.019141\n",
      "9     0.000000\n",
      "10    2.014813\n",
      "11    0.000000\n",
      "12    0.000000\n",
      "Name: MemUnitBusy, dtype: float64\n",
      "9 0      6.718442\n",
      "1      4.927196\n",
      "2     50.488551\n",
      "3      5.528196\n",
      "4     14.297120\n",
      "5      0.000000\n",
      "6      0.794061\n",
      "7      0.536926\n",
      "8      1.500645\n",
      "9     15.000000\n",
      "10     9.552124\n",
      "11     0.000000\n",
      "12     1.092300\n",
      "Name: MemUnitBusy, dtype: float64\n",
      "134 3.5871328671328673\n",
      "134 2.8205697151424287\n",
      "134 26.697662337662337\n",
      "134 6.041099450274863\n",
      "134 7.370629370629371\n",
      "134 0.0\n",
      "134 0.6271864067966016\n",
      "134 0.31736526946107785\n",
      "134 0.5249756999327774\n",
      "134 8.0\n",
      "134 5.1983008495752125\n",
      "134 0.0\n",
      "134 0.44555879649978025\n",
      "134 0.03932067932067932\n",
      "134 0.08541729135432284\n",
      "134 2.647112887112887\n",
      "134 1.4124937531234383\n",
      "134 3.718073593073593\n",
      "134 0.15014152514152515\n",
      "134 0.0\n",
      "134 0.04985007496251874\n",
      "134 0.1187624750499002\n",
      "134 0.06465634708671718\n",
      "134 1.0\n",
      "134 2.027346326836582\n",
      "134 0.0\n",
      "134 0.05210372797378831\n",
      "134 4.186853146853147\n",
      "134 3.0168915542228887\n",
      "134 16.334385614385614\n",
      "134 12.411254372813593\n",
      "134 2.968864468864469\n",
      "134 0.8417991004497751\n",
      "134 1.0\n",
      "134 0.4711810761286024\n",
      "134 0.18463073852295409\n",
      "134 0.3878654094220672\n",
      "134 3.0\n",
      "134 6.060329835082459\n",
      "134 0.0\n",
      "134 0.16390298477644144\n",
      "134 0.008631368631368631\n",
      "134 0.015912043978010996\n",
      "134 1.5442557442557443\n",
      "134 1.0\n",
      "134 3.417207792207792\n",
      "134 0.5166500166500166\n",
      "134 0.0\n",
      "134 0.05786689988339164\n",
      "134 0.11377245508982035\n",
      "134 0.04711942006867608\n",
      "134 0.0\n",
      "134 2.085657171414293\n",
      "134 0.0\n",
      "134 0.013145802533264075\n",
      "134 12.626373626373626\n",
      "134 5.609715142428786\n",
      "134 51.58985014985015\n",
      "134 5.478200899550225\n",
      "134 14.616050616050616\n",
      "134 3.0\n",
      "134 1.1272905214059636\n",
      "134 1.2265469061876249\n",
      "134 1.87991678930252\n",
      "134 15.0\n",
      "134 10.986626686656672\n",
      "134 1.0\n",
      "134 1.117073560554601\n",
      "134 6.131948051948052\n",
      "134 2.224487756121939\n",
      "134 23.75996003996004\n",
      "134 6.564977511244378\n",
      "134 7.643190143190143\n",
      "134 2.0\n",
      "134 0.31511327669498584\n",
      "134 0.4600798403193613\n",
      "134 1.2532975418324521\n",
      "134 9.0\n",
      "134 7.725957021489255\n",
      "134 0.0\n",
      "134 0.38102848923162985\n",
      "134 0.0\n",
      "134 0.0399800099950025\n",
      "134 0.0\n",
      "134 0.04669665167416292\n",
      "134 1.0\n",
      "134 0.0\n",
      "134 0.027007329668499083\n",
      "134 0.016966067864271458\n",
      "134 0.021151278138115223\n",
      "134 0.0\n",
      "134 2.0002598700649674\n",
      "134 0.0\n",
      "134 0.0004395253126623247\n",
      "134 1.6135864135864135\n",
      "134 2.745567216391804\n",
      "134 18.45086913086913\n",
      "134 13.868765617191404\n",
      "134 2.7457542457542456\n",
      "134 1.5027086456771614\n",
      "134 0.0\n",
      "134 0.5159295352323838\n",
      "134 0.26646706586826346\n",
      "134 0.21684630548136843\n",
      "134 5.0\n",
      "134 3.6107746126936533\n",
      "134 0.0\n",
      "134 0.1587885084109162\n",
      "134 7.992007992007992e-05\n",
      "134 0.000719640179910045\n",
      "134 0.0\n",
      "134 0.0\n",
      "134 1.0\n",
      "134 0.0\n",
      "134 0.00791271031151091\n",
      "134 0.0\n",
      "134 0.019141412765029706\n",
      "134 0.0\n",
      "134 2.0148125937031485\n",
      "134 0.0\n",
      "134 0.0\n",
      "134 6.718441558441558\n",
      "134 4.9271964017991\n",
      "134 50.48855144855145\n",
      "134 5.528195902048975\n",
      "134 14.297119547119546\n",
      "134 0.0\n",
      "134 0.7940613026819924\n",
      "134 0.5369261477045908\n",
      "134 1.5006449737468432\n",
      "134 15.0\n",
      "134 9.552123938030984\n",
      "134 0.0\n",
      "134 1.0923003156590883\n"
     ]
    }
   ],
   "source": [
    "## Input processing and finding common features, and create a list of data frames for each model.\n",
    "# #target_list = ['score']\n",
    "\n",
    "## Create derived target metrics\n",
    "#For each file\n",
    "##MOVE target_list and filter_list to be a list that is returned from read_input\n",
    "target_list = ['ts', 'GPUBusy', 'VALUBusy', 'MemUnitBusy', 'VALUUtilization', 'ratio1', 'ratio2']\n",
    "filter_list = ['BeginNs', 'EndNs', 'DispatchNs', 'BeginNs', 'EndNs', 'CompleteNs', 'Index','queue-id','queue-index', 'pid', 'tid', 'grd', 'wgr', 'lds', 'vgpr', 'sgpr', 'fbar', 'sig', 'obj']\n",
    "\n",
    "###### Decide which input dictionary we want to use, the one with stdDev variables or individual channels?\n",
    "\n",
    "# selected_df_dict = copy.deepcopy(df_dict_input)\n",
    "selected_df_dict = copy.deepcopy(df_with_stdDev_vars)\n",
    "\n",
    "\n",
    "common_top_region_list = []\n",
    "df_dict_updated = {}\n",
    "cumulative_workload_id = 0\n",
    "feature_list = {} ######### CHECK\n",
    "region_list = {} ################### CHECK\n",
    "shorten_region_list = {} ################### CHECK\n",
    "model_index = 0  # wot\n",
    "print(len(workloads))\n",
    "for model_index in range(len(workloads)): #For each model\n",
    "    \n",
    "    df_subdir = {}\n",
    "    for wl in range(len(workloads[model_index])): #For each input parameter in a model\n",
    "        df_subdir[wl] = selected_df_dict[cumulative_workload_id].copy()\n",
    "        cumulative_workload_id += 1\n",
    "    #Find the common regions and features. Should be consistent within a model.\n",
    "    ## TODO: Make a dictionary of feature list per model\n",
    "    feature_list[model_index], region_list[model_index] = find_common_features_and_regions(df_subdir, filter_list, \"KernelName\")\n",
    "#     shorten_region_list[model_index] = region_list_parser(region_list[model_index].copy())\n",
    "    shorten_region_list[model_index] = region_list[model_index]\n",
    "    \n",
    "    cumulative_df = pd.DataFrame(columns=feature_list[model_index])\n",
    "    \n",
    "    for wl in range(len(workloads[model_index])): #For each input parameter in a model\n",
    "        #read in the file\n",
    "        df_original2 = df_subdir[wl].copy() #The dataset is already there. \n",
    "        ## REMOVE all columns that contain only 0s\n",
    "        df_original2 = df_original2.loc[:, (df_original2 != 0).any(axis=0)]\n",
    "\n",
    "        #Add new targets-- for AMD work, the target 'ts' is computed based on 'BeginNs', 'EndNs'\n",
    "        df_original2['ts'] = df_original2['EndNs'] - df_original2['BeginNs']\n",
    "        #df_original2['ratio1'] = 100*df_original2['VALUBusy'] / df_original2['GPUBusy'] #100*df_original2['GRBM_GUI_ACTIVE']/df_original2['GRBM_COUNT']\n",
    "        #df_original2['ratio2'] = 100*df_original2['VALUBusy'] / df_original2['MemUnitBusy'] #100*df_original2['GRBM_GUI_ACTIVE']/df_original2['GRBM_COUNT']\n",
    "#         df_original2['shortenKernelName'] = #region_list_parser(df_original2['KernelName'].copy())#region_list[model_index].copy())\n",
    "        \n",
    "        ## Just keep the top 5 regions according to their 'ts'\n",
    "#         df_original2.sort_values(by=['ts'], inplace=True, ascending=False)\n",
    "        \n",
    "        ## Only keep those rows that belong to the common region names\n",
    "#         for reg in shorten_region_list[model_index]:\n",
    "#             df_original2 = df_original2[(df_original2['shortenKernelName'] == reg )] \n",
    "        \n",
    "        ## Now, among those common regions, choose top 15 kernels.\n",
    "#         top_regions = (df_original2.head(15))['KernelName']\n",
    "#         region_list = top_regions\n",
    "        ## Now, create a list with the top kernel names \n",
    "        common_top_region_list.append([reg for reg in region_list[model_index]])\n",
    "\n",
    "        \n",
    "        # Now, appending all rows from different workloads to a stack workloads. Concat seems to be the way.\n",
    "        cumulative_df = cumulative_df.append(df_original2, ignore_index = True)\n",
    "        print(wl, df_original2['MemUnitBusy'])        \n",
    "\n",
    "    df_dict_updated[model_index] = cumulative_df\n",
    "        \n",
    "        \n",
    "for numx in df_dict_updated[0]['MemUnitBusy']: \n",
    "    print(len(df_dict_updated[0]['MemUnitBusy']), numx)\n",
    "\n",
    "# print(common_top_region_list[0])\n",
    "common_region_list = list(set(common_top_region_list[0]))\n",
    "# print(common_region_list)"
   ]
  },
  {
   "cell_type": "code",
   "execution_count": 26,
   "metadata": {
    "scrolled": true
   },
   "outputs": [
    {
     "name": "stdout",
     "output_type": "stream",
     "text": [
      "1\n",
      "Generating /Users/tanzima/Research/Stash/dashing-analysis-framework/data/aac/dash_format_aac_basic_lstm_adam_ts.csv...\n",
      "Generating /Users/tanzima/Research/Stash/dashing-analysis-framework/data/aac/dash_format_aac_basic_lstm_adam_GPUBusy.csv...\n",
      "Generating /Users/tanzima/Research/Stash/dashing-analysis-framework/data/aac/dash_format_aac_basic_lstm_adam_MemUnitBusy.csv...\n",
      "Done\n"
     ]
    }
   ],
   "source": [
    "## Input processing and finding common features\n",
    "\n",
    "#target_list = ['score']\n",
    "\n",
    "## Create derived target metrics\n",
    "#For each file\n",
    "# target_list = ['ts', 'GPUBusy', 'VALUBusy', 'MemUnitBusy', 'VALUUtilization', 'ratio1', 'ratio2']\n",
    "target_list = ['ts', 'GPUBusy', 'MemUnitBusy']\n",
    "\n",
    "# config_list = ['basic_lstm', 'lstm', 'rnn']\n",
    "config_list = ['pennent']\n",
    "# target_list = ['ts']\n",
    "cumulative_index = 0\n",
    "print(len(df_dict_updated))\n",
    "for model_index in range(len(df_dict_updated)):#range(len(workloads)): #For each model\n",
    "    df_original2 = df_dict_updated[model_index]\n",
    "    for target in target_list:\n",
    "        df_original3 = df_original2[feature_list[model_index]]\n",
    "        ##Make sure to fill up all Nan values with 0\n",
    "        df_original3 = df_original3.fillna(0)\n",
    "\n",
    "        #Add a target at a time to original3\n",
    "        df_original3[target] = df_original2[target]\n",
    "\n",
    "        outfilename = output_prefix[model_index] + '_' + target+'.csv'\n",
    "        print('Generating ' + outfilename + '...')\n",
    "        #generate_dash_data_format(df_original3, feature_list, target, region_list, outfilename, \"KernelName\")\n",
    "        ## TODO: PASS the following function feature_list[ind] and region_list[ind]\n",
    "        generate_dash_data_format(df_original3, feature_list[model_index], target, region_list[model_index], outfilename, \"KernelName\")\n",
    "        \n",
    "        #generate_config_block_for_this_input(config_list[model_index] + '_'+target, outfilename, target)\n",
    "print(\"Done\")"
   ]
  },
  {
   "cell_type": "code",
   "execution_count": 27,
   "metadata": {},
   "outputs": [],
   "source": [
    "########## AMD Q2 block-- generate 1 dash file per input config or Workload. This is so that we can correlate the resource\n",
    "#### importance values with FOM\n",
    "\n",
    "##MOVE target_list and filter_list to be a list that is returned from read_input\n",
    "target_list = ['ts', 'GPUBusy', 'VALUBusy', 'MemUnitBusy', 'VALUUtilization', 'ratio1', 'ratio2']\n",
    "filter_list = ['BeginNs', 'EndNs', 'DispatchNs', 'BeginNs', 'EndNs', 'CompleteNs', 'Index','queue-id','queue-index', 'pid', 'tid', 'grd', 'wgr', 'lds', 'vgpr', 'sgpr', 'fbar', 'sig', 'obj']\n",
    "\n",
    "###### Decide which input dictionary we want to use, the one with stdDev variables or individual channels?\n",
    "\n",
    "# selected_df_dict = copy.deepcopy(df_dict_input)\n",
    "selected_df_dict = copy.deepcopy(df_with_stdDev_vars)\n",
    "df_subdir = {}\n",
    "df_dict_updated = {}\n",
    "cumulative_workload_id = 0\n",
    "feature_list = {} ######### CHECK\n",
    "region_list = {} ################### CHECK\n",
    "shorten_region_list = {} ################### CHECK\n",
    "\n",
    "\n",
    "for model_index in range(len(workloads)): #For each model lstm, basic_lstm, rnn, ....\n",
    "    for wl in range(len(workloads[model_index])): #For each input parameter in a model\n",
    "        df_subdir[wl] = selected_df_dict[cumulative_workload_id].copy()\n",
    "        feature_list[wl], region_list[wl] = find_common_features_and_regions(df_subdir, filter_list, \"KernelName\")\n",
    "        shorten_region_list[wl] = region_list[wl]\n",
    "\n",
    "        df_original2 = df_subdir[wl].copy() #The dataset is already there. \n",
    "        ## REMOVE all columns that contain only 0s\n",
    "        df_original2 = df_original2.loc[:, (df_original2 != 0).any(axis=0)]\n",
    "\n",
    "        #Add new targets-- for AMD work, the target 'ts' is computed based on 'BeginNs', 'EndNs'\n",
    "        df_original2['ts'] = df_original2['EndNs'] - df_original2['BeginNs']\n",
    "        df_original2['ratio1'] = 100*df_original2['VALUBusy'] / df_original2['GPUBusy'] #100*df_original2['GRBM_GUI_ACTIVE']/df_original2['GRBM_COUNT']\n",
    "        df_original2['ratio2'] = 100*df_original2['VALUBusy'] / df_original2['MemUnitBusy'] #100*df_original2['GRBM_GUI_ACTIVE']/df_original2['GRBM_COUNT']\n",
    "\n",
    "        #generate_dash_data_format(df_original2, feature_list[wl], \"ts\", region_list[wl], \"sample_dash.csv\", \"KernelName\")\n",
    "        df_dict_updated[cumulative_workload_id] = df_original2#.deepcopy()\n",
    "\n",
    "        cumulative_workload_id += 1\n",
    "\n"
   ]
  },
  {
   "cell_type": "code",
   "execution_count": 28,
   "metadata": {},
   "outputs": [
    {
     "name": "stdout",
     "output_type": "stream",
     "text": [
      "0      3.587133\n",
      "1      2.820570\n",
      "2     26.697662\n",
      "3      6.041099\n",
      "4      7.370629\n",
      "5      0.000000\n",
      "6      0.627186\n",
      "7      0.317365\n",
      "8      0.524976\n",
      "9      8.000000\n",
      "10     5.198301\n",
      "11     0.000000\n",
      "12     0.445559\n",
      "Name: MemUnitBusy, dtype: float64 0      3.587133\n",
      "1      2.820570\n",
      "2     26.697662\n",
      "3      6.041099\n",
      "4      7.370629\n",
      "5      0.000000\n",
      "6      0.627186\n",
      "7      0.317365\n",
      "8      0.524976\n",
      "9      8.000000\n",
      "10     5.198301\n",
      "11     0.000000\n",
      "12     0.445559\n",
      "Name: MemUnitBusy, dtype: float64\n"
     ]
    }
   ],
   "source": [
    "print (df_dict_updated[0]['MemUnitBusy'], df_dict_updated[0]['MemUnitBusy'])\n",
    "    \n",
    "            "
   ]
  },
  {
   "cell_type": "code",
   "execution_count": 29,
   "metadata": {},
   "outputs": [
    {
     "name": "stdout",
     "output_type": "stream",
     "text": [
      "0      3.587133\n",
      "1      2.820570\n",
      "2     26.697662\n",
      "3      6.041099\n",
      "4      7.370629\n",
      "5      0.000000\n",
      "6      0.627186\n",
      "7      0.317365\n",
      "8      0.524976\n",
      "9      8.000000\n",
      "10     5.198301\n",
      "11     0.000000\n",
      "12     0.445559\n",
      "Name: MemUnitBusy, dtype: float64 0      3.587133\n",
      "1      2.820570\n",
      "2     26.697662\n",
      "3      6.041099\n",
      "4      7.370629\n",
      "5      0.000000\n",
      "6      0.627186\n",
      "7      0.317365\n",
      "8      0.524976\n",
      "9      8.000000\n",
      "10     5.198301\n",
      "11     0.000000\n",
      "12     0.445559\n",
      "Name: MemUnitBusy, dtype: float64\n"
     ]
    }
   ],
   "source": [
    "print (df_dict_input[0]['MemUnitBusy'], df_dict_input[0]['MemUnitBusy'])"
   ]
  },
  {
   "cell_type": "code",
   "execution_count": 30,
   "metadata": {},
   "outputs": [
    {
     "name": "stdout",
     "output_type": "stream",
     "text": [
      "{0: ['BiasGradNHWC_SharedAtomics', 'BiasNHWCKernel', 'Cijk_Ailk_Bjlk_SB_MT128x128x8_SE_1LDSB0_APM1_AF0EM1_AF1EM1_AMAS2_ASBE01_ASCE01_ASEM1_BL0_DTL0_DVO0_EPS0_FL0_GRVW4_GSU1_ISA000_IU1_K1_KLS_LBSPP0_LPA0_LPB0_LDL1_LRVW4_MDA2_NLCA1_NLCB1_ONLL1_PBD0_PK0_PGR1_PLR1_RK0_SIA1_SU32_SUM0_SUS256_SRVW0_SVW4_SNLL0_TT8_8_TLDS0_USFGRO0_VAW1_VS1_VW4_WSGRA0_WSGRB0_WG16_16_1_WGM1.kd', 'Cijk_Ailk_Bljk_SB_MT64x64x16_SE_1LDSB0_APM1_AF0EM1_AF1EM1_AMAS3_ASBE01_ASCE01_ASEM1_BL1_DTL0_DVO0_EPS1_FL1_GRVW4_GSU1_ISA908_IU1_K1_KLA_LBSPP0_LPA0_LPB4_LDL1_LRVW4_MDA2_NLCA1_NLCB1_ONLL1_PBD0_PK0_PGR1_PLR1_RK0_SIA1_SU32_SUM0_SUS256_SRVW0_SVW4_SNLL1_TT4_8_TLDS0_USFGRO0_VAW1_VS1_VW4_WSGRA0_WSGRB0_WG16_8_2_WGM8.kd', 'Cijk_Alik_Bljk_SB_MT64x64x16_SE_1LDSB0_APM1_AF0EM1_AF1EM1_AMAS3_ASBE01_ASCE01_ASEM1_BL1_DTL0_DVO0_EPS1_FL1_GRVW4_GSU1_ISA908_IU1_K1_KLA_LBSPP0_LPA4_LPB4_LDL1_LRVW4_MDA2_NLCA1_NLCB1_ONLL1_PBD0_PK0_PGR1_PLR1_RK0_SIA1_SU32_SUM0_SUS256_SRVW0_SVW4_SNLL1_TT4_4_TLDS0_USFGRO1_VAW1_VS1_VW4_WSGRA0_WSGRB0_WG16_16_1_WGM8.kd', 'ColumnReduceKernel', 'CwiseFusedMulAdd2Kernel', 'CwiseFusedMulAddKernel', 'EigenMetaKernel', 'FillPhiloxRandomKernelLaunch', 'SplitOpKernel', '__amd_rocclr_copyBuffer.kd', '__amd_rocclr_fillBuffer.kd'], 1: ['BiasGradNHWC_SharedAtomics', 'BiasNHWCKernel', 'ColumnReduceKernel', 'CwiseFusedMulAdd2Kernel', 'CwiseFusedMulAddKernel', 'EigenMetaKernel', 'FillPhiloxRandomKernelLaunch', 'SplitOpKernel', '__amd_rocclr_copyBuffer.kd', '__amd_rocclr_fillBuffer.kd'], 2: ['BiasGradNHWC_SharedAtomics', 'BiasNHWCKernel', 'ColumnReduceKernel', 'CwiseFusedMulAdd2Kernel', 'CwiseFusedMulAddKernel', 'EigenMetaKernel', 'FillPhiloxRandomKernelLaunch', 'SplitOpKernel', '__amd_rocclr_copyBuffer.kd', '__amd_rocclr_fillBuffer.kd'], 3: ['BiasGradNHWC_SharedAtomics', 'BiasNHWCKernel', 'ColumnReduceKernel', 'CwiseFusedMulAdd2Kernel', 'CwiseFusedMulAddKernel', 'EigenMetaKernel', 'FillPhiloxRandomKernelLaunch', 'SplitOpKernel', '__amd_rocclr_copyBuffer.kd', '__amd_rocclr_fillBuffer.kd'], 4: ['BiasGradNHWC_SharedAtomics', 'BiasNHWCKernel', 'ColumnReduceKernel', 'CwiseFusedMulAdd2Kernel', 'CwiseFusedMulAddKernel', 'EigenMetaKernel', 'FillPhiloxRandomKernelLaunch', 'SplitOpKernel', '__amd_rocclr_copyBuffer.kd', '__amd_rocclr_fillBuffer.kd'], 5: ['BiasGradNHWC_SharedAtomics', 'BiasNHWCKernel', 'ColumnReduceKernel', 'CwiseFusedMulAdd2Kernel', 'CwiseFusedMulAddKernel', 'EigenMetaKernel', 'FillPhiloxRandomKernelLaunch', 'SplitOpKernel', '__amd_rocclr_copyBuffer.kd', '__amd_rocclr_fillBuffer.kd'], 6: ['BiasGradNHWC_SharedAtomics', 'BiasNHWCKernel', 'ColumnReduceKernel', 'CwiseFusedMulAdd2Kernel', 'CwiseFusedMulAddKernel', 'EigenMetaKernel', 'FillPhiloxRandomKernelLaunch', 'SplitOpKernel', '__amd_rocclr_copyBuffer.kd', '__amd_rocclr_fillBuffer.kd'], 7: ['BiasGradNHWC_SharedAtomics', 'BiasNHWCKernel', 'ColumnReduceKernel', 'CwiseFusedMulAdd2Kernel', 'CwiseFusedMulAddKernel', 'EigenMetaKernel', 'FillPhiloxRandomKernelLaunch', 'SplitOpKernel', '__amd_rocclr_copyBuffer.kd', '__amd_rocclr_fillBuffer.kd'], 8: ['BiasGradNHWC_SharedAtomics', 'BiasNHWCKernel', 'ColumnReduceKernel', 'CwiseFusedMulAdd2Kernel', 'CwiseFusedMulAddKernel', 'EigenMetaKernel', 'FillPhiloxRandomKernelLaunch', 'SplitOpKernel', '__amd_rocclr_copyBuffer.kd', '__amd_rocclr_fillBuffer.kd'], 9: ['BiasGradNHWC_SharedAtomics', 'BiasNHWCKernel', 'ColumnReduceKernel', 'CwiseFusedMulAdd2Kernel', 'CwiseFusedMulAddKernel', 'EigenMetaKernel', 'FillPhiloxRandomKernelLaunch', 'SplitOpKernel', '__amd_rocclr_copyBuffer.kd', '__amd_rocclr_fillBuffer.kd']}\n"
     ]
    },
    {
     "data": {
      "text/plain": [
       "13"
      ]
     },
     "execution_count": 30,
     "metadata": {},
     "output_type": "execute_result"
    }
   ],
   "source": [
    "for ind in range(len(workloads)):\n",
    "    print(region_list)\n",
    "len(region_list[0])"
   ]
  },
  {
   "cell_type": "code",
   "execution_count": 31,
   "metadata": {},
   "outputs": [
    {
     "name": "stdout",
     "output_type": "stream",
     "text": [
      "13\n",
      "14\n",
      "14\n",
      "14\n",
      "13\n",
      "13\n",
      "13\n",
      "14\n",
      "13\n",
      "13\n"
     ]
    }
   ],
   "source": [
    "for key, val in df_dict_updated.items():\n",
    "    print(len(val))"
   ]
  },
  {
   "cell_type": "code",
   "execution_count": 32,
   "metadata": {},
   "outputs": [
    {
     "name": "stdout",
     "output_type": "stream",
     "text": [
      "  player  points  extra\n",
      "0      A      12      1\n",
      "1      B       5      5\n",
      "2      A      13      3\n",
      "3      B      17      7\n",
      "4      B      27      2\n",
      "  player     points     extra\n",
      "0      A  12.500000  2.000000\n",
      "1      B  16.333333  4.666667\n"
     ]
    }
   ],
   "source": [
    "import pandas as pd\n",
    "\n",
    "#create two DataFrames\n",
    "\n",
    "df1 = pd.DataFrame({'player': ['A', 'B', 'A', 'B', 'B'],\n",
    "                    'points':[12, 5, 13, 17, 27],\n",
    "                   'extra':[1, 5, 3, 7, 2]})\n",
    "\n",
    "df2 = pd.DataFrame({'player': ['F', 'G', 'H', 'I', 'J'],\n",
    "                    'points':[24, 26, 27, 27, 12]})\n",
    "\n",
    "#\"stack\" the two DataFrames together\n",
    "df3 = pd.concat([df1,df2], axis=0, ignore_index=True)\n",
    "\n",
    "print (df1)\n",
    "# A = df1.append(df2, ignore_index=True)\n",
    "# print(A.append(df3, ignore_index=True))\n",
    "\n",
    "# df = df1.groupby(['player']).agg({'extra':'mean','points':'mean'})\n",
    "df = df1.groupby(['player']).agg(func='mean')\n",
    "df = df.reset_index()\n",
    "print (df)\n",
    "\n",
    "# print(df3)"
   ]
  },
  {
   "cell_type": "code",
   "execution_count": 33,
   "metadata": {
    "scrolled": true
   },
   "outputs": [],
   "source": [
    "generate_dash_data_format(df_dict_updated[0], feature_list[0], \"ts\", region_list[0], \"sample_dash.csv\", \"KernelName\")"
   ]
  },
  {
   "cell_type": "code",
   "execution_count": 34,
   "metadata": {},
   "outputs": [
    {
     "name": "stdout",
     "output_type": "stream",
     "text": [
      "10\n"
     ]
    }
   ],
   "source": [
    "print(len(df_dict_updated))"
   ]
  },
  {
   "cell_type": "code",
   "execution_count": 35,
   "metadata": {},
   "outputs": [],
   "source": [
    "def generate_config_block_for_this_input(config_name, datafilename, target):\n",
    "    print(config_name + ':')\n",
    "    print('    data: ', datafilename)\n",
    "    print('    tasks: ')\n",
    "    print('      - modules.resource_score.compute_rsm_task_all_regions')\n",
    "    print('      - viz.barchart.create_rsm_error_barchart')\n",
    "    print('      - viz.barchart.create_rsm_percent_barchart')\n",
    "    print('      - viz.sunburst2.sunburst')\n",
    "    print('      - viz.linechart3.plot_raw_target_values')\n",
    "    print('      - viz.linechart3.raw_values_per_config')\n",
    "    print('    name: ', target)\n",
    "    print('    target: ', target)\n",
    "    \n",
    "    if target == 'ts':\n",
    "        print('    compute_target: modules.compute_target.compute_runtime')\n",
    "    else:\n",
    "        print('    compute_target: modules.compute_target.compute_inverse_target')\n",
    "    print('##############################')\n",
    "   \n",
    "\n",
    "    "
   ]
  },
  {
   "cell_type": "code",
   "execution_count": null,
   "metadata": {
    "scrolled": true
   },
   "outputs": [],
   "source": [
    "## AMD Q2: OUTPUT PROESSING: 1 file per input per model.\n",
    "\n",
    "#target_list = ['score']\n",
    "\n",
    "## Create derived target metrics\n",
    "#For each file\n",
    "filelist = ['s30-b32-l128', 's30-b128-l128', 's30-b32-l512', 's30-b128-l512', 's30-b32-l1024','s30-b128-l1024']\n",
    "#target_list = ['ts', 'GPUBusy', 'VALUBusy', 'MemUnitBusy', 'VALUUtilization', 'ratio1', 'ratio2']\n",
    "target_list = ['ts']\n",
    "cumulative_index = 0\n",
    "for model_index in range(len(df_dict_updated)):#range(len(workloads)): #For each model\n",
    "    df_original2 = df_dict_updated[model_index]\n",
    "    for target in target_list:\n",
    "        df_original3 = df_original2[feature_list[model_index]]\n",
    "        ##Make sure to fill up all Nan values with 0\n",
    "        df_original3 = df_original3.fillna(0)\n",
    "\n",
    "        #Add a target at a time to original3\n",
    "        df_original3[target] = df_original2[target]\n",
    "\n",
    "        #\n",
    "        outfilename = output_prefix[ind] + '_' + target +'_'+filelist[model_index]+'.csv'\n",
    "        #print('Generating ' + outfilename + '...')\n",
    "        generate_dash_data_format(df_original3, feature_list, target, region_list, outfilename, \"KernelName\")\n",
    "        ## TODO: PASS the following function feature_list[ind] and region_list[ind]\n",
    "        #generate_dash_data_format(df_original3, feature_list[model_index], target, region_list[model_index], outfilename, \"KernelName\")\n",
    "        print('    - ', filelist[model_index])\n",
    "        #generate_config_block_for_this_input(filelist[model_index], outfilename, target)\n",
    "print(\"Done\")"
   ]
  },
  {
   "cell_type": "code",
   "execution_count": null,
   "metadata": {},
   "outputs": [],
   "source": [
    "########## AMD Q2 -- feature compression and feature correaltion analysis --- \n",
    "## input: df_dict_updated --> each model has all input combined into it.\n",
    "colors=['red', 'blue', 'green', 'orange']\n",
    "\n",
    "for model_index in range(len(df_dict_updated)):#range(len(workloads)): #For each model\n",
    "    df_original2 = df_dict_updated[model_index]\n",
    "    plot_df(df_original2, 'ts', colors[model_index])\n"
   ]
  },
  {
   "cell_type": "code",
   "execution_count": null,
   "metadata": {},
   "outputs": [],
   "source": [
    "def plot_df(input_df, target, c):\n",
    "    fig, ax = plt.subplots()\n",
    "    input_df[target].plot(ax=ax, kind='bar', color = c)"
   ]
  },
  {
   "cell_type": "code",
   "execution_count": null,
   "metadata": {},
   "outputs": [],
   "source": [
    "# Returns info sieve output with nh components    \n",
    "def infoSieveX(X,nh):\n",
    "        identifier= 'Using Information Sieve %d Components'%nh\n",
    "        s = linearsieve.Sieve(n_hidden=nh, verbose=0).fit(X + 0.05*np.random.randn(X.shape[0],X.shape[1]))\n",
    "        X_lat = s.transform(X) \n",
    "        return X_lat"
   ]
  },
  {
   "cell_type": "code",
   "execution_count": null,
   "metadata": {},
   "outputs": [],
   "source": [
    "df2 = df_dict_updated[0]\n",
    "col_std_list = [ col for col in df2.columns if '_std' in col]\n",
    "for c in col_std_list:\n",
    "    print(c)"
   ]
  },
  {
   "cell_type": "code",
   "execution_count": null,
   "metadata": {},
   "outputs": [],
   "source": [
    "df = pd.read_csv('in.txt', sep=\" \")\n",
    "file1 = open(\"event_names_amd.txt\",\"w\")\n",
    "\n",
    "for k in df:\n",
    "    #print (k)\n",
    "    file1.write(k+\"\\n\")\n",
    "file1.close()\n",
    "        "
   ]
  },
  {
   "cell_type": "code",
   "execution_count": null,
   "metadata": {},
   "outputs": [],
   "source": [
    "############## Special processing block for Q2: AMD report\n",
    "##Input: res_imp_rnn.csv file which contains resource importance for all the kernels. \n"
   ]
  },
  {
   "cell_type": "code",
   "execution_count": null,
   "metadata": {},
   "outputs": [],
   "source": []
  },
  {
   "cell_type": "code",
   "execution_count": 34,
   "metadata": {},
   "outputs": [],
   "source": [
    "def read_fom_lstm_output(filename):\n",
    "\n",
    "    ###### Read and parse FOM for LSTM / RNN benchmark's output\n",
    "    total = 0.0\n",
    "    count = 0\n",
    "    with open(filename, \"r\") as fom_file:\n",
    "        read_next_line = 0\n",
    "        for line in fom_file:\n",
    "    #         print(line)\n",
    "            if read_next_line == 1: #If I am supposed to read this line \n",
    "                total += np.float((line.split())[4])\n",
    "                read_next_line = 0\n",
    "                count += 1\n",
    "            elif \"Forward + Backward\" in line:\n",
    "                read_next_line = 1\n",
    "    return 1.0/(total/count)\n",
    "        \n",
    "        "
   ]
  },
  {
   "cell_type": "code",
   "execution_count": 11,
   "metadata": {},
   "outputs": [
    {
     "name": "stdout",
     "output_type": "stream",
     "text": [
      "'prof-mi100-basic_lstm-adam-b4-l512-s25.csv',\n",
      "'prof-mi100-basic_lstm-adam-b4-l64-s25.csv',\n",
      "'prof-mi100-basic_lstm-adam-b8-l256-s25.csv',\n",
      "'prof-mi100-basic_lstm-adam-b8-l64-s25.csv',\n",
      "'prof-mi100-basic_lstm-adam-b8-l1024-s25.csv',\n",
      "'prof-mi100-basic_lstm-adam-b8-l512-s25.csv',\n",
      "'prof-mi100-basic_lstm-adam-b8-l32-s25.csv',\n",
      "'prof-mi100-basic_lstm-adam-b4-l256-s25.csv',\n",
      "'prof-mi100-basic_lstm-adam-b4-l32-s25.csv',\n",
      "'prof-mi100-basic_lstm-adam-b4-l1024-s25.csv',\n"
     ]
    }
   ],
   "source": [
    "# read_fom_lstm_output('/Users/tanzima/Research/AMD/DATA/mi-50/DATA-aac-july21/results')\n",
    "import os\n",
    "model_names = ['basic_lstm', 'rnn', 'lstm']\n",
    "for filename in os.listdir('/Users/tanzima/Research/AMD/DATA/mi-100/prof/adam/basic_lstm'):\n",
    "    print (\"'\"+filename+\"',\")\n",
    "    "
   ]
  },
  {
   "cell_type": "code",
   "execution_count": null,
   "metadata": {},
   "outputs": [],
   "source": []
  }
 ],
 "metadata": {
  "kernelspec": {
   "display_name": "Python 3 (ipykernel)",
   "language": "python",
   "name": "python3"
  },
  "language_info": {
   "codemirror_mode": {
    "name": "ipython",
    "version": 3
   },
   "file_extension": ".py",
   "mimetype": "text/x-python",
   "name": "python",
   "nbconvert_exporter": "python",
   "pygments_lexer": "ipython3",
   "version": "3.8.10"
  }
 },
 "nbformat": 4,
 "nbformat_minor": 4
}
